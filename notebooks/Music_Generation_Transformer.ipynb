{
  "nbformat": 4,
  "nbformat_minor": 0,
  "metadata": {
    "colab": {
      "name": "Music_Generation_Transformer.ipynb",
      "provenance": [],
      "toc_visible": true,
      "authorship_tag": "ABX9TyOn5dikWaUIeUsAvKBYsIl1",
      "include_colab_link": true
    },
    "kernelspec": {
      "name": "python3",
      "display_name": "Python 3"
    },
    "accelerator": "GPU"
  },
  "cells": [
    {
      "cell_type": "markdown",
      "metadata": {
        "id": "view-in-github",
        "colab_type": "text"
      },
      "source": [
        "<a href=\"https://colab.research.google.com/github/GiovanniSorice/Deep_Music_Generator/blob/main/notebooks/Music_Generation_Transformer.ipynb\" target=\"_parent\"><img src=\"https://colab.research.google.com/assets/colab-badge.svg\" alt=\"Open In Colab\"/></a>"
      ]
    },
    {
      "cell_type": "markdown",
      "metadata": {
        "id": "6gJ3GwlYmvNT"
      },
      "source": [
        "# Transformer Music Generator "
      ]
    },
    {
      "cell_type": "markdown",
      "metadata": {
        "id": "sNwQUwLIm7oW"
      },
      "source": [
        "\n",
        "\n",
        "In this notebook, we use an Transformer to generate some music.\n"
      ]
    },
    {
      "cell_type": "markdown",
      "metadata": {
        "id": "aFVGA5D4azA4"
      },
      "source": [
        "**This notebook was inspired (and part of the code comes from it) by [Music_Generation_LSTM](https://colab.research.google.com/drive/19TQqekOlnOSW36VCL8CPVEQKBBukmaEQ#scrollTo=DDOBVWULXfpz)**\n"
      ]
    },
    {
      "cell_type": "markdown",
      "metadata": {
        "id": "qtmj0efInB_L"
      },
      "source": [
        "\n",
        "\n",
        "**Load dependencies**"
      ]
    },
    {
      "cell_type": "code",
      "metadata": {
        "id": "s_tzJeReygOv"
      },
      "source": [
        "import os\n",
        "os.environ['CUDA_LAUNCH_BLOCKING'] = \"1\"\n"
      ],
      "execution_count": 1,
      "outputs": []
    },
    {
      "cell_type": "code",
      "metadata": {
        "id": "hCsb9kaJmWHN",
        "colab": {
          "base_uri": "https://localhost:8080/"
        },
        "outputId": "71c28e55-28b4-4bcd-dbf6-856442a3255f"
      },
      "source": [
        "pip install compressive_transformer_pytorch"
      ],
      "execution_count": 2,
      "outputs": [
        {
          "output_type": "stream",
          "text": [
            "Collecting compressive_transformer_pytorch\n",
            "  Downloading https://files.pythonhosted.org/packages/30/39/b8caf2671abcb8615977c08766aa9f450addd6949f57c7dda87224e844b5/compressive_transformer_pytorch-0.3.20-py3-none-any.whl\n",
            "Requirement already satisfied: torch in /usr/local/lib/python3.6/dist-packages (from compressive_transformer_pytorch) (1.7.0+cu101)\n",
            "Collecting mogrifier\n",
            "  Downloading https://files.pythonhosted.org/packages/77/01/62a55d0f8048e788fce435f2ade6478f443e4e53ed9b89b55ba0fc42c198/mogrifier-0.0.3-py3-none-any.whl\n",
            "Requirement already satisfied: future in /usr/local/lib/python3.6/dist-packages (from torch->compressive_transformer_pytorch) (0.16.0)\n",
            "Requirement already satisfied: numpy in /usr/local/lib/python3.6/dist-packages (from torch->compressive_transformer_pytorch) (1.18.5)\n",
            "Requirement already satisfied: dataclasses in /usr/local/lib/python3.6/dist-packages (from torch->compressive_transformer_pytorch) (0.8)\n",
            "Requirement already satisfied: typing-extensions in /usr/local/lib/python3.6/dist-packages (from torch->compressive_transformer_pytorch) (3.7.4.3)\n",
            "Installing collected packages: mogrifier, compressive-transformer-pytorch\n",
            "Successfully installed compressive-transformer-pytorch-0.3.20 mogrifier-0.0.3\n"
          ],
          "name": "stdout"
        }
      ]
    },
    {
      "cell_type": "code",
      "metadata": {
        "id": "1mi6KoBmX44A"
      },
      "source": [
        "import torch\n",
        "import tqdm\n",
        "import numpy as np\n",
        "import pandas as pd\n",
        "import tensorflow as tf\n",
        "from compressive_transformer_pytorch import CompressiveTransformer\n",
        "from compressive_transformer_pytorch import AutoregressiveWrapper\n",
        "from torchsummary import summary\n",
        "from torch.utils.data import DataLoader, Dataset\n",
        "from tensorflow.keras import utils\n",
        "from sklearn.metrics import roc_auc_score \n",
        "import matplotlib.pyplot as plt\n",
        "import glob\n",
        "import pickle\n",
        "from music21 import converter, instrument, stream, note, chord\n",
        "import math\n",
        "import shutil"
      ],
      "execution_count": 3,
      "outputs": []
    },
    {
      "cell_type": "code",
      "metadata": {
        "id": "JwF2wx4oRZXW"
      },
      "source": [
        "# Set to false if you are not running\n",
        "# this notebook in Google Colaboratory\n",
        "run_on_colab = True"
      ],
      "execution_count": 4,
      "outputs": []
    },
    {
      "cell_type": "markdown",
      "metadata": {
        "id": "w2w9a2MknGmP"
      },
      "source": [
        "**Set hyperparameters**"
      ]
    },
    {
      "cell_type": "code",
      "metadata": {
        "id": "NnnLeO8Emsx3"
      },
      "source": [
        "# output directory name:\n",
        "output_dir = '/content/drive/My Drive/ISPR_project/Transformer/'\n",
        "current_path ='/content/drive/My Drive/ISPR_project/'\n",
        "# training:\n",
        "epochs = 2000\n",
        "batch_size = 64\n",
        "learning_rate=1e-2\n",
        "# vector-space embedding: \n",
        "n_dim = 64 \n",
        "sequence_length = 64\n",
        "\n",
        "\n",
        "VALIDATE_EVERY  = 5\n",
        "\n",
        "GENERATE_EVERY  = 500\n",
        "\n"
      ],
      "execution_count": 25,
      "outputs": []
    },
    {
      "cell_type": "markdown",
      "metadata": {
        "id": "iUFOx5yB39xx"
      },
      "source": [
        "**Save model function**"
      ]
    },
    {
      "cell_type": "code",
      "metadata": {
        "id": "NQHDRGj838-0"
      },
      "source": [
        "def save_checkpoint(state, is_best, filename='checkpoint.pth.tar'):\n",
        "    torch.save(state, output_dir+filename)\n",
        "    if is_best:\n",
        "        shutil.copyfile(output_dir+filename, output_dir+'model_best.pth.tar')"
      ],
      "execution_count": 6,
      "outputs": []
    },
    {
      "cell_type": "markdown",
      "metadata": {
        "id": "HvBjPl0cbI0_"
      },
      "source": [
        "**Google drive configuration (only Colab)**"
      ]
    },
    {
      "cell_type": "code",
      "metadata": {
        "id": "hKil2p6sM2gZ",
        "colab": {
          "base_uri": "https://localhost:8080/"
        },
        "outputId": "e9ce2a4f-8090-477b-defa-495b56f1ada6"
      },
      "source": [
        "if(run_on_colab):\n",
        "  from google.colab import drive\n",
        "  # This will prompt for authorization.\n",
        "  drive.mount('/content/drive')"
      ],
      "execution_count": 7,
      "outputs": [
        {
          "output_type": "stream",
          "text": [
            "Mounted at /content/drive\n"
          ],
          "name": "stdout"
        }
      ]
    },
    {
      "cell_type": "markdown",
      "metadata": {
        "id": "jU3gQinYmutQ"
      },
      "source": [
        "**Load data** \\\\\n",
        "Original MIDI files\n",
        " I have obtained  **MIDI files** from [The Lakh MIDI Dataset v0.1](https://colinraffel.com/projects/lmd/). "
      ]
    },
    {
      "cell_type": "markdown",
      "metadata": {
        "id": "wavgJZNpcR_f"
      },
      "source": [
        "## Processing data\n",
        "\n",
        "Let's process the files, and load them into **music21**"
      ]
    },
    {
      "cell_type": "code",
      "metadata": {
        "id": "vILKBwYIcOvX",
        "colab": {
          "base_uri": "https://localhost:8080/"
        },
        "outputId": "f6b79edb-7607-4098-ef77-7301ea1e8c8f"
      },
      "source": [
        "file = current_path+\"midi_songs/dataset/Metal/Metallica/Am I Evil?.mid\"\n",
        "midi = converter.parse(file)\n",
        "notes_to_parse = midi.flat.notes\n",
        "for element in notes_to_parse[:10]:\n",
        "  print(element, element.offset)"
      ],
      "execution_count": null,
      "outputs": [
        {
          "output_type": "stream",
          "text": [
            "<music21.chord.Chord E2 E3 B3 E4> 0.0\n",
            "<music21.chord.Chord E2 E3 B3 E4> 0.0\n",
            "<music21.note.Note E> 0.0\n",
            "<music21.chord.Chord C2 C#3> 0.0\n",
            "<music21.note.Note G#> 2.0\n",
            "<music21.chord.Chord D3 A3 D4> 3.0\n",
            "<music21.chord.Chord D3 A3 D4> 3.0\n",
            "<music21.note.Note D> 3.0\n",
            "<music21.chord.Chord C#3 C2> 3.0\n",
            "<music21.chord.Chord B3 E3 E4> 3.5\n"
          ],
          "name": "stdout"
        }
      ]
    },
    {
      "cell_type": "markdown",
      "metadata": {
        "id": "vjyrXfKic2kI"
      },
      "source": [
        "I will process all MIDI files obtaining data from each note of chord.\n",
        "\n",
        "- If I process a **note**, I will store in the list a string representing the pitch (the note name) and the octave.\n",
        "\n",
        "- If I process a **chord** (Remember that chords are set of notes that are played at the same time) I will store a different type of string with numbers separated by dots. Each number represents the pitch of a chord note. \n",
        "\n",
        "As you can see, **I are not considering yet time offsets of each element**. In this first version, we won't consider them, so all the notes and chords will have the same duration. Maybe, in the future, I will consider them.\n",
        "\n",
        "I are creating a big list with all the elements of all the compositions."
      ]
    },
    {
      "cell_type": "code",
      "metadata": {
        "id": "iawbQHYVTOFM"
      },
      "source": [
        "notes_for_instruments = []\n",
        "for i,file in enumerate(glob.glob(current_path+\"midi_songs/dataset/*/*/*.mid\")):\n",
        "      midi = converter.parse(file)\n",
        "      print('Parsing file ', i, \" \", file)\n",
        "      notes_to_parse = None\n",
        "      try:  # file has instrument parts\n",
        "          s2 = instrument.partitionByInstrument(midi)\n",
        "          notes_to_parse = s2.recurse()\n",
        "      except:  # file has notes in a flat structure\n",
        "          notes_to_parse = midi.flat.notes\n",
        "      notes_instrument = []\n",
        "      for element in notes_to_parse:\n",
        "          if isinstance(element, note.Note):\n",
        "              notes_instrument.append(str(element.pitch))\n",
        "          elif isinstance(element, chord.Chord):\n",
        "              notes_instrument.append('.'.join(str(n) for n in element.normalOrder))\n",
        "      notes_for_instruments.append(notes_instrument)\n",
        "with open(current_path + 'notes_for_instruments', 'wb') as filepath:\n",
        "    pickle.dump(notes_for_instruments, filepath)\n"
      ],
      "execution_count": null,
      "outputs": []
    },
    {
      "cell_type": "code",
      "metadata": {
        "id": "Nj7MnrxIHLwh",
        "colab": {
          "base_uri": "https://localhost:8080/"
        },
        "outputId": "e5dc237a-c9e6-4ea4-9030-2b11f4a6be1e"
      },
      "source": [
        "notes_for_instruments_validation = []\n",
        "for i,file in enumerate(glob.glob(current_path+\"midi_songs/validation/*.mid\")):\n",
        "      midi = converter.parse(file)\n",
        "      print('Parsing file ', i, \" \", file)\n",
        "      notes_to_parse = None\n",
        "      try:  # file has instrument parts\n",
        "          s2 = instrument.partitionByInstrument(midi)\n",
        "          notes_to_parse = s2.recurse()\n",
        "      except:  # file has notes in a flat structure\n",
        "          notes_to_parse = midi.flat.notes\n",
        "      notes_instrument = []\n",
        "      for element in notes_to_parse:\n",
        "          if isinstance(element, note.Note):\n",
        "              notes_instrument.append(str(element.pitch))\n",
        "          elif isinstance(element, chord.Chord):\n",
        "              notes_instrument.append('.'.join(str(n) for n in element.normalOrder))\n",
        "      notes_for_instruments_validation.append(notes_instrument)\n",
        "with open(current_path + 'VALIDATION_notes_for_instruments', 'wb') as filepath:\n",
        "    pickle.dump(notes_for_instruments_validation, filepath)\n"
      ],
      "execution_count": null,
      "outputs": [
        {
          "output_type": "stream",
          "text": [
            "Parsing file  0   /content/drive/My Drive/ISPR_project/midi_songs/validation/Crazy Little Thing Called Love.mid\n",
            "Parsing file  1   /content/drive/My Drive/ISPR_project/midi_songs/validation/Nothing Else Matters.2.mid\n",
            "Parsing file  2   /content/drive/My Drive/ISPR_project/midi_songs/validation/King Nothing.1.mid\n",
            "Parsing file  3   /content/drive/My Drive/ISPR_project/midi_songs/validation/Fixxxer.mid\n",
            "Parsing file  4   /content/drive/My Drive/ISPR_project/midi_songs/validation/Motorbreath.mid\n",
            "Parsing file  5   /content/drive/My Drive/ISPR_project/midi_songs/validation/Porch.mid\n",
            "Parsing file  6   /content/drive/My Drive/ISPR_project/midi_songs/validation/A Kind of Magic.mid\n",
            "Parsing file  7   /content/drive/My Drive/ISPR_project/midi_songs/validation/Don't Chain My Heart.mid\n",
            "Parsing file  8   /content/drive/My Drive/ISPR_project/midi_songs/validation/Se tornerai.1.mid\n",
            "Parsing file  9   /content/drive/My Drive/ISPR_project/midi_songs/validation/Pamela.1.mid\n"
          ],
          "name": "stdout"
        }
      ]
    },
    {
      "cell_type": "code",
      "metadata": {
        "id": "qr4zRlBMf-f5"
      },
      "source": [
        "with open(current_path + 'notes_for_instruments', 'rb') as f:\n",
        "    notes_for_instruments = pickle.load(f)"
      ],
      "execution_count": 9,
      "outputs": []
    },
    {
      "cell_type": "code",
      "metadata": {
        "id": "2pmIFIu9f-4K"
      },
      "source": [
        "with open(current_path + 'VALIDATION_notes_for_instruments', 'rb') as f:\n",
        "    notes_for_instruments_validation = pickle.load(f)"
      ],
      "execution_count": 10,
      "outputs": []
    },
    {
      "cell_type": "markdown",
      "metadata": {
        "id": "XuHePM_3dMXM"
      },
      "source": [
        "I obtain the number of different notes in our dataset, because this will be the **number of possible output classes**  of our model."
      ]
    },
    {
      "cell_type": "code",
      "metadata": {
        "id": "pEiySfEnTzyz",
        "colab": {
          "base_uri": "https://localhost:8080/"
        },
        "outputId": "395f5706-b1e0-4061-eab2-fbc7c194a66a"
      },
      "source": [
        "# Count different possible outputs\n",
        "print(len(set(item for notes_for_instrument in notes_for_instruments for item in notes_for_instrument)))"
      ],
      "execution_count": 11,
      "outputs": [
        {
          "output_type": "stream",
          "text": [
            "833\n"
          ],
          "name": "stdout"
        }
      ]
    },
    {
      "cell_type": "code",
      "metadata": {
        "id": "khLas76ZHecL",
        "colab": {
          "base_uri": "https://localhost:8080/"
        },
        "outputId": "969b7fc4-7f21-4298-b9a8-87bc802a8bda"
      },
      "source": [
        "# Count different possible outputs valifation\n",
        "print(len(set(item for notes_for_instrument in notes_for_instruments_validation for item in notes_for_instrument)))"
      ],
      "execution_count": 12,
      "outputs": [
        {
          "output_type": "stream",
          "text": [
            "229\n"
          ],
          "name": "stdout"
        }
      ]
    },
    {
      "cell_type": "markdown",
      "metadata": {
        "id": "v-mABhgUnTcV"
      },
      "source": [
        "**Preprocess data** \\\\\n",
        "Now, there is some **data processing** that I have to do:\n",
        "\n",
        "- I will map each pitch or chord to an integer\n",
        "- I will create pairs of input sequences and its corresponding output note\n",
        "\n",
        "I can try different **sequence_length** to obtain different results. In this first version, I will use a sequence_length of 100.\n",
        "\n",
        "The network will made its prediction of the next note (or chord), based on the previous *sequence_length* notes (or chords). \n"
      ]
    },
    {
      "cell_type": "code",
      "metadata": {
        "id": "lYkq3qb-hLra"
      },
      "source": [
        "# get all pitch names\n",
        "pitchnames_training = set(item for notes_for_instrument in notes_for_instruments for item in notes_for_instrument)\n",
        "pitchnames_validation = set(item for notes_for_instrument in notes_for_instruments_validation for item in notes_for_instrument)\n",
        "pitchnames = sorted(pitchnames_training.union(pitchnames_validation))"
      ],
      "execution_count": 13,
      "outputs": []
    },
    {
      "cell_type": "code",
      "metadata": {
        "id": "YFVChPCk-enO",
        "outputId": "7cd8a842-a647-4347-cef6-e7e4381d81fa",
        "colab": {
          "base_uri": "https://localhost:8080/"
        }
      },
      "source": [
        "n_vocab = len(pitchnames)\n",
        "n_vocab"
      ],
      "execution_count": 14,
      "outputs": [
        {
          "output_type": "execute_result",
          "data": {
            "text/plain": [
              "839"
            ]
          },
          "metadata": {
            "tags": []
          },
          "execution_count": 14
        }
      ]
    },
    {
      "cell_type": "code",
      "metadata": {
        "id": "q4PpfIFRnWIA"
      },
      "source": [
        "# create a dictionary to map pitches to integers\n",
        "note_to_int = dict((note, number) for number, note in enumerate(pitchnames))\n",
        "network_input = []\n",
        "for notes in notes_for_instruments:\n",
        "    if len(notes) - sequence_length<=0:\n",
        "        print(\"canzone troppo corta\")\n",
        "    # create input sequences and the corresponding outputs\n",
        "    for i in range(0, len(notes) - sequence_length, 1):\n",
        "      # Map pitches of sequence_in to integers\n",
        "      network_input.append([note_to_int[char] for char in notes[i:i + sequence_length]])\n",
        "n_patterns = len(network_input)\n",
        "# reshape the input into a format compatible with Transormer layers\n",
        "network_input = np.reshape(network_input, (n_patterns, sequence_length))"
      ],
      "execution_count": 15,
      "outputs": []
    },
    {
      "cell_type": "code",
      "metadata": {
        "id": "8QIDFrdeIIz1"
      },
      "source": [
        "# create a dictionary to map pitches to integers\n",
        "note_to_int_validation = dict((notes_validation, number) for number, notes_validation in enumerate(pitchnames))\n",
        "network_input_validation = []\n",
        "network_output_validation = []\n",
        "for notes_validation in notes_for_instruments_validation:\n",
        "    if len(notes_validation) - sequence_length<=0:\n",
        "        print(\"canzone troppo corta\")\n",
        "    # create input sequences and the corresponding outputs\n",
        "    for i in range(0, len(notes_validation) - sequence_length, 1):\n",
        "      # Map pitches of sequence_in to integers\n",
        "      network_input_validation.append([note_to_int_validation[char] for char in notes_validation[i:i + sequence_length]])\n",
        "n_patterns_validation = len(network_input_validation)\n",
        "# reshape the input into a format compatible with Transormer layers\n",
        "network_input_validation = np.reshape(network_input_validation, (n_patterns_validation, sequence_length))"
      ],
      "execution_count": 16,
      "outputs": []
    },
    {
      "cell_type": "markdown",
      "metadata": {
        "id": "GVRPauXUdq5Y"
      },
      "source": [
        "Let's see the new metwork_input size"
      ]
    },
    {
      "cell_type": "code",
      "metadata": {
        "id": "K8eQQMbxhUkN",
        "colab": {
          "base_uri": "https://localhost:8080/"
        },
        "outputId": "8a718d2a-f2dd-4c08-ae43-92a538c26c37"
      },
      "source": [
        "network_input.shape"
      ],
      "execution_count": 17,
      "outputs": [
        {
          "output_type": "execute_result",
          "data": {
            "text/plain": [
              "(366889, 64)"
            ]
          },
          "metadata": {
            "tags": []
          },
          "execution_count": 17
        }
      ]
    },
    {
      "cell_type": "code",
      "metadata": {
        "id": "y-c9sz4Bo8eZ",
        "colab": {
          "base_uri": "https://localhost:8080/"
        },
        "outputId": "a1f1348c-7bb6-4bc5-9616-079af3dd3169"
      },
      "source": [
        "network_input_validation.shape"
      ],
      "execution_count": 18,
      "outputs": [
        {
          "output_type": "execute_result",
          "data": {
            "text/plain": [
              "(36341, 64)"
            ]
          },
          "metadata": {
            "tags": []
          },
          "execution_count": 18
        }
      ]
    },
    {
      "cell_type": "markdown",
      "metadata": {
        "id": "6--Wc8UXnVgY"
      },
      "source": [
        "**Design neural network architecture** "
      ]
    },
    {
      "cell_type": "code",
      "metadata": {
        "id": "t4ztPAQsnb7T"
      },
      "source": [
        "def create_network(sequence_length, n_vocab):\n",
        "    \"\"\" create the structure of the neural network \"\"\"\n",
        "    model = CompressiveTransformer(\n",
        "    num_tokens = n_vocab,\n",
        "    dim = sequence_length,\n",
        "    depth = 6,\n",
        "    seq_len = sequence_length,\n",
        "    mem_len = sequence_length,\n",
        "    cmem_len = 256,\n",
        "    cmem_ratio = 4,\n",
        "    memory_layers = [5,6],\n",
        "    gru_gated_residual = False\n",
        "    )\n",
        "\n",
        "    model = AutoregressiveWrapper(model)\n",
        "    model.cuda()\n",
        "    return model"
      ],
      "execution_count": 19,
      "outputs": []
    },
    {
      "cell_type": "code",
      "metadata": {
        "id": "1nsNVMocnhNC",
        "colab": {
          "base_uri": "https://localhost:8080/"
        },
        "outputId": "dc438b02-49de-4ad2-dd58-93dbecdd2840"
      },
      "source": [
        "model = create_network(sequence_length,n_vocab)\n",
        "\n",
        "print(model)\n"
      ],
      "execution_count": 20,
      "outputs": [
        {
          "output_type": "stream",
          "text": [
            "AutoregressiveWrapper(\n",
            "  (net): CompressiveTransformer(\n",
            "    (token_emb): Embedding(839, 64)\n",
            "    (to_model_dim): Identity()\n",
            "    (to_logits): Sequential(\n",
            "      (0): Identity()\n",
            "      (1): Linear(in_features=64, out_features=839, bias=True)\n",
            "    )\n",
            "    (attn_layers): ModuleList(\n",
            "      (0): Residual(\n",
            "        (fn): PreNorm(\n",
            "          (norm): LayerNorm((64,), eps=1e-05, elementwise_affine=True)\n",
            "          (fn): SelfAttention(\n",
            "            (compress_mem_fn): ConvCompress(\n",
            "              (conv): Conv1d(64, 64, kernel_size=(4,), stride=(4,))\n",
            "            )\n",
            "            (to_q): Linear(in_features=64, out_features=64, bias=False)\n",
            "            (to_kv): Linear(in_features=64, out_features=128, bias=False)\n",
            "            (to_out): Linear(in_features=64, out_features=64, bias=True)\n",
            "            (attn_dropout): Dropout(p=0.0, inplace=False)\n",
            "            (dropout): Dropout(p=0.0, inplace=False)\n",
            "            (reconstruction_attn_dropout): Dropout(p=0.0, inplace=False)\n",
            "          )\n",
            "        )\n",
            "      )\n",
            "      (1): Residual(\n",
            "        (fn): PreNorm(\n",
            "          (norm): LayerNorm((64,), eps=1e-05, elementwise_affine=True)\n",
            "          (fn): SelfAttention(\n",
            "            (compress_mem_fn): ConvCompress(\n",
            "              (conv): Conv1d(64, 64, kernel_size=(4,), stride=(4,))\n",
            "            )\n",
            "            (to_q): Linear(in_features=64, out_features=64, bias=False)\n",
            "            (to_kv): Linear(in_features=64, out_features=128, bias=False)\n",
            "            (to_out): Linear(in_features=64, out_features=64, bias=True)\n",
            "            (attn_dropout): Dropout(p=0.0, inplace=False)\n",
            "            (dropout): Dropout(p=0.0, inplace=False)\n",
            "            (reconstruction_attn_dropout): Dropout(p=0.0, inplace=False)\n",
            "          )\n",
            "        )\n",
            "      )\n",
            "      (2): Residual(\n",
            "        (fn): PreNorm(\n",
            "          (norm): LayerNorm((64,), eps=1e-05, elementwise_affine=True)\n",
            "          (fn): SelfAttention(\n",
            "            (compress_mem_fn): ConvCompress(\n",
            "              (conv): Conv1d(64, 64, kernel_size=(4,), stride=(4,))\n",
            "            )\n",
            "            (to_q): Linear(in_features=64, out_features=64, bias=False)\n",
            "            (to_kv): Linear(in_features=64, out_features=128, bias=False)\n",
            "            (to_out): Linear(in_features=64, out_features=64, bias=True)\n",
            "            (attn_dropout): Dropout(p=0.0, inplace=False)\n",
            "            (dropout): Dropout(p=0.0, inplace=False)\n",
            "            (reconstruction_attn_dropout): Dropout(p=0.0, inplace=False)\n",
            "          )\n",
            "        )\n",
            "      )\n",
            "      (3): Residual(\n",
            "        (fn): PreNorm(\n",
            "          (norm): LayerNorm((64,), eps=1e-05, elementwise_affine=True)\n",
            "          (fn): SelfAttention(\n",
            "            (compress_mem_fn): ConvCompress(\n",
            "              (conv): Conv1d(64, 64, kernel_size=(4,), stride=(4,))\n",
            "            )\n",
            "            (to_q): Linear(in_features=64, out_features=64, bias=False)\n",
            "            (to_kv): Linear(in_features=64, out_features=128, bias=False)\n",
            "            (to_out): Linear(in_features=64, out_features=64, bias=True)\n",
            "            (attn_dropout): Dropout(p=0.0, inplace=False)\n",
            "            (dropout): Dropout(p=0.0, inplace=False)\n",
            "            (reconstruction_attn_dropout): Dropout(p=0.0, inplace=False)\n",
            "          )\n",
            "        )\n",
            "      )\n",
            "      (4): Residual(\n",
            "        (fn): PreNorm(\n",
            "          (norm): LayerNorm((64,), eps=1e-05, elementwise_affine=True)\n",
            "          (fn): SelfAttention(\n",
            "            (compress_mem_fn): ConvCompress(\n",
            "              (conv): Conv1d(64, 64, kernel_size=(4,), stride=(4,))\n",
            "            )\n",
            "            (to_q): Linear(in_features=64, out_features=64, bias=False)\n",
            "            (to_kv): Linear(in_features=64, out_features=128, bias=False)\n",
            "            (to_out): Linear(in_features=64, out_features=64, bias=True)\n",
            "            (attn_dropout): Dropout(p=0.0, inplace=False)\n",
            "            (dropout): Dropout(p=0.0, inplace=False)\n",
            "            (reconstruction_attn_dropout): Dropout(p=0.0, inplace=False)\n",
            "          )\n",
            "        )\n",
            "      )\n",
            "      (5): Residual(\n",
            "        (fn): PreNorm(\n",
            "          (norm): LayerNorm((64,), eps=1e-05, elementwise_affine=True)\n",
            "          (fn): SelfAttention(\n",
            "            (compress_mem_fn): ConvCompress(\n",
            "              (conv): Conv1d(64, 64, kernel_size=(4,), stride=(4,))\n",
            "            )\n",
            "            (to_q): Linear(in_features=64, out_features=64, bias=False)\n",
            "            (to_kv): Linear(in_features=64, out_features=128, bias=False)\n",
            "            (to_out): Linear(in_features=64, out_features=64, bias=True)\n",
            "            (attn_dropout): Dropout(p=0.0, inplace=False)\n",
            "            (dropout): Dropout(p=0.0, inplace=False)\n",
            "            (reconstruction_attn_dropout): Dropout(p=0.0, inplace=False)\n",
            "          )\n",
            "        )\n",
            "      )\n",
            "    )\n",
            "    (ff_layers): ModuleList(\n",
            "      (0): Residual(\n",
            "        (fn): PreNorm(\n",
            "          (norm): LayerNorm((64,), eps=1e-05, elementwise_affine=True)\n",
            "          (fn): FeedForward(\n",
            "            (w1): Linear(in_features=64, out_features=256, bias=True)\n",
            "            (act): GELU()\n",
            "            (dropout): Dropout(p=0.0, inplace=False)\n",
            "            (w2): Linear(in_features=256, out_features=64, bias=True)\n",
            "          )\n",
            "        )\n",
            "      )\n",
            "      (1): Residual(\n",
            "        (fn): PreNorm(\n",
            "          (norm): LayerNorm((64,), eps=1e-05, elementwise_affine=True)\n",
            "          (fn): FeedForward(\n",
            "            (w1): Linear(in_features=64, out_features=256, bias=True)\n",
            "            (act): GELU()\n",
            "            (dropout): Dropout(p=0.0, inplace=False)\n",
            "            (w2): Linear(in_features=256, out_features=64, bias=True)\n",
            "          )\n",
            "        )\n",
            "      )\n",
            "      (2): Residual(\n",
            "        (fn): PreNorm(\n",
            "          (norm): LayerNorm((64,), eps=1e-05, elementwise_affine=True)\n",
            "          (fn): FeedForward(\n",
            "            (w1): Linear(in_features=64, out_features=256, bias=True)\n",
            "            (act): GELU()\n",
            "            (dropout): Dropout(p=0.0, inplace=False)\n",
            "            (w2): Linear(in_features=256, out_features=64, bias=True)\n",
            "          )\n",
            "        )\n",
            "      )\n",
            "      (3): Residual(\n",
            "        (fn): PreNorm(\n",
            "          (norm): LayerNorm((64,), eps=1e-05, elementwise_affine=True)\n",
            "          (fn): FeedForward(\n",
            "            (w1): Linear(in_features=64, out_features=256, bias=True)\n",
            "            (act): GELU()\n",
            "            (dropout): Dropout(p=0.0, inplace=False)\n",
            "            (w2): Linear(in_features=256, out_features=64, bias=True)\n",
            "          )\n",
            "        )\n",
            "      )\n",
            "      (4): Residual(\n",
            "        (fn): PreNorm(\n",
            "          (norm): LayerNorm((64,), eps=1e-05, elementwise_affine=True)\n",
            "          (fn): FeedForward(\n",
            "            (w1): Linear(in_features=64, out_features=256, bias=True)\n",
            "            (act): GELU()\n",
            "            (dropout): Dropout(p=0.0, inplace=False)\n",
            "            (w2): Linear(in_features=256, out_features=64, bias=True)\n",
            "          )\n",
            "        )\n",
            "      )\n",
            "      (5): Residual(\n",
            "        (fn): PreNorm(\n",
            "          (norm): LayerNorm((64,), eps=1e-05, elementwise_affine=True)\n",
            "          (fn): FeedForward(\n",
            "            (w1): Linear(in_features=64, out_features=256, bias=True)\n",
            "            (act): GELU()\n",
            "            (dropout): Dropout(p=0.0, inplace=False)\n",
            "            (w2): Linear(in_features=256, out_features=64, bias=True)\n",
            "          )\n",
            "        )\n",
            "      )\n",
            "    )\n",
            "  )\n",
            ")\n"
          ],
          "name": "stdout"
        }
      ]
    },
    {
      "cell_type": "code",
      "metadata": {
        "id": "dRKI1q5WjwcL"
      },
      "source": [
        "def cycle(loader):\n",
        "    while True:\n",
        "        for data in loader:\n",
        "          yield data\n",
        "\n",
        "data_train = torch.from_numpy(network_input).cuda()\n",
        "train_loader = torch.utils.data.DataLoader(data_train, batch_size=32) \n",
        "cycle_train_loader  = cycle(DataLoader(data_train, batch_size = data_train.shape[0]))\n",
        "num_batches=math.ceil(data_train.shape[0]/batch_size) # Total number of batches"
      ],
      "execution_count": 21,
      "outputs": []
    },
    {
      "cell_type": "code",
      "metadata": {
        "id": "TFYgRHLRIy3C"
      },
      "source": [
        "#Validation\n",
        "data_validation = torch.from_numpy(network_input_validation).cuda()\n",
        "validation_loader = torch.utils.data.DataLoader(data_validation, batch_size=32) \n",
        "cycle_validation_loader  = cycle(DataLoader(data_validation, batch_size = data_validation.shape[0]))\n",
        "num_batches_val=math.ceil(data_validation.shape[0]/batch_size) # Total number of batches"
      ],
      "execution_count": 22,
      "outputs": []
    },
    {
      "cell_type": "code",
      "metadata": {
        "id": "E60il158kxfq"
      },
      "source": [
        "# optimizer\n",
        "\n",
        "optimizer = torch.optim.Adam(model.parameters(), lr=learning_rate)"
      ],
      "execution_count": 26,
      "outputs": []
    },
    {
      "cell_type": "markdown",
      "metadata": {
        "id": "GbO-XA3Dfrd2"
      },
      "source": [
        "In case we want to use previously trained weights, to continue the training in the point we left it, we should load them into the model.\n",
        "\n",
        "This is very useful in Google Colaboratory, that usually kills the virtual machine that is executing the Jupyter notework after a certime amount of time. If this happens to you, you should have to look for the last weights file in your configured Drive account and use it to train the network.\n"
      ]
    },
    {
      "cell_type": "code",
      "metadata": {
        "id": "QjfQL_Ck_92a"
      },
      "source": [
        "# In case we want to use previously trained weights\n",
        "weights = \"model_best.pth.tar\"\n",
        "checkpoint = torch.load(\"/content/drive/MyDrive/ISPR_project/Transformer/model_best.pth.tar\")\n",
        "model.load_state_dict(checkpoint['model_state_dict'])\n",
        "optimizer.load_state_dict(checkpoint['optimizer_state_dict'])\n",
        "epoch = checkpoint['epoch']\n",
        "loss = checkpoint['loss']\n"
      ],
      "execution_count": 29,
      "outputs": []
    },
    {
      "cell_type": "code",
      "metadata": {
        "id": "UqX3PsrJkyNN",
        "outputId": "c3fb2fa9-b965-42e5-bba3-e24e3c6192dd",
        "colab": {
          "base_uri": "https://localhost:8080/"
        }
      },
      "source": [
        "# training\n",
        "for i in tqdm.tqdm(range(31,epochs), mininterval=20., desc='training'):\n",
        "    model.train()\n",
        "    tot_loss = 0.0\n",
        "    is_best=0\n",
        "    best_loss_value=n_vocab\n",
        "    avg_loss_val=0\n",
        "    for mlm_loss, aux_loss, is_last in model(next(cycle_train_loader), max_batch_size = batch_size, return_loss = True):\n",
        "        loss = mlm_loss + aux_loss\n",
        "\n",
        "        loss.backward()\n",
        "\n",
        "        tot_loss+=loss;\n",
        "\n",
        "        if is_last:\n",
        "            torch.nn.utils.clip_grad_norm_(model.parameters(), 0.5)\n",
        "            optimizer.step()\n",
        "            optimizer.zero_grad()\n",
        "    \n",
        "    if i % VALIDATE_EVERY == 0 or i==epochs-1:\n",
        "      model.eval()\n",
        "      with torch.no_grad():\n",
        "          for loss_val, aux_loss_val, is_last_val in model(next(cycle_validation_loader), max_batch_size = batch_size, return_loss = True):\n",
        "            avg_loss_val+=loss_val/num_batches_val;\n",
        "\n",
        "            if is_last_val:\n",
        "              print(f'\\n validation loss: {avg_loss_val.item():.4f}')\n",
        "\n",
        "\n",
        "    avg_loss=tot_loss/num_batches\n",
        "\n",
        "    if i%5==0 or i==epochs-1:\n",
        "      if best_loss_value>avg_loss:\n",
        "        best_loss_value=avg_loss;\n",
        "        is_best=1\n",
        "\n",
        "      save_checkpoint({\n",
        "      'epoch': i,\n",
        "      'model_state_dict': model.state_dict(),\n",
        "      'optimizer_state_dict' : optimizer.state_dict(),\n",
        "      'loss':avg_loss.item(),\n",
        "     }, is_best, 'Tran_64_Checkpoint'+str(i)+'_'+\"{:.4f}\".format(avg_loss.item())+'.pth.tar')\n",
        "      is_best=0\n",
        "    print(f'\\n Epoch: {i} |Training loss: {avg_loss.item():.4f}')\n",
        "print('\\nTraining complete.')\n",
        "\n",
        "\n",
        "\n",
        "\n"
      ],
      "execution_count": null,
      "outputs": [
        {
          "output_type": "stream",
          "text": [
            "\n",
            "\n",
            "training:   0%|          | 0/1969 [00:00<?, ?it/s]\u001b[A\u001b[A\n",
            "\n",
            "training:   0%|          | 1/1969 [04:43<155:11:32, 283.89s/it]\u001b[A\u001b[A"
          ],
          "name": "stderr"
        },
        {
          "output_type": "stream",
          "text": [
            "\n",
            " Epoch: 31 |Training loss: 6.0569\n"
          ],
          "name": "stdout"
        },
        {
          "output_type": "stream",
          "text": [
            "\n",
            "\n",
            "training:   0%|          | 2/1969 [09:26<154:58:35, 283.64s/it]\u001b[A\u001b[A"
          ],
          "name": "stderr"
        },
        {
          "output_type": "stream",
          "text": [
            "\n",
            " Epoch: 32 |Training loss: 6.0294\n"
          ],
          "name": "stdout"
        },
        {
          "output_type": "stream",
          "text": [
            "\n",
            "\n",
            "training:   0%|          | 3/1969 [14:12<155:08:26, 284.08s/it]\u001b[A\u001b[A"
          ],
          "name": "stderr"
        },
        {
          "output_type": "stream",
          "text": [
            "\n",
            " Epoch: 33 |Training loss: 6.0019\n"
          ],
          "name": "stdout"
        },
        {
          "output_type": "stream",
          "text": [
            "\n",
            "\n",
            "training:   0%|          | 4/1969 [19:00<155:49:59, 285.50s/it]\u001b[A\u001b[A"
          ],
          "name": "stderr"
        },
        {
          "output_type": "stream",
          "text": [
            "\n",
            " Epoch: 34 |Training loss: 5.9744\n",
            "\n",
            " validation loss: 6.1546\n"
          ],
          "name": "stdout"
        },
        {
          "output_type": "stream",
          "text": [
            "\n",
            "\n",
            "training:   0%|          | 5/1969 [23:59<157:49:35, 289.30s/it]\u001b[A\u001b[A"
          ],
          "name": "stderr"
        },
        {
          "output_type": "stream",
          "text": [
            "\n",
            " Epoch: 35 |Training loss: 5.9469\n"
          ],
          "name": "stdout"
        },
        {
          "output_type": "stream",
          "text": [
            "\n",
            "\n",
            "training:   0%|          | 6/1969 [28:46<157:27:38, 288.77s/it]\u001b[A\u001b[A"
          ],
          "name": "stderr"
        },
        {
          "output_type": "stream",
          "text": [
            "\n",
            " Epoch: 36 |Training loss: 5.9193\n"
          ],
          "name": "stdout"
        },
        {
          "output_type": "stream",
          "text": [
            "\n",
            "\n",
            "training:   0%|          | 7/1969 [33:33<157:07:54, 288.32s/it]\u001b[A\u001b[A"
          ],
          "name": "stderr"
        },
        {
          "output_type": "stream",
          "text": [
            "\n",
            " Epoch: 37 |Training loss: 5.8917\n"
          ],
          "name": "stdout"
        },
        {
          "output_type": "stream",
          "text": [
            "\n",
            "\n",
            "training:   0%|          | 8/1969 [38:20<156:46:12, 287.80s/it]\u001b[A\u001b[A"
          ],
          "name": "stderr"
        },
        {
          "output_type": "stream",
          "text": [
            "\n",
            " Epoch: 38 |Training loss: 5.8641\n"
          ],
          "name": "stdout"
        },
        {
          "output_type": "stream",
          "text": [
            "\n",
            "\n",
            "training:   0%|          | 9/1969 [43:05<156:17:59, 287.08s/it]\u001b[A\u001b[A"
          ],
          "name": "stderr"
        },
        {
          "output_type": "stream",
          "text": [
            "\n",
            " Epoch: 39 |Training loss: 5.8364\n",
            "\n",
            " validation loss: 6.0225\n"
          ],
          "name": "stdout"
        },
        {
          "output_type": "stream",
          "text": [
            "\n",
            "\n",
            "training:   1%|          | 10/1969 [48:02<157:49:42, 290.04s/it]\u001b[A\u001b[A"
          ],
          "name": "stderr"
        },
        {
          "output_type": "stream",
          "text": [
            "\n",
            " Epoch: 40 |Training loss: 5.8087\n"
          ],
          "name": "stdout"
        },
        {
          "output_type": "stream",
          "text": [
            "\n",
            "\n",
            "training:   1%|          | 11/1969 [52:50<157:26:46, 289.48s/it]\u001b[A\u001b[A"
          ],
          "name": "stderr"
        },
        {
          "output_type": "stream",
          "text": [
            "\n",
            " Epoch: 41 |Training loss: 5.7809\n"
          ],
          "name": "stdout"
        },
        {
          "output_type": "stream",
          "text": [
            "\n",
            "\n",
            "training:   1%|          | 12/1969 [57:37<156:50:34, 288.52s/it]\u001b[A\u001b[A"
          ],
          "name": "stderr"
        },
        {
          "output_type": "stream",
          "text": [
            "\n",
            " Epoch: 42 |Training loss: 5.7532\n"
          ],
          "name": "stdout"
        },
        {
          "output_type": "stream",
          "text": [
            "\n",
            "\n",
            "training:   1%|          | 13/1969 [1:02:22<156:13:30, 287.53s/it]\u001b[A\u001b[A"
          ],
          "name": "stderr"
        },
        {
          "output_type": "stream",
          "text": [
            "\n",
            " Epoch: 43 |Training loss: 5.7254\n"
          ],
          "name": "stdout"
        },
        {
          "output_type": "stream",
          "text": [
            "\n",
            "\n",
            "training:   1%|          | 14/1969 [1:07:07<155:39:57, 286.65s/it]\u001b[A\u001b[A"
          ],
          "name": "stderr"
        },
        {
          "output_type": "stream",
          "text": [
            "\n",
            " Epoch: 44 |Training loss: 5.6975\n",
            "\n",
            " validation loss: 5.8849\n"
          ],
          "name": "stdout"
        },
        {
          "output_type": "stream",
          "text": [
            "\n",
            "\n",
            "training:   1%|          | 15/1969 [1:12:01<156:52:24, 289.02s/it]\u001b[A\u001b[A"
          ],
          "name": "stderr"
        },
        {
          "output_type": "stream",
          "text": [
            "\n",
            " Epoch: 45 |Training loss: 5.6697\n"
          ],
          "name": "stdout"
        },
        {
          "output_type": "stream",
          "text": [
            "\n",
            "\n",
            "training:   1%|          | 16/1969 [1:16:45<156:00:58, 287.59s/it]\u001b[A\u001b[A"
          ],
          "name": "stderr"
        },
        {
          "output_type": "stream",
          "text": [
            "\n",
            " Epoch: 46 |Training loss: 5.6418\n"
          ],
          "name": "stdout"
        },
        {
          "output_type": "stream",
          "text": [
            "\n",
            "\n",
            "training:   1%|          | 17/1969 [1:21:31<155:33:53, 286.90s/it]\u001b[A\u001b[A"
          ],
          "name": "stderr"
        },
        {
          "output_type": "stream",
          "text": [
            "\n",
            " Epoch: 47 |Training loss: 5.6140\n"
          ],
          "name": "stdout"
        },
        {
          "output_type": "stream",
          "text": [
            "\n",
            "\n",
            "training:   1%|          | 18/1969 [1:26:15<155:08:31, 286.27s/it]\u001b[A\u001b[A"
          ],
          "name": "stderr"
        },
        {
          "output_type": "stream",
          "text": [
            "\n",
            " Epoch: 48 |Training loss: 5.5861\n"
          ],
          "name": "stdout"
        },
        {
          "output_type": "stream",
          "text": [
            "\n",
            "\n",
            "training:   1%|          | 19/1969 [1:31:01<154:55:55, 286.03s/it]\u001b[A\u001b[A"
          ],
          "name": "stderr"
        },
        {
          "output_type": "stream",
          "text": [
            "\n",
            " Epoch: 49 |Training loss: 5.5583\n",
            "\n",
            " validation loss: 5.7449\n"
          ],
          "name": "stdout"
        },
        {
          "output_type": "stream",
          "text": [
            "\n",
            "\n",
            "training:   1%|          | 20/1969 [1:36:00<157:02:51, 290.08s/it]\u001b[A\u001b[A"
          ],
          "name": "stderr"
        },
        {
          "output_type": "stream",
          "text": [
            "\n",
            " Epoch: 50 |Training loss: 5.5305\n"
          ],
          "name": "stdout"
        },
        {
          "output_type": "stream",
          "text": [
            "\n",
            "\n",
            "training:   1%|          | 21/1969 [1:40:52<157:15:02, 290.61s/it]\u001b[A\u001b[A"
          ],
          "name": "stderr"
        },
        {
          "output_type": "stream",
          "text": [
            "\n",
            " Epoch: 51 |Training loss: 5.5028\n"
          ],
          "name": "stdout"
        },
        {
          "output_type": "stream",
          "text": [
            "\n",
            "\n",
            "training:   1%|          | 22/1969 [1:45:42<157:01:02, 290.33s/it]\u001b[A\u001b[A"
          ],
          "name": "stderr"
        },
        {
          "output_type": "stream",
          "text": [
            "\n",
            " Epoch: 52 |Training loss: 5.4751\n"
          ],
          "name": "stdout"
        },
        {
          "output_type": "stream",
          "text": [
            "\n",
            "\n",
            "training:   1%|          | 23/1969 [1:50:31<156:39:18, 289.80s/it]\u001b[A\u001b[A"
          ],
          "name": "stderr"
        },
        {
          "output_type": "stream",
          "text": [
            "\n",
            " Epoch: 53 |Training loss: 5.4475\n"
          ],
          "name": "stdout"
        },
        {
          "output_type": "stream",
          "text": [
            "\n",
            "\n",
            "training:   1%|          | 24/1969 [1:55:19<156:19:46, 289.35s/it]\u001b[A\u001b[A"
          ],
          "name": "stderr"
        },
        {
          "output_type": "stream",
          "text": [
            "\n",
            " Epoch: 54 |Training loss: 5.4200\n",
            "\n",
            " validation loss: 5.6051\n"
          ],
          "name": "stdout"
        },
        {
          "output_type": "stream",
          "text": [
            "\n",
            "\n",
            "training:   1%|▏         | 25/1969 [2:00:19<158:04:57, 292.75s/it]\u001b[A\u001b[A"
          ],
          "name": "stderr"
        },
        {
          "output_type": "stream",
          "text": [
            "\n",
            " Epoch: 55 |Training loss: 5.3925\n"
          ],
          "name": "stdout"
        },
        {
          "output_type": "stream",
          "text": [
            "\n",
            "\n",
            "training:   1%|▏         | 26/1969 [2:05:09<157:27:48, 291.75s/it]\u001b[A\u001b[A"
          ],
          "name": "stderr"
        },
        {
          "output_type": "stream",
          "text": [
            "\n",
            " Epoch: 56 |Training loss: 5.3651\n"
          ],
          "name": "stdout"
        },
        {
          "output_type": "stream",
          "text": [
            "\n",
            "\n",
            "training:   1%|▏         | 27/1969 [2:09:59<157:11:05, 291.38s/it]\u001b[A\u001b[A"
          ],
          "name": "stderr"
        },
        {
          "output_type": "stream",
          "text": [
            "\n",
            " Epoch: 57 |Training loss: 5.3379\n"
          ],
          "name": "stdout"
        },
        {
          "output_type": "stream",
          "text": [
            "\n",
            "\n",
            "training:   1%|▏         | 28/1969 [2:14:50<156:58:25, 291.14s/it]\u001b[A\u001b[A"
          ],
          "name": "stderr"
        },
        {
          "output_type": "stream",
          "text": [
            "\n",
            " Epoch: 58 |Training loss: 5.3107\n"
          ],
          "name": "stdout"
        },
        {
          "output_type": "stream",
          "text": [
            "\n",
            "\n",
            "training:   1%|▏         | 29/1969 [2:19:40<156:44:15, 290.85s/it]\u001b[A\u001b[A"
          ],
          "name": "stderr"
        },
        {
          "output_type": "stream",
          "text": [
            "\n",
            " Epoch: 59 |Training loss: 5.2837\n",
            "\n",
            " validation loss: 5.4675\n"
          ],
          "name": "stdout"
        },
        {
          "output_type": "stream",
          "text": [
            "\n",
            "\n",
            "training:   2%|▏         | 30/1969 [2:24:38<157:50:32, 293.05s/it]\u001b[A\u001b[A"
          ],
          "name": "stderr"
        },
        {
          "output_type": "stream",
          "text": [
            "\n",
            " Epoch: 60 |Training loss: 5.2568\n"
          ],
          "name": "stdout"
        },
        {
          "output_type": "stream",
          "text": [
            "\n",
            "\n",
            "training:   2%|▏         | 31/1969 [2:29:23<156:26:40, 290.61s/it]\u001b[A\u001b[A"
          ],
          "name": "stderr"
        },
        {
          "output_type": "stream",
          "text": [
            "\n",
            " Epoch: 61 |Training loss: 5.2300\n"
          ],
          "name": "stdout"
        },
        {
          "output_type": "stream",
          "text": [
            "\n",
            "\n",
            "training:   2%|▏         | 32/1969 [2:34:08<155:25:53, 288.88s/it]\u001b[A\u001b[A"
          ],
          "name": "stderr"
        },
        {
          "output_type": "stream",
          "text": [
            "\n",
            " Epoch: 62 |Training loss: 5.2034\n"
          ],
          "name": "stdout"
        },
        {
          "output_type": "stream",
          "text": [
            "\n",
            "\n",
            "training:   2%|▏         | 33/1969 [2:38:53<154:38:10, 287.55s/it]\u001b[A\u001b[A"
          ],
          "name": "stderr"
        },
        {
          "output_type": "stream",
          "text": [
            "\n",
            " Epoch: 63 |Training loss: 5.1770\n"
          ],
          "name": "stdout"
        },
        {
          "output_type": "stream",
          "text": [
            "\n",
            "\n",
            "training:   2%|▏         | 34/1969 [2:43:37<154:06:22, 286.71s/it]\u001b[A\u001b[A"
          ],
          "name": "stderr"
        },
        {
          "output_type": "stream",
          "text": [
            "\n",
            " Epoch: 64 |Training loss: 5.1507\n",
            "\n",
            " validation loss: 5.3332\n"
          ],
          "name": "stdout"
        },
        {
          "output_type": "stream",
          "text": [
            "\n",
            "\n",
            "training:   2%|▏         | 35/1969 [2:48:34<155:33:37, 289.56s/it]\u001b[A\u001b[A"
          ],
          "name": "stderr"
        },
        {
          "output_type": "stream",
          "text": [
            "\n",
            " Epoch: 65 |Training loss: 5.1247\n"
          ],
          "name": "stdout"
        },
        {
          "output_type": "stream",
          "text": [
            "\n",
            "\n",
            "training:   2%|▏         | 36/1969 [2:53:19<154:50:08, 288.36s/it]\u001b[A\u001b[A"
          ],
          "name": "stderr"
        },
        {
          "output_type": "stream",
          "text": [
            "\n",
            " Epoch: 66 |Training loss: 5.0988\n"
          ],
          "name": "stdout"
        },
        {
          "output_type": "stream",
          "text": [
            "\n",
            "\n",
            "training:   2%|▏         | 37/1969 [2:58:04<154:15:29, 287.44s/it]\u001b[A\u001b[A"
          ],
          "name": "stderr"
        },
        {
          "output_type": "stream",
          "text": [
            "\n",
            " Epoch: 67 |Training loss: 5.0732\n"
          ],
          "name": "stdout"
        },
        {
          "output_type": "stream",
          "text": [
            "\n",
            "\n",
            "training:   2%|▏         | 38/1969 [3:02:50<153:49:17, 286.77s/it]\u001b[A\u001b[A"
          ],
          "name": "stderr"
        },
        {
          "output_type": "stream",
          "text": [
            "\n",
            " Epoch: 68 |Training loss: 5.0477\n"
          ],
          "name": "stdout"
        },
        {
          "output_type": "stream",
          "text": [
            "\n",
            "\n",
            "training:   2%|▏         | 39/1969 [3:07:35<153:30:31, 286.34s/it]\u001b[A\u001b[A"
          ],
          "name": "stderr"
        },
        {
          "output_type": "stream",
          "text": [
            "\n",
            " Epoch: 69 |Training loss: 5.0226\n",
            "\n",
            " validation loss: 5.2034\n"
          ],
          "name": "stdout"
        },
        {
          "output_type": "stream",
          "text": [
            "\n",
            "\n",
            "training:   2%|▏         | 40/1969 [3:12:31<154:55:06, 289.12s/it]\u001b[A\u001b[A"
          ],
          "name": "stderr"
        },
        {
          "output_type": "stream",
          "text": [
            "\n",
            " Epoch: 70 |Training loss: 4.9976\n"
          ],
          "name": "stdout"
        },
        {
          "output_type": "stream",
          "text": [
            "\n",
            "\n",
            "training:   2%|▏         | 41/1969 [3:17:15<154:05:52, 287.73s/it]\u001b[A\u001b[A"
          ],
          "name": "stderr"
        },
        {
          "output_type": "stream",
          "text": [
            "\n",
            " Epoch: 71 |Training loss: 4.9729\n"
          ],
          "name": "stdout"
        },
        {
          "output_type": "stream",
          "text": [
            "\n",
            "\n",
            "training:   2%|▏         | 42/1969 [3:22:00<153:35:41, 286.94s/it]\u001b[A\u001b[A"
          ],
          "name": "stderr"
        },
        {
          "output_type": "stream",
          "text": [
            "\n",
            " Epoch: 72 |Training loss: 4.9485\n"
          ],
          "name": "stdout"
        },
        {
          "output_type": "stream",
          "text": [
            "\n",
            "\n",
            "training:   2%|▏         | 43/1969 [3:26:44<152:59:51, 285.98s/it]\u001b[A\u001b[A"
          ],
          "name": "stderr"
        },
        {
          "output_type": "stream",
          "text": [
            "\n",
            " Epoch: 73 |Training loss: 4.9243\n"
          ],
          "name": "stdout"
        },
        {
          "output_type": "stream",
          "text": [
            "\n",
            "\n",
            "training:   2%|▏         | 44/1969 [3:31:27<152:27:31, 285.12s/it]\u001b[A\u001b[A"
          ],
          "name": "stderr"
        },
        {
          "output_type": "stream",
          "text": [
            "\n",
            " Epoch: 74 |Training loss: 4.9005\n",
            "\n",
            " validation loss: 5.0798\n"
          ],
          "name": "stdout"
        },
        {
          "output_type": "stream",
          "text": [
            "\n",
            "\n",
            "training:   2%|▏         | 45/1969 [3:36:22<153:57:26, 288.07s/it]\u001b[A\u001b[A"
          ],
          "name": "stderr"
        },
        {
          "output_type": "stream",
          "text": [
            "\n",
            " Epoch: 75 |Training loss: 4.8769\n"
          ],
          "name": "stdout"
        },
        {
          "output_type": "stream",
          "text": [
            "\n",
            "\n",
            "training:   2%|▏         | 46/1969 [3:41:10<153:56:14, 288.18s/it]\u001b[A\u001b[A"
          ],
          "name": "stderr"
        },
        {
          "output_type": "stream",
          "text": [
            "\n",
            " Epoch: 76 |Training loss: 4.8537\n"
          ],
          "name": "stdout"
        },
        {
          "output_type": "stream",
          "text": [
            "\n",
            "\n",
            "training:   2%|▏         | 47/1969 [3:46:00<154:08:16, 288.71s/it]\u001b[A\u001b[A"
          ],
          "name": "stderr"
        },
        {
          "output_type": "stream",
          "text": [
            "\n",
            " Epoch: 77 |Training loss: 4.8307\n"
          ],
          "name": "stdout"
        },
        {
          "output_type": "stream",
          "text": [
            "\n",
            "\n",
            "training:   2%|▏         | 48/1969 [3:50:48<153:55:15, 288.45s/it]\u001b[A\u001b[A"
          ],
          "name": "stderr"
        },
        {
          "output_type": "stream",
          "text": [
            "\n",
            " Epoch: 78 |Training loss: 4.8081\n"
          ],
          "name": "stdout"
        },
        {
          "output_type": "stream",
          "text": [
            "\n",
            "\n",
            "training:   2%|▏         | 49/1969 [3:55:38<154:02:55, 288.84s/it]\u001b[A\u001b[A"
          ],
          "name": "stderr"
        },
        {
          "output_type": "stream",
          "text": [
            "\n",
            " Epoch: 79 |Training loss: 4.7858\n",
            "\n",
            " validation loss: 4.9643\n"
          ],
          "name": "stdout"
        },
        {
          "output_type": "stream",
          "text": [
            "\n",
            "\n",
            "training:   3%|▎         | 50/1969 [4:00:34<155:09:40, 291.08s/it]\u001b[A\u001b[A"
          ],
          "name": "stderr"
        },
        {
          "output_type": "stream",
          "text": [
            "\n",
            " Epoch: 80 |Training loss: 4.7639\n"
          ],
          "name": "stdout"
        },
        {
          "output_type": "stream",
          "text": [
            "\n",
            "\n",
            "training:   3%|▎         | 51/1969 [4:05:19<154:03:41, 289.17s/it]\u001b[A\u001b[A"
          ],
          "name": "stderr"
        },
        {
          "output_type": "stream",
          "text": [
            "\n",
            " Epoch: 81 |Training loss: 4.7423\n"
          ],
          "name": "stdout"
        },
        {
          "output_type": "stream",
          "text": [
            "\n",
            "\n",
            "training:   3%|▎         | 52/1969 [4:10:02<153:04:20, 287.46s/it]\u001b[A\u001b[A"
          ],
          "name": "stderr"
        },
        {
          "output_type": "stream",
          "text": [
            "\n",
            " Epoch: 82 |Training loss: 4.7210\n"
          ],
          "name": "stdout"
        },
        {
          "output_type": "stream",
          "text": [
            "\n",
            "\n",
            "training:   3%|▎         | 53/1969 [4:14:48<152:38:05, 286.79s/it]\u001b[A\u001b[A"
          ],
          "name": "stderr"
        },
        {
          "output_type": "stream",
          "text": [
            "\n",
            " Epoch: 83 |Training loss: 4.7001\n"
          ],
          "name": "stdout"
        },
        {
          "output_type": "stream",
          "text": [
            "\n",
            "\n",
            "training:   3%|▎         | 54/1969 [4:19:38<153:11:05, 287.97s/it]\u001b[A\u001b[A"
          ],
          "name": "stderr"
        },
        {
          "output_type": "stream",
          "text": [
            "\n",
            " Epoch: 84 |Training loss: 4.6796\n",
            "\n",
            " validation loss: 4.8585\n"
          ],
          "name": "stdout"
        },
        {
          "output_type": "stream",
          "text": [
            "\n",
            "\n",
            "training:   3%|▎         | 55/1969 [4:24:39<155:08:11, 291.79s/it]\u001b[A\u001b[A"
          ],
          "name": "stderr"
        },
        {
          "output_type": "stream",
          "text": [
            "\n",
            " Epoch: 85 |Training loss: 4.6594\n"
          ],
          "name": "stdout"
        },
        {
          "output_type": "stream",
          "text": [
            "\n",
            "\n",
            "training:   3%|▎         | 56/1969 [4:29:24<153:58:05, 289.75s/it]\u001b[A\u001b[A"
          ],
          "name": "stderr"
        },
        {
          "output_type": "stream",
          "text": [
            "\n",
            " Epoch: 86 |Training loss: 4.6395\n"
          ],
          "name": "stdout"
        },
        {
          "output_type": "stream",
          "text": [
            "\n",
            "\n",
            "training:   3%|▎         | 57/1969 [4:34:08<152:58:32, 288.03s/it]\u001b[A\u001b[A"
          ],
          "name": "stderr"
        },
        {
          "output_type": "stream",
          "text": [
            "\n",
            " Epoch: 87 |Training loss: 4.6200\n"
          ],
          "name": "stdout"
        },
        {
          "output_type": "stream",
          "text": [
            "\n",
            "\n",
            "training:   3%|▎         | 58/1969 [4:38:52<152:17:08, 286.88s/it]\u001b[A\u001b[A"
          ],
          "name": "stderr"
        },
        {
          "output_type": "stream",
          "text": [
            "\n",
            " Epoch: 88 |Training loss: 4.6009\n"
          ],
          "name": "stdout"
        },
        {
          "output_type": "stream",
          "text": [
            "\n",
            "\n",
            "training:   3%|▎         | 59/1969 [4:43:35<151:31:47, 285.61s/it]\u001b[A\u001b[A"
          ],
          "name": "stderr"
        },
        {
          "output_type": "stream",
          "text": [
            "\n",
            " Epoch: 89 |Training loss: 4.5821\n",
            "\n",
            " validation loss: 4.7626\n"
          ],
          "name": "stdout"
        },
        {
          "output_type": "stream",
          "text": [
            "\n",
            "\n",
            "training:   3%|▎         | 60/1969 [4:48:28<152:43:22, 288.01s/it]\u001b[A\u001b[A"
          ],
          "name": "stderr"
        },
        {
          "output_type": "stream",
          "text": [
            "\n",
            " Epoch: 90 |Training loss: 4.5637\n"
          ],
          "name": "stdout"
        },
        {
          "output_type": "stream",
          "text": [
            "\n",
            "\n",
            "training:   3%|▎         | 61/1969 [4:53:11<151:47:29, 286.40s/it]\u001b[A\u001b[A"
          ],
          "name": "stderr"
        },
        {
          "output_type": "stream",
          "text": [
            "\n",
            " Epoch: 91 |Training loss: 4.5456\n"
          ],
          "name": "stdout"
        },
        {
          "output_type": "stream",
          "text": [
            "\n",
            "\n",
            "training:   3%|▎         | 62/1969 [4:57:54<151:09:50, 285.36s/it]\u001b[A\u001b[A"
          ],
          "name": "stderr"
        },
        {
          "output_type": "stream",
          "text": [
            "\n",
            " Epoch: 92 |Training loss: 4.5279\n"
          ],
          "name": "stdout"
        },
        {
          "output_type": "stream",
          "text": [
            "\n",
            "\n",
            "training:   3%|▎         | 63/1969 [5:02:37<150:37:25, 284.49s/it]\u001b[A\u001b[A"
          ],
          "name": "stderr"
        },
        {
          "output_type": "stream",
          "text": [
            "\n",
            " Epoch: 93 |Training loss: 4.5105\n"
          ],
          "name": "stdout"
        },
        {
          "output_type": "stream",
          "text": [
            "\n",
            "\n",
            "training:   3%|▎         | 64/1969 [5:07:19<150:11:36, 283.83s/it]\u001b[A\u001b[A"
          ],
          "name": "stderr"
        },
        {
          "output_type": "stream",
          "text": [
            "\n",
            " Epoch: 94 |Training loss: 4.4934\n",
            "\n",
            " validation loss: 4.6756\n"
          ],
          "name": "stdout"
        },
        {
          "output_type": "stream",
          "text": [
            "\n",
            "\n",
            "training:   3%|▎         | 65/1969 [5:12:12<151:37:43, 286.69s/it]\u001b[A\u001b[A"
          ],
          "name": "stderr"
        },
        {
          "output_type": "stream",
          "text": [
            "\n",
            " Epoch: 95 |Training loss: 4.4766\n"
          ],
          "name": "stdout"
        },
        {
          "output_type": "stream",
          "text": [
            "\n",
            "\n",
            "training:   3%|▎         | 66/1969 [5:16:58<151:23:48, 286.40s/it]\u001b[A\u001b[A"
          ],
          "name": "stderr"
        },
        {
          "output_type": "stream",
          "text": [
            "\n",
            " Epoch: 96 |Training loss: 4.4601\n"
          ],
          "name": "stdout"
        },
        {
          "output_type": "stream",
          "text": [
            "\n",
            "\n",
            "training:   3%|▎         | 67/1969 [5:21:41<150:49:41, 285.48s/it]\u001b[A\u001b[A"
          ],
          "name": "stderr"
        },
        {
          "output_type": "stream",
          "text": [
            "\n",
            " Epoch: 97 |Training loss: 4.4439\n"
          ],
          "name": "stdout"
        },
        {
          "output_type": "stream",
          "text": [
            "\n",
            "\n",
            "training:   3%|▎         | 68/1969 [5:26:29<151:03:06, 286.05s/it]\u001b[A\u001b[A"
          ],
          "name": "stderr"
        },
        {
          "output_type": "stream",
          "text": [
            "\n",
            " Epoch: 98 |Training loss: 4.4280\n"
          ],
          "name": "stdout"
        },
        {
          "output_type": "stream",
          "text": [
            "\n",
            "\n",
            "training:   4%|▎         | 69/1969 [5:31:23<152:15:20, 288.48s/it]\u001b[A\u001b[A"
          ],
          "name": "stderr"
        },
        {
          "output_type": "stream",
          "text": [
            "\n",
            " Epoch: 99 |Training loss: 4.4124\n",
            "\n",
            " validation loss: 4.5956\n"
          ],
          "name": "stdout"
        },
        {
          "output_type": "stream",
          "text": [
            "\n",
            "\n",
            "training:   4%|▎         | 70/1969 [5:36:30<155:07:58, 294.09s/it]\u001b[A\u001b[A"
          ],
          "name": "stderr"
        },
        {
          "output_type": "stream",
          "text": [
            "\n",
            " Epoch: 100 |Training loss: 4.3970\n"
          ],
          "name": "stdout"
        },
        {
          "output_type": "stream",
          "text": [
            "\n",
            "\n",
            "training:   4%|▎         | 71/1969 [5:41:24<155:00:34, 294.01s/it]\u001b[A\u001b[A"
          ],
          "name": "stderr"
        },
        {
          "output_type": "stream",
          "text": [
            "\n",
            " Epoch: 101 |Training loss: 4.3819\n"
          ],
          "name": "stdout"
        },
        {
          "output_type": "stream",
          "text": [
            "\n",
            "\n",
            "training:   4%|▎         | 72/1969 [5:46:15<154:28:46, 293.16s/it]\u001b[A\u001b[A"
          ],
          "name": "stderr"
        },
        {
          "output_type": "stream",
          "text": [
            "\n",
            " Epoch: 102 |Training loss: 4.3671\n"
          ],
          "name": "stdout"
        },
        {
          "output_type": "stream",
          "text": [
            "\n",
            "\n",
            "training:   4%|▎         | 73/1969 [5:51:11<154:47:35, 293.91s/it]\u001b[A\u001b[A"
          ],
          "name": "stderr"
        },
        {
          "output_type": "stream",
          "text": [
            "\n",
            " Epoch: 103 |Training loss: 4.3524\n"
          ],
          "name": "stdout"
        },
        {
          "output_type": "stream",
          "text": [
            "\n",
            "\n",
            "training:   4%|▍         | 74/1969 [5:56:07<155:03:12, 294.56s/it]\u001b[A\u001b[A"
          ],
          "name": "stderr"
        },
        {
          "output_type": "stream",
          "text": [
            "\n",
            " Epoch: 104 |Training loss: 4.3380\n",
            "\n",
            " validation loss: 4.5221\n"
          ],
          "name": "stdout"
        },
        {
          "output_type": "stream",
          "text": [
            "\n",
            "\n",
            "training:   4%|▍         | 75/1969 [6:01:15<157:06:32, 298.62s/it]\u001b[A\u001b[A"
          ],
          "name": "stderr"
        },
        {
          "output_type": "stream",
          "text": [
            "\n",
            " Epoch: 105 |Training loss: 4.3238\n"
          ],
          "name": "stdout"
        },
        {
          "output_type": "stream",
          "text": [
            "\n",
            "\n",
            "training:   4%|▍         | 76/1969 [6:06:10<156:33:09, 297.72s/it]\u001b[A\u001b[A"
          ],
          "name": "stderr"
        },
        {
          "output_type": "stream",
          "text": [
            "\n",
            " Epoch: 106 |Training loss: 4.3099\n"
          ],
          "name": "stdout"
        },
        {
          "output_type": "stream",
          "text": [
            "\n",
            "\n",
            "training:   4%|▍         | 77/1969 [6:11:07<156:18:42, 297.42s/it]\u001b[A\u001b[A"
          ],
          "name": "stderr"
        },
        {
          "output_type": "stream",
          "text": [
            "\n",
            " Epoch: 107 |Training loss: 4.2961\n"
          ],
          "name": "stdout"
        },
        {
          "output_type": "stream",
          "text": [
            "\n",
            "\n",
            "training:   4%|▍         | 78/1969 [6:16:04<156:09:30, 297.29s/it]\u001b[A\u001b[A"
          ],
          "name": "stderr"
        },
        {
          "output_type": "stream",
          "text": [
            "\n",
            " Epoch: 108 |Training loss: 4.2826\n"
          ],
          "name": "stdout"
        },
        {
          "output_type": "stream",
          "text": [
            "\n",
            "\n",
            "training:   4%|▍         | 79/1969 [6:21:02<156:05:35, 297.32s/it]\u001b[A\u001b[A"
          ],
          "name": "stderr"
        },
        {
          "output_type": "stream",
          "text": [
            "\n",
            " Epoch: 109 |Training loss: 4.2693\n",
            "\n",
            " validation loss: 4.4556\n"
          ],
          "name": "stdout"
        },
        {
          "output_type": "stream",
          "text": [
            "\n",
            "\n",
            "training:   4%|▍         | 80/1969 [6:26:11<157:51:27, 300.84s/it]\u001b[A\u001b[A"
          ],
          "name": "stderr"
        },
        {
          "output_type": "stream",
          "text": [
            "\n",
            " Epoch: 110 |Training loss: 4.2561\n"
          ],
          "name": "stdout"
        },
        {
          "output_type": "stream",
          "text": [
            "\n",
            "\n",
            "training:   4%|▍         | 81/1969 [6:31:09<157:18:52, 299.96s/it]\u001b[A\u001b[A"
          ],
          "name": "stderr"
        },
        {
          "output_type": "stream",
          "text": [
            "\n",
            " Epoch: 111 |Training loss: 4.2431\n"
          ],
          "name": "stdout"
        },
        {
          "output_type": "stream",
          "text": [
            "\n",
            "\n",
            "training:   4%|▍         | 82/1969 [6:36:06<156:49:17, 299.18s/it]\u001b[A\u001b[A"
          ],
          "name": "stderr"
        },
        {
          "output_type": "stream",
          "text": [
            "\n",
            " Epoch: 112 |Training loss: 4.2304\n"
          ],
          "name": "stdout"
        },
        {
          "output_type": "stream",
          "text": [
            "\n",
            "\n",
            "training:   4%|▍         | 83/1969 [6:41:01<156:01:28, 297.82s/it]\u001b[A\u001b[A"
          ],
          "name": "stderr"
        },
        {
          "output_type": "stream",
          "text": [
            "\n",
            " Epoch: 113 |Training loss: 4.2178\n"
          ],
          "name": "stdout"
        },
        {
          "output_type": "stream",
          "text": [
            "\n",
            "\n",
            "training:   4%|▍         | 84/1969 [6:45:50<154:34:22, 295.21s/it]\u001b[A\u001b[A"
          ],
          "name": "stderr"
        },
        {
          "output_type": "stream",
          "text": [
            "\n",
            " Epoch: 114 |Training loss: 4.2053\n",
            "\n",
            " validation loss: 4.3954\n"
          ],
          "name": "stdout"
        },
        {
          "output_type": "stream",
          "text": [
            "\n",
            "\n",
            "training:   4%|▍         | 85/1969 [6:50:57<156:28:18, 298.99s/it]\u001b[A\u001b[A"
          ],
          "name": "stderr"
        },
        {
          "output_type": "stream",
          "text": [
            "\n",
            " Epoch: 115 |Training loss: 4.1931\n"
          ],
          "name": "stdout"
        },
        {
          "output_type": "stream",
          "text": [
            "\n",
            "\n",
            "training:   4%|▍         | 86/1969 [6:55:54<155:58:31, 298.20s/it]\u001b[A\u001b[A"
          ],
          "name": "stderr"
        },
        {
          "output_type": "stream",
          "text": [
            "\n",
            " Epoch: 116 |Training loss: 4.1809\n"
          ],
          "name": "stdout"
        },
        {
          "output_type": "stream",
          "text": [
            "\n",
            "\n",
            "training:   4%|▍         | 87/1969 [7:00:51<155:41:13, 297.81s/it]\u001b[A\u001b[A"
          ],
          "name": "stderr"
        },
        {
          "output_type": "stream",
          "text": [
            "\n",
            " Epoch: 117 |Training loss: 4.1689\n"
          ],
          "name": "stdout"
        },
        {
          "output_type": "stream",
          "text": [
            "\n",
            "\n",
            "training:   4%|▍         | 88/1969 [7:05:47<155:26:41, 297.50s/it]\u001b[A\u001b[A"
          ],
          "name": "stderr"
        },
        {
          "output_type": "stream",
          "text": [
            "\n",
            " Epoch: 118 |Training loss: 4.1571\n"
          ],
          "name": "stdout"
        },
        {
          "output_type": "stream",
          "text": [
            "\n",
            "\n",
            "training:   5%|▍         | 89/1969 [7:10:45<155:19:44, 297.44s/it]\u001b[A\u001b[A"
          ],
          "name": "stderr"
        },
        {
          "output_type": "stream",
          "text": [
            "\n",
            " Epoch: 119 |Training loss: 4.1454\n",
            "\n",
            " validation loss: 4.3396\n"
          ],
          "name": "stdout"
        },
        {
          "output_type": "stream",
          "text": [
            "\n",
            "\n",
            "training:   5%|▍         | 90/1969 [7:15:55<157:18:00, 301.37s/it]\u001b[A\u001b[A"
          ],
          "name": "stderr"
        },
        {
          "output_type": "stream",
          "text": [
            "\n",
            " Epoch: 120 |Training loss: 4.1338\n"
          ],
          "name": "stdout"
        },
        {
          "output_type": "stream",
          "text": [
            "\n",
            "\n",
            "training:   5%|▍         | 91/1969 [7:20:48<155:47:12, 298.63s/it]\u001b[A\u001b[A"
          ],
          "name": "stderr"
        },
        {
          "output_type": "stream",
          "text": [
            "\n",
            " Epoch: 121 |Training loss: 4.1223\n"
          ],
          "name": "stdout"
        },
        {
          "output_type": "stream",
          "text": [
            "\n",
            "\n",
            "training:   5%|▍         | 92/1969 [7:25:38<154:21:51, 296.06s/it]\u001b[A\u001b[A"
          ],
          "name": "stderr"
        },
        {
          "output_type": "stream",
          "text": [
            "\n",
            " Epoch: 122 |Training loss: 4.1109\n"
          ],
          "name": "stdout"
        },
        {
          "output_type": "stream",
          "text": [
            "\n",
            "\n",
            "training:   5%|▍         | 93/1969 [7:30:24<152:43:50, 293.09s/it]\u001b[A\u001b[A"
          ],
          "name": "stderr"
        },
        {
          "output_type": "stream",
          "text": [
            "\n",
            " Epoch: 123 |Training loss: 4.0997\n"
          ],
          "name": "stdout"
        }
      ]
    },
    {
      "cell_type": "markdown",
      "metadata": {
        "id": "GAgrzFyRn3uq"
      },
      "source": [
        "**Music generation**\n",
        "\n",
        "---\n",
        "\n"
      ]
    },
    {
      "cell_type": "code",
      "metadata": {
        "id": "qFbSthkLUwmx"
      },
      "source": [
        "# In case we want to use previously trained weights\n",
        "weights = \"model_best.pth.tar\"\n",
        "checkpoint = torch.load(output_dir+weights)\n",
        "model.load_state_dict(checkpoint['model_state_dict'])\n",
        "optimizer.load_state_dict(checkpoint['optimizer_state_dict'])\n",
        "epoch = checkpoint['epoch']\n",
        "loss = checkpoint['loss']\n"
      ],
      "execution_count": null,
      "outputs": []
    },
    {
      "cell_type": "code",
      "metadata": {
        "id": "6WtYEXpyoPPK"
      },
      "source": [
        "# Generate network input again\n",
        "network_input = []\n",
        "network_output = []\n",
        "for i in range(0, len(notes) - sequence_length, 1):\n",
        "  network_input.append([note_to_int[char] for char in notes[i:i + sequence_length]])\n",
        "n_patterns = len(network_input)\n",
        "network_input = np.reshape(network_input, (n_patterns, sequence_length))\n"
      ],
      "execution_count": null,
      "outputs": []
    },
    {
      "cell_type": "markdown",
      "metadata": {
        "id": "MuUGi5rVgbJQ"
      },
      "source": [
        "The workflow now is:\n",
        "\n",
        "\n",
        "1.   Pick a **seed sequence** randomly from your list of inputs (*pattern* variable)\n",
        "2.   Pass it as input for your model to generate a new element (note or chord)\n",
        "3.   Add the new element to your final song and to your *pattern* list\n",
        "4.   Remove the first item from *pattern*\n",
        "5.   Go to step 2\n"
      ]
    },
    {
      "cell_type": "code",
      "metadata": {
        "id": "UUTEiS0NXtkl"
      },
      "source": [
        "\"\"\" Generate notes from the neural network based on a sequence of notes \"\"\"\n",
        "# pick a random sequence from the input as a starting point for the prediction\n",
        "start = np.random.randint(0, len(network_input)-1)\n",
        "int_to_note = dict((number, note) for number, note in enumerate(pitchnames))\n",
        "pattern = torch.from_numpy(network_input[start]).cuda()\n",
        "\n",
        "prediction_output = model.generate(pattern, 500)\n"
      ],
      "execution_count": null,
      "outputs": []
    },
    {
      "cell_type": "code",
      "metadata": {
        "id": "UUlgtok68w-w",
        "colab": {
          "base_uri": "https://localhost:8080/"
        },
        "outputId": "8e5af720-53ab-4292-94da-8ef9be8aabfc"
      },
      "source": [
        "result_sample=[]\n",
        "\n",
        "for i in range(500):\n",
        "  print(i)\n",
        "  result = int_to_note[prediction_output[i].item()]\n",
        "  print('\\r', 'Predicted ', i, \" \",result, end='')\n",
        "  result_sample.append(result)\n",
        "\n",
        "prediction_output=result_sample"
      ],
      "execution_count": null,
      "outputs": [
        {
          "output_type": "stream",
          "text": [
            "0\n",
            "\r Predicted  0   61\n",
            "\r Predicted  1   4.62\n",
            "\r Predicted  2   6.113\n",
            "\r Predicted  3   64\n",
            "\r Predicted  4   6.115\n",
            "\r Predicted  5   A46\n",
            "\r Predicted  6   4.67\n",
            "\r Predicted  7   F48\n",
            "\r Predicted  8   69\n",
            "\r Predicted  9   610\n",
            "\r Predicted  10   5.7.9.011\n",
            "\r Predicted  11   2.3.7.1012\n",
            "\r Predicted  12   D513\n",
            "\r Predicted  13   C514\n",
            "\r Predicted  14   5.7.9.015\n",
            "\r Predicted  15   C516\n",
            "\r Predicted  16   4.617\n",
            "\r Predicted  17   B-118\n",
            "\r Predicted  18   10.2.519\n",
            "\r Predicted  19   C520\n",
            "\r Predicted  20   6.1121\n",
            "\r Predicted  21   622\n",
            "\r Predicted  22   F223\n",
            "\r Predicted  23   6.1124\n",
            "\r Predicted  24   4.625\n",
            "\r Predicted  25   B-226\n",
            "\r Predicted  26   B-127\n",
            "\r Predicted  27   A428\n",
            "\r Predicted  28   629\n",
            "\r Predicted  29   C530\n",
            "\r Predicted  30   E-331\n",
            "\r Predicted  31   F232\n",
            "\r Predicted  32   4.633\n",
            "\r Predicted  33   534\n",
            "\r Predicted  34   5.1035\n",
            "\r Predicted  35   4.636\n",
            "\r Predicted  36   637\n",
            "\r Predicted  37   4.638\n",
            "\r Predicted  38   4.639\n",
            "\r Predicted  39   F240\n",
            "\r Predicted  40   4.641\n",
            "\r Predicted  41   B-242\n",
            "\r Predicted  42   643\n",
            "\r Predicted  43   5.7.9.044\n",
            "\r Predicted  44   6.1145\n",
            "\r Predicted  45   646\n",
            "\r Predicted  46   B-247\n",
            "\r Predicted  47   A448\n",
            "\r Predicted  48   649\n",
            "\r Predicted  49   D550\n",
            "\r Predicted  50   C551\n",
            "\r Predicted  51   652\n",
            "\r Predicted  52   6.1153\n",
            "\r Predicted  53   B-254\n",
            "\r Predicted  54   655\n",
            "\r Predicted  55   10.2.556\n",
            "\r Predicted  56   4.657\n",
            "\r Predicted  57   5.9.058\n",
            "\r Predicted  58   5.9.059\n",
            "\r Predicted  59   4.660\n",
            "\r Predicted  60   E261\n",
            "\r Predicted  61   F262\n",
            "\r Predicted  62   4.663\n",
            "\r Predicted  63   F264\n",
            "\r Predicted  64   6.1165\n",
            "\r Predicted  65   5.9.066\n",
            "\r Predicted  66   4.667\n",
            "\r Predicted  67   10.2.568\n",
            "\r Predicted  68   A469\n",
            "\r Predicted  69   B-270\n",
            "\r Predicted  70   6.1171\n",
            "\r Predicted  71   B-272\n",
            "\r Predicted  72   6.1073\n",
            "\r Predicted  73   A474\n",
            "\r Predicted  74   F275\n",
            "\r Predicted  75   D576\n",
            "\r Predicted  76   A477\n",
            "\r Predicted  77   6.1178\n",
            "\r Predicted  78   679\n",
            "\r Predicted  79   6.1180\n",
            "\r Predicted  80   6.1081\n",
            "\r Predicted  81   682\n",
            "\r Predicted  82   5.7.9.083\n",
            "\r Predicted  83   6.1184\n",
            "\r Predicted  84   6.1085\n",
            "\r Predicted  85   B-286\n",
            "\r Predicted  86   687\n",
            "\r Predicted  87   6.1188\n",
            "\r Predicted  88   F489\n",
            "\r Predicted  89   B-290\n",
            "\r Predicted  90   D591\n",
            "\r Predicted  91   D592\n",
            "\r Predicted  92   4.693\n",
            "\r Predicted  93   B-294\n",
            "\r Predicted  94   4.695\n",
            "\r Predicted  95   10.2.596\n",
            "\r Predicted  96   B-297\n",
            "\r Predicted  97   C598\n",
            "\r Predicted  98   E-399\n",
            "\r Predicted  99   5.10100\n",
            "\r Predicted  100   4.6101\n",
            "\r Predicted  101   4.6102\n",
            "\r Predicted  102   A4103\n",
            "\r Predicted  103   5.9.0104\n",
            "\r Predicted  104   6.11105\n",
            "\r Predicted  105   F2106\n",
            "\r Predicted  106   C5107\n",
            "\r Predicted  107   6108\n",
            "\r Predicted  108   6.11109\n",
            "\r Predicted  109   5.9.0110\n",
            "\r Predicted  110   5.9.0111\n",
            "\r Predicted  111   A4112\n",
            "\r Predicted  112   6113\n",
            "\r Predicted  113   6.11114\n",
            "\r Predicted  114   A4115\n",
            "\r Predicted  115   A4116\n",
            "\r Predicted  116   6117\n",
            "\r Predicted  117   6.11118\n",
            "\r Predicted  118   5.9.0119\n",
            "\r Predicted  119   4.6120\n",
            "\r Predicted  120   E-5121\n",
            "\r Predicted  121   F2122\n",
            "\r Predicted  122   6.11123\n",
            "\r Predicted  123   4.6124\n",
            "\r Predicted  124   5125\n",
            "\r Predicted  125   4.6126\n",
            "\r Predicted  126   5127\n",
            "\r Predicted  127   4.6128\n",
            "\r Predicted  128   10.2.5129\n",
            "\r Predicted  129   A4130\n",
            "\r Predicted  130   6.10131\n",
            "\r Predicted  131   6.11132\n",
            "\r Predicted  132   6.11133\n",
            "\r Predicted  133   D5134\n",
            "\r Predicted  134   4.6135\n",
            "\r Predicted  135   E-2136\n",
            "\r Predicted  136   3.7.10137\n",
            "\r Predicted  137   7.10.2138\n",
            "\r Predicted  138   6139\n",
            "\r Predicted  139   6.11140\n",
            "\r Predicted  140   C5141\n",
            "\r Predicted  141   5.9.0142\n",
            "\r Predicted  142   6143\n",
            "\r Predicted  143   D5144\n",
            "\r Predicted  144   A4145\n",
            "\r Predicted  145   4.6146\n",
            "\r Predicted  146   E-5147\n",
            "\r Predicted  147   6148\n",
            "\r Predicted  148   6149\n",
            "\r Predicted  149   D5150\n",
            "\r Predicted  150   6.11151\n",
            "\r Predicted  151   A4152\n",
            "\r Predicted  152   E-2153\n",
            "\r Predicted  153   F4154\n",
            "\r Predicted  154   E-5155\n",
            "\r Predicted  155   6.11156\n",
            "\r Predicted  156   F2157\n",
            "\r Predicted  157   6158\n",
            "\r Predicted  158   F4159\n",
            "\r Predicted  159   F2160\n",
            "\r Predicted  160   6.11161\n",
            "\r Predicted  161   F2162\n",
            "\r Predicted  162   4.6163\n",
            "\r Predicted  163   5.9.0164\n",
            "\r Predicted  164   6.11165\n",
            "\r Predicted  165   E-2166\n",
            "\r Predicted  166   6.11167\n",
            "\r Predicted  167   2.5168\n",
            "\r Predicted  168   6.11169\n",
            "\r Predicted  169   6170\n",
            "\r Predicted  170   5.7.9.0171\n",
            "\r Predicted  171   F2172\n",
            "\r Predicted  172   6173\n",
            "\r Predicted  173   F4174\n",
            "\r Predicted  174   6.11175\n",
            "\r Predicted  175   E-2176\n",
            "\r Predicted  176   F2177\n",
            "\r Predicted  177   6178\n",
            "\r Predicted  178   7.10.2179\n",
            "\r Predicted  179   F2180\n",
            "\r Predicted  180   B-1181\n",
            "\r Predicted  181   C4182\n",
            "\r Predicted  182   6183\n",
            "\r Predicted  183   2.3.7.10184\n",
            "\r Predicted  184   0.5185\n",
            "\r Predicted  185   5.7.9.0186\n",
            "\r Predicted  186   6.11187\n",
            "\r Predicted  187   5.9.0188\n",
            "\r Predicted  188   C5189\n",
            "\r Predicted  189   E-3190\n",
            "\r Predicted  190   5.10191\n",
            "\r Predicted  191   6.11192\n",
            "\r Predicted  192   F2193\n",
            "\r Predicted  193   6194\n",
            "\r Predicted  194   10.11.3.6195\n",
            "\r Predicted  195   5196\n",
            "\r Predicted  196   5.10197\n",
            "\r Predicted  197   4.6198\n",
            "\r Predicted  198   4.6199\n",
            "\r Predicted  199   4.6200\n",
            "\r Predicted  200   5.9.0201\n",
            "\r Predicted  201   6.11202\n",
            "\r Predicted  202   D5203\n",
            "\r Predicted  203   D5204\n",
            "\r Predicted  204   6.11205\n",
            "\r Predicted  205   6206\n",
            "\r Predicted  206   D5207\n",
            "\r Predicted  207   D5208\n",
            "\r Predicted  208   6.11209\n",
            "\r Predicted  209   6210\n",
            "\r Predicted  210   F4211\n",
            "\r Predicted  211   6212\n",
            "\r Predicted  212   10.11.3.6213\n",
            "\r Predicted  213   6.11214\n",
            "\r Predicted  214   C5215\n",
            "\r Predicted  215   3.6.10216\n",
            "\r Predicted  216   6.11217\n",
            "\r Predicted  217   6218\n",
            "\r Predicted  218   4.6219\n",
            "\r Predicted  219   E2220\n",
            "\r Predicted  220   6.11221\n",
            "\r Predicted  221   6222\n",
            "\r Predicted  222   10.2.5223\n",
            "\r Predicted  223   6224\n",
            "\r Predicted  224   4.6225\n",
            "\r Predicted  225   B-1226\n",
            "\r Predicted  226   6.11227\n",
            "\r Predicted  227   5.9.0228\n",
            "\r Predicted  228   4.6229\n",
            "\r Predicted  229   4.6230\n",
            "\r Predicted  230   9.2231\n",
            "\r Predicted  231   10.2.5232\n",
            "\r Predicted  232   F2233\n",
            "\r Predicted  233   6.11234\n",
            "\r Predicted  234   6.10235\n",
            "\r Predicted  235   6.11236\n",
            "\r Predicted  236   A4237\n",
            "\r Predicted  237   B-2238\n",
            "\r Predicted  238   6239\n",
            "\r Predicted  239   6240\n",
            "\r Predicted  240   6.10.11241\n",
            "\r Predicted  241   6.11242\n",
            "\r Predicted  242   B-2243\n",
            "\r Predicted  243   C5244\n",
            "\r Predicted  244   6245\n",
            "\r Predicted  245   7.10.2246\n",
            "\r Predicted  246   D5247\n",
            "\r Predicted  247   4.6248\n",
            "\r Predicted  248   4.6249\n",
            "\r Predicted  249   6250\n",
            "\r Predicted  250   6.11251\n",
            "\r Predicted  251   F2252\n",
            "\r Predicted  252   4.6253\n",
            "\r Predicted  253   9.2254\n",
            "\r Predicted  254   D5255\n",
            "\r Predicted  255   4.6256\n",
            "\r Predicted  256   B-2257\n",
            "\r Predicted  257   6258\n",
            "\r Predicted  258   6.10.11259\n",
            "\r Predicted  259   4.6260\n",
            "\r Predicted  260   4.6261\n",
            "\r Predicted  261   4.6262\n",
            "\r Predicted  262   6263\n",
            "\r Predicted  263   6.11264\n",
            "\r Predicted  264   F2265\n",
            "\r Predicted  265   A4266\n",
            "\r Predicted  266   6267\n",
            "\r Predicted  267   D5268\n",
            "\r Predicted  268   6.11269\n",
            "\r Predicted  269   D5270\n",
            "\r Predicted  270   6271\n",
            "\r Predicted  271   6.11272\n",
            "\r Predicted  272   B-2273\n",
            "\r Predicted  273   6274\n",
            "\r Predicted  274   6.11275\n",
            "\r Predicted  275   C5276\n",
            "\r Predicted  276   B-2277\n",
            "\r Predicted  277   A4278\n",
            "\r Predicted  278   D5279\n",
            "\r Predicted  279   0.5280\n",
            "\r Predicted  280   E-2281\n",
            "\r Predicted  281   4.6282\n",
            "\r Predicted  282   4.6283\n",
            "\r Predicted  283   E-5284\n",
            "\r Predicted  284   6.11285\n",
            "\r Predicted  285   F2286\n",
            "\r Predicted  286   5.9.0287\n",
            "\r Predicted  287   4.6288\n",
            "\r Predicted  288   E-2289\n",
            "\r Predicted  289   10.2.5290\n",
            "\r Predicted  290   6291\n",
            "\r Predicted  291   F2292\n",
            "\r Predicted  292   6293\n",
            "\r Predicted  293   E-2294\n",
            "\r Predicted  294   3.7.10295\n",
            "\r Predicted  295   6296\n",
            "\r Predicted  296   6.11297\n",
            "\r Predicted  297   4.6298\n",
            "\r Predicted  298   B-1299\n",
            "\r Predicted  299   6.11300\n",
            "\r Predicted  300   5.9.0301\n",
            "\r Predicted  301   4.6302\n",
            "\r Predicted  302   5.9.0303\n",
            "\r Predicted  303   A4304\n",
            "\r Predicted  304   C5305\n",
            "\r Predicted  305   6306\n",
            "\r Predicted  306   F4307\n",
            "\r Predicted  307   E-3308\n",
            "\r Predicted  308   4.6309\n",
            "\r Predicted  309   5.9.0310\n",
            "\r Predicted  310   6.11311\n",
            "\r Predicted  311   6.10312\n",
            "\r Predicted  312   D5313\n",
            "\r Predicted  313   A4314\n",
            "\r Predicted  314   4.6315\n",
            "\r Predicted  315   E2316\n",
            "\r Predicted  316   10.2.5317\n",
            "\r Predicted  317   F2318\n",
            "\r Predicted  318   C5319\n",
            "\r Predicted  319   5.7.9.0320\n",
            "\r Predicted  320   6.11321\n",
            "\r Predicted  321   4.6322\n",
            "\r Predicted  322   A4323\n",
            "\r Predicted  323   10.2.5324\n",
            "\r Predicted  324   5.9.0325\n",
            "\r Predicted  325   6326\n",
            "\r Predicted  326   4.6327\n",
            "\r Predicted  327   5.9.0328\n",
            "\r Predicted  328   6.11329\n",
            "\r Predicted  329   5330\n",
            "\r Predicted  330   6.10331\n",
            "\r Predicted  331   F2332\n",
            "\r Predicted  332   6.11333\n",
            "\r Predicted  333   6334\n",
            "\r Predicted  334   6.11335\n",
            " Predicted  335   6336\n",
            " Predicted  336   E-2337\n",
            " Predicted  337   6.11338\n",
            " Predicted  338   B-2339\n",
            " Predicted  339   6340\n",
            " Predicted  340   5.7.9.0341\n",
            " Predicted  341   4.6342\n",
            " Predicted  342   4.6343\n",
            " Predicted  343   B-1344\n",
            " Predicted  344   6.11345\n",
            " Predicted  345   B-2346\n",
            " Predicted  346   6347\n",
            " Predicted  347   F4348\n",
            " Predicted  348   6.11349\n",
            " Predicted  349   B-2350\n",
            " Predicted  350   D5351\n",
            " Predicted  351   A4352\n",
            " Predicted  352   C5353\n",
            " Predicted  353   F2354\n",
            " Predicted  354   6.11355\n",
            " Predicted  355   6.11356\n",
            " Predicted  356   D5357\n",
            " Predicted  357   4.6358\n",
            " Predicted  358   5.9.0359\n",
            " Predicted  359   4.6360\n",
            " Predicted  360   E-5361\n",
            " Predicted  361   4.6362\n",
            " Predicted  362   6.11363\n",
            " Predicted  363   B-2364\n",
            " Predicted  364   6365\n",
            " Predicted  365   6366\n",
            " Predicted  366   E-2367\n",
            " Predicted  367   B-1368\n",
            " Predicted  368   6.11369\n",
            " Predicted  369   6370\n",
            " Predicted  370   5.7.9.0371\n",
            " Predicted  371   C5372\n",
            " Predicted  372   4.6373\n",
            " Predicted  373   F2374\n",
            " Predicted  374   6375\n",
            " Predicted  375   6.11376\n",
            " Predicted  376   5377\n",
            " Predicted  377   6.11378\n",
            " Predicted  378   6379\n",
            " Predicted  379   2.3.7.10380\n",
            " Predicted  380   6.11381\n",
            " Predicted  381   4.6382\n",
            " Predicted  382   B-2383\n",
            " Predicted  383   1.6384\n",
            " Predicted  384   B-2385\n",
            " Predicted  385   6.11386\n",
            " Predicted  386   F2387\n",
            " Predicted  387   4.6388\n",
            " Predicted  388   6389\n",
            " Predicted  389   6.11390\n",
            " Predicted  390   6391\n",
            " Predicted  391   E-2392\n",
            " Predicted  392   6393\n",
            " Predicted  393   4.6394\n",
            " Predicted  394   4.6395\n",
            " Predicted  395   A4396\n",
            " Predicted  396   5.10397\n",
            " Predicted  397   6.11398\n",
            " Predicted  398   A4399\n",
            " Predicted  399   6400\n",
            " Predicted  400   F2401\n",
            " Predicted  401   4.6402\n",
            " Predicted  402   5.9.0403\n",
            " Predicted  403   4.6404\n",
            " Predicted  404   5.9.0405\n",
            " Predicted  405   C5406\n",
            " Predicted  406   2.3.7.9407\n",
            " Predicted  407   6.11408\n",
            " Predicted  408   B-2409\n",
            " Predicted  409   D5410\n",
            " Predicted  410   A4411\n",
            " Predicted  411   4.6412\n",
            " Predicted  412   4.6413\n",
            " Predicted  413   5.9.0414\n",
            " Predicted  414   6.11415\n",
            " Predicted  415   3.9416\n",
            " Predicted  416   6.11417\n",
            " Predicted  417   F2418\n",
            " Predicted  418   F2419\n",
            " Predicted  419   4.6420\n",
            " Predicted  420   F2421\n",
            " Predicted  421   C5422\n",
            " Predicted  422   5.9.0423\n",
            " Predicted  423   6424\n",
            " Predicted  424   D5425\n",
            " Predicted  425   6.11426\n",
            " Predicted  426   4.6427\n",
            " Predicted  427   6.11428\n",
            " Predicted  428   6.10429\n",
            " Predicted  429   6.10.11430\n",
            " Predicted  430   6431\n",
            " Predicted  431   10.11.3.6432\n",
            " Predicted  432   B-2433\n",
            " Predicted  433   6434\n",
            " Predicted  434   D5435\n",
            " Predicted  435   6.11436\n",
            " Predicted  436   4.6437\n",
            " Predicted  437   4.6438\n",
            " Predicted  438   A4439\n",
            " Predicted  439   F3440\n",
            " Predicted  440   A4441\n",
            " Predicted  441   F2442\n",
            " Predicted  442   6443\n",
            " Predicted  443   5.7.9.0444\n",
            " Predicted  444   B-1445\n",
            " Predicted  445   6.11446\n",
            " Predicted  446   F2447\n",
            " Predicted  447   6.11448\n",
            " Predicted  448   B-2449\n",
            " Predicted  449   6450\n",
            " Predicted  450   6.11451\n",
            " Predicted  451   6452\n",
            " Predicted  452   6453\n",
            " Predicted  453   6.11454\n",
            " Predicted  454   6.10455\n",
            " Predicted  455   6.11456\n",
            " Predicted  456   6457\n",
            " Predicted  457   D5458\n",
            " Predicted  458   0.5459\n",
            " Predicted  459   5.7.9.0460\n",
            " Predicted  460   6.11461\n",
            " Predicted  461   A4462\n",
            " Predicted  462   5.9.0463\n",
            " Predicted  463   6.11464\n",
            " Predicted  464   B-2465\n",
            " Predicted  465   B-1466\n",
            " Predicted  466   4.6467\n",
            " Predicted  467   E-5468\n",
            " Predicted  468   F4469\n",
            " Predicted  469   6.11470\n",
            " Predicted  470   4.6471\n",
            " Predicted  471   F2472\n",
            " Predicted  472   C5473\n",
            " Predicted  473   E-3474\n",
            " Predicted  474   6475\n",
            " Predicted  475   4.6476\n",
            " Predicted  476   F2477\n",
            " Predicted  477   6.11478\n",
            " Predicted  478   5479\n",
            " Predicted  479   6.10480\n",
            " Predicted  480   6481\n",
            " Predicted  481   D5482\n",
            " Predicted  482   5.10483\n",
            " Predicted  483   6.11484\n",
            " Predicted  484   F2485\n",
            " Predicted  485   A4486\n",
            " Predicted  486   B-2487\n",
            " Predicted  487   6488\n",
            " Predicted  488   10.11.3.6489\n",
            " Predicted  489   6.11490\n",
            " Predicted  490   10.2.5491\n",
            " Predicted  491   6492\n",
            " Predicted  492   6.11493\n",
            " Predicted  493   6494\n",
            " Predicted  494   F2495\n",
            " Predicted  495   4.6496\n",
            " Predicted  496   B-1497\n",
            " Predicted  497   10.2.5498\n",
            " Predicted  498   B-2499\n",
            " Predicted  499   B-1"
          ],
          "name": "stdout"
        }
      ]
    },
    {
      "cell_type": "markdown",
      "metadata": {
        "id": "_lp5WcPlghe5"
      },
      "source": [
        "The last step is creating a MIDI file from the predictions.\n",
        "\n",
        "**music21** will help us again for this task. We should create a **Stream** and add to it the predicted notes and chords.\n",
        "\n",
        "We are adding an offset of 0.5 between elements."
      ]
    },
    {
      "cell_type": "code",
      "metadata": {
        "id": "T7xYCPULXwV-",
        "colab": {
          "base_uri": "https://localhost:8080/",
          "height": 35
        },
        "outputId": "61d7878a-ade3-4adc-cff1-d3aa47090bdd"
      },
      "source": [
        "offset = 0\n",
        "output_notes = []\n",
        "# create note and chord objects based on the values generated by the model\n",
        "for pattern in prediction_output:\n",
        "    # pattern is a chord\n",
        "    if ('.' in pattern) or pattern.isdigit():\n",
        "        notes_in_chord = pattern.split('.')\n",
        "        notes = []\n",
        "        for current_note in notes_in_chord:\n",
        "            new_note = note.Note(int(current_note))\n",
        "            new_note.storedInstrument = instrument.Piano()\n",
        "            notes.append(new_note)\n",
        "        new_chord = chord.Chord(notes)\n",
        "        new_chord.offset = offset\n",
        "        output_notes.append(new_chord)\n",
        "    # pattern is a note\n",
        "    else:\n",
        "        new_note = note.Note(pattern)\n",
        "        new_note.offset = offset\n",
        "        new_note.storedInstrument = instrument.Piano()\n",
        "        output_notes.append(new_note)\n",
        "\n",
        "    # increase offset each iteration so that notes do not stack\n",
        "    offset += 0.5\n",
        "\n",
        "midi_stream = stream.Stream(output_notes)\n",
        "midi_stream.write('midi', fp='test_output.mid')"
      ],
      "execution_count": null,
      "outputs": [
        {
          "output_type": "execute_result",
          "data": {
            "application/vnd.google.colaboratory.intrinsic+json": {
              "type": "string"
            },
            "text/plain": [
              "'test_output.mid'"
            ]
          },
          "metadata": {
            "tags": []
          },
          "execution_count": 23
        }
      ]
    }
  ]
}