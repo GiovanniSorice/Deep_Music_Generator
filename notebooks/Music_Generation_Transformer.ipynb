{
  "nbformat": 4,
  "nbformat_minor": 0,
  "metadata": {
    "colab": {
      "name": "Music_Generation_Transformer.ipynb",
      "provenance": [],
      "toc_visible": true,
      "authorship_tag": "ABX9TyMxPPDO4IrHX1OTBGApUVhL",
      "include_colab_link": true
    },
    "kernelspec": {
      "name": "python3",
      "display_name": "Python 3"
    },
    "accelerator": "GPU"
  },
  "cells": [
    {
      "cell_type": "markdown",
      "metadata": {
        "id": "view-in-github",
        "colab_type": "text"
      },
      "source": [
        "<a href=\"https://colab.research.google.com/github/GiovanniSorice/Deep_Music_Generator/blob/main/notebooks/Music_Generation_Transformer.ipynb\" target=\"_parent\"><img src=\"https://colab.research.google.com/assets/colab-badge.svg\" alt=\"Open In Colab\"/></a>"
      ]
    },
    {
      "cell_type": "markdown",
      "metadata": {
        "id": "6gJ3GwlYmvNT"
      },
      "source": [
        "# Transformer Music Generator "
      ]
    },
    {
      "cell_type": "markdown",
      "metadata": {
        "id": "sNwQUwLIm7oW"
      },
      "source": [
        "\n",
        "\n",
        "In this notebook, we use an Transformer to generate some music.\n"
      ]
    },
    {
      "cell_type": "markdown",
      "metadata": {
        "id": "aFVGA5D4azA4"
      },
      "source": [
        "**This notebook was inspired (and part of the code comes from it) by [Music_Generation_LSTM](https://colab.research.google.com/drive/19TQqekOlnOSW36VCL8CPVEQKBBukmaEQ#scrollTo=DDOBVWULXfpz)**\n"
      ]
    },
    {
      "cell_type": "markdown",
      "metadata": {
        "id": "qtmj0efInB_L"
      },
      "source": [
        "\n",
        "\n",
        "**Load dependencies**"
      ]
    },
    {
      "cell_type": "code",
      "metadata": {
        "id": "hCsb9kaJmWHN",
        "colab": {
          "base_uri": "https://localhost:8080/"
        },
        "outputId": "5585e381-fa22-41ac-9476-4f4d979f903e"
      },
      "source": [
        "pip install compressive_transformer_pytorch"
      ],
      "execution_count": 1,
      "outputs": [
        {
          "output_type": "stream",
          "text": [
            "Collecting compressive_transformer_pytorch\n",
            "  Downloading https://files.pythonhosted.org/packages/30/39/b8caf2671abcb8615977c08766aa9f450addd6949f57c7dda87224e844b5/compressive_transformer_pytorch-0.3.20-py3-none-any.whl\n",
            "Requirement already satisfied: torch in /usr/local/lib/python3.6/dist-packages (from compressive_transformer_pytorch) (1.7.0+cu101)\n",
            "Collecting mogrifier\n",
            "  Downloading https://files.pythonhosted.org/packages/77/01/62a55d0f8048e788fce435f2ade6478f443e4e53ed9b89b55ba0fc42c198/mogrifier-0.0.3-py3-none-any.whl\n",
            "Requirement already satisfied: numpy in /usr/local/lib/python3.6/dist-packages (from torch->compressive_transformer_pytorch) (1.18.5)\n",
            "Requirement already satisfied: future in /usr/local/lib/python3.6/dist-packages (from torch->compressive_transformer_pytorch) (0.16.0)\n",
            "Requirement already satisfied: typing-extensions in /usr/local/lib/python3.6/dist-packages (from torch->compressive_transformer_pytorch) (3.7.4.3)\n",
            "Requirement already satisfied: dataclasses in /usr/local/lib/python3.6/dist-packages (from torch->compressive_transformer_pytorch) (0.8)\n",
            "Installing collected packages: mogrifier, compressive-transformer-pytorch\n",
            "Successfully installed compressive-transformer-pytorch-0.3.20 mogrifier-0.0.3\n"
          ],
          "name": "stdout"
        }
      ]
    },
    {
      "cell_type": "code",
      "metadata": {
        "id": "1mi6KoBmX44A"
      },
      "source": [
        "import torch\n",
        "import tqdm\n",
        "import numpy as np\n",
        "import pandas as pd\n",
        "import tensorflow as tf\n",
        "import os\n",
        "from compressive_transformer_pytorch import CompressiveTransformer\n",
        "from compressive_transformer_pytorch import AutoregressiveWrapper\n",
        "from torchsummary import summary\n",
        "from torch.utils.data import DataLoader, Dataset\n",
        "from tensorflow.keras import utils\n",
        "from sklearn.metrics import roc_auc_score \n",
        "import matplotlib.pyplot as plt\n",
        "import glob\n",
        "import pickle\n",
        "from music21 import converter, instrument, stream, note, chord\n",
        "import math\n",
        "import shutil"
      ],
      "execution_count": 2,
      "outputs": []
    },
    {
      "cell_type": "code",
      "metadata": {
        "id": "JwF2wx4oRZXW"
      },
      "source": [
        "# Set to false if you are not running\n",
        "# this notebook in Google Colaboratory\n",
        "run_on_colab = True"
      ],
      "execution_count": 3,
      "outputs": []
    },
    {
      "cell_type": "markdown",
      "metadata": {
        "id": "w2w9a2MknGmP"
      },
      "source": [
        "**Set hyperparameters**"
      ]
    },
    {
      "cell_type": "code",
      "metadata": {
        "id": "NnnLeO8Emsx3"
      },
      "source": [
        "# output directory name:\n",
        "output_dir = '/content/drive/My Drive/ISPR_project/Transformer/'\n",
        "current_path ='/content/drive/My Drive/ISPR_project/'\n",
        "# training:\n",
        "epochs = 2000\n",
        "batch_size = 64\n",
        "learning_rate=1e-2\n",
        "# vector-space embedding: \n",
        "n_dim = 64 \n",
        "sequence_length = 32\n",
        "\n",
        "\n",
        "VALIDATE_EVERY  = 5\n",
        "\n",
        "GENERATE_EVERY  = 500\n",
        "\n"
      ],
      "execution_count": 30,
      "outputs": []
    },
    {
      "cell_type": "markdown",
      "metadata": {
        "id": "iUFOx5yB39xx"
      },
      "source": [
        "**Save model function**"
      ]
    },
    {
      "cell_type": "code",
      "metadata": {
        "id": "NQHDRGj838-0"
      },
      "source": [
        "def save_checkpoint(state, is_best, filename='checkpoint.pth.tar'):\n",
        "    torch.save(state, output_dir+filename)\n",
        "    if is_best:\n",
        "        shutil.copyfile(output_dir+filename, output_dir+'model_best.pth.tar')"
      ],
      "execution_count": 6,
      "outputs": []
    },
    {
      "cell_type": "markdown",
      "metadata": {
        "id": "HvBjPl0cbI0_"
      },
      "source": [
        "**Google drive configuration (only Colab)**"
      ]
    },
    {
      "cell_type": "code",
      "metadata": {
        "id": "hKil2p6sM2gZ",
        "colab": {
          "base_uri": "https://localhost:8080/"
        },
        "outputId": "212ffffe-1875-4994-bcf9-252ea5c17fda"
      },
      "source": [
        "if(run_on_colab):\n",
        "  from google.colab import drive\n",
        "  # This will prompt for authorization.\n",
        "  drive.mount('/content/drive')"
      ],
      "execution_count": 7,
      "outputs": [
        {
          "output_type": "stream",
          "text": [
            "Mounted at /content/drive\n"
          ],
          "name": "stdout"
        }
      ]
    },
    {
      "cell_type": "markdown",
      "metadata": {
        "id": "jU3gQinYmutQ"
      },
      "source": [
        "**Load data** \\\\\n",
        "Original MIDI files\n",
        " I have obtained  **MIDI files** from [The Lakh MIDI Dataset v0.1](https://colinraffel.com/projects/lmd/). "
      ]
    },
    {
      "cell_type": "markdown",
      "metadata": {
        "id": "wavgJZNpcR_f"
      },
      "source": [
        "## Processing data\n",
        "\n",
        "Let's process the files, and load them into **music21**"
      ]
    },
    {
      "cell_type": "code",
      "metadata": {
        "id": "vILKBwYIcOvX",
        "colab": {
          "base_uri": "https://localhost:8080/"
        },
        "outputId": "b0bb3d6a-ff71-4d96-bd9e-b08dab545ce8"
      },
      "source": [
        "file = current_path+\"midi_songs/small_dataset/Metal/Metallica/Am I Evil?.mid\"\n",
        "midi = converter.parse(file)\n",
        "notes_to_parse = midi.flat.notes\n",
        "for element in notes_to_parse[:10]:\n",
        "  print(element, element.offset)"
      ],
      "execution_count": 8,
      "outputs": [
        {
          "output_type": "stream",
          "text": [
            "<music21.chord.Chord E2 E3 B3 E4> 0.0\n",
            "<music21.chord.Chord E2 E3 B3 E4> 0.0\n",
            "<music21.note.Note E> 0.0\n",
            "<music21.chord.Chord C2 C#3> 0.0\n",
            "<music21.note.Note G#> 2.0\n",
            "<music21.chord.Chord D3 A3 D4> 3.0\n",
            "<music21.chord.Chord D3 A3 D4> 3.0\n",
            "<music21.note.Note D> 3.0\n",
            "<music21.chord.Chord C#3 C2> 3.0\n",
            "<music21.chord.Chord B3 E3 E4> 3.5\n"
          ],
          "name": "stdout"
        }
      ]
    },
    {
      "cell_type": "markdown",
      "metadata": {
        "id": "vjyrXfKic2kI"
      },
      "source": [
        "I will process all MIDI files obtaining data from each note of chord.\n",
        "\n",
        "- If I process a **note**, I will store in the list a string representing the pitch (the note name) and the octave.\n",
        "\n",
        "- If I process a **chord** (Remember that chords are set of notes that are played at the same time) I will store a different type of string with numbers separated by dots. Each number represents the pitch of a chord note. \n",
        "\n",
        "As you can see, **I are not considering yet time offsets of each element**. In this first version, we won't consider them, so all the notes and chords will have the same duration. Maybe, in the future, I will consider them.\n",
        "\n",
        "I are creating a big list with all the elements of all the compositions."
      ]
    },
    {
      "cell_type": "code",
      "metadata": {
        "id": "iawbQHYVTOFM",
        "colab": {
          "base_uri": "https://localhost:8080/"
        },
        "outputId": "8a7aeedc-5e67-4e7c-c228-8b79e7d0a70f"
      },
      "source": [
        "notes = []\n",
        "for i,file in enumerate(glob.glob(current_path+\"midi_songs/small_dataset/*/*/*.mid\")):\n",
        "  midi = converter.parse(file)\n",
        "  print('Parsing file ', i, \" \",file)\n",
        "  notes_to_parse = None\n",
        "  try: # file has instrument parts\n",
        "    s2 = instrument.partitionByInstrument(midi)\n",
        "    notes_to_parse = s2.recurse() \n",
        "  except: # file has notes in a flat structure\n",
        "    notes_to_parse = midi.flat.notes\n",
        "  for element in notes_to_parse:\n",
        "    if isinstance(element, note.Note):\n",
        "      notes.append(str(element.pitch))\n",
        "    elif isinstance(element, chord.Chord):\n",
        "      notes.append('.'.join(str(n) for n in element.normalOrder))\n",
        "with open('notes', 'wb') as filepath:\n",
        "  pickle.dump(notes, filepath)"
      ],
      "execution_count": 9,
      "outputs": [
        {
          "output_type": "stream",
          "text": [
            "Parsing file  0   /content/drive/My Drive/ISPR_project/midi_songs/small_dataset/Pop_rock/883/Nessun rimpianto.1.mid\n",
            "Parsing file  1   /content/drive/My Drive/ISPR_project/midi_songs/small_dataset/Pop_rock/883/Grazie mille.1.mid\n",
            "Parsing file  2   /content/drive/My Drive/ISPR_project/midi_songs/small_dataset/Pop_rock/883/Andra tutto bene ('58).1.mid\n",
            "Parsing file  3   /content/drive/My Drive/ISPR_project/midi_songs/small_dataset/Pop_rock/883/Andra tutto bene ('58).mid\n",
            "Parsing file  4   /content/drive/My Drive/ISPR_project/midi_songs/small_dataset/Pop_rock/883/Hanno ucciso l'uomo ragno.1.mid\n",
            "Parsing file  5   /content/drive/My Drive/ISPR_project/midi_songs/small_dataset/Pop_rock/883/Hanno ucciso l'uomo ragno.mid\n",
            "Parsing file  6   /content/drive/My Drive/ISPR_project/midi_songs/small_dataset/Pop_rock/test/I'll Be Over You.mid\n",
            "Parsing file  7   /content/drive/My Drive/ISPR_project/midi_songs/small_dataset/Pop_rock/test/Non ti passa piu.mid\n",
            "Parsing file  8   /content/drive/My Drive/ISPR_project/midi_songs/small_dataset/Pop_rock/test/Se tornerai.1.mid\n",
            "Parsing file  9   /content/drive/My Drive/ISPR_project/midi_songs/small_dataset/Pop_rock/Toto/Hold The Line.1.mid\n",
            "Parsing file  10   /content/drive/My Drive/ISPR_project/midi_songs/small_dataset/Pop_rock/Toto/Rosanna.4.mid\n",
            "Parsing file  11   /content/drive/My Drive/ISPR_project/midi_songs/small_dataset/Pop_rock/Toto/Africa.1.mid\n",
            "Parsing file  12   /content/drive/My Drive/ISPR_project/midi_songs/small_dataset/Pop_rock/Toto/Hold The Line.2.mid\n",
            "Parsing file  13   /content/drive/My Drive/ISPR_project/midi_songs/small_dataset/Rock/test/Smile.mid\n",
            "Parsing file  14   /content/drive/My Drive/ISPR_project/midi_songs/small_dataset/Rock/test/Another One Bites The Dust.2.mid\n",
            "Parsing file  15   /content/drive/My Drive/ISPR_project/midi_songs/small_dataset/Rock/test/Bicycle Race.1.mid\n",
            "Parsing file  16   /content/drive/My Drive/ISPR_project/midi_songs/small_dataset/Rock/Pearl Jam/Animal.mid\n",
            "Parsing file  17   /content/drive/My Drive/ISPR_project/midi_songs/small_dataset/Rock/Pearl Jam/Yellow Ledbetter.mid\n",
            "Parsing file  18   /content/drive/My Drive/ISPR_project/midi_songs/small_dataset/Rock/Pearl Jam/Lukin.mid\n",
            "Parsing file  19   /content/drive/My Drive/ISPR_project/midi_songs/small_dataset/Rock/Queen/Crazy Little Thing Called Love.mid\n",
            "Parsing file  20   /content/drive/My Drive/ISPR_project/midi_songs/small_dataset/Rock/Queen/All God's People.1.mid\n",
            "Parsing file  21   /content/drive/My Drive/ISPR_project/midi_songs/small_dataset/Rock/Queen/A Kind of Magic.mid\n",
            "Parsing file  22   /content/drive/My Drive/ISPR_project/midi_songs/small_dataset/Rock/Queen/A Kind of Magic.2.mid\n",
            "Parsing file  23   /content/drive/My Drive/ISPR_project/midi_songs/small_dataset/Rock/Queen/A Kind of Magic.3.mid\n",
            "Parsing file  24   /content/drive/My Drive/ISPR_project/midi_songs/small_dataset/Rock/Queen/Another One Bites The Dust.5.mid\n",
            "Parsing file  25   /content/drive/My Drive/ISPR_project/midi_songs/small_dataset/Rock/Queen/Bohemian Rhapsody.mid\n",
            "Parsing file  26   /content/drive/My Drive/ISPR_project/midi_songs/small_dataset/Metal/Metallica/Creeping Death.2.mid\n",
            "Parsing file  27   /content/drive/My Drive/ISPR_project/midi_songs/small_dataset/Metal/Metallica/No Remorse.mid\n",
            "Parsing file  28   /content/drive/My Drive/ISPR_project/midi_songs/small_dataset/Metal/Metallica/Damage, Inc..1.mid\n",
            "Parsing file  29   /content/drive/My Drive/ISPR_project/midi_songs/small_dataset/Metal/Metallica/Orion.2.mid\n",
            "Parsing file  30   /content/drive/My Drive/ISPR_project/midi_songs/small_dataset/Metal/Metallica/Fade to Black.4.mid\n",
            "Parsing file  31   /content/drive/My Drive/ISPR_project/midi_songs/small_dataset/Metal/Metallica/One.1.mid\n",
            "Parsing file  32   /content/drive/My Drive/ISPR_project/midi_songs/small_dataset/Metal/Metallica/Orion.1.mid\n",
            "Parsing file  33   /content/drive/My Drive/ISPR_project/midi_songs/small_dataset/Metal/Metallica/Nothing Else Matters.2.mid\n",
            "Parsing file  34   /content/drive/My Drive/ISPR_project/midi_songs/small_dataset/Metal/Metallica/Cure.mid\n",
            "Parsing file  35   /content/drive/My Drive/ISPR_project/midi_songs/small_dataset/Metal/Metallica/Am I Evil?.mid\n",
            "Parsing file  36   /content/drive/My Drive/ISPR_project/midi_songs/small_dataset/Metal/test/Hit the Lights.mid\n",
            "Parsing file  37   /content/drive/My Drive/ISPR_project/midi_songs/small_dataset/Metal/test/I Disappear.mid\n",
            "Parsing file  38   /content/drive/My Drive/ISPR_project/midi_songs/small_dataset/Metal/test/Fight Fire With Fire.mid\n"
          ],
          "name": "stdout"
        }
      ]
    },
    {
      "cell_type": "code",
      "metadata": {
        "id": "Nj7MnrxIHLwh",
        "colab": {
          "base_uri": "https://localhost:8080/"
        },
        "outputId": "fff857c4-11df-4cc7-d2cf-5944279366a0"
      },
      "source": [
        "notes_validation = []\n",
        "for i,file in enumerate(glob.glob(current_path+\"midi_songs/test/*.mid\")):\n",
        "  midi = converter.parse(file)\n",
        "  print( 'Parsing file ', i, \" \",file)\n",
        "  notes_to_parse = None\n",
        "  try: # file has instrument parts\n",
        "    s2 = instrument.partitionByInstrument(midi)\n",
        "    notes_to_parse = s2.recurse() \n",
        "  except: # file has notes in a flat structure\n",
        "    notes_to_parse = midi.flat.notes\n",
        "  for element in notes_to_parse:\n",
        "    if isinstance(element, note.Note):\n",
        "      notes_validation.append(str(element.pitch))\n",
        "    elif isinstance(element, chord.Chord):\n",
        "      notes_validation.append('.'.join(str(n) for n in element.normalOrder))\n",
        "with open('notes', 'wb') as filepath:\n",
        "  pickle.dump(notes_validation, filepath)"
      ],
      "execution_count": 10,
      "outputs": [
        {
          "output_type": "stream",
          "text": [
            "Parsing file  0   /content/drive/My Drive/ISPR_project/midi_songs/test/I Disappear.mid\n",
            "Parsing file  1   /content/drive/My Drive/ISPR_project/midi_songs/test/Hit the Lights.mid\n",
            "Parsing file  2   /content/drive/My Drive/ISPR_project/midi_songs/test/Fight Fire With Fire.mid\n",
            "Parsing file  3   /content/drive/My Drive/ISPR_project/midi_songs/test/Smile.mid\n",
            "Parsing file  4   /content/drive/My Drive/ISPR_project/midi_songs/test/Another One Bites The Dust.2.mid\n",
            "Parsing file  5   /content/drive/My Drive/ISPR_project/midi_songs/test/Bicycle Race.1.mid\n",
            "Parsing file  6   /content/drive/My Drive/ISPR_project/midi_songs/test/Se tornerai.1.mid\n",
            "Parsing file  7   /content/drive/My Drive/ISPR_project/midi_songs/test/Non ti passa piu.mid\n",
            "Parsing file  8   /content/drive/My Drive/ISPR_project/midi_songs/test/I'll Be Over You.mid\n"
          ],
          "name": "stdout"
        }
      ]
    },
    {
      "cell_type": "markdown",
      "metadata": {
        "id": "XuHePM_3dMXM"
      },
      "source": [
        "I obtain the number of different notes in our dataset, because this will be the **number of possible output classes**  of our model."
      ]
    },
    {
      "cell_type": "code",
      "metadata": {
        "id": "pEiySfEnTzyz",
        "colab": {
          "base_uri": "https://localhost:8080/"
        },
        "outputId": "10c2890f-c5fe-42c2-eff3-7b641e974697"
      },
      "source": [
        "# Count different possible outputs\n",
        "n_vocab = (len(set(notes)))\n",
        "n_vocab"
      ],
      "execution_count": 11,
      "outputs": [
        {
          "output_type": "execute_result",
          "data": {
            "text/plain": [
              "476"
            ]
          },
          "metadata": {
            "tags": []
          },
          "execution_count": 11
        }
      ]
    },
    {
      "cell_type": "code",
      "metadata": {
        "id": "khLas76ZHecL",
        "colab": {
          "base_uri": "https://localhost:8080/"
        },
        "outputId": "c0c71ed3-f58d-4d0c-fd0a-8f211a0632da"
      },
      "source": [
        "# Count different possible outputs valifation\n",
        "print(len(set(notes_validation)))"
      ],
      "execution_count": 12,
      "outputs": [
        {
          "output_type": "stream",
          "text": [
            "287\n"
          ],
          "name": "stdout"
        }
      ]
    },
    {
      "cell_type": "markdown",
      "metadata": {
        "id": "v-mABhgUnTcV"
      },
      "source": [
        "**Preprocess data** \\\\\n",
        "Now, there is some **data processing** that I have to do:\n",
        "\n",
        "- I will map each pitch or chord to an integer\n",
        "- I will create pairs of input sequences and its corresponding output note\n",
        "\n",
        "I can try different **sequence_length** to obtain different results. In this first version, I will use a sequence_length of 100.\n",
        "\n",
        "The network will made its prediction of the next note (or chord), based on the previous *sequence_length* notes (or chords). \n"
      ]
    },
    {
      "cell_type": "code",
      "metadata": {
        "id": "q4PpfIFRnWIA"
      },
      "source": [
        "# get all pitch names\n",
        "pitchnames = sorted(set(item for item in notes))\n",
        "# create a dictionary to map pitches to integers\n",
        "note_to_int = dict((note, number) for number, note in enumerate(pitchnames))\n",
        "network_input = []\n",
        "network_output = []\n",
        "# create input sequences and the corresponding outputs\n",
        "for i in range(0, len(notes) - sequence_length, 1):\n",
        "  # Map pitches of sequence_in to integers\n",
        "  network_input.append([note_to_int[char] for char in notes[i:i + sequence_length]])\n",
        "n_patterns = len(network_input)\n",
        "# reshape the input into a format compatible with LSTM layers\n",
        "network_input = np.reshape(network_input, (n_patterns, sequence_length))\n",
        "# normalize input\n",
        "#network_input = network_input / float(n_vocab)\n"
      ],
      "execution_count": 13,
      "outputs": []
    },
    {
      "cell_type": "code",
      "metadata": {
        "id": "8QIDFrdeIIz1"
      },
      "source": [
        "# create a dictionary to map pitches to integers\n",
        "note_to_int_valifation = dict((notes_validation, number) for number, notes_validation in enumerate(pitchnames))\n",
        "network_input_validation = []\n",
        "network_output_validation = []\n",
        "# create input sequences and the corresponding outputs\n",
        "for i in range(0, len(notes_validation) - sequence_length, 1):\n",
        "  # Map pitches of sequence_in to integers\n",
        "  network_input_validation.append([note_to_int_valifation[char] for char in notes_validation[i:i + sequence_length]])\n",
        "n_patterns = len(network_input_validation)\n",
        "# reshape the input into a format compatible with LSTM layers\n",
        "network_input_validation = np.reshape(network_input_validation, (n_patterns, sequence_length))\n",
        "# normalize input\n",
        "#network_input = network_input / float(n_vocab)\n"
      ],
      "execution_count": 14,
      "outputs": []
    },
    {
      "cell_type": "markdown",
      "metadata": {
        "id": "GVRPauXUdq5Y"
      },
      "source": [
        "Let's see the new metwork_input size"
      ]
    },
    {
      "cell_type": "code",
      "metadata": {
        "id": "K8eQQMbxhUkN",
        "colab": {
          "base_uri": "https://localhost:8080/"
        },
        "outputId": "bf285b61-3dc7-40bb-fedf-8a14d0c766ab"
      },
      "source": [
        "network_input.shape"
      ],
      "execution_count": 15,
      "outputs": [
        {
          "output_type": "execute_result",
          "data": {
            "text/plain": [
              "(135132, 32)"
            ]
          },
          "metadata": {
            "tags": []
          },
          "execution_count": 15
        }
      ]
    },
    {
      "cell_type": "markdown",
      "metadata": {
        "id": "6--Wc8UXnVgY"
      },
      "source": [
        "**Design neural network architecture** "
      ]
    },
    {
      "cell_type": "code",
      "metadata": {
        "id": "t4ztPAQsnb7T"
      },
      "source": [
        "def create_network(sequence_length, n_vocab):\n",
        "    \"\"\" create the structure of the neural network \"\"\"\n",
        "    model = CompressiveTransformer(\n",
        "    num_tokens = n_vocab,\n",
        "    dim = sequence_length,\n",
        "    depth = 6,\n",
        "    seq_len = sequence_length,\n",
        "    mem_len = sequence_length,\n",
        "    cmem_len = 256,\n",
        "    cmem_ratio = 4,\n",
        "    memory_layers = [5,6]\n",
        "    )\n",
        "\n",
        "    model = AutoregressiveWrapper(model)\n",
        "    model.cuda()\n",
        "    return model"
      ],
      "execution_count": 16,
      "outputs": []
    },
    {
      "cell_type": "code",
      "metadata": {
        "id": "1nsNVMocnhNC",
        "colab": {
          "base_uri": "https://localhost:8080/"
        },
        "outputId": "a7b953eb-94a4-42aa-86e8-ee3955b9f14c"
      },
      "source": [
        "model = create_network(sequence_length,n_vocab)\n",
        "\n",
        "print(model)\n"
      ],
      "execution_count": 17,
      "outputs": [
        {
          "output_type": "stream",
          "text": [
            "AutoregressiveWrapper(\n",
            "  (net): CompressiveTransformer(\n",
            "    (token_emb): Embedding(476, 32)\n",
            "    (to_model_dim): Identity()\n",
            "    (to_logits): Sequential(\n",
            "      (0): Identity()\n",
            "      (1): Linear(in_features=32, out_features=476, bias=True)\n",
            "    )\n",
            "    (attn_layers): ModuleList(\n",
            "      (0): GRUGating(\n",
            "        (fn): PreNorm(\n",
            "          (norm): LayerNorm((32,), eps=1e-05, elementwise_affine=True)\n",
            "          (fn): SelfAttention(\n",
            "            (compress_mem_fn): ConvCompress(\n",
            "              (conv): Conv1d(32, 32, kernel_size=(4,), stride=(4,))\n",
            "            )\n",
            "            (to_q): Linear(in_features=32, out_features=32, bias=False)\n",
            "            (to_kv): Linear(in_features=32, out_features=64, bias=False)\n",
            "            (to_out): Linear(in_features=32, out_features=32, bias=True)\n",
            "            (attn_dropout): Dropout(p=0.0, inplace=False)\n",
            "            (dropout): Dropout(p=0.0, inplace=False)\n",
            "            (reconstruction_attn_dropout): Dropout(p=0.0, inplace=False)\n",
            "          )\n",
            "        )\n",
            "        (gru): GRUCell(32, 32)\n",
            "      )\n",
            "      (1): GRUGating(\n",
            "        (fn): PreNorm(\n",
            "          (norm): LayerNorm((32,), eps=1e-05, elementwise_affine=True)\n",
            "          (fn): SelfAttention(\n",
            "            (compress_mem_fn): ConvCompress(\n",
            "              (conv): Conv1d(32, 32, kernel_size=(4,), stride=(4,))\n",
            "            )\n",
            "            (to_q): Linear(in_features=32, out_features=32, bias=False)\n",
            "            (to_kv): Linear(in_features=32, out_features=64, bias=False)\n",
            "            (to_out): Linear(in_features=32, out_features=32, bias=True)\n",
            "            (attn_dropout): Dropout(p=0.0, inplace=False)\n",
            "            (dropout): Dropout(p=0.0, inplace=False)\n",
            "            (reconstruction_attn_dropout): Dropout(p=0.0, inplace=False)\n",
            "          )\n",
            "        )\n",
            "        (gru): GRUCell(32, 32)\n",
            "      )\n",
            "      (2): GRUGating(\n",
            "        (fn): PreNorm(\n",
            "          (norm): LayerNorm((32,), eps=1e-05, elementwise_affine=True)\n",
            "          (fn): SelfAttention(\n",
            "            (compress_mem_fn): ConvCompress(\n",
            "              (conv): Conv1d(32, 32, kernel_size=(4,), stride=(4,))\n",
            "            )\n",
            "            (to_q): Linear(in_features=32, out_features=32, bias=False)\n",
            "            (to_kv): Linear(in_features=32, out_features=64, bias=False)\n",
            "            (to_out): Linear(in_features=32, out_features=32, bias=True)\n",
            "            (attn_dropout): Dropout(p=0.0, inplace=False)\n",
            "            (dropout): Dropout(p=0.0, inplace=False)\n",
            "            (reconstruction_attn_dropout): Dropout(p=0.0, inplace=False)\n",
            "          )\n",
            "        )\n",
            "        (gru): GRUCell(32, 32)\n",
            "      )\n",
            "      (3): GRUGating(\n",
            "        (fn): PreNorm(\n",
            "          (norm): LayerNorm((32,), eps=1e-05, elementwise_affine=True)\n",
            "          (fn): SelfAttention(\n",
            "            (compress_mem_fn): ConvCompress(\n",
            "              (conv): Conv1d(32, 32, kernel_size=(4,), stride=(4,))\n",
            "            )\n",
            "            (to_q): Linear(in_features=32, out_features=32, bias=False)\n",
            "            (to_kv): Linear(in_features=32, out_features=64, bias=False)\n",
            "            (to_out): Linear(in_features=32, out_features=32, bias=True)\n",
            "            (attn_dropout): Dropout(p=0.0, inplace=False)\n",
            "            (dropout): Dropout(p=0.0, inplace=False)\n",
            "            (reconstruction_attn_dropout): Dropout(p=0.0, inplace=False)\n",
            "          )\n",
            "        )\n",
            "        (gru): GRUCell(32, 32)\n",
            "      )\n",
            "      (4): GRUGating(\n",
            "        (fn): PreNorm(\n",
            "          (norm): LayerNorm((32,), eps=1e-05, elementwise_affine=True)\n",
            "          (fn): SelfAttention(\n",
            "            (compress_mem_fn): ConvCompress(\n",
            "              (conv): Conv1d(32, 32, kernel_size=(4,), stride=(4,))\n",
            "            )\n",
            "            (to_q): Linear(in_features=32, out_features=32, bias=False)\n",
            "            (to_kv): Linear(in_features=32, out_features=64, bias=False)\n",
            "            (to_out): Linear(in_features=32, out_features=32, bias=True)\n",
            "            (attn_dropout): Dropout(p=0.0, inplace=False)\n",
            "            (dropout): Dropout(p=0.0, inplace=False)\n",
            "            (reconstruction_attn_dropout): Dropout(p=0.0, inplace=False)\n",
            "          )\n",
            "        )\n",
            "        (gru): GRUCell(32, 32)\n",
            "      )\n",
            "      (5): GRUGating(\n",
            "        (fn): PreNorm(\n",
            "          (norm): LayerNorm((32,), eps=1e-05, elementwise_affine=True)\n",
            "          (fn): SelfAttention(\n",
            "            (compress_mem_fn): ConvCompress(\n",
            "              (conv): Conv1d(32, 32, kernel_size=(4,), stride=(4,))\n",
            "            )\n",
            "            (to_q): Linear(in_features=32, out_features=32, bias=False)\n",
            "            (to_kv): Linear(in_features=32, out_features=64, bias=False)\n",
            "            (to_out): Linear(in_features=32, out_features=32, bias=True)\n",
            "            (attn_dropout): Dropout(p=0.0, inplace=False)\n",
            "            (dropout): Dropout(p=0.0, inplace=False)\n",
            "            (reconstruction_attn_dropout): Dropout(p=0.0, inplace=False)\n",
            "          )\n",
            "        )\n",
            "        (gru): GRUCell(32, 32)\n",
            "      )\n",
            "    )\n",
            "    (ff_layers): ModuleList(\n",
            "      (0): GRUGating(\n",
            "        (fn): PreNorm(\n",
            "          (norm): LayerNorm((32,), eps=1e-05, elementwise_affine=True)\n",
            "          (fn): FeedForward(\n",
            "            (w1): Linear(in_features=32, out_features=128, bias=True)\n",
            "            (act): GELU()\n",
            "            (dropout): Dropout(p=0.0, inplace=False)\n",
            "            (w2): Linear(in_features=128, out_features=32, bias=True)\n",
            "          )\n",
            "        )\n",
            "        (gru): GRUCell(32, 32)\n",
            "      )\n",
            "      (1): GRUGating(\n",
            "        (fn): PreNorm(\n",
            "          (norm): LayerNorm((32,), eps=1e-05, elementwise_affine=True)\n",
            "          (fn): FeedForward(\n",
            "            (w1): Linear(in_features=32, out_features=128, bias=True)\n",
            "            (act): GELU()\n",
            "            (dropout): Dropout(p=0.0, inplace=False)\n",
            "            (w2): Linear(in_features=128, out_features=32, bias=True)\n",
            "          )\n",
            "        )\n",
            "        (gru): GRUCell(32, 32)\n",
            "      )\n",
            "      (2): GRUGating(\n",
            "        (fn): PreNorm(\n",
            "          (norm): LayerNorm((32,), eps=1e-05, elementwise_affine=True)\n",
            "          (fn): FeedForward(\n",
            "            (w1): Linear(in_features=32, out_features=128, bias=True)\n",
            "            (act): GELU()\n",
            "            (dropout): Dropout(p=0.0, inplace=False)\n",
            "            (w2): Linear(in_features=128, out_features=32, bias=True)\n",
            "          )\n",
            "        )\n",
            "        (gru): GRUCell(32, 32)\n",
            "      )\n",
            "      (3): GRUGating(\n",
            "        (fn): PreNorm(\n",
            "          (norm): LayerNorm((32,), eps=1e-05, elementwise_affine=True)\n",
            "          (fn): FeedForward(\n",
            "            (w1): Linear(in_features=32, out_features=128, bias=True)\n",
            "            (act): GELU()\n",
            "            (dropout): Dropout(p=0.0, inplace=False)\n",
            "            (w2): Linear(in_features=128, out_features=32, bias=True)\n",
            "          )\n",
            "        )\n",
            "        (gru): GRUCell(32, 32)\n",
            "      )\n",
            "      (4): GRUGating(\n",
            "        (fn): PreNorm(\n",
            "          (norm): LayerNorm((32,), eps=1e-05, elementwise_affine=True)\n",
            "          (fn): FeedForward(\n",
            "            (w1): Linear(in_features=32, out_features=128, bias=True)\n",
            "            (act): GELU()\n",
            "            (dropout): Dropout(p=0.0, inplace=False)\n",
            "            (w2): Linear(in_features=128, out_features=32, bias=True)\n",
            "          )\n",
            "        )\n",
            "        (gru): GRUCell(32, 32)\n",
            "      )\n",
            "      (5): GRUGating(\n",
            "        (fn): PreNorm(\n",
            "          (norm): LayerNorm((32,), eps=1e-05, elementwise_affine=True)\n",
            "          (fn): FeedForward(\n",
            "            (w1): Linear(in_features=32, out_features=128, bias=True)\n",
            "            (act): GELU()\n",
            "            (dropout): Dropout(p=0.0, inplace=False)\n",
            "            (w2): Linear(in_features=128, out_features=32, bias=True)\n",
            "          )\n",
            "        )\n",
            "        (gru): GRUCell(32, 32)\n",
            "      )\n",
            "    )\n",
            "  )\n",
            ")\n"
          ],
          "name": "stdout"
        }
      ]
    },
    {
      "cell_type": "code",
      "metadata": {
        "id": "dRKI1q5WjwcL"
      },
      "source": [
        "def cycle(loader):\n",
        "    while True:\n",
        "        for data in loader:\n",
        "          yield data\n",
        "\n",
        "\n",
        "data_train = torch.from_numpy(network_input).cuda()\n",
        "train_loader = torch.utils.data.DataLoader(data_train, batch_size=32) \n",
        "cycle_train_loader  = cycle(DataLoader(data_train, batch_size = data_train.shape[0]))\n",
        "num_batches=math.ceil(data_train.shape[0]/batch_size) # Total number of batches"
      ],
      "execution_count": 18,
      "outputs": []
    },
    {
      "cell_type": "code",
      "metadata": {
        "id": "TFYgRHLRIy3C"
      },
      "source": [
        "#Validation\n",
        "data_validation = torch.from_numpy(network_input_validation).cuda()\n",
        "validation_loader = torch.utils.data.DataLoader(data_validation, batch_size=32) \n",
        "cycle_validation_loader  = cycle(DataLoader(data_validation, batch_size = data_validation.shape[0]))\n",
        "num_batches_val=math.ceil(data_validation.shape[0]/batch_size) # Total number of batches"
      ],
      "execution_count": 19,
      "outputs": []
    },
    {
      "cell_type": "code",
      "metadata": {
        "id": "E60il158kxfq"
      },
      "source": [
        "# optimizer\n",
        "\n",
        "optimizer = torch.optim.Adam(model.parameters(), lr=learning_rate)"
      ],
      "execution_count": 31,
      "outputs": []
    },
    {
      "cell_type": "markdown",
      "metadata": {
        "id": "GbO-XA3Dfrd2"
      },
      "source": [
        "In case we want to use previously trained weights, to continue the training in the point we left it, we should load them into the model.\n",
        "\n",
        "This is very useful in Google Colaboratory, that usually kills the virtual machine that is executing the Jupyter notework after a certime amount of time. If this happens to you, you should have to look for the last weights file in your configured Drive account and use it to train the network.\n"
      ]
    },
    {
      "cell_type": "code",
      "metadata": {
        "id": "QjfQL_Ck_92a"
      },
      "source": [
        "# In case we want to use previously trained weights\n",
        "weights = \"model_best.pth.tar\"\n",
        "checkpoint = torch.load(\"/content/drive/MyDrive/ISPR_project/Transformer/model_32_best.pth.tar\")\n",
        "model.load_state_dict(checkpoint['model_state_dict'])\n",
        "optimizer.load_state_dict(checkpoint['optimizer_state_dict'])\n",
        "epoch = checkpoint['epoch']\n",
        "loss = checkpoint['loss']\n"
      ],
      "execution_count": 26,
      "outputs": []
    },
    {
      "cell_type": "code",
      "metadata": {
        "id": "UqX3PsrJkyNN",
        "colab": {
          "base_uri": "https://localhost:8080/",
          "height": 1000
        },
        "outputId": "519093b5-a874-490b-a7ee-bad44a944ea0"
      },
      "source": [
        "# training\n",
        "\n",
        "for i in tqdm.tqdm(range(epochs), mininterval=20., desc='training'):\n",
        "    model.train()\n",
        "    tot_loss = 0.0\n",
        "    is_best=0\n",
        "    best_loss_value=n_vocab\n",
        "    avg_loss_val=0\n",
        "    for mlm_loss, aux_loss, is_last in model(next(cycle_train_loader), max_batch_size = batch_size, return_loss = True):\n",
        "        loss = mlm_loss + aux_loss\n",
        "\n",
        "        loss.backward()\n",
        "\n",
        "        tot_loss+=loss;\n",
        "\n",
        "        if is_last:\n",
        "            torch.nn.utils.clip_grad_norm_(model.parameters(), 0.5)\n",
        "            optimizer.step()\n",
        "            optimizer.zero_grad()\n",
        "    \n",
        "    if i % VALIDATE_EVERY == 0 or i==epochs-1:\n",
        "      model.eval()\n",
        "      with torch.no_grad():\n",
        "          for loss_val, aux_loss_val, is_last_val in model(next(cycle_validation_loader), max_batch_size = batch_size, return_loss = True):\n",
        "            avg_loss_val+=loss_val/num_batches_val;\n",
        "\n",
        "            if is_last_val:\n",
        "              print(f'validation loss: {avg_loss_val.item():.4f}')\n",
        "\n",
        "\n",
        "    avg_loss=tot_loss/num_batches\n",
        "\n",
        "    if i%5==0 or i==epochs-1:\n",
        "      if best_loss_value>avg_loss:\n",
        "        best_loss_value=avg_loss;\n",
        "        is_best=1\n",
        "\n",
        "      save_checkpoint({\n",
        "      'epoch': i,\n",
        "      'model_state_dict': model.state_dict(),\n",
        "      'optimizer_state_dict' : optimizer.state_dict(),\n",
        "      'loss':avg_loss.item(),\n",
        "     }, is_best, 'Tran_32_Checkpoint'+str(i)+'_'+\"{:.4f}\".format(avg_loss.item())+'.pth.tar')\n",
        "      is_best=0\n",
        "    print(f'/n Epoch: {i} |Training loss: {avg_loss.item():.4f}')\n",
        "print('Training complete.')\n",
        "\n",
        "\n",
        "\n",
        "\n"
      ],
      "execution_count": 32,
      "outputs": [
        {
          "output_type": "stream",
          "text": [
            "\n",
            "training:   0%|          | 0/2000 [00:00<?, ?it/s]\u001b[A"
          ],
          "name": "stderr"
        },
        {
          "output_type": "stream",
          "text": [
            "validation loss: 6.8448\n"
          ],
          "name": "stdout"
        },
        {
          "output_type": "stream",
          "text": [
            "\n",
            "training:   0%|          | 1/2000 [00:54<30:19:57, 54.63s/it]\u001b[A"
          ],
          "name": "stderr"
        },
        {
          "output_type": "stream",
          "text": [
            "/n Epoch: 0 |Training loss: 3.9707\n"
          ],
          "name": "stdout"
        },
        {
          "output_type": "stream",
          "text": [
            "\n",
            "training:   0%|          | 2/2000 [01:44<29:29:57, 53.15s/it]\u001b[A"
          ],
          "name": "stderr"
        },
        {
          "output_type": "stream",
          "text": [
            "/n Epoch: 1 |Training loss: 6.9679\n"
          ],
          "name": "stdout"
        },
        {
          "output_type": "stream",
          "text": [
            "\n",
            "training:   0%|          | 3/2000 [02:33<28:51:02, 52.01s/it]\u001b[A"
          ],
          "name": "stderr"
        },
        {
          "output_type": "stream",
          "text": [
            "/n Epoch: 2 |Training loss: 5.0047\n"
          ],
          "name": "stdout"
        },
        {
          "output_type": "stream",
          "text": [
            "\n",
            "training:   0%|          | 4/2000 [03:22<28:14:10, 50.93s/it]\u001b[A"
          ],
          "name": "stderr"
        },
        {
          "output_type": "stream",
          "text": [
            "/n Epoch: 3 |Training loss: 4.8742\n"
          ],
          "name": "stdout"
        },
        {
          "output_type": "stream",
          "text": [
            "\n",
            "training:   0%|          | 5/2000 [04:09<27:42:55, 50.01s/it]\u001b[A"
          ],
          "name": "stderr"
        },
        {
          "output_type": "stream",
          "text": [
            "/n Epoch: 4 |Training loss: 4.7228\n",
            "validation loss: 4.7899\n"
          ],
          "name": "stdout"
        },
        {
          "output_type": "stream",
          "text": [
            "\n",
            "training:   0%|          | 6/2000 [05:01<27:55:19, 50.41s/it]\u001b[A"
          ],
          "name": "stderr"
        },
        {
          "output_type": "stream",
          "text": [
            "/n Epoch: 5 |Training loss: 4.6481\n"
          ],
          "name": "stdout"
        },
        {
          "output_type": "stream",
          "text": [
            "\n",
            "training:   0%|          | 7/2000 [05:49<27:32:44, 49.76s/it]\u001b[A"
          ],
          "name": "stderr"
        },
        {
          "output_type": "stream",
          "text": [
            "/n Epoch: 6 |Training loss: 4.6078\n"
          ],
          "name": "stdout"
        },
        {
          "output_type": "stream",
          "text": [
            "\n",
            "training:   0%|          | 8/2000 [06:37<27:10:50, 49.12s/it]\u001b[A"
          ],
          "name": "stderr"
        },
        {
          "output_type": "stream",
          "text": [
            "/n Epoch: 7 |Training loss: 4.5901\n"
          ],
          "name": "stdout"
        },
        {
          "output_type": "stream",
          "text": [
            "\n",
            "training:   0%|          | 9/2000 [07:24<26:56:40, 48.72s/it]\u001b[A"
          ],
          "name": "stderr"
        },
        {
          "output_type": "stream",
          "text": [
            "/n Epoch: 8 |Training loss: 4.5773\n"
          ],
          "name": "stdout"
        },
        {
          "output_type": "stream",
          "text": [
            "\n",
            "training:   0%|          | 10/2000 [08:12<26:48:20, 48.49s/it]\u001b[A"
          ],
          "name": "stderr"
        },
        {
          "output_type": "stream",
          "text": [
            "/n Epoch: 9 |Training loss: 4.5798\n",
            "validation loss: 4.7807\n"
          ],
          "name": "stdout"
        },
        {
          "output_type": "stream",
          "text": [
            "\n",
            "training:   1%|          | 11/2000 [09:04<27:16:14, 49.36s/it]\u001b[A"
          ],
          "name": "stderr"
        },
        {
          "output_type": "stream",
          "text": [
            "/n Epoch: 10 |Training loss: 4.5794\n"
          ],
          "name": "stdout"
        },
        {
          "output_type": "stream",
          "text": [
            "\n",
            "training:   1%|          | 12/2000 [09:52<27:00:07, 48.90s/it]\u001b[A"
          ],
          "name": "stderr"
        },
        {
          "output_type": "stream",
          "text": [
            "/n Epoch: 11 |Training loss: 4.5764\n"
          ],
          "name": "stdout"
        },
        {
          "output_type": "stream",
          "text": [
            "\n",
            "training:   1%|          | 13/2000 [10:40<26:50:23, 48.63s/it]\u001b[A"
          ],
          "name": "stderr"
        },
        {
          "output_type": "stream",
          "text": [
            "/n Epoch: 12 |Training loss: 4.5707\n"
          ],
          "name": "stdout"
        },
        {
          "output_type": "stream",
          "text": [
            "\n",
            "training:   1%|          | 14/2000 [11:27<26:37:40, 48.27s/it]\u001b[A"
          ],
          "name": "stderr"
        },
        {
          "output_type": "stream",
          "text": [
            "/n Epoch: 13 |Training loss: 4.5667\n"
          ],
          "name": "stdout"
        },
        {
          "output_type": "stream",
          "text": [
            "\n",
            "training:   1%|          | 15/2000 [12:15<26:30:54, 48.09s/it]\u001b[A"
          ],
          "name": "stderr"
        },
        {
          "output_type": "stream",
          "text": [
            "/n Epoch: 14 |Training loss: 4.5702\n",
            "validation loss: 4.7716\n"
          ],
          "name": "stdout"
        },
        {
          "output_type": "stream",
          "text": [
            "\n",
            "training:   1%|          | 16/2000 [13:06<27:01:36, 49.04s/it]\u001b[A"
          ],
          "name": "stderr"
        },
        {
          "output_type": "stream",
          "text": [
            "/n Epoch: 15 |Training loss: 4.5669\n"
          ],
          "name": "stdout"
        },
        {
          "output_type": "stream",
          "text": [
            "\n",
            "training:   1%|          | 17/2000 [13:53<26:43:08, 48.51s/it]\u001b[A"
          ],
          "name": "stderr"
        },
        {
          "output_type": "stream",
          "text": [
            "/n Epoch: 16 |Training loss: 4.5713\n"
          ],
          "name": "stdout"
        },
        {
          "output_type": "stream",
          "text": [
            "\n",
            "training:   1%|          | 18/2000 [14:40<26:28:46, 48.10s/it]\u001b[A"
          ],
          "name": "stderr"
        },
        {
          "output_type": "stream",
          "text": [
            "/n Epoch: 17 |Training loss: 4.5663\n"
          ],
          "name": "stdout"
        },
        {
          "output_type": "stream",
          "text": [
            "\n",
            "training:   1%|          | 19/2000 [15:27<26:17:26, 47.78s/it]\u001b[A"
          ],
          "name": "stderr"
        },
        {
          "output_type": "stream",
          "text": [
            "/n Epoch: 18 |Training loss: 4.5621\n"
          ],
          "name": "stdout"
        },
        {
          "output_type": "stream",
          "text": [
            "\n",
            "training:   1%|          | 20/2000 [16:15<26:12:10, 47.64s/it]\u001b[A"
          ],
          "name": "stderr"
        },
        {
          "output_type": "stream",
          "text": [
            "/n Epoch: 19 |Training loss: 4.5537\n",
            "validation loss: 4.7212\n"
          ],
          "name": "stdout"
        },
        {
          "output_type": "stream",
          "text": [
            "\n",
            "training:   1%|          | 21/2000 [17:05<26:42:07, 48.57s/it]\u001b[A"
          ],
          "name": "stderr"
        },
        {
          "output_type": "stream",
          "text": [
            "/n Epoch: 20 |Training loss: 4.5564\n"
          ],
          "name": "stdout"
        },
        {
          "output_type": "stream",
          "text": [
            "\n",
            "training:   1%|          | 22/2000 [17:53<26:32:57, 48.32s/it]\u001b[A"
          ],
          "name": "stderr"
        },
        {
          "output_type": "stream",
          "text": [
            "/n Epoch: 21 |Training loss: 4.5478\n"
          ],
          "name": "stdout"
        },
        {
          "output_type": "stream",
          "text": [
            "\n",
            "training:   1%|          | 23/2000 [18:42<26:35:18, 48.42s/it]\u001b[A"
          ],
          "name": "stderr"
        },
        {
          "output_type": "stream",
          "text": [
            "/n Epoch: 22 |Training loss: 4.5423\n"
          ],
          "name": "stdout"
        },
        {
          "output_type": "stream",
          "text": [
            "\n",
            "training:   1%|          | 24/2000 [19:33<26:57:21, 49.11s/it]\u001b[A"
          ],
          "name": "stderr"
        },
        {
          "output_type": "stream",
          "text": [
            "/n Epoch: 23 |Training loss: 4.5257\n"
          ],
          "name": "stdout"
        },
        {
          "output_type": "stream",
          "text": [
            "\n",
            "training:   1%|▏         | 25/2000 [20:23<27:06:01, 49.40s/it]\u001b[A"
          ],
          "name": "stderr"
        },
        {
          "output_type": "stream",
          "text": [
            "/n Epoch: 24 |Training loss: 4.5178\n",
            "validation loss: 4.7008\n"
          ],
          "name": "stdout"
        },
        {
          "output_type": "stream",
          "text": [
            "\n",
            "training:   1%|▏         | 26/2000 [21:16<27:48:49, 50.72s/it]\u001b[A"
          ],
          "name": "stderr"
        },
        {
          "output_type": "stream",
          "text": [
            "/n Epoch: 25 |Training loss: 4.5041\n"
          ],
          "name": "stdout"
        },
        {
          "output_type": "stream",
          "text": [
            "\n",
            "training:   1%|▏         | 27/2000 [22:06<27:40:33, 50.50s/it]\u001b[A"
          ],
          "name": "stderr"
        },
        {
          "output_type": "stream",
          "text": [
            "/n Epoch: 26 |Training loss: 4.4939\n"
          ],
          "name": "stdout"
        },
        {
          "output_type": "stream",
          "text": [
            "\n",
            "training:   1%|▏         | 28/2000 [22:58<27:49:53, 50.81s/it]\u001b[A"
          ],
          "name": "stderr"
        },
        {
          "output_type": "stream",
          "text": [
            "/n Epoch: 27 |Training loss: 4.4761\n"
          ],
          "name": "stdout"
        },
        {
          "output_type": "stream",
          "text": [
            "\n",
            "training:   1%|▏         | 29/2000 [23:50<28:02:19, 51.21s/it]\u001b[A"
          ],
          "name": "stderr"
        },
        {
          "output_type": "stream",
          "text": [
            "/n Epoch: 28 |Training loss: 4.4555\n"
          ],
          "name": "stdout"
        },
        {
          "output_type": "stream",
          "text": [
            "\n",
            "training:   2%|▏         | 30/2000 [24:43<28:13:38, 51.58s/it]\u001b[A"
          ],
          "name": "stderr"
        },
        {
          "output_type": "stream",
          "text": [
            "/n Epoch: 29 |Training loss: 4.4404\n",
            "validation loss: 4.6361\n"
          ],
          "name": "stdout"
        },
        {
          "output_type": "stream",
          "text": [
            "\n",
            "training:   2%|▏         | 31/2000 [25:39<29:04:45, 53.17s/it]\u001b[A"
          ],
          "name": "stderr"
        },
        {
          "output_type": "stream",
          "text": [
            "/n Epoch: 30 |Training loss: 4.4416\n"
          ],
          "name": "stdout"
        },
        {
          "output_type": "stream",
          "text": [
            "\n",
            "training:   2%|▏         | 32/2000 [26:32<28:58:02, 52.99s/it]\u001b[A"
          ],
          "name": "stderr"
        },
        {
          "output_type": "stream",
          "text": [
            "/n Epoch: 31 |Training loss: 4.4034\n"
          ],
          "name": "stdout"
        },
        {
          "output_type": "stream",
          "text": [
            "\n",
            "training:   2%|▏         | 33/2000 [27:25<28:52:45, 52.85s/it]\u001b[A"
          ],
          "name": "stderr"
        },
        {
          "output_type": "stream",
          "text": [
            "/n Epoch: 32 |Training loss: 4.3865\n"
          ],
          "name": "stdout"
        },
        {
          "output_type": "stream",
          "text": [
            "\n",
            "training:   2%|▏         | 34/2000 [28:17<28:51:28, 52.84s/it]\u001b[A"
          ],
          "name": "stderr"
        },
        {
          "output_type": "stream",
          "text": [
            "/n Epoch: 33 |Training loss: 4.3660\n"
          ],
          "name": "stdout"
        },
        {
          "output_type": "stream",
          "text": [
            "\n",
            "training:   2%|▏         | 35/2000 [29:10<28:48:32, 52.78s/it]\u001b[A"
          ],
          "name": "stderr"
        },
        {
          "output_type": "stream",
          "text": [
            "/n Epoch: 34 |Training loss: 4.3477\n",
            "validation loss: 4.5376\n"
          ],
          "name": "stdout"
        },
        {
          "output_type": "stream",
          "text": [
            "\n",
            "training:   2%|▏         | 36/2000 [30:07<29:26:51, 53.98s/it]\u001b[A"
          ],
          "name": "stderr"
        },
        {
          "output_type": "stream",
          "text": [
            "/n Epoch: 35 |Training loss: 4.3748\n"
          ],
          "name": "stdout"
        },
        {
          "output_type": "stream",
          "text": [
            "\n",
            "training:   2%|▏         | 37/2000 [31:00<29:18:03, 53.74s/it]\u001b[A"
          ],
          "name": "stderr"
        },
        {
          "output_type": "stream",
          "text": [
            "/n Epoch: 36 |Training loss: 4.3242\n"
          ],
          "name": "stdout"
        },
        {
          "output_type": "stream",
          "text": [
            "\n",
            "training:   2%|▏         | 38/2000 [31:53<29:07:54, 53.45s/it]\u001b[A"
          ],
          "name": "stderr"
        },
        {
          "output_type": "stream",
          "text": [
            "/n Epoch: 37 |Training loss: 4.3173\n"
          ],
          "name": "stdout"
        },
        {
          "output_type": "stream",
          "text": [
            "\n",
            "training:   2%|▏         | 39/2000 [32:46<29:05:14, 53.40s/it]\u001b[A"
          ],
          "name": "stderr"
        },
        {
          "output_type": "stream",
          "text": [
            "/n Epoch: 38 |Training loss: 4.3008\n"
          ],
          "name": "stdout"
        },
        {
          "output_type": "stream",
          "text": [
            "\n",
            "training:   2%|▏         | 40/2000 [33:39<29:03:10, 53.36s/it]\u001b[A"
          ],
          "name": "stderr"
        },
        {
          "output_type": "stream",
          "text": [
            "/n Epoch: 39 |Training loss: 4.2841\n",
            "validation loss: 4.4566\n"
          ],
          "name": "stdout"
        },
        {
          "output_type": "stream",
          "text": [
            "\n",
            "training:   2%|▏         | 41/2000 [34:36<29:39:57, 54.52s/it]\u001b[A"
          ],
          "name": "stderr"
        },
        {
          "output_type": "stream",
          "text": [
            "/n Epoch: 40 |Training loss: 4.2806\n"
          ],
          "name": "stdout"
        },
        {
          "output_type": "stream",
          "text": [
            "\n",
            "training:   2%|▏         | 42/2000 [35:30<29:26:36, 54.14s/it]\u001b[A"
          ],
          "name": "stderr"
        },
        {
          "output_type": "stream",
          "text": [
            "/n Epoch: 41 |Training loss: 4.2639\n"
          ],
          "name": "stdout"
        },
        {
          "output_type": "stream",
          "text": [
            "\n",
            "training:   2%|▏         | 43/2000 [36:24<29:30:42, 54.29s/it]\u001b[A"
          ],
          "name": "stderr"
        },
        {
          "output_type": "stream",
          "text": [
            "/n Epoch: 42 |Training loss: 4.2595\n"
          ],
          "name": "stdout"
        },
        {
          "output_type": "stream",
          "text": [
            "\n",
            "training:   2%|▏         | 44/2000 [37:18<29:23:53, 54.11s/it]\u001b[A"
          ],
          "name": "stderr"
        },
        {
          "output_type": "stream",
          "text": [
            "/n Epoch: 43 |Training loss: 4.2405\n"
          ],
          "name": "stdout"
        },
        {
          "output_type": "stream",
          "text": [
            "\n",
            "training:   2%|▏         | 45/2000 [38:11<29:14:20, 53.84s/it]\u001b[A"
          ],
          "name": "stderr"
        },
        {
          "output_type": "stream",
          "text": [
            "/n Epoch: 44 |Training loss: 4.2304\n",
            "validation loss: 4.4133\n"
          ],
          "name": "stdout"
        },
        {
          "output_type": "stream",
          "text": [
            "\n",
            "training:   2%|▏         | 46/2000 [39:08<29:42:48, 54.74s/it]\u001b[A"
          ],
          "name": "stderr"
        },
        {
          "output_type": "stream",
          "text": [
            "/n Epoch: 45 |Training loss: 4.2209\n"
          ],
          "name": "stdout"
        },
        {
          "output_type": "stream",
          "text": [
            "\n",
            "training:   2%|▏         | 47/2000 [40:00<29:10:00, 53.76s/it]\u001b[A"
          ],
          "name": "stderr"
        },
        {
          "output_type": "stream",
          "text": [
            "/n Epoch: 46 |Training loss: 4.2041\n"
          ],
          "name": "stdout"
        },
        {
          "output_type": "stream",
          "text": [
            "\n",
            "training:   2%|▏         | 48/2000 [40:52<29:00:12, 53.49s/it]\u001b[A"
          ],
          "name": "stderr"
        },
        {
          "output_type": "stream",
          "text": [
            "/n Epoch: 47 |Training loss: 4.1876\n"
          ],
          "name": "stdout"
        },
        {
          "output_type": "stream",
          "text": [
            "\n",
            "training:   2%|▏         | 49/2000 [41:46<29:03:09, 53.61s/it]\u001b[A"
          ],
          "name": "stderr"
        },
        {
          "output_type": "stream",
          "text": [
            "/n Epoch: 48 |Training loss: 4.1777\n"
          ],
          "name": "stdout"
        },
        {
          "output_type": "stream",
          "text": [
            "\n",
            "training:   2%|▎         | 50/2000 [42:38<28:46:35, 53.13s/it]\u001b[A"
          ],
          "name": "stderr"
        },
        {
          "output_type": "stream",
          "text": [
            "/n Epoch: 49 |Training loss: 4.1651\n",
            "validation loss: 4.3751\n"
          ],
          "name": "stdout"
        },
        {
          "output_type": "stream",
          "text": [
            "\n",
            "training:   3%|▎         | 51/2000 [43:35<29:20:47, 54.21s/it]\u001b[A"
          ],
          "name": "stderr"
        },
        {
          "output_type": "stream",
          "text": [
            "/n Epoch: 50 |Training loss: 4.1625\n"
          ],
          "name": "stdout"
        },
        {
          "output_type": "stream",
          "text": [
            "\n",
            "training:   3%|▎         | 52/2000 [44:27<28:56:59, 53.50s/it]\u001b[A"
          ],
          "name": "stderr"
        },
        {
          "output_type": "stream",
          "text": [
            "/n Epoch: 51 |Training loss: 4.1519\n"
          ],
          "name": "stdout"
        },
        {
          "output_type": "stream",
          "text": [
            "\n",
            "training:   3%|▎         | 53/2000 [45:17<28:25:07, 52.55s/it]\u001b[A"
          ],
          "name": "stderr"
        },
        {
          "output_type": "stream",
          "text": [
            "/n Epoch: 52 |Training loss: 4.1374\n"
          ],
          "name": "stdout"
        },
        {
          "output_type": "stream",
          "text": [
            "\n",
            "training:   3%|▎         | 54/2000 [46:07<28:00:01, 51.80s/it]\u001b[A"
          ],
          "name": "stderr"
        },
        {
          "output_type": "stream",
          "text": [
            "/n Epoch: 53 |Training loss: 4.1231\n"
          ],
          "name": "stdout"
        },
        {
          "output_type": "stream",
          "text": [
            "\n",
            "training:   3%|▎         | 55/2000 [46:58<27:44:15, 51.34s/it]\u001b[A"
          ],
          "name": "stderr"
        },
        {
          "output_type": "stream",
          "text": [
            "/n Epoch: 54 |Training loss: 4.1155\n",
            "validation loss: 4.3197\n"
          ],
          "name": "stdout"
        },
        {
          "output_type": "stream",
          "text": [
            "\n",
            "training:   3%|▎         | 56/2000 [47:53<28:19:09, 52.44s/it]\u001b[A"
          ],
          "name": "stderr"
        },
        {
          "output_type": "stream",
          "text": [
            "/n Epoch: 55 |Training loss: 4.0979\n"
          ],
          "name": "stdout"
        },
        {
          "output_type": "stream",
          "text": [
            "\n",
            "training:   3%|▎         | 57/2000 [48:44<28:07:23, 52.11s/it]\u001b[A"
          ],
          "name": "stderr"
        },
        {
          "output_type": "stream",
          "text": [
            "/n Epoch: 56 |Training loss: 4.1067\n"
          ],
          "name": "stdout"
        },
        {
          "output_type": "stream",
          "text": [
            "\n",
            "training:   3%|▎         | 58/2000 [49:35<27:57:10, 51.82s/it]\u001b[A"
          ],
          "name": "stderr"
        },
        {
          "output_type": "stream",
          "text": [
            "/n Epoch: 57 |Training loss: 4.0792\n"
          ],
          "name": "stdout"
        },
        {
          "output_type": "stream",
          "text": [
            "\n",
            "training:   3%|▎         | 59/2000 [50:25<27:34:58, 51.16s/it]\u001b[A"
          ],
          "name": "stderr"
        },
        {
          "output_type": "stream",
          "text": [
            "/n Epoch: 58 |Training loss: 4.0720\n"
          ],
          "name": "stdout"
        },
        {
          "output_type": "stream",
          "text": [
            "\n",
            "training:   3%|▎         | 60/2000 [51:14<27:13:01, 50.51s/it]\u001b[A"
          ],
          "name": "stderr"
        },
        {
          "output_type": "stream",
          "text": [
            "/n Epoch: 59 |Training loss: 4.0586\n",
            "validation loss: 4.2400\n"
          ],
          "name": "stdout"
        },
        {
          "output_type": "stream",
          "text": [
            "\n",
            "training:   3%|▎         | 61/2000 [52:06<27:27:10, 50.97s/it]\u001b[A"
          ],
          "name": "stderr"
        },
        {
          "output_type": "stream",
          "text": [
            "/n Epoch: 60 |Training loss: 4.0404\n"
          ],
          "name": "stdout"
        },
        {
          "output_type": "stream",
          "text": [
            "\n",
            "training:   3%|▎         | 62/2000 [52:56<27:18:04, 50.71s/it]\u001b[A"
          ],
          "name": "stderr"
        },
        {
          "output_type": "stream",
          "text": [
            "/n Epoch: 61 |Training loss: 4.0206\n"
          ],
          "name": "stdout"
        },
        {
          "output_type": "stream",
          "text": [
            "\n",
            "training:   3%|▎         | 63/2000 [53:45<27:02:25, 50.26s/it]\u001b[A"
          ],
          "name": "stderr"
        },
        {
          "output_type": "stream",
          "text": [
            "/n Epoch: 62 |Training loss: 4.0058\n"
          ],
          "name": "stdout"
        },
        {
          "output_type": "stream",
          "text": [
            "\n",
            "training:   3%|▎         | 64/2000 [54:33<26:42:52, 49.68s/it]\u001b[A"
          ],
          "name": "stderr"
        },
        {
          "output_type": "stream",
          "text": [
            "/n Epoch: 63 |Training loss: 3.9942\n"
          ],
          "name": "stdout"
        },
        {
          "output_type": "stream",
          "text": [
            "\n",
            "training:   3%|▎         | 65/2000 [55:21<26:26:12, 49.18s/it]\u001b[A"
          ],
          "name": "stderr"
        },
        {
          "output_type": "stream",
          "text": [
            "/n Epoch: 64 |Training loss: 3.9748\n",
            "validation loss: 4.1991\n"
          ],
          "name": "stdout"
        },
        {
          "output_type": "stream",
          "text": [
            "\n",
            "training:   3%|▎         | 66/2000 [56:13<26:48:07, 49.89s/it]\u001b[A"
          ],
          "name": "stderr"
        },
        {
          "output_type": "stream",
          "text": [
            "/n Epoch: 65 |Training loss: 4.0155\n"
          ],
          "name": "stdout"
        },
        {
          "output_type": "stream",
          "text": [
            "\n",
            "training:   3%|▎         | 67/2000 [57:01<26:26:12, 49.24s/it]\u001b[A"
          ],
          "name": "stderr"
        },
        {
          "output_type": "stream",
          "text": [
            "/n Epoch: 66 |Training loss: 3.9598\n"
          ],
          "name": "stdout"
        },
        {
          "output_type": "stream",
          "text": [
            "\n",
            "training:   3%|▎         | 68/2000 [57:49<26:12:30, 48.84s/it]\u001b[A"
          ],
          "name": "stderr"
        },
        {
          "output_type": "stream",
          "text": [
            "/n Epoch: 67 |Training loss: 3.9810\n"
          ],
          "name": "stdout"
        },
        {
          "output_type": "stream",
          "text": [
            "\n",
            "training:   3%|▎         | 69/2000 [58:36<26:00:48, 48.50s/it]\u001b[A"
          ],
          "name": "stderr"
        },
        {
          "output_type": "stream",
          "text": [
            "/n Epoch: 68 |Training loss: 3.9771\n"
          ],
          "name": "stdout"
        },
        {
          "output_type": "stream",
          "text": [
            "\n",
            "training:   4%|▎         | 70/2000 [59:25<26:00:55, 48.53s/it]\u001b[A"
          ],
          "name": "stderr"
        },
        {
          "output_type": "stream",
          "text": [
            "/n Epoch: 69 |Training loss: 3.9642\n",
            "validation loss: 4.1704\n"
          ],
          "name": "stdout"
        },
        {
          "output_type": "stream",
          "text": [
            "\n",
            "training:   4%|▎         | 71/2000 [1:00:17<26:38:52, 49.73s/it]\u001b[A"
          ],
          "name": "stderr"
        },
        {
          "output_type": "stream",
          "text": [
            "/n Epoch: 70 |Training loss: 3.9286\n"
          ],
          "name": "stdout"
        },
        {
          "output_type": "stream",
          "text": [
            "\n",
            "training:   4%|▎         | 72/2000 [1:01:06<26:31:03, 49.51s/it]\u001b[A"
          ],
          "name": "stderr"
        },
        {
          "output_type": "stream",
          "text": [
            "/n Epoch: 71 |Training loss: 3.9279\n"
          ],
          "name": "stdout"
        },
        {
          "output_type": "stream",
          "text": [
            "\n",
            "training:   4%|▎         | 73/2000 [1:01:55<26:23:05, 49.29s/it]\u001b[A"
          ],
          "name": "stderr"
        },
        {
          "output_type": "stream",
          "text": [
            "/n Epoch: 72 |Training loss: 3.9097\n"
          ],
          "name": "stdout"
        },
        {
          "output_type": "stream",
          "text": [
            "\n",
            "training:   4%|▎         | 74/2000 [1:02:43<26:11:35, 48.96s/it]\u001b[A"
          ],
          "name": "stderr"
        },
        {
          "output_type": "stream",
          "text": [
            "/n Epoch: 73 |Training loss: 3.8928\n"
          ],
          "name": "stdout"
        },
        {
          "output_type": "stream",
          "text": [
            "\n",
            "training:   4%|▍         | 75/2000 [1:03:32<26:03:47, 48.74s/it]\u001b[A"
          ],
          "name": "stderr"
        },
        {
          "output_type": "stream",
          "text": [
            "/n Epoch: 74 |Training loss: 3.8897\n",
            "validation loss: 4.0885\n"
          ],
          "name": "stdout"
        },
        {
          "output_type": "stream",
          "text": [
            "\n",
            "training:   4%|▍         | 76/2000 [1:04:23<26:30:25, 49.60s/it]\u001b[A"
          ],
          "name": "stderr"
        },
        {
          "output_type": "stream",
          "text": [
            "/n Epoch: 75 |Training loss: 3.8681\n"
          ],
          "name": "stdout"
        },
        {
          "output_type": "stream",
          "text": [
            "\n",
            "training:   4%|▍         | 77/2000 [1:05:12<26:21:14, 49.34s/it]\u001b[A"
          ],
          "name": "stderr"
        },
        {
          "output_type": "stream",
          "text": [
            "/n Epoch: 76 |Training loss: 3.8583\n"
          ],
          "name": "stdout"
        },
        {
          "output_type": "stream",
          "text": [
            "\n",
            "training:   4%|▍         | 78/2000 [1:06:00<26:09:58, 49.01s/it]\u001b[A"
          ],
          "name": "stderr"
        },
        {
          "output_type": "stream",
          "text": [
            "/n Epoch: 77 |Training loss: 3.8545\n"
          ],
          "name": "stdout"
        },
        {
          "output_type": "stream",
          "text": [
            "\n",
            "training:   4%|▍         | 79/2000 [1:06:48<25:57:25, 48.64s/it]\u001b[A"
          ],
          "name": "stderr"
        },
        {
          "output_type": "stream",
          "text": [
            "/n Epoch: 78 |Training loss: 3.8405\n"
          ],
          "name": "stdout"
        },
        {
          "output_type": "stream",
          "text": [
            "\n",
            "training:   4%|▍         | 80/2000 [1:07:36<25:48:03, 48.38s/it]\u001b[A"
          ],
          "name": "stderr"
        },
        {
          "output_type": "stream",
          "text": [
            "/n Epoch: 79 |Training loss: 3.8279\n",
            "validation loss: 4.0430\n"
          ],
          "name": "stdout"
        },
        {
          "output_type": "stream",
          "text": [
            "\n",
            "training:   4%|▍         | 81/2000 [1:08:27<26:18:34, 49.36s/it]\u001b[A"
          ],
          "name": "stderr"
        },
        {
          "output_type": "stream",
          "text": [
            "/n Epoch: 80 |Training loss: 3.8143\n"
          ],
          "name": "stdout"
        },
        {
          "output_type": "stream",
          "text": [
            "\n",
            "training:   4%|▍         | 82/2000 [1:09:15<26:03:50, 48.92s/it]\u001b[A"
          ],
          "name": "stderr"
        },
        {
          "output_type": "stream",
          "text": [
            "/n Epoch: 81 |Training loss: 3.8096\n"
          ],
          "name": "stdout"
        },
        {
          "output_type": "stream",
          "text": [
            "\n",
            "training:   4%|▍         | 83/2000 [1:10:03<25:54:59, 48.67s/it]\u001b[A"
          ],
          "name": "stderr"
        },
        {
          "output_type": "stream",
          "text": [
            "/n Epoch: 82 |Training loss: 3.8022\n"
          ],
          "name": "stdout"
        },
        {
          "output_type": "stream",
          "text": [
            "\n",
            "training:   4%|▍         | 84/2000 [1:10:51<25:44:44, 48.37s/it]\u001b[A"
          ],
          "name": "stderr"
        },
        {
          "output_type": "stream",
          "text": [
            "/n Epoch: 83 |Training loss: 3.7884\n"
          ],
          "name": "stdout"
        },
        {
          "output_type": "stream",
          "text": [
            "\n",
            "training:   4%|▍         | 85/2000 [1:11:39<25:35:36, 48.11s/it]\u001b[A"
          ],
          "name": "stderr"
        },
        {
          "output_type": "stream",
          "text": [
            "/n Epoch: 84 |Training loss: 3.7840\n",
            "validation loss: 4.0029\n"
          ],
          "name": "stdout"
        },
        {
          "output_type": "stream",
          "text": [
            "\n",
            "training:   4%|▍         | 86/2000 [1:12:30<26:05:31, 49.08s/it]\u001b[A"
          ],
          "name": "stderr"
        },
        {
          "output_type": "stream",
          "text": [
            "/n Epoch: 85 |Training loss: 3.7707\n"
          ],
          "name": "stdout"
        },
        {
          "output_type": "stream",
          "text": [
            "\n",
            "training:   4%|▍         | 87/2000 [1:13:17<25:49:49, 48.61s/it]\u001b[A"
          ],
          "name": "stderr"
        },
        {
          "output_type": "stream",
          "text": [
            "/n Epoch: 86 |Training loss: 3.7744\n"
          ],
          "name": "stdout"
        },
        {
          "output_type": "stream",
          "text": [
            "\n",
            "training:   4%|▍         | 88/2000 [1:14:05<25:40:45, 48.35s/it]\u001b[A"
          ],
          "name": "stderr"
        },
        {
          "output_type": "stream",
          "text": [
            "/n Epoch: 87 |Training loss: 3.7607\n"
          ],
          "name": "stdout"
        },
        {
          "output_type": "stream",
          "text": [
            "\n",
            "training:   4%|▍         | 89/2000 [1:14:53<25:32:43, 48.12s/it]\u001b[A"
          ],
          "name": "stderr"
        },
        {
          "output_type": "stream",
          "text": [
            "/n Epoch: 88 |Training loss: 3.7584\n"
          ],
          "name": "stdout"
        },
        {
          "output_type": "stream",
          "text": [
            "\n",
            "training:   4%|▍         | 90/2000 [1:15:40<25:26:06, 47.94s/it]\u001b[A"
          ],
          "name": "stderr"
        },
        {
          "output_type": "stream",
          "text": [
            "/n Epoch: 89 |Training loss: 3.7514\n",
            "validation loss: 3.9729\n"
          ],
          "name": "stdout"
        },
        {
          "output_type": "stream",
          "text": [
            "\n",
            "training:   5%|▍         | 91/2000 [1:16:31<25:55:16, 48.88s/it]\u001b[A"
          ],
          "name": "stderr"
        },
        {
          "output_type": "stream",
          "text": [
            "/n Epoch: 90 |Training loss: 3.7355\n"
          ],
          "name": "stdout"
        },
        {
          "output_type": "stream",
          "text": [
            "\n",
            "training:   5%|▍         | 92/2000 [1:17:19<25:41:09, 48.46s/it]\u001b[A"
          ],
          "name": "stderr"
        },
        {
          "output_type": "stream",
          "text": [
            "/n Epoch: 91 |Training loss: 3.7462\n"
          ],
          "name": "stdout"
        },
        {
          "output_type": "stream",
          "text": [
            "\n",
            "training:   5%|▍         | 93/2000 [1:18:06<25:30:45, 48.16s/it]\u001b[A"
          ],
          "name": "stderr"
        },
        {
          "output_type": "stream",
          "text": [
            "/n Epoch: 92 |Training loss: 3.7266\n"
          ],
          "name": "stdout"
        },
        {
          "output_type": "stream",
          "text": [
            "\n",
            "training:   5%|▍         | 94/2000 [1:18:53<25:21:14, 47.89s/it]\u001b[A"
          ],
          "name": "stderr"
        },
        {
          "output_type": "stream",
          "text": [
            "/n Epoch: 93 |Training loss: 3.7515\n"
          ],
          "name": "stdout"
        },
        {
          "output_type": "stream",
          "text": [
            "\n",
            "training:   5%|▍         | 95/2000 [1:19:41<25:17:50, 47.81s/it]\u001b[A"
          ],
          "name": "stderr"
        },
        {
          "output_type": "stream",
          "text": [
            "/n Epoch: 94 |Training loss: 3.7438\n",
            "validation loss: 3.9401\n"
          ],
          "name": "stdout"
        },
        {
          "output_type": "stream",
          "text": [
            "\n",
            "training:   5%|▍         | 96/2000 [1:20:33<25:53:51, 48.97s/it]\u001b[A"
          ],
          "name": "stderr"
        },
        {
          "output_type": "stream",
          "text": [
            "/n Epoch: 95 |Training loss: 3.7096\n"
          ],
          "name": "stdout"
        },
        {
          "output_type": "stream",
          "text": [
            "\n",
            "training:   5%|▍         | 97/2000 [1:21:20<25:39:55, 48.55s/it]\u001b[A"
          ],
          "name": "stderr"
        },
        {
          "output_type": "stream",
          "text": [
            "/n Epoch: 96 |Training loss: 3.7075\n"
          ],
          "name": "stdout"
        },
        {
          "output_type": "stream",
          "text": [
            "\n",
            "training:   5%|▍         | 98/2000 [1:22:08<25:32:27, 48.34s/it]\u001b[A"
          ],
          "name": "stderr"
        },
        {
          "output_type": "stream",
          "text": [
            "/n Epoch: 97 |Training loss: 3.6978\n"
          ],
          "name": "stdout"
        },
        {
          "output_type": "stream",
          "text": [
            "\n",
            "training:   5%|▍         | 99/2000 [1:22:56<25:25:04, 48.14s/it]\u001b[A"
          ],
          "name": "stderr"
        },
        {
          "output_type": "stream",
          "text": [
            "/n Epoch: 98 |Training loss: 3.6896\n"
          ],
          "name": "stdout"
        },
        {
          "output_type": "stream",
          "text": [
            "\n",
            "training:   5%|▌         | 100/2000 [1:23:44<25:21:09, 48.04s/it]\u001b[A"
          ],
          "name": "stderr"
        },
        {
          "output_type": "stream",
          "text": [
            "/n Epoch: 99 |Training loss: 3.6880\n",
            "validation loss: 3.8979\n"
          ],
          "name": "stdout"
        },
        {
          "output_type": "stream",
          "text": [
            "\n",
            "training:   5%|▌         | 101/2000 [1:24:35<25:49:43, 48.96s/it]\u001b[A"
          ],
          "name": "stderr"
        },
        {
          "output_type": "stream",
          "text": [
            "/n Epoch: 100 |Training loss: 3.6763\n"
          ],
          "name": "stdout"
        },
        {
          "output_type": "stream",
          "text": [
            "\n",
            "training:   5%|▌         | 102/2000 [1:25:23<25:37:52, 48.62s/it]\u001b[A"
          ],
          "name": "stderr"
        },
        {
          "output_type": "stream",
          "text": [
            "/n Epoch: 101 |Training loss: 3.6725\n"
          ],
          "name": "stdout"
        },
        {
          "output_type": "stream",
          "text": [
            "\n",
            "training:   5%|▌         | 103/2000 [1:26:10<25:26:35, 48.28s/it]\u001b[A"
          ],
          "name": "stderr"
        },
        {
          "output_type": "stream",
          "text": [
            "/n Epoch: 102 |Training loss: 3.6653\n"
          ],
          "name": "stdout"
        },
        {
          "output_type": "stream",
          "text": [
            "\n",
            "training:   5%|▌         | 104/2000 [1:26:58<25:18:02, 48.04s/it]\u001b[A"
          ],
          "name": "stderr"
        },
        {
          "output_type": "stream",
          "text": [
            "/n Epoch: 103 |Training loss: 3.6783\n"
          ],
          "name": "stdout"
        },
        {
          "output_type": "stream",
          "text": [
            "\n",
            "training:   5%|▌         | 105/2000 [1:27:45<25:13:03, 47.91s/it]\u001b[A"
          ],
          "name": "stderr"
        },
        {
          "output_type": "stream",
          "text": [
            "/n Epoch: 104 |Training loss: 3.6668\n",
            "validation loss: 3.8650\n"
          ],
          "name": "stdout"
        },
        {
          "output_type": "stream",
          "text": [
            "\n",
            "training:   5%|▌         | 106/2000 [1:28:37<25:49:41, 49.09s/it]\u001b[A"
          ],
          "name": "stderr"
        },
        {
          "output_type": "stream",
          "text": [
            "/n Epoch: 105 |Training loss: 3.6561\n"
          ],
          "name": "stdout"
        },
        {
          "output_type": "stream",
          "text": [
            "\n",
            "training:   5%|▌         | 107/2000 [1:29:25<25:42:46, 48.90s/it]\u001b[A"
          ],
          "name": "stderr"
        },
        {
          "output_type": "stream",
          "text": [
            "/n Epoch: 106 |Training loss: 3.6412\n"
          ],
          "name": "stdout"
        },
        {
          "output_type": "stream",
          "text": [
            "\n",
            "training:   5%|▌         | 108/2000 [1:30:15<25:50:20, 49.17s/it]\u001b[A"
          ],
          "name": "stderr"
        },
        {
          "output_type": "stream",
          "text": [
            "/n Epoch: 107 |Training loss: 3.6282\n"
          ],
          "name": "stdout"
        },
        {
          "output_type": "stream",
          "text": [
            "\n",
            "training:   5%|▌         | 109/2000 [1:31:04<25:42:41, 48.95s/it]\u001b[A"
          ],
          "name": "stderr"
        },
        {
          "output_type": "stream",
          "text": [
            "/n Epoch: 108 |Training loss: 3.6219\n"
          ],
          "name": "stdout"
        },
        {
          "output_type": "stream",
          "text": [
            "\n",
            "training:   6%|▌         | 110/2000 [1:31:52<25:37:55, 48.82s/it]\u001b[A"
          ],
          "name": "stderr"
        },
        {
          "output_type": "stream",
          "text": [
            "/n Epoch: 109 |Training loss: 3.6244\n",
            "validation loss: 3.8257\n"
          ],
          "name": "stdout"
        },
        {
          "output_type": "stream",
          "text": [
            "\n",
            "training:   6%|▌         | 111/2000 [1:32:44<26:01:02, 49.58s/it]\u001b[A"
          ],
          "name": "stderr"
        },
        {
          "output_type": "stream",
          "text": [
            "/n Epoch: 110 |Training loss: 3.6161\n"
          ],
          "name": "stdout"
        },
        {
          "output_type": "stream",
          "text": [
            "\n",
            "training:   6%|▌         | 112/2000 [1:33:31<25:41:29, 48.99s/it]\u001b[A"
          ],
          "name": "stderr"
        },
        {
          "output_type": "stream",
          "text": [
            "/n Epoch: 111 |Training loss: 3.5998\n"
          ],
          "name": "stdout"
        },
        {
          "output_type": "stream",
          "text": [
            "\n",
            "training:   6%|▌         | 113/2000 [1:34:19<25:30:08, 48.65s/it]\u001b[A"
          ],
          "name": "stderr"
        },
        {
          "output_type": "stream",
          "text": [
            "/n Epoch: 112 |Training loss: 3.6026\n"
          ],
          "name": "stdout"
        },
        {
          "output_type": "stream",
          "text": [
            "\n",
            "training:   6%|▌         | 114/2000 [1:35:07<25:24:13, 48.49s/it]\u001b[A"
          ],
          "name": "stderr"
        },
        {
          "output_type": "stream",
          "text": [
            "/n Epoch: 113 |Training loss: 3.5890\n"
          ],
          "name": "stdout"
        },
        {
          "output_type": "stream",
          "text": [
            "\n",
            "training:   6%|▌         | 115/2000 [1:35:55<25:15:10, 48.23s/it]\u001b[A"
          ],
          "name": "stderr"
        },
        {
          "output_type": "stream",
          "text": [
            "/n Epoch: 114 |Training loss: 3.5803\n",
            "validation loss: 3.7915\n"
          ],
          "name": "stdout"
        },
        {
          "output_type": "stream",
          "text": [
            "\n",
            "training:   6%|▌         | 116/2000 [1:36:46<25:43:54, 49.17s/it]\u001b[A"
          ],
          "name": "stderr"
        },
        {
          "output_type": "stream",
          "text": [
            "/n Epoch: 115 |Training loss: 3.5793\n"
          ],
          "name": "stdout"
        },
        {
          "output_type": "stream",
          "text": [
            "\n",
            "training:   6%|▌         | 117/2000 [1:37:33<25:25:42, 48.62s/it]\u001b[A"
          ],
          "name": "stderr"
        },
        {
          "output_type": "stream",
          "text": [
            "/n Epoch: 116 |Training loss: 3.5699\n"
          ],
          "name": "stdout"
        },
        {
          "output_type": "stream",
          "text": [
            "\n",
            "training:   6%|▌         | 118/2000 [1:38:21<25:13:27, 48.25s/it]\u001b[A"
          ],
          "name": "stderr"
        },
        {
          "output_type": "stream",
          "text": [
            "/n Epoch: 117 |Training loss: 3.5707\n"
          ],
          "name": "stdout"
        },
        {
          "output_type": "stream",
          "text": [
            "\n",
            "training:   6%|▌         | 119/2000 [1:39:09<25:07:06, 48.07s/it]\u001b[A"
          ],
          "name": "stderr"
        },
        {
          "output_type": "stream",
          "text": [
            "/n Epoch: 118 |Training loss: 3.5500\n"
          ],
          "name": "stdout"
        },
        {
          "output_type": "stream",
          "text": [
            "\n",
            "training:   6%|▌         | 120/2000 [1:39:56<25:00:52, 47.90s/it]\u001b[A"
          ],
          "name": "stderr"
        },
        {
          "output_type": "stream",
          "text": [
            "/n Epoch: 119 |Training loss: 3.6008\n",
            "validation loss: 3.7642\n"
          ],
          "name": "stdout"
        },
        {
          "output_type": "stream",
          "text": [
            "\n",
            "training:   6%|▌         | 121/2000 [1:40:48<25:33:44, 48.98s/it]\u001b[A"
          ],
          "name": "stderr"
        },
        {
          "output_type": "stream",
          "text": [
            "/n Epoch: 120 |Training loss: 3.6034\n"
          ],
          "name": "stdout"
        },
        {
          "output_type": "stream",
          "text": [
            "\n",
            "training:   6%|▌         | 122/2000 [1:41:35<25:19:38, 48.55s/it]\u001b[A"
          ],
          "name": "stderr"
        },
        {
          "output_type": "stream",
          "text": [
            "/n Epoch: 121 |Training loss: 3.5389\n"
          ],
          "name": "stdout"
        },
        {
          "output_type": "stream",
          "text": [
            "\n",
            "training:   6%|▌         | 123/2000 [1:42:23<25:10:46, 48.29s/it]\u001b[A"
          ],
          "name": "stderr"
        },
        {
          "output_type": "stream",
          "text": [
            "/n Epoch: 122 |Training loss: 3.5876\n"
          ],
          "name": "stdout"
        },
        {
          "output_type": "stream",
          "text": [
            "\n",
            "training:   6%|▌         | 124/2000 [1:43:10<25:02:38, 48.06s/it]\u001b[A"
          ],
          "name": "stderr"
        },
        {
          "output_type": "stream",
          "text": [
            "/n Epoch: 123 |Training loss: 3.5970\n"
          ],
          "name": "stdout"
        },
        {
          "output_type": "stream",
          "text": [
            "\n",
            "training:   6%|▋         | 125/2000 [1:43:58<25:00:19, 48.01s/it]\u001b[A"
          ],
          "name": "stderr"
        },
        {
          "output_type": "stream",
          "text": [
            "/n Epoch: 124 |Training loss: 3.5362\n",
            "validation loss: 3.8533\n"
          ],
          "name": "stdout"
        },
        {
          "output_type": "stream",
          "text": [
            "\n",
            "training:   6%|▋         | 126/2000 [1:44:50<25:31:20, 49.03s/it]\u001b[A"
          ],
          "name": "stderr"
        },
        {
          "output_type": "stream",
          "text": [
            "/n Epoch: 125 |Training loss: 3.5671\n"
          ],
          "name": "stdout"
        },
        {
          "output_type": "stream",
          "text": [
            "\n",
            "training:   6%|▋         | 127/2000 [1:45:37<25:14:28, 48.52s/it]\u001b[A"
          ],
          "name": "stderr"
        },
        {
          "output_type": "stream",
          "text": [
            "/n Epoch: 126 |Training loss: 3.6152\n"
          ],
          "name": "stdout"
        },
        {
          "output_type": "stream",
          "text": [
            "\n",
            "training:   6%|▋         | 128/2000 [1:46:25<25:05:35, 48.26s/it]\u001b[A"
          ],
          "name": "stderr"
        },
        {
          "output_type": "stream",
          "text": [
            "/n Epoch: 127 |Training loss: 3.5519\n"
          ],
          "name": "stdout"
        },
        {
          "output_type": "stream",
          "text": [
            "\n",
            "training:   6%|▋         | 129/2000 [1:47:12<24:55:43, 47.97s/it]\u001b[A"
          ],
          "name": "stderr"
        },
        {
          "output_type": "stream",
          "text": [
            "/n Epoch: 128 |Training loss: 3.5233\n"
          ],
          "name": "stdout"
        },
        {
          "output_type": "stream",
          "text": [
            "\n",
            "training:   6%|▋         | 130/2000 [1:47:59<24:50:37, 47.83s/it]\u001b[A"
          ],
          "name": "stderr"
        },
        {
          "output_type": "stream",
          "text": [
            "/n Epoch: 129 |Training loss: 3.5396\n",
            "validation loss: 3.7209\n"
          ],
          "name": "stdout"
        },
        {
          "output_type": "stream",
          "text": [
            "\n",
            "training:   7%|▋         | 131/2000 [1:48:51<25:25:10, 48.96s/it]\u001b[A"
          ],
          "name": "stderr"
        },
        {
          "output_type": "stream",
          "text": [
            "/n Epoch: 130 |Training loss: 3.5336\n"
          ],
          "name": "stdout"
        },
        {
          "output_type": "stream",
          "text": [
            "\n",
            "training:   7%|▋         | 132/2000 [1:49:40<25:23:53, 48.95s/it]\u001b[A"
          ],
          "name": "stderr"
        },
        {
          "output_type": "stream",
          "text": [
            "/n Epoch: 131 |Training loss: 3.5039\n"
          ],
          "name": "stdout"
        },
        {
          "output_type": "stream",
          "text": [
            "\n",
            "training:   7%|▋         | 133/2000 [1:50:28<25:14:00, 48.66s/it]\u001b[A"
          ],
          "name": "stderr"
        },
        {
          "output_type": "stream",
          "text": [
            "/n Epoch: 132 |Training loss: 3.5144\n"
          ],
          "name": "stdout"
        },
        {
          "output_type": "stream",
          "text": [
            "\n",
            "training:   7%|▋         | 134/2000 [1:51:16<25:09:45, 48.55s/it]\u001b[A"
          ],
          "name": "stderr"
        },
        {
          "output_type": "stream",
          "text": [
            "/n Epoch: 133 |Training loss: 3.5092\n"
          ],
          "name": "stdout"
        },
        {
          "output_type": "stream",
          "text": [
            "\n",
            "training:   7%|▋         | 135/2000 [1:52:05<25:08:21, 48.53s/it]\u001b[A"
          ],
          "name": "stderr"
        },
        {
          "output_type": "stream",
          "text": [
            "/n Epoch: 134 |Training loss: 3.4933\n",
            "validation loss: 3.6902\n"
          ],
          "name": "stdout"
        },
        {
          "output_type": "stream",
          "text": [
            "\n",
            "training:   7%|▋         | 136/2000 [1:52:57<25:40:23, 49.58s/it]\u001b[A"
          ],
          "name": "stderr"
        },
        {
          "output_type": "stream",
          "text": [
            "/n Epoch: 135 |Training loss: 3.4975\n"
          ],
          "name": "stdout"
        },
        {
          "output_type": "stream",
          "text": [
            "\n",
            "training:   7%|▋         | 137/2000 [1:53:45<25:24:36, 49.10s/it]\u001b[A"
          ],
          "name": "stderr"
        },
        {
          "output_type": "stream",
          "text": [
            "/n Epoch: 136 |Training loss: 3.4859\n"
          ],
          "name": "stdout"
        },
        {
          "output_type": "stream",
          "text": [
            "\n",
            "training:   7%|▋         | 138/2000 [1:54:33<25:20:21, 48.99s/it]\u001b[A"
          ],
          "name": "stderr"
        },
        {
          "output_type": "stream",
          "text": [
            "/n Epoch: 137 |Training loss: 3.4734\n"
          ],
          "name": "stdout"
        },
        {
          "output_type": "stream",
          "text": [
            "\n",
            "training:   7%|▋         | 139/2000 [1:55:22<25:16:18, 48.89s/it]\u001b[A"
          ],
          "name": "stderr"
        },
        {
          "output_type": "stream",
          "text": [
            "/n Epoch: 138 |Training loss: 3.4773\n"
          ],
          "name": "stdout"
        },
        {
          "output_type": "stream",
          "text": [
            "\n",
            "training:   7%|▋         | 140/2000 [1:56:11<25:12:20, 48.79s/it]\u001b[A"
          ],
          "name": "stderr"
        },
        {
          "output_type": "stream",
          "text": [
            "/n Epoch: 139 |Training loss: 3.4692\n",
            "validation loss: 3.6604\n"
          ],
          "name": "stdout"
        },
        {
          "output_type": "stream",
          "text": [
            "\n",
            "training:   7%|▋         | 141/2000 [1:57:03<25:42:09, 49.77s/it]\u001b[A"
          ],
          "name": "stderr"
        },
        {
          "output_type": "stream",
          "text": [
            "/n Epoch: 140 |Training loss: 3.4545\n"
          ],
          "name": "stdout"
        },
        {
          "output_type": "stream",
          "text": [
            "\n",
            "training:   7%|▋         | 142/2000 [1:57:51<25:28:05, 49.35s/it]\u001b[A"
          ],
          "name": "stderr"
        },
        {
          "output_type": "stream",
          "text": [
            "/n Epoch: 141 |Training loss: 3.4596\n"
          ],
          "name": "stdout"
        },
        {
          "output_type": "stream",
          "text": [
            "\n",
            "training:   7%|▋         | 143/2000 [1:58:39<25:17:09, 49.02s/it]\u001b[A"
          ],
          "name": "stderr"
        },
        {
          "output_type": "stream",
          "text": [
            "/n Epoch: 142 |Training loss: 3.4528\n"
          ],
          "name": "stdout"
        },
        {
          "output_type": "stream",
          "text": [
            "\n",
            "training:   7%|▋         | 144/2000 [1:59:28<25:10:05, 48.82s/it]\u001b[A"
          ],
          "name": "stderr"
        },
        {
          "output_type": "stream",
          "text": [
            "/n Epoch: 143 |Training loss: 3.4429\n"
          ],
          "name": "stdout"
        },
        {
          "output_type": "stream",
          "text": [
            "\n",
            "training:   7%|▋         | 145/2000 [2:00:15<25:00:43, 48.54s/it]\u001b[A"
          ],
          "name": "stderr"
        },
        {
          "output_type": "stream",
          "text": [
            "/n Epoch: 144 |Training loss: 3.4398\n",
            "validation loss: 3.6267\n"
          ],
          "name": "stdout"
        },
        {
          "output_type": "stream",
          "text": [
            "\n",
            "training:   7%|▋         | 146/2000 [2:01:07<25:29:52, 49.51s/it]\u001b[A"
          ],
          "name": "stderr"
        },
        {
          "output_type": "stream",
          "text": [
            "/n Epoch: 145 |Training loss: 3.4264\n"
          ],
          "name": "stdout"
        },
        {
          "output_type": "stream",
          "text": [
            "\n",
            "training:   7%|▋         | 147/2000 [2:01:56<25:23:39, 49.34s/it]\u001b[A"
          ],
          "name": "stderr"
        },
        {
          "output_type": "stream",
          "text": [
            "/n Epoch: 146 |Training loss: 3.4208\n"
          ],
          "name": "stdout"
        },
        {
          "output_type": "stream",
          "text": [
            "\n",
            "training:   7%|▋         | 148/2000 [2:02:45<25:14:03, 49.05s/it]\u001b[A"
          ],
          "name": "stderr"
        },
        {
          "output_type": "stream",
          "text": [
            "/n Epoch: 147 |Training loss: 3.4257\n"
          ],
          "name": "stdout"
        },
        {
          "output_type": "stream",
          "text": [
            "\n",
            "training:   7%|▋         | 149/2000 [2:03:34<25:13:56, 49.07s/it]\u001b[A"
          ],
          "name": "stderr"
        },
        {
          "output_type": "stream",
          "text": [
            "/n Epoch: 148 |Training loss: 3.4099\n"
          ],
          "name": "stdout"
        },
        {
          "output_type": "stream",
          "text": [
            "\n",
            "training:   8%|▊         | 150/2000 [2:04:23<25:14:38, 49.12s/it]\u001b[A"
          ],
          "name": "stderr"
        },
        {
          "output_type": "stream",
          "text": [
            "/n Epoch: 149 |Training loss: 3.4190\n",
            "validation loss: 3.6255\n"
          ],
          "name": "stdout"
        },
        {
          "output_type": "stream",
          "text": [
            "\n",
            "training:   8%|▊         | 151/2000 [2:05:16<25:52:31, 50.38s/it]\u001b[A"
          ],
          "name": "stderr"
        },
        {
          "output_type": "stream",
          "text": [
            "/n Epoch: 150 |Training loss: 3.4170\n"
          ],
          "name": "stdout"
        },
        {
          "output_type": "stream",
          "text": [
            "\n",
            "training:   8%|▊         | 152/2000 [2:06:06<25:46:13, 50.20s/it]\u001b[A"
          ],
          "name": "stderr"
        },
        {
          "output_type": "stream",
          "text": [
            "/n Epoch: 151 |Training loss: 3.4193\n"
          ],
          "name": "stdout"
        },
        {
          "output_type": "stream",
          "text": [
            "\n",
            "training:   8%|▊         | 153/2000 [2:06:55<25:38:01, 49.96s/it]\u001b[A"
          ],
          "name": "stderr"
        },
        {
          "output_type": "stream",
          "text": [
            "/n Epoch: 152 |Training loss: 3.3996\n"
          ],
          "name": "stdout"
        },
        {
          "output_type": "stream",
          "text": [
            "\n",
            "training:   8%|▊         | 154/2000 [2:07:45<25:34:15, 49.87s/it]\u001b[A"
          ],
          "name": "stderr"
        },
        {
          "output_type": "stream",
          "text": [
            "/n Epoch: 153 |Training loss: 3.4123\n"
          ],
          "name": "stdout"
        },
        {
          "output_type": "stream",
          "text": [
            "\n",
            "training:   8%|▊         | 155/2000 [2:08:34<25:23:18, 49.54s/it]\u001b[A"
          ],
          "name": "stderr"
        },
        {
          "output_type": "stream",
          "text": [
            "/n Epoch: 154 |Training loss: 3.4131\n",
            "validation loss: 3.5880\n"
          ],
          "name": "stdout"
        },
        {
          "output_type": "stream",
          "text": [
            "\n",
            "training:   8%|▊         | 156/2000 [2:09:26<25:45:31, 50.29s/it]\u001b[A"
          ],
          "name": "stderr"
        },
        {
          "output_type": "stream",
          "text": [
            "/n Epoch: 155 |Training loss: 3.3881\n"
          ],
          "name": "stdout"
        },
        {
          "output_type": "stream",
          "text": [
            "\n",
            "training:   8%|▊         | 157/2000 [2:10:14<25:26:37, 49.70s/it]\u001b[A"
          ],
          "name": "stderr"
        },
        {
          "output_type": "stream",
          "text": [
            "/n Epoch: 156 |Training loss: 3.3779\n"
          ],
          "name": "stdout"
        },
        {
          "output_type": "stream",
          "text": [
            "\n",
            "training:   8%|▊         | 158/2000 [2:11:02<25:11:49, 49.25s/it]\u001b[A"
          ],
          "name": "stderr"
        },
        {
          "output_type": "stream",
          "text": [
            "/n Epoch: 157 |Training loss: 3.3722\n"
          ],
          "name": "stdout"
        },
        {
          "output_type": "stream",
          "text": [
            "\n",
            "training:   8%|▊         | 159/2000 [2:11:51<25:01:36, 48.94s/it]\u001b[A"
          ],
          "name": "stderr"
        },
        {
          "output_type": "stream",
          "text": [
            "/n Epoch: 158 |Training loss: 3.3678\n"
          ],
          "name": "stdout"
        },
        {
          "output_type": "stream",
          "text": [
            "\n",
            "training:   8%|▊         | 160/2000 [2:12:39<24:54:39, 48.74s/it]\u001b[A"
          ],
          "name": "stderr"
        },
        {
          "output_type": "stream",
          "text": [
            "/n Epoch: 159 |Training loss: 3.3565\n",
            "validation loss: 3.5551\n"
          ],
          "name": "stdout"
        },
        {
          "output_type": "stream",
          "text": [
            "\n",
            "training:   8%|▊         | 161/2000 [2:13:31<25:22:12, 49.66s/it]\u001b[A"
          ],
          "name": "stderr"
        },
        {
          "output_type": "stream",
          "text": [
            "/n Epoch: 160 |Training loss: 3.3580\n"
          ],
          "name": "stdout"
        },
        {
          "output_type": "stream",
          "text": [
            "\n",
            "training:   8%|▊         | 162/2000 [2:14:19<25:06:44, 49.19s/it]\u001b[A"
          ],
          "name": "stderr"
        },
        {
          "output_type": "stream",
          "text": [
            "/n Epoch: 161 |Training loss: 3.3432\n"
          ],
          "name": "stdout"
        },
        {
          "output_type": "stream",
          "text": [
            "\n",
            "training:   8%|▊         | 163/2000 [2:15:07<24:54:20, 48.81s/it]\u001b[A"
          ],
          "name": "stderr"
        },
        {
          "output_type": "stream",
          "text": [
            "/n Epoch: 162 |Training loss: 3.3809\n"
          ],
          "name": "stdout"
        },
        {
          "output_type": "stream",
          "text": [
            "\n",
            "training:   8%|▊         | 164/2000 [2:15:55<24:44:22, 48.51s/it]\u001b[A"
          ],
          "name": "stderr"
        },
        {
          "output_type": "stream",
          "text": [
            "/n Epoch: 163 |Training loss: 3.3787\n"
          ],
          "name": "stdout"
        },
        {
          "output_type": "stream",
          "text": [
            "\n",
            "training:   8%|▊         | 165/2000 [2:16:42<24:35:53, 48.26s/it]\u001b[A"
          ],
          "name": "stderr"
        },
        {
          "output_type": "stream",
          "text": [
            "/n Epoch: 164 |Training loss: 3.3482\n",
            "validation loss: 3.5312\n"
          ],
          "name": "stdout"
        },
        {
          "output_type": "stream",
          "text": [
            "\n",
            "training:   8%|▊         | 166/2000 [2:17:34<25:06:29, 49.29s/it]\u001b[A"
          ],
          "name": "stderr"
        },
        {
          "output_type": "stream",
          "text": [
            "/n Epoch: 165 |Training loss: 3.3463\n"
          ],
          "name": "stdout"
        },
        {
          "output_type": "stream",
          "text": [
            "\n",
            "training:   8%|▊         | 167/2000 [2:18:22<24:53:30, 48.89s/it]\u001b[A"
          ],
          "name": "stderr"
        },
        {
          "output_type": "stream",
          "text": [
            "/n Epoch: 166 |Training loss: 3.3309\n"
          ],
          "name": "stdout"
        },
        {
          "output_type": "stream",
          "text": [
            "\n",
            "training:   8%|▊         | 168/2000 [2:19:10<24:41:33, 48.52s/it]\u001b[A"
          ],
          "name": "stderr"
        },
        {
          "output_type": "stream",
          "text": [
            "/n Epoch: 167 |Training loss: 3.3274\n"
          ],
          "name": "stdout"
        },
        {
          "output_type": "stream",
          "text": [
            "\n",
            "training:   8%|▊         | 169/2000 [2:19:57<24:34:23, 48.31s/it]\u001b[A"
          ],
          "name": "stderr"
        },
        {
          "output_type": "stream",
          "text": [
            "/n Epoch: 168 |Training loss: 3.3213\n"
          ],
          "name": "stdout"
        },
        {
          "output_type": "stream",
          "text": [
            "\n",
            "training:   8%|▊         | 170/2000 [2:20:45<24:26:45, 48.09s/it]\u001b[A"
          ],
          "name": "stderr"
        },
        {
          "output_type": "stream",
          "text": [
            "/n Epoch: 169 |Training loss: 3.3082\n",
            "validation loss: 3.5073\n"
          ],
          "name": "stdout"
        },
        {
          "output_type": "stream",
          "text": [
            "\n",
            "training:   9%|▊         | 171/2000 [2:21:36<24:57:10, 49.11s/it]\u001b[A"
          ],
          "name": "stderr"
        },
        {
          "output_type": "stream",
          "text": [
            "/n Epoch: 170 |Training loss: 3.3041\n"
          ],
          "name": "stdout"
        },
        {
          "output_type": "stream",
          "text": [
            "\n",
            "training:   9%|▊         | 172/2000 [2:22:25<24:48:56, 48.87s/it]\u001b[A"
          ],
          "name": "stderr"
        },
        {
          "output_type": "stream",
          "text": [
            "/n Epoch: 171 |Training loss: 3.3015\n"
          ],
          "name": "stdout"
        },
        {
          "output_type": "stream",
          "text": [
            "\n",
            "training:   9%|▊         | 173/2000 [2:23:13<24:38:22, 48.55s/it]\u001b[A"
          ],
          "name": "stderr"
        },
        {
          "output_type": "stream",
          "text": [
            "/n Epoch: 172 |Training loss: 3.2882\n"
          ],
          "name": "stdout"
        },
        {
          "output_type": "stream",
          "text": [
            "\n",
            "training:   9%|▊         | 174/2000 [2:24:00<24:27:53, 48.23s/it]\u001b[A"
          ],
          "name": "stderr"
        },
        {
          "output_type": "stream",
          "text": [
            "/n Epoch: 173 |Training loss: 3.3223\n"
          ],
          "name": "stdout"
        },
        {
          "output_type": "stream",
          "text": [
            "\n",
            "training:   9%|▉         | 175/2000 [2:24:48<24:23:34, 48.12s/it]\u001b[A"
          ],
          "name": "stderr"
        },
        {
          "output_type": "stream",
          "text": [
            "/n Epoch: 174 |Training loss: 3.3220\n",
            "validation loss: 3.5015\n"
          ],
          "name": "stdout"
        },
        {
          "output_type": "stream",
          "text": [
            "\n",
            "training:   9%|▉         | 176/2000 [2:25:39<24:51:43, 49.07s/it]\u001b[A"
          ],
          "name": "stderr"
        },
        {
          "output_type": "stream",
          "text": [
            "/n Epoch: 175 |Training loss: 3.2937\n"
          ],
          "name": "stdout"
        },
        {
          "output_type": "stream",
          "text": [
            "\n",
            "training:   9%|▉         | 177/2000 [2:26:27<24:39:16, 48.69s/it]\u001b[A"
          ],
          "name": "stderr"
        },
        {
          "output_type": "stream",
          "text": [
            "/n Epoch: 176 |Training loss: 3.2885\n"
          ],
          "name": "stdout"
        },
        {
          "output_type": "stream",
          "text": [
            "\n",
            "training:   9%|▉         | 178/2000 [2:27:15<24:28:30, 48.36s/it]\u001b[A"
          ],
          "name": "stderr"
        },
        {
          "output_type": "stream",
          "text": [
            "/n Epoch: 177 |Training loss: 3.2770\n"
          ],
          "name": "stdout"
        },
        {
          "output_type": "stream",
          "text": [
            "\n",
            "training:   9%|▉         | 179/2000 [2:28:02<24:23:21, 48.22s/it]\u001b[A"
          ],
          "name": "stderr"
        },
        {
          "output_type": "stream",
          "text": [
            "/n Epoch: 178 |Training loss: 3.2778\n"
          ],
          "name": "stdout"
        },
        {
          "output_type": "stream",
          "text": [
            "\n",
            "training:   9%|▉         | 180/2000 [2:28:50<24:16:09, 48.01s/it]\u001b[A"
          ],
          "name": "stderr"
        },
        {
          "output_type": "stream",
          "text": [
            "/n Epoch: 179 |Training loss: 3.2600\n",
            "validation loss: 3.4998\n"
          ],
          "name": "stdout"
        },
        {
          "output_type": "stream",
          "text": [
            "\n",
            "training:   9%|▉         | 181/2000 [2:29:41<24:46:52, 49.04s/it]\u001b[A"
          ],
          "name": "stderr"
        },
        {
          "output_type": "stream",
          "text": [
            "/n Epoch: 180 |Training loss: 3.2879\n"
          ],
          "name": "stdout"
        },
        {
          "output_type": "stream",
          "text": [
            "\n",
            "training:   9%|▉         | 182/2000 [2:30:29<24:35:00, 48.68s/it]\u001b[A"
          ],
          "name": "stderr"
        },
        {
          "output_type": "stream",
          "text": [
            "/n Epoch: 181 |Training loss: 3.2829\n"
          ],
          "name": "stdout"
        },
        {
          "output_type": "stream",
          "text": [
            "\n",
            "training:   9%|▉         | 183/2000 [2:31:17<24:22:52, 48.31s/it]\u001b[A"
          ],
          "name": "stderr"
        },
        {
          "output_type": "stream",
          "text": [
            "/n Epoch: 182 |Training loss: 3.2506\n"
          ],
          "name": "stdout"
        },
        {
          "output_type": "stream",
          "text": [
            "\n",
            "training:   9%|▉         | 184/2000 [2:32:05<24:23:20, 48.35s/it]\u001b[A"
          ],
          "name": "stderr"
        },
        {
          "output_type": "stream",
          "text": [
            "/n Epoch: 183 |Training loss: 3.2572\n"
          ],
          "name": "stdout"
        },
        {
          "output_type": "stream",
          "text": [
            "\n",
            "training:   9%|▉         | 185/2000 [2:32:54<24:22:42, 48.35s/it]\u001b[A"
          ],
          "name": "stderr"
        },
        {
          "output_type": "stream",
          "text": [
            "/n Epoch: 184 |Training loss: 3.2466\n",
            "validation loss: 3.4614\n"
          ],
          "name": "stdout"
        },
        {
          "output_type": "stream",
          "text": [
            "\n",
            "training:   9%|▉         | 186/2000 [2:33:45<24:52:34, 49.37s/it]\u001b[A"
          ],
          "name": "stderr"
        },
        {
          "output_type": "stream",
          "text": [
            "/n Epoch: 185 |Training loss: 3.2594\n"
          ],
          "name": "stdout"
        },
        {
          "output_type": "stream",
          "text": [
            "\n",
            "training:   9%|▉         | 187/2000 [2:34:34<24:42:04, 49.05s/it]\u001b[A"
          ],
          "name": "stderr"
        },
        {
          "output_type": "stream",
          "text": [
            "/n Epoch: 186 |Training loss: 3.2575\n"
          ],
          "name": "stdout"
        },
        {
          "output_type": "stream",
          "text": [
            "\n",
            "training:   9%|▉         | 188/2000 [2:35:22<24:34:26, 48.82s/it]\u001b[A"
          ],
          "name": "stderr"
        },
        {
          "output_type": "stream",
          "text": [
            "/n Epoch: 187 |Training loss: 3.2477\n"
          ],
          "name": "stdout"
        },
        {
          "output_type": "stream",
          "text": [
            "\n",
            "training:   9%|▉         | 189/2000 [2:36:10<24:25:05, 48.54s/it]\u001b[A"
          ],
          "name": "stderr"
        },
        {
          "output_type": "stream",
          "text": [
            "/n Epoch: 188 |Training loss: 3.2438\n"
          ],
          "name": "stdout"
        },
        {
          "output_type": "stream",
          "text": [
            "\n",
            "training:  10%|▉         | 190/2000 [2:36:58<24:19:40, 48.39s/it]\u001b[A"
          ],
          "name": "stderr"
        },
        {
          "output_type": "stream",
          "text": [
            "/n Epoch: 189 |Training loss: 3.2326\n",
            "validation loss: 3.4223\n"
          ],
          "name": "stdout"
        },
        {
          "output_type": "stream",
          "text": [
            "\n",
            "training:  10%|▉         | 191/2000 [2:37:50<24:50:14, 49.43s/it]\u001b[A"
          ],
          "name": "stderr"
        },
        {
          "output_type": "stream",
          "text": [
            "/n Epoch: 190 |Training loss: 3.2224\n"
          ],
          "name": "stdout"
        },
        {
          "output_type": "stream",
          "text": [
            "\n",
            "training:  10%|▉         | 192/2000 [2:38:37<24:35:21, 48.96s/it]\u001b[A"
          ],
          "name": "stderr"
        },
        {
          "output_type": "stream",
          "text": [
            "/n Epoch: 191 |Training loss: 3.2186\n"
          ],
          "name": "stdout"
        },
        {
          "output_type": "stream",
          "text": [
            "\n",
            "training:  10%|▉         | 193/2000 [2:39:25<24:23:09, 48.58s/it]\u001b[A"
          ],
          "name": "stderr"
        },
        {
          "output_type": "stream",
          "text": [
            "/n Epoch: 192 |Training loss: 3.2037\n"
          ],
          "name": "stdout"
        },
        {
          "output_type": "stream",
          "text": [
            "\n",
            "training:  10%|▉         | 194/2000 [2:40:13<24:14:18, 48.32s/it]\u001b[A"
          ],
          "name": "stderr"
        },
        {
          "output_type": "stream",
          "text": [
            "/n Epoch: 193 |Training loss: 3.1952\n"
          ],
          "name": "stdout"
        },
        {
          "output_type": "stream",
          "text": [
            "\n",
            "training:  10%|▉         | 195/2000 [2:41:01<24:09:46, 48.19s/it]\u001b[A"
          ],
          "name": "stderr"
        },
        {
          "output_type": "stream",
          "text": [
            "/n Epoch: 194 |Training loss: 3.1909\n",
            "validation loss: 3.3888\n"
          ],
          "name": "stdout"
        },
        {
          "output_type": "stream",
          "text": [
            "\n",
            "training:  10%|▉         | 196/2000 [2:41:52<24:35:54, 49.09s/it]\u001b[A"
          ],
          "name": "stderr"
        },
        {
          "output_type": "stream",
          "text": [
            "/n Epoch: 195 |Training loss: 3.1810\n"
          ],
          "name": "stdout"
        },
        {
          "output_type": "stream",
          "text": [
            "\n",
            "training:  10%|▉         | 197/2000 [2:42:40<24:23:10, 48.69s/it]\u001b[A"
          ],
          "name": "stderr"
        },
        {
          "output_type": "stream",
          "text": [
            "/n Epoch: 196 |Training loss: 3.1800\n"
          ],
          "name": "stdout"
        },
        {
          "output_type": "stream",
          "text": [
            "\n",
            "training:  10%|▉         | 198/2000 [2:43:28<24:17:14, 48.52s/it]\u001b[A"
          ],
          "name": "stderr"
        },
        {
          "output_type": "stream",
          "text": [
            "/n Epoch: 197 |Training loss: 3.1752\n"
          ],
          "name": "stdout"
        },
        {
          "output_type": "stream",
          "text": [
            "\n",
            "training:  10%|▉         | 199/2000 [2:44:16<24:13:37, 48.43s/it]\u001b[A"
          ],
          "name": "stderr"
        },
        {
          "output_type": "stream",
          "text": [
            "/n Epoch: 198 |Training loss: 3.1620\n"
          ],
          "name": "stdout"
        },
        {
          "output_type": "stream",
          "text": [
            "\n",
            "training:  10%|█         | 200/2000 [2:45:04<24:10:04, 48.34s/it]\u001b[A"
          ],
          "name": "stderr"
        },
        {
          "output_type": "stream",
          "text": [
            "/n Epoch: 199 |Training loss: 3.1664\n",
            "validation loss: 3.3546\n"
          ],
          "name": "stdout"
        },
        {
          "output_type": "stream",
          "text": [
            "\n",
            "training:  10%|█         | 201/2000 [2:45:56<24:36:39, 49.25s/it]\u001b[A"
          ],
          "name": "stderr"
        },
        {
          "output_type": "stream",
          "text": [
            "/n Epoch: 200 |Training loss: 3.1637\n"
          ],
          "name": "stdout"
        },
        {
          "output_type": "stream",
          "text": [
            "\n",
            "training:  10%|█         | 202/2000 [2:46:44<24:30:24, 49.07s/it]\u001b[A"
          ],
          "name": "stderr"
        },
        {
          "output_type": "stream",
          "text": [
            "/n Epoch: 201 |Training loss: 3.1467\n"
          ],
          "name": "stdout"
        },
        {
          "output_type": "stream",
          "text": [
            "\n",
            "training:  10%|█         | 203/2000 [2:47:33<24:22:58, 48.85s/it]\u001b[A"
          ],
          "name": "stderr"
        },
        {
          "output_type": "stream",
          "text": [
            "/n Epoch: 202 |Training loss: 3.1502\n"
          ],
          "name": "stdout"
        },
        {
          "output_type": "stream",
          "text": [
            "\n",
            "training:  10%|█         | 204/2000 [2:48:21<24:17:29, 48.69s/it]\u001b[A"
          ],
          "name": "stderr"
        },
        {
          "output_type": "stream",
          "text": [
            "/n Epoch: 203 |Training loss: 3.1427\n"
          ],
          "name": "stdout"
        },
        {
          "output_type": "stream",
          "text": [
            "\n",
            "training:  10%|█         | 205/2000 [2:49:09<24:12:48, 48.56s/it]\u001b[A"
          ],
          "name": "stderr"
        },
        {
          "output_type": "stream",
          "text": [
            "/n Epoch: 204 |Training loss: 3.1386\n",
            "validation loss: 3.3336\n"
          ],
          "name": "stdout"
        },
        {
          "output_type": "stream",
          "text": [
            "\n",
            "training:  10%|█         | 206/2000 [2:50:01<24:40:16, 49.51s/it]\u001b[A"
          ],
          "name": "stderr"
        },
        {
          "output_type": "stream",
          "text": [
            "/n Epoch: 205 |Training loss: 3.1272\n"
          ],
          "name": "stdout"
        },
        {
          "output_type": "stream",
          "text": [
            "\n",
            "training:  10%|█         | 207/2000 [2:50:49<24:26:07, 49.06s/it]\u001b[A"
          ],
          "name": "stderr"
        },
        {
          "output_type": "stream",
          "text": [
            "/n Epoch: 206 |Training loss: 3.1227\n"
          ],
          "name": "stdout"
        },
        {
          "output_type": "stream",
          "text": [
            "\n",
            "training:  10%|█         | 208/2000 [2:51:37<24:13:50, 48.68s/it]\u001b[A"
          ],
          "name": "stderr"
        },
        {
          "output_type": "stream",
          "text": [
            "/n Epoch: 207 |Training loss: 3.1206\n"
          ],
          "name": "stdout"
        },
        {
          "output_type": "stream",
          "text": [
            "\n",
            "training:  10%|█         | 209/2000 [2:52:24<24:04:16, 48.38s/it]\u001b[A"
          ],
          "name": "stderr"
        },
        {
          "output_type": "stream",
          "text": [
            "/n Epoch: 208 |Training loss: 3.1118\n"
          ],
          "name": "stdout"
        },
        {
          "output_type": "stream",
          "text": [
            "\n",
            "training:  10%|█         | 210/2000 [2:53:13<24:06:36, 48.49s/it]\u001b[A"
          ],
          "name": "stderr"
        },
        {
          "output_type": "stream",
          "text": [
            "/n Epoch: 209 |Training loss: 3.1069\n",
            "validation loss: 3.3124\n"
          ],
          "name": "stdout"
        },
        {
          "output_type": "stream",
          "text": [
            "\n",
            "training:  11%|█         | 211/2000 [2:54:06<24:41:52, 49.70s/it]\u001b[A"
          ],
          "name": "stderr"
        },
        {
          "output_type": "stream",
          "text": [
            "/n Epoch: 210 |Training loss: 3.0991\n"
          ],
          "name": "stdout"
        },
        {
          "output_type": "stream",
          "text": [
            "\n",
            "training:  11%|█         | 212/2000 [2:54:55<24:36:41, 49.55s/it]\u001b[A"
          ],
          "name": "stderr"
        },
        {
          "output_type": "stream",
          "text": [
            "/n Epoch: 211 |Training loss: 3.0998\n"
          ],
          "name": "stdout"
        },
        {
          "output_type": "stream",
          "text": [
            "\n",
            "training:  11%|█         | 213/2000 [2:55:44<24:35:49, 49.55s/it]\u001b[A"
          ],
          "name": "stderr"
        },
        {
          "output_type": "stream",
          "text": [
            "/n Epoch: 212 |Training loss: 3.0885\n"
          ],
          "name": "stdout"
        },
        {
          "output_type": "stream",
          "text": [
            "\n",
            "training:  11%|█         | 214/2000 [2:56:32<24:20:47, 49.07s/it]\u001b[A"
          ],
          "name": "stderr"
        },
        {
          "output_type": "stream",
          "text": [
            "/n Epoch: 213 |Training loss: 3.0811\n"
          ],
          "name": "stdout"
        },
        {
          "output_type": "stream",
          "text": [
            "\n",
            "training:  11%|█         | 215/2000 [2:57:20<24:11:12, 48.78s/it]\u001b[A"
          ],
          "name": "stderr"
        },
        {
          "output_type": "stream",
          "text": [
            "/n Epoch: 214 |Training loss: 3.0714\n",
            "validation loss: 3.2721\n"
          ],
          "name": "stdout"
        },
        {
          "output_type": "stream",
          "text": [
            "\n",
            "training:  11%|█         | 216/2000 [2:58:12<24:38:58, 49.74s/it]\u001b[A"
          ],
          "name": "stderr"
        },
        {
          "output_type": "stream",
          "text": [
            "/n Epoch: 215 |Training loss: 3.0726\n"
          ],
          "name": "stdout"
        },
        {
          "output_type": "stream",
          "text": [
            "\n",
            "training:  11%|█         | 217/2000 [2:59:00<24:22:12, 49.20s/it]\u001b[A"
          ],
          "name": "stderr"
        },
        {
          "output_type": "stream",
          "text": [
            "/n Epoch: 216 |Training loss: 3.0621\n"
          ],
          "name": "stdout"
        },
        {
          "output_type": "stream",
          "text": [
            "\n",
            "training:  11%|█         | 218/2000 [2:59:48<24:09:15, 48.80s/it]\u001b[A"
          ],
          "name": "stderr"
        },
        {
          "output_type": "stream",
          "text": [
            "/n Epoch: 217 |Training loss: 3.0602\n"
          ],
          "name": "stdout"
        },
        {
          "output_type": "stream",
          "text": [
            "\n",
            "training:  11%|█         | 219/2000 [3:00:36<23:59:35, 48.50s/it]\u001b[A"
          ],
          "name": "stderr"
        },
        {
          "output_type": "stream",
          "text": [
            "/n Epoch: 218 |Training loss: 3.0589\n"
          ],
          "name": "stdout"
        },
        {
          "output_type": "stream",
          "text": [
            "\n",
            "training:  11%|█         | 220/2000 [3:01:24<23:52:59, 48.30s/it]\u001b[A"
          ],
          "name": "stderr"
        },
        {
          "output_type": "stream",
          "text": [
            "/n Epoch: 219 |Training loss: 3.0403\n",
            "validation loss: 3.2524\n"
          ],
          "name": "stdout"
        },
        {
          "output_type": "stream",
          "text": [
            "\n",
            "training:  11%|█         | 221/2000 [3:02:15<24:19:38, 49.23s/it]\u001b[A"
          ],
          "name": "stderr"
        },
        {
          "output_type": "stream",
          "text": [
            "/n Epoch: 220 |Training loss: 3.0597\n"
          ],
          "name": "stdout"
        },
        {
          "output_type": "stream",
          "text": [
            "\n",
            "training:  11%|█         | 222/2000 [3:03:03<24:04:28, 48.74s/it]\u001b[A"
          ],
          "name": "stderr"
        },
        {
          "output_type": "stream",
          "text": [
            "/n Epoch: 221 |Training loss: 3.0434\n"
          ],
          "name": "stdout"
        },
        {
          "output_type": "stream",
          "text": [
            "\n",
            "training:  11%|█         | 223/2000 [3:03:51<23:56:16, 48.50s/it]\u001b[A"
          ],
          "name": "stderr"
        },
        {
          "output_type": "stream",
          "text": [
            "/n Epoch: 222 |Training loss: 3.0609\n"
          ],
          "name": "stdout"
        },
        {
          "output_type": "stream",
          "text": [
            "\n",
            "training:  11%|█         | 224/2000 [3:04:38<23:46:25, 48.19s/it]\u001b[A"
          ],
          "name": "stderr"
        },
        {
          "output_type": "stream",
          "text": [
            "/n Epoch: 223 |Training loss: 3.0369\n"
          ],
          "name": "stdout"
        },
        {
          "output_type": "stream",
          "text": [
            "\n",
            "training:  11%|█▏        | 225/2000 [3:05:26<23:42:46, 48.09s/it]\u001b[A"
          ],
          "name": "stderr"
        },
        {
          "output_type": "stream",
          "text": [
            "/n Epoch: 224 |Training loss: 3.0763\n",
            "validation loss: 3.2416\n"
          ],
          "name": "stdout"
        },
        {
          "output_type": "stream",
          "text": [
            "\n",
            "training:  11%|█▏        | 226/2000 [3:06:17<24:11:05, 49.08s/it]\u001b[A"
          ],
          "name": "stderr"
        },
        {
          "output_type": "stream",
          "text": [
            "/n Epoch: 225 |Training loss: 3.0692\n"
          ],
          "name": "stdout"
        },
        {
          "output_type": "stream",
          "text": [
            "\n",
            "training:  11%|█▏        | 227/2000 [3:07:05<23:57:00, 48.63s/it]\u001b[A"
          ],
          "name": "stderr"
        },
        {
          "output_type": "stream",
          "text": [
            "/n Epoch: 226 |Training loss: 3.0318\n"
          ],
          "name": "stdout"
        },
        {
          "output_type": "stream",
          "text": [
            "\n",
            "training:  11%|█▏        | 228/2000 [3:07:53<23:47:16, 48.33s/it]\u001b[A"
          ],
          "name": "stderr"
        },
        {
          "output_type": "stream",
          "text": [
            "/n Epoch: 227 |Training loss: 3.0312\n"
          ],
          "name": "stdout"
        },
        {
          "output_type": "stream",
          "text": [
            "\n",
            "training:  11%|█▏        | 229/2000 [3:08:40<23:39:02, 48.08s/it]\u001b[A"
          ],
          "name": "stderr"
        },
        {
          "output_type": "stream",
          "text": [
            "/n Epoch: 228 |Training loss: 3.0167\n"
          ],
          "name": "stdout"
        },
        {
          "output_type": "stream",
          "text": [
            "\n",
            "training:  12%|█▏        | 230/2000 [3:09:28<23:35:12, 47.97s/it]\u001b[A"
          ],
          "name": "stderr"
        },
        {
          "output_type": "stream",
          "text": [
            "/n Epoch: 229 |Training loss: 3.0070\n",
            "validation loss: 3.2081\n"
          ],
          "name": "stdout"
        },
        {
          "output_type": "stream",
          "text": [
            "\n",
            "training:  12%|█▏        | 231/2000 [3:10:19<24:05:17, 49.02s/it]\u001b[A"
          ],
          "name": "stderr"
        },
        {
          "output_type": "stream",
          "text": [
            "/n Epoch: 230 |Training loss: 3.0190\n"
          ],
          "name": "stdout"
        },
        {
          "output_type": "stream",
          "text": [
            "\n",
            "training:  12%|█▏        | 232/2000 [3:11:07<23:56:14, 48.74s/it]\u001b[A"
          ],
          "name": "stderr"
        },
        {
          "output_type": "stream",
          "text": [
            "/n Epoch: 231 |Training loss: 2.9965\n"
          ],
          "name": "stdout"
        },
        {
          "output_type": "stream",
          "text": [
            "\n",
            "training:  12%|█▏        | 233/2000 [3:11:55<23:47:25, 48.47s/it]\u001b[A"
          ],
          "name": "stderr"
        },
        {
          "output_type": "stream",
          "text": [
            "/n Epoch: 232 |Training loss: 3.0438\n"
          ],
          "name": "stdout"
        },
        {
          "output_type": "stream",
          "text": [
            "\n",
            "training:  12%|█▏        | 234/2000 [3:12:43<23:39:36, 48.23s/it]\u001b[A"
          ],
          "name": "stderr"
        },
        {
          "output_type": "stream",
          "text": [
            "/n Epoch: 233 |Training loss: 3.0504\n"
          ],
          "name": "stdout"
        },
        {
          "output_type": "stream",
          "text": [
            "\n",
            "training:  12%|█▏        | 235/2000 [3:13:30<23:32:31, 48.02s/it]\u001b[A"
          ],
          "name": "stderr"
        },
        {
          "output_type": "stream",
          "text": [
            "/n Epoch: 234 |Training loss: 3.0083\n",
            "validation loss: 3.2096\n"
          ],
          "name": "stdout"
        },
        {
          "output_type": "stream",
          "text": [
            "\n",
            "training:  12%|█▏        | 236/2000 [3:14:22<24:06:50, 49.21s/it]\u001b[A"
          ],
          "name": "stderr"
        },
        {
          "output_type": "stream",
          "text": [
            "/n Epoch: 235 |Training loss: 3.0024\n"
          ],
          "name": "stdout"
        },
        {
          "output_type": "stream",
          "text": [
            "\n",
            "training:  12%|█▏        | 237/2000 [3:15:10<23:50:46, 48.69s/it]\u001b[A"
          ],
          "name": "stderr"
        },
        {
          "output_type": "stream",
          "text": [
            "/n Epoch: 236 |Training loss: 3.0037\n"
          ],
          "name": "stdout"
        },
        {
          "output_type": "stream",
          "text": [
            "\n",
            "training:  12%|█▏        | 238/2000 [3:15:58<23:42:58, 48.46s/it]\u001b[A"
          ],
          "name": "stderr"
        },
        {
          "output_type": "stream",
          "text": [
            "/n Epoch: 237 |Training loss: 2.9901\n"
          ],
          "name": "stdout"
        },
        {
          "output_type": "stream",
          "text": [
            "\n",
            "training:  12%|█▏        | 239/2000 [3:16:45<23:32:13, 48.12s/it]\u001b[A"
          ],
          "name": "stderr"
        },
        {
          "output_type": "stream",
          "text": [
            "/n Epoch: 238 |Training loss: 2.9824\n"
          ],
          "name": "stdout"
        },
        {
          "output_type": "stream",
          "text": [
            "\n",
            "training:  12%|█▏        | 240/2000 [3:17:33<23:30:33, 48.09s/it]\u001b[A"
          ],
          "name": "stderr"
        },
        {
          "output_type": "stream",
          "text": [
            "/n Epoch: 239 |Training loss: 2.9763\n",
            "validation loss: 3.1651\n"
          ],
          "name": "stdout"
        },
        {
          "output_type": "stream",
          "text": [
            "\n",
            "training:  12%|█▏        | 241/2000 [3:18:25<23:59:44, 49.11s/it]\u001b[A"
          ],
          "name": "stderr"
        },
        {
          "output_type": "stream",
          "text": [
            "/n Epoch: 240 |Training loss: 2.9689\n"
          ],
          "name": "stdout"
        },
        {
          "output_type": "stream",
          "text": [
            "\n",
            "training:  12%|█▏        | 242/2000 [3:19:13<23:49:10, 48.78s/it]\u001b[A"
          ],
          "name": "stderr"
        },
        {
          "output_type": "stream",
          "text": [
            "/n Epoch: 241 |Training loss: 2.9586\n"
          ],
          "name": "stdout"
        },
        {
          "output_type": "stream",
          "text": [
            "\n",
            "training:  12%|█▏        | 243/2000 [3:20:00<23:38:44, 48.45s/it]\u001b[A"
          ],
          "name": "stderr"
        },
        {
          "output_type": "stream",
          "text": [
            "/n Epoch: 242 |Training loss: 2.9472\n"
          ],
          "name": "stdout"
        },
        {
          "output_type": "stream",
          "text": [
            "\n",
            "training:  12%|█▏        | 244/2000 [3:20:48<23:31:29, 48.23s/it]\u001b[A"
          ],
          "name": "stderr"
        },
        {
          "output_type": "stream",
          "text": [
            "/n Epoch: 243 |Training loss: 2.9528\n"
          ],
          "name": "stdout"
        },
        {
          "output_type": "stream",
          "text": [
            "\n",
            "training:  12%|█▏        | 245/2000 [3:21:36<23:24:39, 48.02s/it]\u001b[A"
          ],
          "name": "stderr"
        },
        {
          "output_type": "stream",
          "text": [
            "/n Epoch: 244 |Training loss: 2.9656\n",
            "validation loss: 3.1748\n"
          ],
          "name": "stdout"
        },
        {
          "output_type": "stream",
          "text": [
            "\n",
            "training:  12%|█▏        | 246/2000 [3:22:27<23:55:41, 49.11s/it]\u001b[A"
          ],
          "name": "stderr"
        },
        {
          "output_type": "stream",
          "text": [
            "/n Epoch: 245 |Training loss: 2.9520\n"
          ],
          "name": "stdout"
        },
        {
          "output_type": "stream",
          "text": [
            "\n",
            "training:  12%|█▏        | 247/2000 [3:23:15<23:42:33, 48.69s/it]\u001b[A"
          ],
          "name": "stderr"
        },
        {
          "output_type": "stream",
          "text": [
            "/n Epoch: 246 |Training loss: 2.9688\n"
          ],
          "name": "stdout"
        },
        {
          "output_type": "stream",
          "text": [
            "\n",
            "training:  12%|█▏        | 248/2000 [3:24:03<23:35:21, 48.47s/it]\u001b[A"
          ],
          "name": "stderr"
        },
        {
          "output_type": "stream",
          "text": [
            "/n Epoch: 247 |Training loss: 2.9459\n"
          ],
          "name": "stdout"
        },
        {
          "output_type": "stream",
          "text": [
            "\n",
            "training:  12%|█▏        | 249/2000 [3:24:51<23:31:21, 48.36s/it]\u001b[A"
          ],
          "name": "stderr"
        },
        {
          "output_type": "stream",
          "text": [
            "/n Epoch: 248 |Training loss: 2.9559\n"
          ],
          "name": "stdout"
        },
        {
          "output_type": "stream",
          "text": [
            "\n",
            "training:  12%|█▎        | 250/2000 [3:25:39<23:26:45, 48.23s/it]\u001b[A"
          ],
          "name": "stderr"
        },
        {
          "output_type": "stream",
          "text": [
            "/n Epoch: 249 |Training loss: 2.9490\n",
            "validation loss: 3.1282\n"
          ],
          "name": "stdout"
        },
        {
          "output_type": "stream",
          "text": [
            "\n",
            "training:  13%|█▎        | 251/2000 [3:26:31<23:55:41, 49.25s/it]\u001b[A"
          ],
          "name": "stderr"
        },
        {
          "output_type": "stream",
          "text": [
            "/n Epoch: 250 |Training loss: 2.9366\n"
          ],
          "name": "stdout"
        },
        {
          "output_type": "stream",
          "text": [
            "\n",
            "training:  13%|█▎        | 252/2000 [3:27:18<23:41:32, 48.79s/it]\u001b[A"
          ],
          "name": "stderr"
        },
        {
          "output_type": "stream",
          "text": [
            "/n Epoch: 251 |Training loss: 2.9336\n"
          ],
          "name": "stdout"
        },
        {
          "output_type": "stream",
          "text": [
            "\n",
            "training:  13%|█▎        | 253/2000 [3:28:06<23:32:11, 48.50s/it]\u001b[A"
          ],
          "name": "stderr"
        },
        {
          "output_type": "stream",
          "text": [
            "/n Epoch: 252 |Training loss: 2.9274\n"
          ],
          "name": "stdout"
        },
        {
          "output_type": "stream",
          "text": [
            "\n",
            "training:  13%|█▎        | 254/2000 [3:28:54<23:24:10, 48.25s/it]\u001b[A"
          ],
          "name": "stderr"
        },
        {
          "output_type": "stream",
          "text": [
            "/n Epoch: 253 |Training loss: 2.9156\n"
          ],
          "name": "stdout"
        },
        {
          "output_type": "stream",
          "text": [
            "\n",
            "training:  13%|█▎        | 255/2000 [3:29:42<23:21:19, 48.18s/it]\u001b[A"
          ],
          "name": "stderr"
        },
        {
          "output_type": "stream",
          "text": [
            "/n Epoch: 254 |Training loss: 2.9197\n",
            "validation loss: 3.0929\n"
          ],
          "name": "stdout"
        },
        {
          "output_type": "stream",
          "text": [
            "\n",
            "training:  13%|█▎        | 256/2000 [3:30:33<23:48:57, 49.16s/it]\u001b[A"
          ],
          "name": "stderr"
        },
        {
          "output_type": "stream",
          "text": [
            "/n Epoch: 255 |Training loss: 2.9158\n"
          ],
          "name": "stdout"
        },
        {
          "output_type": "stream",
          "text": [
            "\n",
            "training:  13%|█▎        | 257/2000 [3:31:21<23:34:55, 48.71s/it]\u001b[A"
          ],
          "name": "stderr"
        },
        {
          "output_type": "stream",
          "text": [
            "/n Epoch: 256 |Training loss: 2.9016\n"
          ],
          "name": "stdout"
        },
        {
          "output_type": "stream",
          "text": [
            "\n",
            "training:  13%|█▎        | 258/2000 [3:32:09<23:26:20, 48.44s/it]\u001b[A"
          ],
          "name": "stderr"
        },
        {
          "output_type": "stream",
          "text": [
            "/n Epoch: 257 |Training loss: 2.8900\n"
          ],
          "name": "stdout"
        },
        {
          "output_type": "stream",
          "text": [
            "\n",
            "training:  13%|█▎        | 259/2000 [3:32:56<23:16:32, 48.13s/it]\u001b[A"
          ],
          "name": "stderr"
        },
        {
          "output_type": "stream",
          "text": [
            "/n Epoch: 258 |Training loss: 2.8973\n"
          ],
          "name": "stdout"
        },
        {
          "output_type": "stream",
          "text": [
            "\n",
            "training:  13%|█▎        | 260/2000 [3:33:44<23:14:04, 48.07s/it]\u001b[A"
          ],
          "name": "stderr"
        },
        {
          "output_type": "stream",
          "text": [
            "/n Epoch: 259 |Training loss: 2.8758\n",
            "validation loss: 3.0758\n"
          ],
          "name": "stdout"
        },
        {
          "output_type": "stream",
          "text": [
            "\n",
            "training:  13%|█▎        | 261/2000 [3:34:35<23:41:29, 49.04s/it]\u001b[A"
          ],
          "name": "stderr"
        },
        {
          "output_type": "stream",
          "text": [
            "/n Epoch: 260 |Training loss: 2.9018\n"
          ],
          "name": "stdout"
        },
        {
          "output_type": "stream",
          "text": [
            "\n",
            "training:  13%|█▎        | 262/2000 [3:35:23<23:28:45, 48.63s/it]\u001b[A"
          ],
          "name": "stderr"
        },
        {
          "output_type": "stream",
          "text": [
            "/n Epoch: 261 |Training loss: 2.8952\n"
          ],
          "name": "stdout"
        },
        {
          "output_type": "stream",
          "text": [
            "\n",
            "training:  13%|█▎        | 263/2000 [3:36:11<23:19:56, 48.36s/it]\u001b[A"
          ],
          "name": "stderr"
        },
        {
          "output_type": "stream",
          "text": [
            "/n Epoch: 262 |Training loss: 2.8685\n"
          ],
          "name": "stdout"
        },
        {
          "output_type": "stream",
          "text": [
            "\n",
            "training:  13%|█▎        | 264/2000 [3:36:58<23:11:39, 48.10s/it]\u001b[A"
          ],
          "name": "stderr"
        },
        {
          "output_type": "stream",
          "text": [
            "/n Epoch: 263 |Training loss: 2.8726\n"
          ],
          "name": "stdout"
        },
        {
          "output_type": "stream",
          "text": [
            "\n",
            "training:  13%|█▎        | 265/2000 [3:37:46<23:05:39, 47.92s/it]\u001b[A"
          ],
          "name": "stderr"
        },
        {
          "output_type": "stream",
          "text": [
            "/n Epoch: 264 |Training loss: 2.8629\n",
            "validation loss: 3.0411\n"
          ],
          "name": "stdout"
        },
        {
          "output_type": "stream",
          "text": [
            "\n",
            "training:  13%|█▎        | 266/2000 [3:38:37<23:32:17, 48.87s/it]\u001b[A"
          ],
          "name": "stderr"
        },
        {
          "output_type": "stream",
          "text": [
            "/n Epoch: 265 |Training loss: 2.8536\n"
          ],
          "name": "stdout"
        },
        {
          "output_type": "stream",
          "text": [
            "\n",
            "training:  13%|█▎        | 267/2000 [3:39:24<23:18:21, 48.41s/it]\u001b[A"
          ],
          "name": "stderr"
        },
        {
          "output_type": "stream",
          "text": [
            "/n Epoch: 266 |Training loss: 2.8593\n"
          ],
          "name": "stdout"
        },
        {
          "output_type": "stream",
          "text": [
            "\n",
            "training:  13%|█▎        | 268/2000 [3:40:12<23:12:35, 48.24s/it]\u001b[A"
          ],
          "name": "stderr"
        },
        {
          "output_type": "stream",
          "text": [
            "/n Epoch: 267 |Training loss: 2.8524\n"
          ],
          "name": "stdout"
        },
        {
          "output_type": "stream",
          "text": [
            "\n",
            "training:  13%|█▎        | 269/2000 [3:41:00<23:05:23, 48.02s/it]\u001b[A"
          ],
          "name": "stderr"
        },
        {
          "output_type": "stream",
          "text": [
            "/n Epoch: 268 |Training loss: 2.8366\n"
          ],
          "name": "stdout"
        },
        {
          "output_type": "stream",
          "text": [
            "\n",
            "training:  14%|█▎        | 270/2000 [3:41:47<23:01:31, 47.91s/it]\u001b[A"
          ],
          "name": "stderr"
        },
        {
          "output_type": "stream",
          "text": [
            "/n Epoch: 269 |Training loss: 2.8416\n",
            "validation loss: 3.0134\n"
          ],
          "name": "stdout"
        },
        {
          "output_type": "stream",
          "text": [
            "\n",
            "training:  14%|█▎        | 271/2000 [3:42:39<23:29:46, 48.92s/it]\u001b[A"
          ],
          "name": "stderr"
        },
        {
          "output_type": "stream",
          "text": [
            "/n Epoch: 270 |Training loss: 2.8378\n"
          ],
          "name": "stdout"
        },
        {
          "output_type": "stream",
          "text": [
            "\n",
            "training:  14%|█▎        | 272/2000 [3:43:26<23:15:20, 48.45s/it]\u001b[A"
          ],
          "name": "stderr"
        },
        {
          "output_type": "stream",
          "text": [
            "/n Epoch: 271 |Training loss: 2.8235\n"
          ],
          "name": "stdout"
        },
        {
          "output_type": "stream",
          "text": [
            "\n",
            "training:  14%|█▎        | 273/2000 [3:44:13<23:06:16, 48.16s/it]\u001b[A"
          ],
          "name": "stderr"
        },
        {
          "output_type": "stream",
          "text": [
            "/n Epoch: 272 |Training loss: 2.8254\n"
          ],
          "name": "stdout"
        },
        {
          "output_type": "stream",
          "text": [
            "\n",
            "training:  14%|█▎        | 274/2000 [3:45:01<23:00:28, 47.99s/it]\u001b[A"
          ],
          "name": "stderr"
        },
        {
          "output_type": "stream",
          "text": [
            "/n Epoch: 273 |Training loss: 2.8183\n"
          ],
          "name": "stdout"
        },
        {
          "output_type": "stream",
          "text": [
            "\n",
            "training:  14%|█▍        | 275/2000 [3:45:49<22:56:14, 47.87s/it]\u001b[A"
          ],
          "name": "stderr"
        },
        {
          "output_type": "stream",
          "text": [
            "/n Epoch: 274 |Training loss: 2.8328\n",
            "validation loss: 2.9880\n"
          ],
          "name": "stdout"
        },
        {
          "output_type": "stream",
          "text": [
            "\n",
            "training:  14%|█▍        | 276/2000 [3:46:40<23:24:24, 48.88s/it]\u001b[A"
          ],
          "name": "stderr"
        },
        {
          "output_type": "stream",
          "text": [
            "/n Epoch: 275 |Training loss: 2.8223\n"
          ],
          "name": "stdout"
        },
        {
          "output_type": "stream",
          "text": [
            "\n",
            "training:  14%|█▍        | 277/2000 [3:47:27<23:12:32, 48.49s/it]\u001b[A"
          ],
          "name": "stderr"
        },
        {
          "output_type": "stream",
          "text": [
            "/n Epoch: 276 |Training loss: 2.8213\n"
          ],
          "name": "stdout"
        },
        {
          "output_type": "stream",
          "text": [
            "\n",
            "training:  14%|█▍        | 278/2000 [3:48:15<23:05:50, 48.29s/it]\u001b[A"
          ],
          "name": "stderr"
        },
        {
          "output_type": "stream",
          "text": [
            "/n Epoch: 277 |Training loss: 2.8068\n"
          ],
          "name": "stdout"
        },
        {
          "output_type": "stream",
          "text": [
            "\n",
            "training:  14%|█▍        | 279/2000 [3:49:03<22:59:10, 48.08s/it]\u001b[A"
          ],
          "name": "stderr"
        },
        {
          "output_type": "stream",
          "text": [
            "/n Epoch: 278 |Training loss: 2.8010\n"
          ],
          "name": "stdout"
        },
        {
          "output_type": "stream",
          "text": [
            "\n",
            "training:  14%|█▍        | 280/2000 [3:49:51<22:56:38, 48.02s/it]\u001b[A"
          ],
          "name": "stderr"
        },
        {
          "output_type": "stream",
          "text": [
            "/n Epoch: 279 |Training loss: 2.7996\n",
            "validation loss: 2.9527\n"
          ],
          "name": "stdout"
        },
        {
          "output_type": "stream",
          "text": [
            "\n",
            "training:  14%|█▍        | 281/2000 [3:50:43<23:29:42, 49.20s/it]\u001b[A"
          ],
          "name": "stderr"
        },
        {
          "output_type": "stream",
          "text": [
            "/n Epoch: 280 |Training loss: 2.7943\n"
          ],
          "name": "stdout"
        },
        {
          "output_type": "stream",
          "text": [
            "\n",
            "training:  14%|█▍        | 282/2000 [3:51:30<23:15:00, 48.72s/it]\u001b[A"
          ],
          "name": "stderr"
        },
        {
          "output_type": "stream",
          "text": [
            "/n Epoch: 281 |Training loss: 2.7881\n"
          ],
          "name": "stdout"
        },
        {
          "output_type": "stream",
          "text": [
            "\n",
            "training:  14%|█▍        | 283/2000 [3:52:18<23:04:33, 48.38s/it]\u001b[A"
          ],
          "name": "stderr"
        },
        {
          "output_type": "stream",
          "text": [
            "/n Epoch: 282 |Training loss: 2.7788\n"
          ],
          "name": "stdout"
        },
        {
          "output_type": "stream",
          "text": [
            "\n",
            "training:  14%|█▍        | 284/2000 [3:53:05<22:57:13, 48.15s/it]\u001b[A"
          ],
          "name": "stderr"
        },
        {
          "output_type": "stream",
          "text": [
            "/n Epoch: 283 |Training loss: 2.7755\n"
          ],
          "name": "stdout"
        },
        {
          "output_type": "stream",
          "text": [
            "\n",
            "training:  14%|█▍        | 285/2000 [3:53:53<22:52:10, 48.01s/it]\u001b[A"
          ],
          "name": "stderr"
        },
        {
          "output_type": "stream",
          "text": [
            "/n Epoch: 284 |Training loss: 2.7635\n",
            "validation loss: 2.9155\n"
          ],
          "name": "stdout"
        },
        {
          "output_type": "stream",
          "text": [
            "\n",
            "training:  14%|█▍        | 286/2000 [3:54:45<23:27:33, 49.27s/it]\u001b[A"
          ],
          "name": "stderr"
        },
        {
          "output_type": "stream",
          "text": [
            "/n Epoch: 285 |Training loss: 2.7650\n"
          ],
          "name": "stdout"
        },
        {
          "output_type": "stream",
          "text": [
            "\n",
            "training:  14%|█▍        | 287/2000 [3:55:37<23:43:02, 49.84s/it]\u001b[A"
          ],
          "name": "stderr"
        },
        {
          "output_type": "stream",
          "text": [
            "/n Epoch: 286 |Training loss: 2.7522\n"
          ],
          "name": "stdout"
        },
        {
          "output_type": "stream",
          "text": [
            "\n",
            "training:  14%|█▍        | 288/2000 [3:56:27<23:44:36, 49.93s/it]\u001b[A"
          ],
          "name": "stderr"
        },
        {
          "output_type": "stream",
          "text": [
            "/n Epoch: 287 |Training loss: 2.7551\n"
          ],
          "name": "stdout"
        },
        {
          "output_type": "stream",
          "text": [
            "\n",
            "training:  14%|█▍        | 289/2000 [3:57:17<23:44:03, 49.94s/it]\u001b[A"
          ],
          "name": "stderr"
        },
        {
          "output_type": "stream",
          "text": [
            "/n Epoch: 288 |Training loss: 2.7465\n"
          ],
          "name": "stdout"
        },
        {
          "output_type": "stream",
          "text": [
            "\n",
            "training:  14%|█▍        | 290/2000 [3:58:07<23:44:12, 49.97s/it]\u001b[A"
          ],
          "name": "stderr"
        },
        {
          "output_type": "stream",
          "text": [
            "/n Epoch: 289 |Training loss: 2.7355\n",
            "validation loss: 2.8867\n"
          ],
          "name": "stdout"
        },
        {
          "output_type": "stream",
          "text": [
            "\n",
            "training:  15%|█▍        | 291/2000 [3:59:02<24:25:12, 51.44s/it]\u001b[A"
          ],
          "name": "stderr"
        },
        {
          "output_type": "stream",
          "text": [
            "/n Epoch: 290 |Training loss: 2.7437\n"
          ],
          "name": "stdout"
        },
        {
          "output_type": "stream",
          "text": [
            "\n",
            "training:  15%|█▍        | 292/2000 [3:59:54<24:30:29, 51.66s/it]\u001b[A"
          ],
          "name": "stderr"
        },
        {
          "output_type": "stream",
          "text": [
            "/n Epoch: 291 |Training loss: 2.7277\n"
          ],
          "name": "stdout"
        },
        {
          "output_type": "stream",
          "text": [
            "\n",
            "training:  15%|█▍        | 293/2000 [4:00:46<24:37:28, 51.93s/it]\u001b[A"
          ],
          "name": "stderr"
        },
        {
          "output_type": "stream",
          "text": [
            "/n Epoch: 292 |Training loss: 2.7378\n"
          ],
          "name": "stdout"
        },
        {
          "output_type": "stream",
          "text": [
            "\n",
            "training:  15%|█▍        | 294/2000 [4:01:37<24:30:07, 51.70s/it]\u001b[A"
          ],
          "name": "stderr"
        },
        {
          "output_type": "stream",
          "text": [
            "/n Epoch: 293 |Training loss: 2.7259\n"
          ],
          "name": "stdout"
        },
        {
          "output_type": "stream",
          "text": [
            "\n",
            "training:  15%|█▍        | 295/2000 [4:02:27<24:14:37, 51.19s/it]\u001b[A"
          ],
          "name": "stderr"
        },
        {
          "output_type": "stream",
          "text": [
            "/n Epoch: 294 |Training loss: 2.7263\n",
            "validation loss: 2.8825\n"
          ],
          "name": "stdout"
        },
        {
          "output_type": "stream",
          "text": [
            "\n",
            "training:  15%|█▍        | 296/2000 [4:03:23<24:52:35, 52.56s/it]\u001b[A"
          ],
          "name": "stderr"
        },
        {
          "output_type": "stream",
          "text": [
            "/n Epoch: 295 |Training loss: 2.7214\n"
          ],
          "name": "stdout"
        },
        {
          "output_type": "stream",
          "text": [
            "\n",
            "training:  15%|█▍        | 297/2000 [4:04:15<24:48:49, 52.45s/it]\u001b[A"
          ],
          "name": "stderr"
        },
        {
          "output_type": "stream",
          "text": [
            "/n Epoch: 296 |Training loss: 2.7182\n"
          ],
          "name": "stdout"
        },
        {
          "output_type": "stream",
          "text": [
            "\n",
            "training:  15%|█▍        | 298/2000 [4:05:07<24:37:38, 52.09s/it]\u001b[A"
          ],
          "name": "stderr"
        },
        {
          "output_type": "stream",
          "text": [
            "/n Epoch: 297 |Training loss: 2.7015\n"
          ],
          "name": "stdout"
        },
        {
          "output_type": "stream",
          "text": [
            "\n",
            "training:  15%|█▍        | 299/2000 [4:05:58<24:28:25, 51.80s/it]\u001b[A"
          ],
          "name": "stderr"
        },
        {
          "output_type": "stream",
          "text": [
            "/n Epoch: 298 |Training loss: 2.7105\n"
          ],
          "name": "stdout"
        },
        {
          "output_type": "stream",
          "text": [
            "\n",
            "training:  15%|█▌        | 300/2000 [4:06:49<24:24:36, 51.69s/it]\u001b[A"
          ],
          "name": "stderr"
        },
        {
          "output_type": "stream",
          "text": [
            "/n Epoch: 299 |Training loss: 2.7104\n",
            "validation loss: 2.8549\n"
          ],
          "name": "stdout"
        },
        {
          "output_type": "stream",
          "text": [
            "\n",
            "training:  15%|█▌        | 301/2000 [4:07:44<24:52:38, 52.71s/it]\u001b[A"
          ],
          "name": "stderr"
        },
        {
          "output_type": "stream",
          "text": [
            "/n Epoch: 300 |Training loss: 2.6889\n"
          ],
          "name": "stdout"
        },
        {
          "output_type": "stream",
          "text": [
            "\n",
            "training:  15%|█▌        | 302/2000 [4:08:34<24:29:05, 51.91s/it]\u001b[A"
          ],
          "name": "stderr"
        },
        {
          "output_type": "stream",
          "text": [
            "/n Epoch: 301 |Training loss: 2.7127\n"
          ],
          "name": "stdout"
        },
        {
          "output_type": "stream",
          "text": [
            "\n",
            "training:  15%|█▌        | 303/2000 [4:09:24<24:07:02, 51.16s/it]\u001b[A"
          ],
          "name": "stderr"
        },
        {
          "output_type": "stream",
          "text": [
            "/n Epoch: 302 |Training loss: 2.7041\n"
          ],
          "name": "stdout"
        },
        {
          "output_type": "stream",
          "text": [
            "\n",
            "training:  15%|█▌        | 304/2000 [4:10:12<23:45:20, 50.42s/it]\u001b[A"
          ],
          "name": "stderr"
        },
        {
          "output_type": "stream",
          "text": [
            "/n Epoch: 303 |Training loss: 2.6934\n"
          ],
          "name": "stdout"
        },
        {
          "output_type": "stream",
          "text": [
            "\n",
            "training:  15%|█▌        | 305/2000 [4:11:01<23:31:14, 49.96s/it]\u001b[A"
          ],
          "name": "stderr"
        },
        {
          "output_type": "stream",
          "text": [
            "/n Epoch: 304 |Training loss: 2.6816\n",
            "validation loss: 2.8471\n"
          ],
          "name": "stdout"
        },
        {
          "output_type": "stream",
          "text": [
            "\n",
            "training:  15%|█▌        | 306/2000 [4:11:53<23:48:49, 50.61s/it]\u001b[A"
          ],
          "name": "stderr"
        },
        {
          "output_type": "stream",
          "text": [
            "/n Epoch: 305 |Training loss: 2.6929\n"
          ],
          "name": "stdout"
        },
        {
          "output_type": "stream",
          "text": [
            "\n",
            "training:  15%|█▌        | 307/2000 [4:12:42<23:34:01, 50.11s/it]\u001b[A"
          ],
          "name": "stderr"
        },
        {
          "output_type": "stream",
          "text": [
            "/n Epoch: 306 |Training loss: 2.6862\n"
          ],
          "name": "stdout"
        },
        {
          "output_type": "stream",
          "text": [
            "\n",
            "training:  15%|█▌        | 308/2000 [4:13:32<23:25:04, 49.83s/it]\u001b[A"
          ],
          "name": "stderr"
        },
        {
          "output_type": "stream",
          "text": [
            "/n Epoch: 307 |Training loss: 2.6814\n"
          ],
          "name": "stdout"
        },
        {
          "output_type": "stream",
          "text": [
            "\n",
            "training:  15%|█▌        | 309/2000 [4:14:22<23:27:30, 49.94s/it]\u001b[A"
          ],
          "name": "stderr"
        },
        {
          "output_type": "stream",
          "text": [
            "/n Epoch: 308 |Training loss: 2.6679\n"
          ],
          "name": "stdout"
        },
        {
          "output_type": "stream",
          "text": [
            "\n",
            "training:  16%|█▌        | 310/2000 [4:15:13<23:39:17, 50.39s/it]\u001b[A"
          ],
          "name": "stderr"
        },
        {
          "output_type": "stream",
          "text": [
            "/n Epoch: 309 |Training loss: 2.6669\n",
            "validation loss: 2.8136\n"
          ],
          "name": "stdout"
        },
        {
          "output_type": "stream",
          "text": [
            "\n",
            "training:  16%|█▌        | 311/2000 [4:16:10<24:29:37, 52.21s/it]\u001b[A"
          ],
          "name": "stderr"
        },
        {
          "output_type": "stream",
          "text": [
            "/n Epoch: 310 |Training loss: 2.6674\n"
          ],
          "name": "stdout"
        },
        {
          "output_type": "stream",
          "text": [
            "\n",
            "training:  16%|█▌        | 312/2000 [4:17:02<24:30:57, 52.29s/it]\u001b[A"
          ],
          "name": "stderr"
        },
        {
          "output_type": "stream",
          "text": [
            "/n Epoch: 311 |Training loss: 2.6592\n"
          ],
          "name": "stdout"
        },
        {
          "output_type": "stream",
          "text": [
            "\n",
            "training:  16%|█▌        | 313/2000 [4:17:55<24:31:28, 52.33s/it]\u001b[A"
          ],
          "name": "stderr"
        },
        {
          "output_type": "stream",
          "text": [
            "/n Epoch: 312 |Training loss: 2.6485\n"
          ],
          "name": "stdout"
        },
        {
          "output_type": "stream",
          "text": [
            "\n",
            "training:  16%|█▌        | 314/2000 [4:18:47<24:34:43, 52.48s/it]\u001b[A"
          ],
          "name": "stderr"
        },
        {
          "output_type": "stream",
          "text": [
            "/n Epoch: 313 |Training loss: 2.6542\n"
          ],
          "name": "stdout"
        },
        {
          "output_type": "stream",
          "text": [
            "\n",
            "training:  16%|█▌        | 315/2000 [4:19:40<24:32:57, 52.45s/it]\u001b[A"
          ],
          "name": "stderr"
        },
        {
          "output_type": "stream",
          "text": [
            "/n Epoch: 314 |Training loss: 2.6402\n",
            "validation loss: 2.7940\n"
          ],
          "name": "stdout"
        },
        {
          "output_type": "stream",
          "text": [
            "\n",
            "training:  16%|█▌        | 316/2000 [4:20:36<25:08:04, 53.73s/it]\u001b[A"
          ],
          "name": "stderr"
        },
        {
          "output_type": "stream",
          "text": [
            "/n Epoch: 315 |Training loss: 2.6425\n"
          ],
          "name": "stdout"
        },
        {
          "output_type": "stream",
          "text": [
            "\n",
            "training:  16%|█▌        | 317/2000 [4:21:31<25:10:04, 53.84s/it]\u001b[A"
          ],
          "name": "stderr"
        },
        {
          "output_type": "stream",
          "text": [
            "/n Epoch: 316 |Training loss: 2.6379\n"
          ],
          "name": "stdout"
        },
        {
          "output_type": "stream",
          "text": [
            "\n",
            "training:  16%|█▌        | 318/2000 [4:22:25<25:14:11, 54.01s/it]\u001b[A"
          ],
          "name": "stderr"
        },
        {
          "output_type": "stream",
          "text": [
            "/n Epoch: 317 |Training loss: 2.6338\n"
          ],
          "name": "stdout"
        },
        {
          "output_type": "stream",
          "text": [
            "\n",
            "training:  16%|█▌        | 319/2000 [4:23:19<25:15:35, 54.10s/it]\u001b[A"
          ],
          "name": "stderr"
        },
        {
          "output_type": "stream",
          "text": [
            "/n Epoch: 318 |Training loss: 2.6338\n"
          ],
          "name": "stdout"
        },
        {
          "output_type": "stream",
          "text": [
            "\n",
            "training:  16%|█▌        | 320/2000 [4:24:14<25:16:36, 54.16s/it]\u001b[A"
          ],
          "name": "stderr"
        },
        {
          "output_type": "stream",
          "text": [
            "/n Epoch: 319 |Training loss: 2.6302\n",
            "validation loss: 2.8391\n"
          ],
          "name": "stdout"
        },
        {
          "output_type": "stream",
          "text": [
            "\n",
            "training:  16%|█▌        | 321/2000 [4:25:12<25:51:30, 55.44s/it]\u001b[A"
          ],
          "name": "stderr"
        },
        {
          "output_type": "stream",
          "text": [
            "/n Epoch: 320 |Training loss: 2.6113\n"
          ],
          "name": "stdout"
        },
        {
          "output_type": "stream",
          "text": [
            "\n",
            "training:  16%|█▌        | 322/2000 [4:26:06<25:42:18, 55.15s/it]\u001b[A"
          ],
          "name": "stderr"
        },
        {
          "output_type": "stream",
          "text": [
            "/n Epoch: 321 |Training loss: 2.6464\n"
          ],
          "name": "stdout"
        },
        {
          "output_type": "stream",
          "text": [
            "\n",
            "training:  16%|█▌        | 323/2000 [4:27:01<25:34:58, 54.92s/it]\u001b[A"
          ],
          "name": "stderr"
        },
        {
          "output_type": "stream",
          "text": [
            "/n Epoch: 322 |Training loss: 2.6231\n"
          ],
          "name": "stdout"
        },
        {
          "output_type": "stream",
          "text": [
            "\n",
            "training:  16%|█▌        | 324/2000 [4:27:55<25:26:18, 54.64s/it]\u001b[A"
          ],
          "name": "stderr"
        },
        {
          "output_type": "stream",
          "text": [
            "/n Epoch: 323 |Training loss: 2.6826\n"
          ],
          "name": "stdout"
        },
        {
          "output_type": "stream",
          "text": [
            "\n",
            "training:  16%|█▋        | 325/2000 [4:28:49<25:20:10, 54.45s/it]\u001b[A"
          ],
          "name": "stderr"
        },
        {
          "output_type": "stream",
          "text": [
            "/n Epoch: 324 |Training loss: 2.6991\n",
            "validation loss: 2.8164\n"
          ],
          "name": "stdout"
        },
        {
          "output_type": "stream",
          "text": [
            "\n",
            "training:  16%|█▋        | 326/2000 [4:29:47<25:49:21, 55.53s/it]\u001b[A"
          ],
          "name": "stderr"
        },
        {
          "output_type": "stream",
          "text": [
            "/n Epoch: 325 |Training loss: 2.6468\n"
          ],
          "name": "stdout"
        },
        {
          "output_type": "stream",
          "text": [
            "\n",
            "training:  16%|█▋        | 327/2000 [4:30:41<25:34:56, 55.05s/it]\u001b[A"
          ],
          "name": "stderr"
        },
        {
          "output_type": "stream",
          "text": [
            "/n Epoch: 326 |Training loss: 2.6463\n"
          ],
          "name": "stdout"
        },
        {
          "output_type": "stream",
          "text": [
            "\n",
            "training:  16%|█▋        | 328/2000 [4:31:34<25:21:13, 54.59s/it]\u001b[A"
          ],
          "name": "stderr"
        },
        {
          "output_type": "stream",
          "text": [
            "/n Epoch: 327 |Training loss: 2.6365\n"
          ],
          "name": "stdout"
        },
        {
          "output_type": "stream",
          "text": [
            "\n",
            "training:  16%|█▋        | 329/2000 [4:32:27<25:07:16, 54.12s/it]\u001b[A"
          ],
          "name": "stderr"
        },
        {
          "output_type": "stream",
          "text": [
            "/n Epoch: 328 |Training loss: 2.6200\n"
          ],
          "name": "stdout"
        },
        {
          "output_type": "stream",
          "text": [
            "\n",
            "training:  16%|█▋        | 330/2000 [4:33:20<24:50:48, 53.56s/it]\u001b[A"
          ],
          "name": "stderr"
        },
        {
          "output_type": "stream",
          "text": [
            "/n Epoch: 329 |Training loss: 2.6159\n",
            "validation loss: 2.7626\n"
          ],
          "name": "stdout"
        },
        {
          "output_type": "stream",
          "text": [
            "\n",
            "training:  17%|█▋        | 331/2000 [4:34:15<25:06:40, 54.16s/it]\u001b[A"
          ],
          "name": "stderr"
        },
        {
          "output_type": "stream",
          "text": [
            "/n Epoch: 330 |Training loss: 2.6098\n"
          ],
          "name": "stdout"
        },
        {
          "output_type": "stream",
          "text": [
            "\n",
            "training:  17%|█▋        | 332/2000 [4:35:06<24:35:07, 53.06s/it]\u001b[A"
          ],
          "name": "stderr"
        },
        {
          "output_type": "stream",
          "text": [
            "/n Epoch: 331 |Training loss: 2.6059\n"
          ],
          "name": "stdout"
        },
        {
          "output_type": "stream",
          "text": [
            "\n",
            "training:  17%|█▋        | 333/2000 [4:35:58<24:29:49, 52.90s/it]\u001b[A"
          ],
          "name": "stderr"
        },
        {
          "output_type": "stream",
          "text": [
            "/n Epoch: 332 |Training loss: 2.5951\n"
          ],
          "name": "stdout"
        },
        {
          "output_type": "stream",
          "text": [
            "\n",
            "training:  17%|█▋        | 334/2000 [4:36:51<24:27:37, 52.86s/it]\u001b[A"
          ],
          "name": "stderr"
        },
        {
          "output_type": "stream",
          "text": [
            "/n Epoch: 333 |Training loss: 2.6064\n"
          ],
          "name": "stdout"
        },
        {
          "output_type": "stream",
          "text": [
            "\n",
            "training:  17%|█▋        | 335/2000 [4:37:43<24:16:51, 52.50s/it]\u001b[A"
          ],
          "name": "stderr"
        },
        {
          "output_type": "stream",
          "text": [
            "/n Epoch: 334 |Training loss: 2.5813\n",
            "validation loss: 2.7383\n"
          ],
          "name": "stdout"
        },
        {
          "output_type": "stream",
          "text": [
            "\n",
            "training:  17%|█▋        | 336/2000 [4:38:37<24:33:02, 53.11s/it]\u001b[A"
          ],
          "name": "stderr"
        },
        {
          "output_type": "stream",
          "text": [
            "/n Epoch: 335 |Training loss: 2.5991\n"
          ],
          "name": "stdout"
        },
        {
          "output_type": "stream",
          "text": [
            "\n",
            "training:  17%|█▋        | 337/2000 [4:39:28<24:09:04, 52.28s/it]\u001b[A"
          ],
          "name": "stderr"
        },
        {
          "output_type": "stream",
          "text": [
            "/n Epoch: 336 |Training loss: 2.5815\n"
          ],
          "name": "stdout"
        },
        {
          "output_type": "stream",
          "text": [
            "\n",
            "training:  17%|█▋        | 338/2000 [4:40:16<23:37:40, 51.18s/it]\u001b[A"
          ],
          "name": "stderr"
        },
        {
          "output_type": "stream",
          "text": [
            "/n Epoch: 337 |Training loss: 2.5947\n"
          ],
          "name": "stdout"
        },
        {
          "output_type": "stream",
          "text": [
            "\n",
            "training:  17%|█▋        | 339/2000 [4:41:05<23:19:29, 50.55s/it]\u001b[A"
          ],
          "name": "stderr"
        },
        {
          "output_type": "stream",
          "text": [
            "/n Epoch: 338 |Training loss: 2.5957\n"
          ],
          "name": "stdout"
        },
        {
          "output_type": "stream",
          "text": [
            "\n",
            "training:  17%|█▋        | 340/2000 [4:41:54<23:07:19, 50.14s/it]\u001b[A"
          ],
          "name": "stderr"
        },
        {
          "output_type": "stream",
          "text": [
            "/n Epoch: 339 |Training loss: 2.5720\n",
            "validation loss: 2.7147\n"
          ],
          "name": "stdout"
        },
        {
          "output_type": "stream",
          "text": [
            "\n",
            "training:  17%|█▋        | 341/2000 [4:42:47<23:29:44, 50.99s/it]\u001b[A"
          ],
          "name": "stderr"
        },
        {
          "output_type": "stream",
          "text": [
            "/n Epoch: 340 |Training loss: 2.5749\n"
          ],
          "name": "stdout"
        },
        {
          "output_type": "stream",
          "text": [
            "\n",
            "training:  17%|█▋        | 342/2000 [4:43:37<23:13:45, 50.44s/it]\u001b[A"
          ],
          "name": "stderr"
        },
        {
          "output_type": "stream",
          "text": [
            "/n Epoch: 341 |Training loss: 2.5605\n"
          ],
          "name": "stdout"
        },
        {
          "output_type": "stream",
          "text": [
            "\n",
            "training:  17%|█▋        | 343/2000 [4:44:25<22:57:12, 49.87s/it]\u001b[A"
          ],
          "name": "stderr"
        },
        {
          "output_type": "stream",
          "text": [
            "/n Epoch: 342 |Training loss: 2.5678\n"
          ],
          "name": "stdout"
        },
        {
          "output_type": "stream",
          "text": [
            "\n",
            "training:  17%|█▋        | 344/2000 [4:45:13<22:38:35, 49.22s/it]\u001b[A"
          ],
          "name": "stderr"
        },
        {
          "output_type": "stream",
          "text": [
            "/n Epoch: 343 |Training loss: 2.5657\n"
          ],
          "name": "stdout"
        },
        {
          "output_type": "stream",
          "text": [
            "\n",
            "training:  17%|█▋        | 345/2000 [4:46:00<22:25:05, 48.76s/it]\u001b[A"
          ],
          "name": "stderr"
        },
        {
          "output_type": "stream",
          "text": [
            "/n Epoch: 344 |Training loss: 2.5484\n",
            "validation loss: 2.6955\n"
          ],
          "name": "stdout"
        },
        {
          "output_type": "stream",
          "text": [
            "\n",
            "training:  17%|█▋        | 346/2000 [4:46:52<22:48:37, 49.65s/it]\u001b[A"
          ],
          "name": "stderr"
        },
        {
          "output_type": "stream",
          "text": [
            "/n Epoch: 345 |Training loss: 2.5549\n"
          ],
          "name": "stdout"
        },
        {
          "output_type": "stream",
          "text": [
            "\n",
            "training:  17%|█▋        | 347/2000 [4:47:41<22:43:55, 49.51s/it]\u001b[A"
          ],
          "name": "stderr"
        },
        {
          "output_type": "stream",
          "text": [
            "/n Epoch: 346 |Training loss: 2.5474\n"
          ],
          "name": "stdout"
        },
        {
          "output_type": "stream",
          "text": [
            "\n",
            "training:  17%|█▋        | 348/2000 [4:48:30<22:35:07, 49.22s/it]\u001b[A"
          ],
          "name": "stderr"
        },
        {
          "output_type": "stream",
          "text": [
            "/n Epoch: 347 |Training loss: 2.5418\n"
          ],
          "name": "stdout"
        },
        {
          "output_type": "stream",
          "text": [
            "\n",
            "training:  17%|█▋        | 349/2000 [4:49:18<22:28:54, 49.02s/it]\u001b[A"
          ],
          "name": "stderr"
        },
        {
          "output_type": "stream",
          "text": [
            "/n Epoch: 348 |Training loss: 2.5343\n"
          ],
          "name": "stdout"
        },
        {
          "output_type": "stream",
          "text": [
            "\n",
            "training:  18%|█▊        | 350/2000 [4:50:08<22:30:59, 49.13s/it]\u001b[A"
          ],
          "name": "stderr"
        },
        {
          "output_type": "stream",
          "text": [
            "/n Epoch: 349 |Training loss: 2.5391\n",
            "validation loss: 2.6800\n"
          ],
          "name": "stdout"
        },
        {
          "output_type": "stream",
          "text": [
            "\n",
            "training:  18%|█▊        | 351/2000 [4:51:00<22:57:45, 50.13s/it]\u001b[A"
          ],
          "name": "stderr"
        },
        {
          "output_type": "stream",
          "text": [
            "/n Epoch: 350 |Training loss: 2.5333\n"
          ],
          "name": "stdout"
        },
        {
          "output_type": "stream",
          "text": [
            "\n",
            "training:  18%|█▊        | 352/2000 [4:51:49<22:42:32, 49.61s/it]\u001b[A"
          ],
          "name": "stderr"
        },
        {
          "output_type": "stream",
          "text": [
            "/n Epoch: 351 |Training loss: 2.5284\n"
          ],
          "name": "stdout"
        },
        {
          "output_type": "stream",
          "text": [
            "\n",
            "training:  18%|█▊        | 353/2000 [4:52:38<22:36:11, 49.41s/it]\u001b[A"
          ],
          "name": "stderr"
        },
        {
          "output_type": "stream",
          "text": [
            "/n Epoch: 352 |Training loss: 2.5391\n"
          ],
          "name": "stdout"
        },
        {
          "output_type": "stream",
          "text": [
            "\n",
            "training:  18%|█▊        | 354/2000 [4:53:26<22:22:37, 48.94s/it]\u001b[A"
          ],
          "name": "stderr"
        },
        {
          "output_type": "stream",
          "text": [
            "/n Epoch: 353 |Training loss: 2.5200\n"
          ],
          "name": "stdout"
        },
        {
          "output_type": "stream",
          "text": [
            "\n",
            "training:  18%|█▊        | 355/2000 [4:54:13<22:12:28, 48.60s/it]\u001b[A"
          ],
          "name": "stderr"
        },
        {
          "output_type": "stream",
          "text": [
            "/n Epoch: 354 |Training loss: 2.5148\n",
            "validation loss: 2.6606\n"
          ],
          "name": "stdout"
        },
        {
          "output_type": "stream",
          "text": [
            "\n",
            "training:  18%|█▊        | 356/2000 [4:55:05<22:36:29, 49.51s/it]\u001b[A"
          ],
          "name": "stderr"
        },
        {
          "output_type": "stream",
          "text": [
            "/n Epoch: 355 |Training loss: 2.5209\n"
          ],
          "name": "stdout"
        },
        {
          "output_type": "stream",
          "text": [
            "\n",
            "training:  18%|█▊        | 357/2000 [4:55:53<22:21:31, 48.99s/it]\u001b[A"
          ],
          "name": "stderr"
        },
        {
          "output_type": "stream",
          "text": [
            "/n Epoch: 356 |Training loss: 2.5053\n"
          ],
          "name": "stdout"
        },
        {
          "output_type": "stream",
          "text": [
            "\n",
            "training:  18%|█▊        | 358/2000 [4:56:41<22:13:12, 48.72s/it]\u001b[A"
          ],
          "name": "stderr"
        },
        {
          "output_type": "stream",
          "text": [
            "/n Epoch: 357 |Training loss: 2.5209\n"
          ],
          "name": "stdout"
        },
        {
          "output_type": "stream",
          "text": [
            "\n",
            "training:  18%|█▊        | 359/2000 [4:57:29<22:07:37, 48.54s/it]\u001b[A"
          ],
          "name": "stderr"
        },
        {
          "output_type": "stream",
          "text": [
            "/n Epoch: 358 |Training loss: 2.5090\n"
          ],
          "name": "stdout"
        },
        {
          "output_type": "stream",
          "text": [
            "\n",
            "training:  18%|█▊        | 360/2000 [4:58:17<22:01:14, 48.34s/it]\u001b[A"
          ],
          "name": "stderr"
        },
        {
          "output_type": "stream",
          "text": [
            "/n Epoch: 359 |Training loss: 2.5234\n",
            "validation loss: 2.6790\n"
          ],
          "name": "stdout"
        },
        {
          "output_type": "stream",
          "text": [
            "\n",
            "training:  18%|█▊        | 361/2000 [4:59:08<22:26:02, 49.28s/it]\u001b[A"
          ],
          "name": "stderr"
        },
        {
          "output_type": "stream",
          "text": [
            "/n Epoch: 360 |Training loss: 2.5105\n"
          ],
          "name": "stdout"
        },
        {
          "output_type": "stream",
          "text": [
            "\n",
            "training:  18%|█▊        | 362/2000 [4:59:56<22:13:34, 48.85s/it]\u001b[A"
          ],
          "name": "stderr"
        },
        {
          "output_type": "stream",
          "text": [
            "/n Epoch: 361 |Training loss: 2.5290\n"
          ],
          "name": "stdout"
        },
        {
          "output_type": "stream",
          "text": [
            "\n",
            "training:  18%|█▊        | 363/2000 [5:00:44<22:05:11, 48.57s/it]\u001b[A"
          ],
          "name": "stderr"
        },
        {
          "output_type": "stream",
          "text": [
            "/n Epoch: 362 |Training loss: 2.5208\n"
          ],
          "name": "stdout"
        },
        {
          "output_type": "stream",
          "text": [
            "\n",
            "training:  18%|█▊        | 364/2000 [5:01:32<21:58:10, 48.34s/it]\u001b[A"
          ],
          "name": "stderr"
        },
        {
          "output_type": "stream",
          "text": [
            "/n Epoch: 363 |Training loss: 2.5210\n"
          ],
          "name": "stdout"
        },
        {
          "output_type": "stream",
          "text": [
            "\n",
            "training:  18%|█▊        | 365/2000 [5:02:19<21:50:45, 48.10s/it]\u001b[A"
          ],
          "name": "stderr"
        },
        {
          "output_type": "stream",
          "text": [
            "/n Epoch: 364 |Training loss: 2.5070\n",
            "validation loss: 2.6537\n"
          ],
          "name": "stdout"
        },
        {
          "output_type": "stream",
          "text": [
            "\n",
            "training:  18%|█▊        | 366/2000 [5:03:11<22:21:17, 49.25s/it]\u001b[A"
          ],
          "name": "stderr"
        },
        {
          "output_type": "stream",
          "text": [
            "/n Epoch: 365 |Training loss: 2.5122\n"
          ],
          "name": "stdout"
        },
        {
          "output_type": "stream",
          "text": [
            "\n",
            "training:  18%|█▊        | 367/2000 [5:03:59<22:08:59, 48.83s/it]\u001b[A"
          ],
          "name": "stderr"
        },
        {
          "output_type": "stream",
          "text": [
            "/n Epoch: 366 |Training loss: 2.5089\n"
          ],
          "name": "stdout"
        },
        {
          "output_type": "stream",
          "text": [
            "\n",
            "training:  18%|█▊        | 368/2000 [5:04:47<21:58:44, 48.48s/it]\u001b[A"
          ],
          "name": "stderr"
        },
        {
          "output_type": "stream",
          "text": [
            "/n Epoch: 367 |Training loss: 2.4882\n"
          ],
          "name": "stdout"
        },
        {
          "output_type": "stream",
          "text": [
            "\n",
            "training:  18%|█▊        | 369/2000 [5:05:35<21:52:13, 48.27s/it]\u001b[A"
          ],
          "name": "stderr"
        },
        {
          "output_type": "stream",
          "text": [
            "/n Epoch: 368 |Training loss: 2.5108\n"
          ],
          "name": "stdout"
        },
        {
          "output_type": "stream",
          "text": [
            "\n",
            "training:  18%|█▊        | 370/2000 [5:06:23<21:49:08, 48.19s/it]\u001b[A"
          ],
          "name": "stderr"
        },
        {
          "output_type": "stream",
          "text": [
            "/n Epoch: 369 |Training loss: 2.4854\n",
            "validation loss: 2.6513\n"
          ],
          "name": "stdout"
        },
        {
          "output_type": "stream",
          "text": [
            "\n",
            "training:  19%|█▊        | 371/2000 [5:07:14<22:15:14, 49.18s/it]\u001b[A"
          ],
          "name": "stderr"
        },
        {
          "output_type": "stream",
          "text": [
            "/n Epoch: 370 |Training loss: 2.5078\n"
          ],
          "name": "stdout"
        },
        {
          "output_type": "stream",
          "text": [
            "\n",
            "training:  19%|█▊        | 372/2000 [5:08:03<22:08:18, 48.95s/it]\u001b[A"
          ],
          "name": "stderr"
        },
        {
          "output_type": "stream",
          "text": [
            "/n Epoch: 371 |Training loss: 2.5108\n"
          ],
          "name": "stdout"
        },
        {
          "output_type": "stream",
          "text": [
            "\n",
            "training:  19%|█▊        | 373/2000 [5:08:50<21:54:49, 48.49s/it]\u001b[A"
          ],
          "name": "stderr"
        },
        {
          "output_type": "stream",
          "text": [
            "/n Epoch: 372 |Training loss: 2.4944\n"
          ],
          "name": "stdout"
        },
        {
          "output_type": "stream",
          "text": [
            "\n",
            "training:  19%|█▊        | 374/2000 [5:09:38<21:48:19, 48.28s/it]\u001b[A"
          ],
          "name": "stderr"
        },
        {
          "output_type": "stream",
          "text": [
            "/n Epoch: 373 |Training loss: 2.4849\n"
          ],
          "name": "stdout"
        },
        {
          "output_type": "stream",
          "text": [
            "\n",
            "training:  19%|█▉        | 375/2000 [5:10:27<21:59:43, 48.73s/it]\u001b[A"
          ],
          "name": "stderr"
        },
        {
          "output_type": "stream",
          "text": [
            "/n Epoch: 374 |Training loss: 2.4811\n",
            "validation loss: 2.6120\n"
          ],
          "name": "stdout"
        },
        {
          "output_type": "stream",
          "text": [
            "\n",
            "training:  19%|█▉        | 376/2000 [5:11:20<22:30:22, 49.89s/it]\u001b[A"
          ],
          "name": "stderr"
        },
        {
          "output_type": "stream",
          "text": [
            "/n Epoch: 375 |Training loss: 2.4709\n"
          ],
          "name": "stdout"
        },
        {
          "output_type": "stream",
          "text": [
            "\n",
            "training:  19%|█▉        | 377/2000 [5:12:09<22:25:25, 49.74s/it]\u001b[A"
          ],
          "name": "stderr"
        },
        {
          "output_type": "stream",
          "text": [
            "/n Epoch: 376 |Training loss: 2.4664\n"
          ],
          "name": "stdout"
        },
        {
          "output_type": "stream",
          "text": [
            "\n",
            "training:  19%|█▉        | 378/2000 [5:12:58<22:18:07, 49.50s/it]\u001b[A"
          ],
          "name": "stderr"
        },
        {
          "output_type": "stream",
          "text": [
            "/n Epoch: 377 |Training loss: 2.4779\n"
          ],
          "name": "stdout"
        },
        {
          "output_type": "stream",
          "text": [
            "\n",
            "training:  19%|█▉        | 379/2000 [5:13:47<22:09:58, 49.23s/it]\u001b[A"
          ],
          "name": "stderr"
        },
        {
          "output_type": "stream",
          "text": [
            "/n Epoch: 378 |Training loss: 2.4588\n"
          ],
          "name": "stdout"
        },
        {
          "output_type": "stream",
          "text": [
            "\n",
            "training:  19%|█▉        | 380/2000 [5:14:35<21:56:29, 48.76s/it]\u001b[A"
          ],
          "name": "stderr"
        },
        {
          "output_type": "stream",
          "text": [
            "/n Epoch: 379 |Training loss: 2.4771\n",
            "validation loss: 2.6424\n"
          ],
          "name": "stdout"
        },
        {
          "output_type": "stream",
          "text": [
            "\n",
            "training:  19%|█▉        | 381/2000 [5:15:26<22:18:25, 49.60s/it]\u001b[A"
          ],
          "name": "stderr"
        },
        {
          "output_type": "stream",
          "text": [
            "/n Epoch: 380 |Training loss: 2.4987\n"
          ],
          "name": "stdout"
        },
        {
          "output_type": "stream",
          "text": [
            "\n",
            "training:  19%|█▉        | 382/2000 [5:16:14<22:04:16, 49.11s/it]\u001b[A"
          ],
          "name": "stderr"
        },
        {
          "output_type": "stream",
          "text": [
            "/n Epoch: 381 |Training loss: 2.4785\n"
          ],
          "name": "stdout"
        },
        {
          "output_type": "stream",
          "text": [
            "\n",
            "training:  19%|█▉        | 383/2000 [5:17:03<21:58:20, 48.92s/it]\u001b[A"
          ],
          "name": "stderr"
        },
        {
          "output_type": "stream",
          "text": [
            "/n Epoch: 382 |Training loss: 2.4554\n"
          ],
          "name": "stdout"
        },
        {
          "output_type": "stream",
          "text": [
            "\n",
            "training:  19%|█▉        | 384/2000 [5:17:51<21:52:04, 48.72s/it]\u001b[A"
          ],
          "name": "stderr"
        },
        {
          "output_type": "stream",
          "text": [
            "/n Epoch: 383 |Training loss: 2.4695\n"
          ],
          "name": "stdout"
        },
        {
          "output_type": "stream",
          "text": [
            "\n",
            "training:  19%|█▉        | 385/2000 [5:18:39<21:43:43, 48.44s/it]\u001b[A"
          ],
          "name": "stderr"
        },
        {
          "output_type": "stream",
          "text": [
            "/n Epoch: 384 |Training loss: 2.4610\n",
            "validation loss: 2.6291\n"
          ],
          "name": "stdout"
        },
        {
          "output_type": "stream",
          "text": [
            "\n",
            "training:  19%|█▉        | 386/2000 [5:19:31<22:14:08, 49.60s/it]\u001b[A"
          ],
          "name": "stderr"
        },
        {
          "output_type": "stream",
          "text": [
            "/n Epoch: 385 |Training loss: 2.4417\n"
          ],
          "name": "stdout"
        },
        {
          "output_type": "stream",
          "text": [
            "\n",
            "training:  19%|█▉        | 387/2000 [5:20:21<22:19:50, 49.84s/it]\u001b[A"
          ],
          "name": "stderr"
        },
        {
          "output_type": "stream",
          "text": [
            "/n Epoch: 386 |Training loss: 2.4648\n"
          ],
          "name": "stdout"
        },
        {
          "output_type": "stream",
          "text": [
            "\n",
            "training:  19%|█▉        | 388/2000 [5:21:13<22:29:34, 50.23s/it]\u001b[A"
          ],
          "name": "stderr"
        },
        {
          "output_type": "stream",
          "text": [
            "/n Epoch: 387 |Training loss: 2.4468\n"
          ],
          "name": "stdout"
        },
        {
          "output_type": "stream",
          "text": [
            "\n",
            "training:  19%|█▉        | 389/2000 [5:22:02<22:26:15, 50.14s/it]\u001b[A"
          ],
          "name": "stderr"
        },
        {
          "output_type": "stream",
          "text": [
            "/n Epoch: 388 |Training loss: 2.4623\n"
          ],
          "name": "stdout"
        },
        {
          "output_type": "stream",
          "text": [
            "\n",
            "training:  20%|█▉        | 390/2000 [5:22:52<22:17:39, 49.85s/it]\u001b[A"
          ],
          "name": "stderr"
        },
        {
          "output_type": "stream",
          "text": [
            "/n Epoch: 389 |Training loss: 2.4520\n",
            "validation loss: 2.6381\n"
          ],
          "name": "stdout"
        },
        {
          "output_type": "stream",
          "text": [
            "\n",
            "training:  20%|█▉        | 391/2000 [5:23:45<22:40:58, 50.75s/it]\u001b[A"
          ],
          "name": "stderr"
        },
        {
          "output_type": "stream",
          "text": [
            "/n Epoch: 390 |Training loss: 2.4974\n"
          ],
          "name": "stdout"
        },
        {
          "output_type": "stream",
          "text": [
            "\n",
            "training:  20%|█▉        | 392/2000 [5:24:34<22:30:37, 50.40s/it]\u001b[A"
          ],
          "name": "stderr"
        },
        {
          "output_type": "stream",
          "text": [
            "/n Epoch: 391 |Training loss: 2.4958\n"
          ],
          "name": "stdout"
        },
        {
          "output_type": "stream",
          "text": [
            "\n",
            "training:  20%|█▉        | 393/2000 [5:25:23<22:15:10, 49.85s/it]\u001b[A"
          ],
          "name": "stderr"
        },
        {
          "output_type": "stream",
          "text": [
            "/n Epoch: 392 |Training loss: 2.4643\n"
          ],
          "name": "stdout"
        },
        {
          "output_type": "stream",
          "text": [
            "\n",
            "training:  20%|█▉        | 394/2000 [5:26:11<22:00:38, 49.34s/it]\u001b[A"
          ],
          "name": "stderr"
        },
        {
          "output_type": "stream",
          "text": [
            "/n Epoch: 393 |Training loss: 2.4670\n"
          ],
          "name": "stdout"
        },
        {
          "output_type": "stream",
          "text": [
            "\n",
            "training:  20%|█▉        | 395/2000 [5:26:59<21:51:03, 49.01s/it]\u001b[A"
          ],
          "name": "stderr"
        },
        {
          "output_type": "stream",
          "text": [
            "/n Epoch: 394 |Training loss: 2.4515\n",
            "validation loss: 2.5934\n"
          ],
          "name": "stdout"
        },
        {
          "output_type": "stream",
          "text": [
            "\n",
            "training:  20%|█▉        | 396/2000 [5:27:51<22:15:03, 49.94s/it]\u001b[A"
          ],
          "name": "stderr"
        },
        {
          "output_type": "stream",
          "text": [
            "/n Epoch: 395 |Training loss: 2.4415\n"
          ],
          "name": "stdout"
        },
        {
          "output_type": "stream",
          "text": [
            "\n",
            "training:  20%|█▉        | 397/2000 [5:28:40<22:01:31, 49.46s/it]\u001b[A"
          ],
          "name": "stderr"
        },
        {
          "output_type": "stream",
          "text": [
            "/n Epoch: 396 |Training loss: 2.4342\n"
          ],
          "name": "stdout"
        },
        {
          "output_type": "stream",
          "text": [
            "\n",
            "training:  20%|█▉        | 398/2000 [5:29:27<21:48:01, 48.99s/it]\u001b[A"
          ],
          "name": "stderr"
        },
        {
          "output_type": "stream",
          "text": [
            "/n Epoch: 397 |Training loss: 2.4397\n"
          ],
          "name": "stdout"
        },
        {
          "output_type": "stream",
          "text": [
            "\n",
            "training:  20%|█▉        | 399/2000 [5:30:15<21:38:38, 48.67s/it]\u001b[A"
          ],
          "name": "stderr"
        },
        {
          "output_type": "stream",
          "text": [
            "/n Epoch: 398 |Training loss: 2.4329\n"
          ],
          "name": "stdout"
        },
        {
          "output_type": "stream",
          "text": [
            "\n",
            "training:  20%|██        | 400/2000 [5:31:03<21:31:47, 48.44s/it]\u001b[A"
          ],
          "name": "stderr"
        },
        {
          "output_type": "stream",
          "text": [
            "/n Epoch: 399 |Training loss: 2.4378\n",
            "validation loss: 2.5788\n"
          ],
          "name": "stdout"
        },
        {
          "output_type": "stream",
          "text": [
            "\n",
            "training:  20%|██        | 401/2000 [5:31:55<21:55:27, 49.36s/it]\u001b[A"
          ],
          "name": "stderr"
        },
        {
          "output_type": "stream",
          "text": [
            "/n Epoch: 400 |Training loss: 2.4488\n"
          ],
          "name": "stdout"
        },
        {
          "output_type": "stream",
          "text": [
            "\n",
            "training:  20%|██        | 402/2000 [5:32:43<21:42:45, 48.91s/it]\u001b[A"
          ],
          "name": "stderr"
        },
        {
          "output_type": "stream",
          "text": [
            "/n Epoch: 401 |Training loss: 2.4226\n"
          ],
          "name": "stdout"
        },
        {
          "output_type": "stream",
          "text": [
            "\n",
            "training:  20%|██        | 403/2000 [5:33:30<21:31:15, 48.51s/it]\u001b[A"
          ],
          "name": "stderr"
        },
        {
          "output_type": "stream",
          "text": [
            "/n Epoch: 402 |Training loss: 2.4335\n"
          ],
          "name": "stdout"
        },
        {
          "output_type": "stream",
          "text": [
            "\n",
            "training:  20%|██        | 404/2000 [5:34:18<21:25:46, 48.34s/it]\u001b[A"
          ],
          "name": "stderr"
        },
        {
          "output_type": "stream",
          "text": [
            "/n Epoch: 403 |Training loss: 2.4143\n"
          ],
          "name": "stdout"
        },
        {
          "output_type": "stream",
          "text": [
            "\n",
            "training:  20%|██        | 405/2000 [5:35:06<21:21:53, 48.22s/it]\u001b[A"
          ],
          "name": "stderr"
        },
        {
          "output_type": "stream",
          "text": [
            "/n Epoch: 404 |Training loss: 2.4335\n",
            "validation loss: 2.5890\n"
          ],
          "name": "stdout"
        },
        {
          "output_type": "stream",
          "text": [
            "\n",
            "training:  20%|██        | 406/2000 [5:35:58<21:50:29, 49.33s/it]\u001b[A"
          ],
          "name": "stderr"
        },
        {
          "output_type": "stream",
          "text": [
            "/n Epoch: 405 |Training loss: 2.4342\n"
          ],
          "name": "stdout"
        },
        {
          "output_type": "stream",
          "text": [
            "\n",
            "training:  20%|██        | 407/2000 [5:36:46<21:37:54, 48.89s/it]\u001b[A"
          ],
          "name": "stderr"
        },
        {
          "output_type": "stream",
          "text": [
            "/n Epoch: 406 |Training loss: 2.4320\n"
          ],
          "name": "stdout"
        },
        {
          "output_type": "stream",
          "text": [
            "\n",
            "training:  20%|██        | 408/2000 [5:37:34<21:27:59, 48.54s/it]\u001b[A"
          ],
          "name": "stderr"
        },
        {
          "output_type": "stream",
          "text": [
            "/n Epoch: 407 |Training loss: 2.4337\n"
          ],
          "name": "stdout"
        },
        {
          "output_type": "stream",
          "text": [
            "\n",
            "training:  20%|██        | 409/2000 [5:38:21<21:20:05, 48.28s/it]\u001b[A"
          ],
          "name": "stderr"
        },
        {
          "output_type": "stream",
          "text": [
            "/n Epoch: 408 |Training loss: 2.4222\n"
          ],
          "name": "stdout"
        },
        {
          "output_type": "error",
          "ename": "KeyboardInterrupt",
          "evalue": "ignored",
          "traceback": [
            "\u001b[0;31m---------------------------------------------------------------------------\u001b[0m",
            "\u001b[0;31mKeyboardInterrupt\u001b[0m                         Traceback (most recent call last)",
            "\u001b[0;32m<ipython-input-32-58815dec83f3>\u001b[0m in \u001b[0;36m<module>\u001b[0;34m()\u001b[0m\n\u001b[1;32m     10\u001b[0m         \u001b[0mloss\u001b[0m \u001b[0;34m=\u001b[0m \u001b[0mmlm_loss\u001b[0m \u001b[0;34m+\u001b[0m \u001b[0maux_loss\u001b[0m\u001b[0;34m\u001b[0m\u001b[0;34m\u001b[0m\u001b[0m\n\u001b[1;32m     11\u001b[0m \u001b[0;34m\u001b[0m\u001b[0m\n\u001b[0;32m---> 12\u001b[0;31m         \u001b[0mloss\u001b[0m\u001b[0;34m.\u001b[0m\u001b[0mbackward\u001b[0m\u001b[0;34m(\u001b[0m\u001b[0;34m)\u001b[0m\u001b[0;34m\u001b[0m\u001b[0;34m\u001b[0m\u001b[0m\n\u001b[0m\u001b[1;32m     13\u001b[0m \u001b[0;34m\u001b[0m\u001b[0m\n\u001b[1;32m     14\u001b[0m         \u001b[0mtot_loss\u001b[0m\u001b[0;34m+=\u001b[0m\u001b[0mloss\u001b[0m\u001b[0;34m;\u001b[0m\u001b[0;34m\u001b[0m\u001b[0;34m\u001b[0m\u001b[0m\n",
            "\u001b[0;32m/usr/local/lib/python3.6/dist-packages/torch/tensor.py\u001b[0m in \u001b[0;36mbackward\u001b[0;34m(self, gradient, retain_graph, create_graph)\u001b[0m\n\u001b[1;32m    219\u001b[0m                 \u001b[0mretain_graph\u001b[0m\u001b[0;34m=\u001b[0m\u001b[0mretain_graph\u001b[0m\u001b[0;34m,\u001b[0m\u001b[0;34m\u001b[0m\u001b[0;34m\u001b[0m\u001b[0m\n\u001b[1;32m    220\u001b[0m                 create_graph=create_graph)\n\u001b[0;32m--> 221\u001b[0;31m         \u001b[0mtorch\u001b[0m\u001b[0;34m.\u001b[0m\u001b[0mautograd\u001b[0m\u001b[0;34m.\u001b[0m\u001b[0mbackward\u001b[0m\u001b[0;34m(\u001b[0m\u001b[0mself\u001b[0m\u001b[0;34m,\u001b[0m \u001b[0mgradient\u001b[0m\u001b[0;34m,\u001b[0m \u001b[0mretain_graph\u001b[0m\u001b[0;34m,\u001b[0m \u001b[0mcreate_graph\u001b[0m\u001b[0;34m)\u001b[0m\u001b[0;34m\u001b[0m\u001b[0;34m\u001b[0m\u001b[0m\n\u001b[0m\u001b[1;32m    222\u001b[0m \u001b[0;34m\u001b[0m\u001b[0m\n\u001b[1;32m    223\u001b[0m     \u001b[0;32mdef\u001b[0m \u001b[0mregister_hook\u001b[0m\u001b[0;34m(\u001b[0m\u001b[0mself\u001b[0m\u001b[0;34m,\u001b[0m \u001b[0mhook\u001b[0m\u001b[0;34m)\u001b[0m\u001b[0;34m:\u001b[0m\u001b[0;34m\u001b[0m\u001b[0;34m\u001b[0m\u001b[0m\n",
            "\u001b[0;32m/usr/local/lib/python3.6/dist-packages/torch/autograd/__init__.py\u001b[0m in \u001b[0;36mbackward\u001b[0;34m(tensors, grad_tensors, retain_graph, create_graph, grad_variables)\u001b[0m\n\u001b[1;32m    130\u001b[0m     Variable._execution_engine.run_backward(\n\u001b[1;32m    131\u001b[0m         \u001b[0mtensors\u001b[0m\u001b[0;34m,\u001b[0m \u001b[0mgrad_tensors_\u001b[0m\u001b[0;34m,\u001b[0m \u001b[0mretain_graph\u001b[0m\u001b[0;34m,\u001b[0m \u001b[0mcreate_graph\u001b[0m\u001b[0;34m,\u001b[0m\u001b[0;34m\u001b[0m\u001b[0;34m\u001b[0m\u001b[0m\n\u001b[0;32m--> 132\u001b[0;31m         allow_unreachable=True)  # allow_unreachable flag\n\u001b[0m\u001b[1;32m    133\u001b[0m \u001b[0;34m\u001b[0m\u001b[0m\n\u001b[1;32m    134\u001b[0m \u001b[0;34m\u001b[0m\u001b[0m\n",
            "\u001b[0;31mKeyboardInterrupt\u001b[0m: "
          ]
        }
      ]
    },
    {
      "cell_type": "code",
      "metadata": {
        "id": "D-hT_4Y1SuUV",
        "colab": {
          "base_uri": "https://localhost:8080/"
        },
        "outputId": "f5c58d08-3cc5-4dd0-ed00-c98025bc489d"
      },
      "source": [
        "model.eval()\n",
        "avg_loss_val=0\n",
        "with torch.no_grad():\n",
        "    for loss_val, aux_loss_val, is_last_val in model(next(cycle_validation_loader), max_batch_size = batch_size, return_loss = True):\n",
        "      avg_loss_val+=loss_val/num_batches_val;\n",
        "\n",
        "      if is_last_val:\n",
        "        print(f'validation loss: {avg_loss_val.item():.4f}')\n"
      ],
      "execution_count": 28,
      "outputs": [
        {
          "output_type": "stream",
          "text": [
            "validation loss: 4.2550\n"
          ],
          "name": "stdout"
        }
      ]
    },
    {
      "cell_type": "markdown",
      "metadata": {
        "id": "GAgrzFyRn3uq"
      },
      "source": [
        "**Music generation**"
      ]
    },
    {
      "cell_type": "code",
      "metadata": {
        "id": "qFbSthkLUwmx"
      },
      "source": [
        "# In case we want to use previously trained weights\n",
        "weights = \"model_best.pth.tar\"\n",
        "checkpoint = torch.load(output_dir+weights)\n",
        "model.load_state_dict(checkpoint['model_state_dict'])\n",
        "optimizer.load_state_dict(checkpoint['optimizer_state_dict'])\n",
        "epoch = checkpoint['epoch']\n",
        "loss = checkpoint['loss']\n"
      ],
      "execution_count": null,
      "outputs": []
    },
    {
      "cell_type": "code",
      "metadata": {
        "id": "6WtYEXpyoPPK"
      },
      "source": [
        "# Generate network input again\n",
        "network_input = []\n",
        "network_output = []\n",
        "for i in range(0, len(notes) - sequence_length, 1):\n",
        "  network_input.append([note_to_int[char] for char in notes[i:i + sequence_length]])\n",
        "n_patterns = len(network_input)\n",
        "network_input = np.reshape(network_input, (n_patterns, sequence_length))\n"
      ],
      "execution_count": null,
      "outputs": []
    },
    {
      "cell_type": "markdown",
      "metadata": {
        "id": "MuUGi5rVgbJQ"
      },
      "source": [
        "The workflow now is:\n",
        "\n",
        "\n",
        "1.   Pick a **seed sequence** randomly from your list of inputs (*pattern* variable)\n",
        "2.   Pass it as input for your model to generate a new element (note or chord)\n",
        "3.   Add the new element to your final song and to your *pattern* list\n",
        "4.   Remove the first item from *pattern*\n",
        "5.   Go to step 2\n"
      ]
    },
    {
      "cell_type": "code",
      "metadata": {
        "id": "UUTEiS0NXtkl"
      },
      "source": [
        "\"\"\" Generate notes from the neural network based on a sequence of notes \"\"\"\n",
        "# pick a random sequence from the input as a starting point for the prediction\n",
        "start = np.random.randint(0, len(network_input)-1)\n",
        "int_to_note = dict((number, note) for number, note in enumerate(pitchnames))\n",
        "pattern = torch.from_numpy(network_input[start]).cuda()\n",
        "\n",
        "prediction_output = model.generate(pattern, 500)\n"
      ],
      "execution_count": null,
      "outputs": []
    },
    {
      "cell_type": "code",
      "metadata": {
        "id": "UUlgtok68w-w",
        "colab": {
          "base_uri": "https://localhost:8080/"
        },
        "outputId": "8e5af720-53ab-4292-94da-8ef9be8aabfc"
      },
      "source": [
        "result_sample=[]\n",
        "\n",
        "for i in range(500):\n",
        "  print(i)\n",
        "  result = int_to_note[prediction_output[i].item()]\n",
        "  print('\\r', 'Predicted ', i, \" \",result, end='')\n",
        "  result_sample.append(result)\n",
        "\n",
        "prediction_output=result_sample"
      ],
      "execution_count": null,
      "outputs": [
        {
          "output_type": "stream",
          "text": [
            "0\n",
            "\r Predicted  0   61\n",
            "\r Predicted  1   4.62\n",
            "\r Predicted  2   6.113\n",
            "\r Predicted  3   64\n",
            "\r Predicted  4   6.115\n",
            "\r Predicted  5   A46\n",
            "\r Predicted  6   4.67\n",
            "\r Predicted  7   F48\n",
            "\r Predicted  8   69\n",
            "\r Predicted  9   610\n",
            "\r Predicted  10   5.7.9.011\n",
            "\r Predicted  11   2.3.7.1012\n",
            "\r Predicted  12   D513\n",
            "\r Predicted  13   C514\n",
            "\r Predicted  14   5.7.9.015\n",
            "\r Predicted  15   C516\n",
            "\r Predicted  16   4.617\n",
            "\r Predicted  17   B-118\n",
            "\r Predicted  18   10.2.519\n",
            "\r Predicted  19   C520\n",
            "\r Predicted  20   6.1121\n",
            "\r Predicted  21   622\n",
            "\r Predicted  22   F223\n",
            "\r Predicted  23   6.1124\n",
            "\r Predicted  24   4.625\n",
            "\r Predicted  25   B-226\n",
            "\r Predicted  26   B-127\n",
            "\r Predicted  27   A428\n",
            "\r Predicted  28   629\n",
            "\r Predicted  29   C530\n",
            "\r Predicted  30   E-331\n",
            "\r Predicted  31   F232\n",
            "\r Predicted  32   4.633\n",
            "\r Predicted  33   534\n",
            "\r Predicted  34   5.1035\n",
            "\r Predicted  35   4.636\n",
            "\r Predicted  36   637\n",
            "\r Predicted  37   4.638\n",
            "\r Predicted  38   4.639\n",
            "\r Predicted  39   F240\n",
            "\r Predicted  40   4.641\n",
            "\r Predicted  41   B-242\n",
            "\r Predicted  42   643\n",
            "\r Predicted  43   5.7.9.044\n",
            "\r Predicted  44   6.1145\n",
            "\r Predicted  45   646\n",
            "\r Predicted  46   B-247\n",
            "\r Predicted  47   A448\n",
            "\r Predicted  48   649\n",
            "\r Predicted  49   D550\n",
            "\r Predicted  50   C551\n",
            "\r Predicted  51   652\n",
            "\r Predicted  52   6.1153\n",
            "\r Predicted  53   B-254\n",
            "\r Predicted  54   655\n",
            "\r Predicted  55   10.2.556\n",
            "\r Predicted  56   4.657\n",
            "\r Predicted  57   5.9.058\n",
            "\r Predicted  58   5.9.059\n",
            "\r Predicted  59   4.660\n",
            "\r Predicted  60   E261\n",
            "\r Predicted  61   F262\n",
            "\r Predicted  62   4.663\n",
            "\r Predicted  63   F264\n",
            "\r Predicted  64   6.1165\n",
            "\r Predicted  65   5.9.066\n",
            "\r Predicted  66   4.667\n",
            "\r Predicted  67   10.2.568\n",
            "\r Predicted  68   A469\n",
            "\r Predicted  69   B-270\n",
            "\r Predicted  70   6.1171\n",
            "\r Predicted  71   B-272\n",
            "\r Predicted  72   6.1073\n",
            "\r Predicted  73   A474\n",
            "\r Predicted  74   F275\n",
            "\r Predicted  75   D576\n",
            "\r Predicted  76   A477\n",
            "\r Predicted  77   6.1178\n",
            "\r Predicted  78   679\n",
            "\r Predicted  79   6.1180\n",
            "\r Predicted  80   6.1081\n",
            "\r Predicted  81   682\n",
            "\r Predicted  82   5.7.9.083\n",
            "\r Predicted  83   6.1184\n",
            "\r Predicted  84   6.1085\n",
            "\r Predicted  85   B-286\n",
            "\r Predicted  86   687\n",
            "\r Predicted  87   6.1188\n",
            "\r Predicted  88   F489\n",
            "\r Predicted  89   B-290\n",
            "\r Predicted  90   D591\n",
            "\r Predicted  91   D592\n",
            "\r Predicted  92   4.693\n",
            "\r Predicted  93   B-294\n",
            "\r Predicted  94   4.695\n",
            "\r Predicted  95   10.2.596\n",
            "\r Predicted  96   B-297\n",
            "\r Predicted  97   C598\n",
            "\r Predicted  98   E-399\n",
            "\r Predicted  99   5.10100\n",
            "\r Predicted  100   4.6101\n",
            "\r Predicted  101   4.6102\n",
            "\r Predicted  102   A4103\n",
            "\r Predicted  103   5.9.0104\n",
            "\r Predicted  104   6.11105\n",
            "\r Predicted  105   F2106\n",
            "\r Predicted  106   C5107\n",
            "\r Predicted  107   6108\n",
            "\r Predicted  108   6.11109\n",
            "\r Predicted  109   5.9.0110\n",
            "\r Predicted  110   5.9.0111\n",
            "\r Predicted  111   A4112\n",
            "\r Predicted  112   6113\n",
            "\r Predicted  113   6.11114\n",
            "\r Predicted  114   A4115\n",
            "\r Predicted  115   A4116\n",
            "\r Predicted  116   6117\n",
            "\r Predicted  117   6.11118\n",
            "\r Predicted  118   5.9.0119\n",
            "\r Predicted  119   4.6120\n",
            "\r Predicted  120   E-5121\n",
            "\r Predicted  121   F2122\n",
            "\r Predicted  122   6.11123\n",
            "\r Predicted  123   4.6124\n",
            "\r Predicted  124   5125\n",
            "\r Predicted  125   4.6126\n",
            "\r Predicted  126   5127\n",
            "\r Predicted  127   4.6128\n",
            "\r Predicted  128   10.2.5129\n",
            "\r Predicted  129   A4130\n",
            "\r Predicted  130   6.10131\n",
            "\r Predicted  131   6.11132\n",
            "\r Predicted  132   6.11133\n",
            "\r Predicted  133   D5134\n",
            "\r Predicted  134   4.6135\n",
            "\r Predicted  135   E-2136\n",
            "\r Predicted  136   3.7.10137\n",
            "\r Predicted  137   7.10.2138\n",
            "\r Predicted  138   6139\n",
            "\r Predicted  139   6.11140\n",
            "\r Predicted  140   C5141\n",
            "\r Predicted  141   5.9.0142\n",
            "\r Predicted  142   6143\n",
            "\r Predicted  143   D5144\n",
            "\r Predicted  144   A4145\n",
            "\r Predicted  145   4.6146\n",
            "\r Predicted  146   E-5147\n",
            "\r Predicted  147   6148\n",
            "\r Predicted  148   6149\n",
            "\r Predicted  149   D5150\n",
            "\r Predicted  150   6.11151\n",
            "\r Predicted  151   A4152\n",
            "\r Predicted  152   E-2153\n",
            "\r Predicted  153   F4154\n",
            "\r Predicted  154   E-5155\n",
            "\r Predicted  155   6.11156\n",
            "\r Predicted  156   F2157\n",
            "\r Predicted  157   6158\n",
            "\r Predicted  158   F4159\n",
            "\r Predicted  159   F2160\n",
            "\r Predicted  160   6.11161\n",
            "\r Predicted  161   F2162\n",
            "\r Predicted  162   4.6163\n",
            "\r Predicted  163   5.9.0164\n",
            "\r Predicted  164   6.11165\n",
            "\r Predicted  165   E-2166\n",
            "\r Predicted  166   6.11167\n",
            "\r Predicted  167   2.5168\n",
            "\r Predicted  168   6.11169\n",
            "\r Predicted  169   6170\n",
            "\r Predicted  170   5.7.9.0171\n",
            "\r Predicted  171   F2172\n",
            "\r Predicted  172   6173\n",
            "\r Predicted  173   F4174\n",
            "\r Predicted  174   6.11175\n",
            "\r Predicted  175   E-2176\n",
            "\r Predicted  176   F2177\n",
            "\r Predicted  177   6178\n",
            "\r Predicted  178   7.10.2179\n",
            "\r Predicted  179   F2180\n",
            "\r Predicted  180   B-1181\n",
            "\r Predicted  181   C4182\n",
            "\r Predicted  182   6183\n",
            "\r Predicted  183   2.3.7.10184\n",
            "\r Predicted  184   0.5185\n",
            "\r Predicted  185   5.7.9.0186\n",
            "\r Predicted  186   6.11187\n",
            "\r Predicted  187   5.9.0188\n",
            "\r Predicted  188   C5189\n",
            "\r Predicted  189   E-3190\n",
            "\r Predicted  190   5.10191\n",
            "\r Predicted  191   6.11192\n",
            "\r Predicted  192   F2193\n",
            "\r Predicted  193   6194\n",
            "\r Predicted  194   10.11.3.6195\n",
            "\r Predicted  195   5196\n",
            "\r Predicted  196   5.10197\n",
            "\r Predicted  197   4.6198\n",
            "\r Predicted  198   4.6199\n",
            "\r Predicted  199   4.6200\n",
            "\r Predicted  200   5.9.0201\n",
            "\r Predicted  201   6.11202\n",
            "\r Predicted  202   D5203\n",
            "\r Predicted  203   D5204\n",
            "\r Predicted  204   6.11205\n",
            "\r Predicted  205   6206\n",
            "\r Predicted  206   D5207\n",
            "\r Predicted  207   D5208\n",
            "\r Predicted  208   6.11209\n",
            "\r Predicted  209   6210\n",
            "\r Predicted  210   F4211\n",
            "\r Predicted  211   6212\n",
            "\r Predicted  212   10.11.3.6213\n",
            "\r Predicted  213   6.11214\n",
            "\r Predicted  214   C5215\n",
            "\r Predicted  215   3.6.10216\n",
            "\r Predicted  216   6.11217\n",
            "\r Predicted  217   6218\n",
            "\r Predicted  218   4.6219\n",
            "\r Predicted  219   E2220\n",
            "\r Predicted  220   6.11221\n",
            "\r Predicted  221   6222\n",
            "\r Predicted  222   10.2.5223\n",
            "\r Predicted  223   6224\n",
            "\r Predicted  224   4.6225\n",
            "\r Predicted  225   B-1226\n",
            "\r Predicted  226   6.11227\n",
            "\r Predicted  227   5.9.0228\n",
            "\r Predicted  228   4.6229\n",
            "\r Predicted  229   4.6230\n",
            "\r Predicted  230   9.2231\n",
            "\r Predicted  231   10.2.5232\n",
            "\r Predicted  232   F2233\n",
            "\r Predicted  233   6.11234\n",
            "\r Predicted  234   6.10235\n",
            "\r Predicted  235   6.11236\n",
            "\r Predicted  236   A4237\n",
            "\r Predicted  237   B-2238\n",
            "\r Predicted  238   6239\n",
            "\r Predicted  239   6240\n",
            "\r Predicted  240   6.10.11241\n",
            "\r Predicted  241   6.11242\n",
            "\r Predicted  242   B-2243\n",
            "\r Predicted  243   C5244\n",
            "\r Predicted  244   6245\n",
            "\r Predicted  245   7.10.2246\n",
            "\r Predicted  246   D5247\n",
            "\r Predicted  247   4.6248\n",
            "\r Predicted  248   4.6249\n",
            "\r Predicted  249   6250\n",
            "\r Predicted  250   6.11251\n",
            "\r Predicted  251   F2252\n",
            "\r Predicted  252   4.6253\n",
            "\r Predicted  253   9.2254\n",
            "\r Predicted  254   D5255\n",
            "\r Predicted  255   4.6256\n",
            "\r Predicted  256   B-2257\n",
            "\r Predicted  257   6258\n",
            "\r Predicted  258   6.10.11259\n",
            "\r Predicted  259   4.6260\n",
            "\r Predicted  260   4.6261\n",
            "\r Predicted  261   4.6262\n",
            "\r Predicted  262   6263\n",
            "\r Predicted  263   6.11264\n",
            "\r Predicted  264   F2265\n",
            "\r Predicted  265   A4266\n",
            "\r Predicted  266   6267\n",
            "\r Predicted  267   D5268\n",
            "\r Predicted  268   6.11269\n",
            "\r Predicted  269   D5270\n",
            "\r Predicted  270   6271\n",
            "\r Predicted  271   6.11272\n",
            "\r Predicted  272   B-2273\n",
            "\r Predicted  273   6274\n",
            "\r Predicted  274   6.11275\n",
            "\r Predicted  275   C5276\n",
            "\r Predicted  276   B-2277\n",
            "\r Predicted  277   A4278\n",
            "\r Predicted  278   D5279\n",
            "\r Predicted  279   0.5280\n",
            "\r Predicted  280   E-2281\n",
            "\r Predicted  281   4.6282\n",
            "\r Predicted  282   4.6283\n",
            "\r Predicted  283   E-5284\n",
            "\r Predicted  284   6.11285\n",
            "\r Predicted  285   F2286\n",
            "\r Predicted  286   5.9.0287\n",
            "\r Predicted  287   4.6288\n",
            "\r Predicted  288   E-2289\n",
            "\r Predicted  289   10.2.5290\n",
            "\r Predicted  290   6291\n",
            "\r Predicted  291   F2292\n",
            "\r Predicted  292   6293\n",
            "\r Predicted  293   E-2294\n",
            "\r Predicted  294   3.7.10295\n",
            "\r Predicted  295   6296\n",
            "\r Predicted  296   6.11297\n",
            "\r Predicted  297   4.6298\n",
            "\r Predicted  298   B-1299\n",
            "\r Predicted  299   6.11300\n",
            "\r Predicted  300   5.9.0301\n",
            "\r Predicted  301   4.6302\n",
            "\r Predicted  302   5.9.0303\n",
            "\r Predicted  303   A4304\n",
            "\r Predicted  304   C5305\n",
            "\r Predicted  305   6306\n",
            "\r Predicted  306   F4307\n",
            "\r Predicted  307   E-3308\n",
            "\r Predicted  308   4.6309\n",
            "\r Predicted  309   5.9.0310\n",
            "\r Predicted  310   6.11311\n",
            "\r Predicted  311   6.10312\n",
            "\r Predicted  312   D5313\n",
            "\r Predicted  313   A4314\n",
            "\r Predicted  314   4.6315\n",
            "\r Predicted  315   E2316\n",
            "\r Predicted  316   10.2.5317\n",
            "\r Predicted  317   F2318\n",
            "\r Predicted  318   C5319\n",
            "\r Predicted  319   5.7.9.0320\n",
            "\r Predicted  320   6.11321\n",
            "\r Predicted  321   4.6322\n",
            "\r Predicted  322   A4323\n",
            "\r Predicted  323   10.2.5324\n",
            "\r Predicted  324   5.9.0325\n",
            "\r Predicted  325   6326\n",
            "\r Predicted  326   4.6327\n",
            "\r Predicted  327   5.9.0328\n",
            "\r Predicted  328   6.11329\n",
            "\r Predicted  329   5330\n",
            "\r Predicted  330   6.10331\n",
            "\r Predicted  331   F2332\n",
            "\r Predicted  332   6.11333\n",
            "\r Predicted  333   6334\n",
            "\r Predicted  334   6.11335\n",
            " Predicted  335   6336\n",
            " Predicted  336   E-2337\n",
            " Predicted  337   6.11338\n",
            " Predicted  338   B-2339\n",
            " Predicted  339   6340\n",
            " Predicted  340   5.7.9.0341\n",
            " Predicted  341   4.6342\n",
            " Predicted  342   4.6343\n",
            " Predicted  343   B-1344\n",
            " Predicted  344   6.11345\n",
            " Predicted  345   B-2346\n",
            " Predicted  346   6347\n",
            " Predicted  347   F4348\n",
            " Predicted  348   6.11349\n",
            " Predicted  349   B-2350\n",
            " Predicted  350   D5351\n",
            " Predicted  351   A4352\n",
            " Predicted  352   C5353\n",
            " Predicted  353   F2354\n",
            " Predicted  354   6.11355\n",
            " Predicted  355   6.11356\n",
            " Predicted  356   D5357\n",
            " Predicted  357   4.6358\n",
            " Predicted  358   5.9.0359\n",
            " Predicted  359   4.6360\n",
            " Predicted  360   E-5361\n",
            " Predicted  361   4.6362\n",
            " Predicted  362   6.11363\n",
            " Predicted  363   B-2364\n",
            " Predicted  364   6365\n",
            " Predicted  365   6366\n",
            " Predicted  366   E-2367\n",
            " Predicted  367   B-1368\n",
            " Predicted  368   6.11369\n",
            " Predicted  369   6370\n",
            " Predicted  370   5.7.9.0371\n",
            " Predicted  371   C5372\n",
            " Predicted  372   4.6373\n",
            " Predicted  373   F2374\n",
            " Predicted  374   6375\n",
            " Predicted  375   6.11376\n",
            " Predicted  376   5377\n",
            " Predicted  377   6.11378\n",
            " Predicted  378   6379\n",
            " Predicted  379   2.3.7.10380\n",
            " Predicted  380   6.11381\n",
            " Predicted  381   4.6382\n",
            " Predicted  382   B-2383\n",
            " Predicted  383   1.6384\n",
            " Predicted  384   B-2385\n",
            " Predicted  385   6.11386\n",
            " Predicted  386   F2387\n",
            " Predicted  387   4.6388\n",
            " Predicted  388   6389\n",
            " Predicted  389   6.11390\n",
            " Predicted  390   6391\n",
            " Predicted  391   E-2392\n",
            " Predicted  392   6393\n",
            " Predicted  393   4.6394\n",
            " Predicted  394   4.6395\n",
            " Predicted  395   A4396\n",
            " Predicted  396   5.10397\n",
            " Predicted  397   6.11398\n",
            " Predicted  398   A4399\n",
            " Predicted  399   6400\n",
            " Predicted  400   F2401\n",
            " Predicted  401   4.6402\n",
            " Predicted  402   5.9.0403\n",
            " Predicted  403   4.6404\n",
            " Predicted  404   5.9.0405\n",
            " Predicted  405   C5406\n",
            " Predicted  406   2.3.7.9407\n",
            " Predicted  407   6.11408\n",
            " Predicted  408   B-2409\n",
            " Predicted  409   D5410\n",
            " Predicted  410   A4411\n",
            " Predicted  411   4.6412\n",
            " Predicted  412   4.6413\n",
            " Predicted  413   5.9.0414\n",
            " Predicted  414   6.11415\n",
            " Predicted  415   3.9416\n",
            " Predicted  416   6.11417\n",
            " Predicted  417   F2418\n",
            " Predicted  418   F2419\n",
            " Predicted  419   4.6420\n",
            " Predicted  420   F2421\n",
            " Predicted  421   C5422\n",
            " Predicted  422   5.9.0423\n",
            " Predicted  423   6424\n",
            " Predicted  424   D5425\n",
            " Predicted  425   6.11426\n",
            " Predicted  426   4.6427\n",
            " Predicted  427   6.11428\n",
            " Predicted  428   6.10429\n",
            " Predicted  429   6.10.11430\n",
            " Predicted  430   6431\n",
            " Predicted  431   10.11.3.6432\n",
            " Predicted  432   B-2433\n",
            " Predicted  433   6434\n",
            " Predicted  434   D5435\n",
            " Predicted  435   6.11436\n",
            " Predicted  436   4.6437\n",
            " Predicted  437   4.6438\n",
            " Predicted  438   A4439\n",
            " Predicted  439   F3440\n",
            " Predicted  440   A4441\n",
            " Predicted  441   F2442\n",
            " Predicted  442   6443\n",
            " Predicted  443   5.7.9.0444\n",
            " Predicted  444   B-1445\n",
            " Predicted  445   6.11446\n",
            " Predicted  446   F2447\n",
            " Predicted  447   6.11448\n",
            " Predicted  448   B-2449\n",
            " Predicted  449   6450\n",
            " Predicted  450   6.11451\n",
            " Predicted  451   6452\n",
            " Predicted  452   6453\n",
            " Predicted  453   6.11454\n",
            " Predicted  454   6.10455\n",
            " Predicted  455   6.11456\n",
            " Predicted  456   6457\n",
            " Predicted  457   D5458\n",
            " Predicted  458   0.5459\n",
            " Predicted  459   5.7.9.0460\n",
            " Predicted  460   6.11461\n",
            " Predicted  461   A4462\n",
            " Predicted  462   5.9.0463\n",
            " Predicted  463   6.11464\n",
            " Predicted  464   B-2465\n",
            " Predicted  465   B-1466\n",
            " Predicted  466   4.6467\n",
            " Predicted  467   E-5468\n",
            " Predicted  468   F4469\n",
            " Predicted  469   6.11470\n",
            " Predicted  470   4.6471\n",
            " Predicted  471   F2472\n",
            " Predicted  472   C5473\n",
            " Predicted  473   E-3474\n",
            " Predicted  474   6475\n",
            " Predicted  475   4.6476\n",
            " Predicted  476   F2477\n",
            " Predicted  477   6.11478\n",
            " Predicted  478   5479\n",
            " Predicted  479   6.10480\n",
            " Predicted  480   6481\n",
            " Predicted  481   D5482\n",
            " Predicted  482   5.10483\n",
            " Predicted  483   6.11484\n",
            " Predicted  484   F2485\n",
            " Predicted  485   A4486\n",
            " Predicted  486   B-2487\n",
            " Predicted  487   6488\n",
            " Predicted  488   10.11.3.6489\n",
            " Predicted  489   6.11490\n",
            " Predicted  490   10.2.5491\n",
            " Predicted  491   6492\n",
            " Predicted  492   6.11493\n",
            " Predicted  493   6494\n",
            " Predicted  494   F2495\n",
            " Predicted  495   4.6496\n",
            " Predicted  496   B-1497\n",
            " Predicted  497   10.2.5498\n",
            " Predicted  498   B-2499\n",
            " Predicted  499   B-1"
          ],
          "name": "stdout"
        }
      ]
    },
    {
      "cell_type": "markdown",
      "metadata": {
        "id": "_lp5WcPlghe5"
      },
      "source": [
        "The last step is creating a MIDI file from the predictions.\n",
        "\n",
        "**music21** will help us again for this task. We should create a **Stream** and add to it the predicted notes and chords.\n",
        "\n",
        "We are adding an offset of 0.5 between elements."
      ]
    },
    {
      "cell_type": "code",
      "metadata": {
        "id": "T7xYCPULXwV-",
        "colab": {
          "base_uri": "https://localhost:8080/",
          "height": 35
        },
        "outputId": "61d7878a-ade3-4adc-cff1-d3aa47090bdd"
      },
      "source": [
        "offset = 0\n",
        "output_notes = []\n",
        "# create note and chord objects based on the values generated by the model\n",
        "for pattern in prediction_output:\n",
        "    # pattern is a chord\n",
        "    if ('.' in pattern) or pattern.isdigit():\n",
        "        notes_in_chord = pattern.split('.')\n",
        "        notes = []\n",
        "        for current_note in notes_in_chord:\n",
        "            new_note = note.Note(int(current_note))\n",
        "            new_note.storedInstrument = instrument.Piano()\n",
        "            notes.append(new_note)\n",
        "        new_chord = chord.Chord(notes)\n",
        "        new_chord.offset = offset\n",
        "        output_notes.append(new_chord)\n",
        "    # pattern is a note\n",
        "    else:\n",
        "        new_note = note.Note(pattern)\n",
        "        new_note.offset = offset\n",
        "        new_note.storedInstrument = instrument.Piano()\n",
        "        output_notes.append(new_note)\n",
        "\n",
        "    # increase offset each iteration so that notes do not stack\n",
        "    offset += 0.5\n",
        "\n",
        "midi_stream = stream.Stream(output_notes)\n",
        "midi_stream.write('midi', fp='test_output.mid')"
      ],
      "execution_count": null,
      "outputs": [
        {
          "output_type": "execute_result",
          "data": {
            "application/vnd.google.colaboratory.intrinsic+json": {
              "type": "string"
            },
            "text/plain": [
              "'test_output.mid'"
            ]
          },
          "metadata": {
            "tags": []
          },
          "execution_count": 23
        }
      ]
    }
  ]
}