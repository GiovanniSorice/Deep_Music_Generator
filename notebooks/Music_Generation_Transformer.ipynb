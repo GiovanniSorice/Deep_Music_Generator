{
  "nbformat": 4,
  "nbformat_minor": 0,
  "metadata": {
    "colab": {
      "name": "Music_Generation_Transformer.ipynb",
      "provenance": [],
      "toc_visible": true,
      "authorship_tag": "ABX9TyPbYg4UqegTRoetqeA4u53U",
      "include_colab_link": true
    },
    "kernelspec": {
      "name": "python3",
      "display_name": "Python 3"
    },
    "accelerator": "GPU"
  },
  "cells": [
    {
      "cell_type": "markdown",
      "metadata": {
        "id": "view-in-github",
        "colab_type": "text"
      },
      "source": [
        "<a href=\"https://colab.research.google.com/github/GiovanniSorice/Deep_Music_Generator/blob/main/notebooks/Music_Generation_Transformer.ipynb\" target=\"_parent\"><img src=\"https://colab.research.google.com/assets/colab-badge.svg\" alt=\"Open In Colab\"/></a>"
      ]
    },
    {
      "cell_type": "markdown",
      "metadata": {
        "id": "6gJ3GwlYmvNT"
      },
      "source": [
        "# Transformer Music Generator "
      ]
    },
    {
      "cell_type": "markdown",
      "metadata": {
        "id": "sNwQUwLIm7oW"
      },
      "source": [
        "\n",
        "\n",
        "In this notebook, we use an Transformer to generate some music.\n"
      ]
    },
    {
      "cell_type": "markdown",
      "metadata": {
        "id": "aFVGA5D4azA4"
      },
      "source": [
        "**This notebook was inspired (and part of the code comes from it) by [Music_Generation_LSTM](https://colab.research.google.com/drive/19TQqekOlnOSW36VCL8CPVEQKBBukmaEQ#scrollTo=DDOBVWULXfpz)**\n"
      ]
    },
    {
      "cell_type": "markdown",
      "metadata": {
        "id": "qtmj0efInB_L"
      },
      "source": [
        "\n",
        "\n",
        "**Load dependencies**"
      ]
    },
    {
      "cell_type": "code",
      "metadata": {
        "id": "hCsb9kaJmWHN",
        "colab": {
          "base_uri": "https://localhost:8080/"
        },
        "outputId": "cd497a1e-211e-4402-d11e-43ac23f57fb2"
      },
      "source": [
        "pip install compressive_transformer_pytorch"
      ],
      "execution_count": 1,
      "outputs": [
        {
          "output_type": "stream",
          "text": [
            "Collecting compressive_transformer_pytorch\n",
            "  Downloading https://files.pythonhosted.org/packages/30/39/b8caf2671abcb8615977c08766aa9f450addd6949f57c7dda87224e844b5/compressive_transformer_pytorch-0.3.20-py3-none-any.whl\n",
            "Collecting mogrifier\n",
            "  Downloading https://files.pythonhosted.org/packages/77/01/62a55d0f8048e788fce435f2ade6478f443e4e53ed9b89b55ba0fc42c198/mogrifier-0.0.3-py3-none-any.whl\n",
            "Requirement already satisfied: torch in /usr/local/lib/python3.6/dist-packages (from compressive_transformer_pytorch) (1.7.0+cu101)\n",
            "Requirement already satisfied: numpy in /usr/local/lib/python3.6/dist-packages (from torch->compressive_transformer_pytorch) (1.18.5)\n",
            "Requirement already satisfied: future in /usr/local/lib/python3.6/dist-packages (from torch->compressive_transformer_pytorch) (0.16.0)\n",
            "Requirement already satisfied: dataclasses in /usr/local/lib/python3.6/dist-packages (from torch->compressive_transformer_pytorch) (0.8)\n",
            "Requirement already satisfied: typing-extensions in /usr/local/lib/python3.6/dist-packages (from torch->compressive_transformer_pytorch) (3.7.4.3)\n",
            "Installing collected packages: mogrifier, compressive-transformer-pytorch\n",
            "Successfully installed compressive-transformer-pytorch-0.3.20 mogrifier-0.0.3\n"
          ],
          "name": "stdout"
        }
      ]
    },
    {
      "cell_type": "code",
      "metadata": {
        "id": "1mi6KoBmX44A"
      },
      "source": [
        "import torch\n",
        "import tqdm\n",
        "import numpy as np\n",
        "import pandas as pd\n",
        "import tensorflow as tf\n",
        "import os\n",
        "from compressive_transformer_pytorch import CompressiveTransformer\n",
        "from compressive_transformer_pytorch import AutoregressiveWrapper\n",
        "from torchsummary import summary\n",
        "from torch.utils.data import DataLoader, Dataset\n",
        "from tensorflow.keras import utils\n",
        "from sklearn.metrics import roc_auc_score \n",
        "import matplotlib.pyplot as plt\n",
        "import glob\n",
        "import pickle\n",
        "from music21 import converter, instrument, stream, note, chord\n",
        "import math\n",
        "import shutil"
      ],
      "execution_count": 2,
      "outputs": []
    },
    {
      "cell_type": "code",
      "metadata": {
        "id": "JwF2wx4oRZXW"
      },
      "source": [
        "# Set to false if you are not running\n",
        "# this notebook in Google Colaboratory\n",
        "run_on_colab = True"
      ],
      "execution_count": 3,
      "outputs": []
    },
    {
      "cell_type": "markdown",
      "metadata": {
        "id": "w2w9a2MknGmP"
      },
      "source": [
        "**Set hyperparameters**"
      ]
    },
    {
      "cell_type": "code",
      "metadata": {
        "id": "NnnLeO8Emsx3"
      },
      "source": [
        "# output directory name:\n",
        "output_dir = '/content/drive/My Drive/ISPR_project/Transformer/'\n",
        "current_path ='/content/drive/My Drive/ISPR_project/'\n",
        "# training:\n",
        "epochs = 2000\n",
        "batch_size = 64\n",
        "learning_rate=1e-4\n",
        "# vector-space embedding: \n",
        "n_dim = 64 \n",
        "sequence_length = 64\n",
        "\n",
        "\n",
        "VALIDATE_EVERY  = 5\n",
        "\n",
        "GENERATE_EVERY  = 500\n",
        "\n"
      ],
      "execution_count": 4,
      "outputs": []
    },
    {
      "cell_type": "markdown",
      "metadata": {
        "id": "iUFOx5yB39xx"
      },
      "source": [
        "**Save model function**"
      ]
    },
    {
      "cell_type": "code",
      "metadata": {
        "id": "NQHDRGj838-0"
      },
      "source": [
        "def save_checkpoint(state, is_best, filename='checkpoint.pth.tar'):\n",
        "    torch.save(state, output_dir+filename)\n",
        "    if is_best:\n",
        "        shutil.copyfile(output_dir+filename, output_dir+'model_best.pth.tar')"
      ],
      "execution_count": 5,
      "outputs": []
    },
    {
      "cell_type": "markdown",
      "metadata": {
        "id": "HvBjPl0cbI0_"
      },
      "source": [
        "**Google drive configuration (only Colab)**"
      ]
    },
    {
      "cell_type": "code",
      "metadata": {
        "id": "hKil2p6sM2gZ",
        "colab": {
          "base_uri": "https://localhost:8080/"
        },
        "outputId": "820840e5-9b9d-437f-a3b7-7811ba541d82"
      },
      "source": [
        "if(run_on_colab):\n",
        "  from google.colab import drive\n",
        "  # This will prompt for authorization.\n",
        "  drive.mount('/content/drive')"
      ],
      "execution_count": 6,
      "outputs": [
        {
          "output_type": "stream",
          "text": [
            "Mounted at /content/drive\n"
          ],
          "name": "stdout"
        }
      ]
    },
    {
      "cell_type": "markdown",
      "metadata": {
        "id": "jU3gQinYmutQ"
      },
      "source": [
        "**Load data** \\\\\n",
        "Original MIDI files\n",
        " I have obtained  **MIDI files** from [The Lakh MIDI Dataset v0.1](https://colinraffel.com/projects/lmd/). "
      ]
    },
    {
      "cell_type": "markdown",
      "metadata": {
        "id": "wavgJZNpcR_f"
      },
      "source": [
        "## Processing data\n",
        "\n",
        "Let's process the files, and load them into **music21**"
      ]
    },
    {
      "cell_type": "code",
      "metadata": {
        "id": "vILKBwYIcOvX",
        "colab": {
          "base_uri": "https://localhost:8080/"
        },
        "outputId": "f6b79edb-7607-4098-ef77-7301ea1e8c8f"
      },
      "source": [
        "file = current_path+\"midi_songs/dataset/Metal/Metallica/Am I Evil?.mid\"\n",
        "midi = converter.parse(file)\n",
        "notes_to_parse = midi.flat.notes\n",
        "for element in notes_to_parse[:10]:\n",
        "  print(element, element.offset)"
      ],
      "execution_count": 9,
      "outputs": [
        {
          "output_type": "stream",
          "text": [
            "<music21.chord.Chord E2 E3 B3 E4> 0.0\n",
            "<music21.chord.Chord E2 E3 B3 E4> 0.0\n",
            "<music21.note.Note E> 0.0\n",
            "<music21.chord.Chord C2 C#3> 0.0\n",
            "<music21.note.Note G#> 2.0\n",
            "<music21.chord.Chord D3 A3 D4> 3.0\n",
            "<music21.chord.Chord D3 A3 D4> 3.0\n",
            "<music21.note.Note D> 3.0\n",
            "<music21.chord.Chord C#3 C2> 3.0\n",
            "<music21.chord.Chord B3 E3 E4> 3.5\n"
          ],
          "name": "stdout"
        }
      ]
    },
    {
      "cell_type": "markdown",
      "metadata": {
        "id": "vjyrXfKic2kI"
      },
      "source": [
        "I will process all MIDI files obtaining data from each note of chord.\n",
        "\n",
        "- If I process a **note**, I will store in the list a string representing the pitch (the note name) and the octave.\n",
        "\n",
        "- If I process a **chord** (Remember that chords are set of notes that are played at the same time) I will store a different type of string with numbers separated by dots. Each number represents the pitch of a chord note. \n",
        "\n",
        "As you can see, **I are not considering yet time offsets of each element**. In this first version, we won't consider them, so all the notes and chords will have the same duration. Maybe, in the future, I will consider them.\n",
        "\n",
        "I are creating a big list with all the elements of all the compositions."
      ]
    },
    {
      "cell_type": "code",
      "metadata": {
        "id": "iawbQHYVTOFM",
        "colab": {
          "base_uri": "https://localhost:8080/"
        },
        "outputId": "3e75bd37-54c6-4591-d963-212adf87c50e"
      },
      "source": [
        "notes_for_instruments = []\n",
        "for i,file in enumerate(glob.glob(current_path+\"midi_songs/dataset/*/*/*.mid\")):\n",
        "      midi = converter.parse(file)\n",
        "      print('Parsing file ', i, \" \", file)\n",
        "      notes_to_parse = None\n",
        "      try:  # file has instrument parts\n",
        "          s2 = instrument.partitionByInstrument(midi)\n",
        "          notes_to_parse = s2.recurse()\n",
        "      except:  # file has notes in a flat structure\n",
        "          notes_to_parse = midi.flat.notes\n",
        "      notes_instrument = []\n",
        "      for element in notes_to_parse:\n",
        "          if isinstance(element, note.Note):\n",
        "              notes_instrument.append(str(element.pitch))\n",
        "          elif isinstance(element, chord.Chord):\n",
        "              notes_instrument.append('.'.join(str(n) for n in element.normalOrder))\n",
        "      notes_for_instruments.append(notes_instrument)\n",
        "with open(current_path + 'notes_for_instruments', 'wb') as filepath:\n",
        "    pickle.dump(notes_for_instruments, filepath)\n"
      ],
      "execution_count": 10,
      "outputs": [
        {
          "output_type": "stream",
          "text": [
            "Parsing file  0   /content/drive/My Drive/ISPR_project/midi_songs/dataset/Rock/Queen/All God's People.mid\n",
            "Parsing file  1   /content/drive/My Drive/ISPR_project/midi_songs/dataset/Rock/Queen/All God's People.1.mid\n",
            "Parsing file  2   /content/drive/My Drive/ISPR_project/midi_songs/dataset/Rock/Queen/All God's People.2.mid\n",
            "Parsing file  3   /content/drive/My Drive/ISPR_project/midi_songs/dataset/Rock/Queen/A Kind of Magic.1.mid\n",
            "Parsing file  4   /content/drive/My Drive/ISPR_project/midi_songs/dataset/Rock/Queen/A Kind of Magic.3.mid\n",
            "Parsing file  5   /content/drive/My Drive/ISPR_project/midi_songs/dataset/Rock/Queen/A Kind of Magic.2.mid\n",
            "Parsing file  6   /content/drive/My Drive/ISPR_project/midi_songs/dataset/Rock/Queen/Bohemian Rhapsody.1.mid\n",
            "Parsing file  7   /content/drive/My Drive/ISPR_project/midi_songs/dataset/Rock/Queen/Another One Bites The Dust.1.mid\n",
            "Parsing file  8   /content/drive/My Drive/ISPR_project/midi_songs/dataset/Rock/Queen/Another One Bites The Dust.mid\n",
            "Parsing file  9   /content/drive/My Drive/ISPR_project/midi_songs/dataset/Rock/Queen/Another One Bites The Dust.6.mid\n",
            "Parsing file  10   /content/drive/My Drive/ISPR_project/midi_songs/dataset/Rock/Queen/Bicycle Race.1.mid\n",
            "Parsing file  11   /content/drive/My Drive/ISPR_project/midi_songs/dataset/Rock/Queen/Another One Bites The Dust.7.mid\n",
            "Parsing file  12   /content/drive/My Drive/ISPR_project/midi_songs/dataset/Rock/Queen/Bohemian Rhapsody.2.mid\n",
            "Parsing file  13   /content/drive/My Drive/ISPR_project/midi_songs/dataset/Rock/Queen/Bohemian Rhapsody.7.mid\n",
            "Parsing file  14   /content/drive/My Drive/ISPR_project/midi_songs/dataset/Rock/Queen/Bohemian Rhapsody.4.mid\n",
            "Parsing file  15   /content/drive/My Drive/ISPR_project/midi_songs/dataset/Rock/Queen/Another One Bites The Dust.2.mid\n",
            "Parsing file  16   /content/drive/My Drive/ISPR_project/midi_songs/dataset/Rock/Queen/Bohemian Rhapsody.3.mid\n",
            "Parsing file  17   /content/drive/My Drive/ISPR_project/midi_songs/dataset/Rock/Queen/Bohemian Rhapsody.6.mid\n",
            "Parsing file  18   /content/drive/My Drive/ISPR_project/midi_songs/dataset/Rock/Queen/Another One Bites The Dust.4.mid\n",
            "Parsing file  19   /content/drive/My Drive/ISPR_project/midi_songs/dataset/Rock/Queen/Bohemian Rhapsody.mid\n",
            "Parsing file  20   /content/drive/My Drive/ISPR_project/midi_songs/dataset/Rock/Queen/Bohemian Rhapsody.5.mid\n",
            "Parsing file  21   /content/drive/My Drive/ISPR_project/midi_songs/dataset/Rock/Queen/Bicycle Race.mid\n",
            "Parsing file  22   /content/drive/My Drive/ISPR_project/midi_songs/dataset/Rock/Queen/Another One Bites The Dust.3.mid\n",
            "Parsing file  23   /content/drive/My Drive/ISPR_project/midi_songs/dataset/Rock/Queen/Another One Bites The Dust.5.mid\n",
            "Parsing file  24   /content/drive/My Drive/ISPR_project/midi_songs/dataset/Rock/Pearl Jam/Animal.mid\n",
            "Parsing file  25   /content/drive/My Drive/ISPR_project/midi_songs/dataset/Rock/Pearl Jam/Mankind.mid\n",
            "Parsing file  26   /content/drive/My Drive/ISPR_project/midi_songs/dataset/Rock/Pearl Jam/Yellow Ledbetter.mid\n",
            "Parsing file  27   /content/drive/My Drive/ISPR_project/midi_songs/dataset/Rock/Pearl Jam/Once.mid\n",
            "Parsing file  28   /content/drive/My Drive/ISPR_project/midi_songs/dataset/Rock/Pearl Jam/Lukin.mid\n",
            "Parsing file  29   /content/drive/My Drive/ISPR_project/midi_songs/dataset/Rock/Pearl Jam/Hail, Hail.mid\n",
            "Parsing file  30   /content/drive/My Drive/ISPR_project/midi_songs/dataset/Rock/Pearl Jam/State of Love and Trust.mid\n",
            "Parsing file  31   /content/drive/My Drive/ISPR_project/midi_songs/dataset/Rock/Pearl Jam/Release.mid\n",
            "Parsing file  32   /content/drive/My Drive/ISPR_project/midi_songs/dataset/Rock/Pearl Jam/Smile.mid\n",
            "Parsing file  33   /content/drive/My Drive/ISPR_project/midi_songs/dataset/Rock/Pearl Jam/Even Flow.mid\n",
            "Parsing file  34   /content/drive/My Drive/ISPR_project/midi_songs/dataset/Pop_rock/883/Io ci saro'.1.mid\n",
            "Parsing file  35   /content/drive/My Drive/ISPR_project/midi_songs/dataset/Pop_rock/883/Tieni il tempo.1.mid\n",
            "Parsing file  36   /content/drive/My Drive/ISPR_project/midi_songs/dataset/Pop_rock/883/Non ti passa piu.mid\n",
            "Parsing file  37   /content/drive/My Drive/ISPR_project/midi_songs/dataset/Pop_rock/883/Hanno ucciso l'uomo ragno.1.mid\n",
            "Parsing file  38   /content/drive/My Drive/ISPR_project/midi_songs/dataset/Pop_rock/883/Grazie mille.1.mid\n",
            "Parsing file  39   /content/drive/My Drive/ISPR_project/midi_songs/dataset/Pop_rock/883/Non mi arrendo.mid\n",
            "Parsing file  40   /content/drive/My Drive/ISPR_project/midi_songs/dataset/Pop_rock/883/Nessun rimpianto.mid\n",
            "Parsing file  41   /content/drive/My Drive/ISPR_project/midi_songs/dataset/Pop_rock/883/Hanno ucciso l'uomo ragno.mid\n",
            "Parsing file  42   /content/drive/My Drive/ISPR_project/midi_songs/dataset/Pop_rock/883/Io ci saro'.mid\n",
            "Parsing file  43   /content/drive/My Drive/ISPR_project/midi_songs/dataset/Pop_rock/883/Andra tutto bene ('58).1.mid\n",
            "Parsing file  44   /content/drive/My Drive/ISPR_project/midi_songs/dataset/Pop_rock/883/Una canzone d'amore.1.mid\n",
            "Parsing file  45   /content/drive/My Drive/ISPR_project/midi_songs/dataset/Pop_rock/883/Le luci di Natale.mid\n",
            "Parsing file  46   /content/drive/My Drive/ISPR_project/midi_songs/dataset/Pop_rock/883/Una canzone d'amore.mid\n",
            "Parsing file  47   /content/drive/My Drive/ISPR_project/midi_songs/dataset/Pop_rock/883/Andra tutto bene ('58).mid\n",
            "Parsing file  48   /content/drive/My Drive/ISPR_project/midi_songs/dataset/Pop_rock/883/Hanno ucciso l'uomo ragno.2.mid\n",
            "Parsing file  49   /content/drive/My Drive/ISPR_project/midi_songs/dataset/Pop_rock/883/La regola dell'amico.mid\n",
            "Parsing file  50   /content/drive/My Drive/ISPR_project/midi_songs/dataset/Pop_rock/883/Nessun rimpianto.1.mid\n",
            "Parsing file  51   /content/drive/My Drive/ISPR_project/midi_songs/dataset/Pop_rock/883/Nella notte.1.mid\n",
            "Parsing file  52   /content/drive/My Drive/ISPR_project/midi_songs/dataset/Pop_rock/883/Tieni il tempo.2.mid\n",
            "Parsing file  53   /content/drive/My Drive/ISPR_project/midi_songs/dataset/Pop_rock/883/Dimmi perche (remix).mid\n",
            "Parsing file  54   /content/drive/My Drive/ISPR_project/midi_songs/dataset/Pop_rock/883/Non mi arrendo.1.mid\n",
            "Parsing file  55   /content/drive/My Drive/ISPR_project/midi_songs/dataset/Pop_rock/883/Nella notte.2.mid\n",
            "Parsing file  56   /content/drive/My Drive/ISPR_project/midi_songs/dataset/Pop_rock/Toto/Rosanna.3.mid\n",
            "Parsing file  57   /content/drive/My Drive/ISPR_project/midi_songs/dataset/Pop_rock/Toto/Georgy Porgy.mid\n",
            "Parsing file  58   /content/drive/My Drive/ISPR_project/midi_songs/dataset/Pop_rock/Toto/Africa.1.mid\n",
            "Parsing file  59   /content/drive/My Drive/ISPR_project/midi_songs/dataset/Pop_rock/Toto/Hold The Line.1.mid\n",
            "Parsing file  60   /content/drive/My Drive/ISPR_project/midi_songs/dataset/Pop_rock/Toto/I'll Be Over You.mid\n",
            "Parsing file  61   /content/drive/My Drive/ISPR_project/midi_songs/dataset/Pop_rock/Toto/Hold The Line.mid\n",
            "Parsing file  62   /content/drive/My Drive/ISPR_project/midi_songs/dataset/Pop_rock/Toto/Hold The Line.2.mid\n",
            "Parsing file  63   /content/drive/My Drive/ISPR_project/midi_songs/dataset/Pop_rock/Toto/I'll Be Over You.1.mid\n",
            "Parsing file  64   /content/drive/My Drive/ISPR_project/midi_songs/dataset/Pop_rock/Toto/Rosanna.1.mid\n",
            "Parsing file  65   /content/drive/My Drive/ISPR_project/midi_songs/dataset/Pop_rock/Toto/Africa.7.mid\n",
            "Parsing file  66   /content/drive/My Drive/ISPR_project/midi_songs/dataset/Pop_rock/Toto/Rosanna.4.mid\n",
            "Parsing file  67   /content/drive/My Drive/ISPR_project/midi_songs/dataset/Pop_rock/Toto/Georgy Porgy.1.mid\n",
            "Parsing file  68   /content/drive/My Drive/ISPR_project/midi_songs/dataset/Metal/Metallica/Jump in the Fire.mid\n",
            "Parsing file  69   /content/drive/My Drive/ISPR_project/midi_songs/dataset/Metal/Metallica/Leper Messiah.3.mid\n",
            "Parsing file  70   /content/drive/My Drive/ISPR_project/midi_songs/dataset/Metal/Metallica/For Whom the Bell Tolls.1.mid\n",
            "Parsing file  71   /content/drive/My Drive/ISPR_project/midi_songs/dataset/Metal/Metallica/Hero of the Day.2.mid\n",
            "Parsing file  72   /content/drive/My Drive/ISPR_project/midi_songs/dataset/Metal/Metallica/Orion.2.mid\n",
            "Parsing file  73   /content/drive/My Drive/ISPR_project/midi_songs/dataset/Metal/Metallica/Master of Puppets.1.mid\n",
            "Parsing file  74   /content/drive/My Drive/ISPR_project/midi_songs/dataset/Metal/Metallica/Am I Evil?.mid\n",
            "Parsing file  75   /content/drive/My Drive/ISPR_project/midi_songs/dataset/Metal/Metallica/Fade to Black.2.mid\n",
            "Parsing file  76   /content/drive/My Drive/ISPR_project/midi_songs/dataset/Metal/Metallica/Enter Sandman.1.mid\n",
            "Parsing file  77   /content/drive/My Drive/ISPR_project/midi_songs/dataset/Metal/Metallica/Orion.1.mid\n",
            "Parsing file  78   /content/drive/My Drive/ISPR_project/midi_songs/dataset/Metal/Metallica/Last Caress.mid\n",
            "Parsing file  79   /content/drive/My Drive/ISPR_project/midi_songs/dataset/Metal/Metallica/Am I Evil?.1.mid\n",
            "Parsing file  80   /content/drive/My Drive/ISPR_project/midi_songs/dataset/Metal/Metallica/Eye of the Beholder.mid\n",
            "Parsing file  81   /content/drive/My Drive/ISPR_project/midi_songs/dataset/Metal/Metallica/Fight Fire With Fire.mid\n",
            "Parsing file  82   /content/drive/My Drive/ISPR_project/midi_songs/dataset/Metal/Metallica/No Remorse.mid\n",
            "Parsing file  83   /content/drive/My Drive/ISPR_project/midi_songs/dataset/Metal/Metallica/Hit the Lights.mid\n",
            "Parsing file  84   /content/drive/My Drive/ISPR_project/midi_songs/dataset/Metal/Metallica/For Whom the Bell Tolls.mid\n",
            "Parsing file  85   /content/drive/My Drive/ISPR_project/midi_songs/dataset/Metal/Metallica/Enter Sandman.3.mid\n",
            "Parsing file  86   /content/drive/My Drive/ISPR_project/midi_songs/dataset/Metal/Metallica/One.4.mid\n",
            "Parsing file  87   /content/drive/My Drive/ISPR_project/midi_songs/dataset/Metal/Metallica/One.1.mid\n",
            "Parsing file  88   /content/drive/My Drive/ISPR_project/midi_songs/dataset/Metal/Metallica/No Leaf Clover.mid\n",
            "Parsing file  89   /content/drive/My Drive/ISPR_project/midi_songs/dataset/Metal/Metallica/Metal Militia.mid\n",
            "Parsing file  90   /content/drive/My Drive/ISPR_project/midi_songs/dataset/Metal/Metallica/Carpe Diem Baby.mid\n",
            "Parsing file  91   /content/drive/My Drive/ISPR_project/midi_songs/dataset/Metal/Metallica/Hero of the Day.mid\n",
            "Parsing file  92   /content/drive/My Drive/ISPR_project/midi_songs/dataset/Metal/Metallica/Cure.mid\n",
            "Parsing file  93   /content/drive/My Drive/ISPR_project/midi_songs/dataset/Metal/Metallica/Leper Messiah.1.mid\n",
            "Parsing file  94   /content/drive/My Drive/ISPR_project/midi_songs/dataset/Metal/Metallica/Creeping Death.1.mid\n",
            "Parsing file  95   /content/drive/My Drive/ISPR_project/midi_songs/dataset/Metal/Metallica/Leper Messiah.mid\n",
            "Parsing file  96   /content/drive/My Drive/ISPR_project/midi_songs/dataset/Metal/Metallica/Master of Puppets.4.mid\n",
            "Parsing file  97   /content/drive/My Drive/ISPR_project/midi_songs/dataset/Metal/Metallica/Damage, Inc..1.mid\n",
            "Parsing file  98   /content/drive/My Drive/ISPR_project/midi_songs/dataset/Metal/Metallica/Fade to Black.3.mid\n",
            "Parsing file  99   /content/drive/My Drive/ISPR_project/midi_songs/dataset/Metal/Metallica/Jump in the Fire.1.mid\n",
            "Parsing file  100   /content/drive/My Drive/ISPR_project/midi_songs/dataset/Metal/Metallica/Creeping Death.2.mid\n",
            "Parsing file  101   /content/drive/My Drive/ISPR_project/midi_songs/dataset/Metal/Metallica/Fade to Black.4.mid\n"
          ],
          "name": "stdout"
        }
      ]
    },
    {
      "cell_type": "code",
      "metadata": {
        "id": "Nj7MnrxIHLwh",
        "colab": {
          "base_uri": "https://localhost:8080/"
        },
        "outputId": "e5dc237a-c9e6-4ea4-9030-2b11f4a6be1e"
      },
      "source": [
        "notes_for_instruments_validation = []\n",
        "for i,file in enumerate(glob.glob(current_path+\"midi_songs/validation/*.mid\")):\n",
        "      midi = converter.parse(file)\n",
        "      print('Parsing file ', i, \" \", file)\n",
        "      notes_to_parse = None\n",
        "      try:  # file has instrument parts\n",
        "          s2 = instrument.partitionByInstrument(midi)\n",
        "          notes_to_parse = s2.recurse()\n",
        "      except:  # file has notes in a flat structure\n",
        "          notes_to_parse = midi.flat.notes\n",
        "      notes_instrument = []\n",
        "      for element in notes_to_parse:\n",
        "          if isinstance(element, note.Note):\n",
        "              notes_instrument.append(str(element.pitch))\n",
        "          elif isinstance(element, chord.Chord):\n",
        "              notes_instrument.append('.'.join(str(n) for n in element.normalOrder))\n",
        "      notes_for_instruments_validation.append(notes_instrument)\n",
        "with open(current_path + 'VALIDATION_notes_for_instruments', 'wb') as filepath:\n",
        "    pickle.dump(notes_for_instruments_validation, filepath)\n"
      ],
      "execution_count": 11,
      "outputs": [
        {
          "output_type": "stream",
          "text": [
            "Parsing file  0   /content/drive/My Drive/ISPR_project/midi_songs/validation/Crazy Little Thing Called Love.mid\n",
            "Parsing file  1   /content/drive/My Drive/ISPR_project/midi_songs/validation/Nothing Else Matters.2.mid\n",
            "Parsing file  2   /content/drive/My Drive/ISPR_project/midi_songs/validation/King Nothing.1.mid\n",
            "Parsing file  3   /content/drive/My Drive/ISPR_project/midi_songs/validation/Fixxxer.mid\n",
            "Parsing file  4   /content/drive/My Drive/ISPR_project/midi_songs/validation/Motorbreath.mid\n",
            "Parsing file  5   /content/drive/My Drive/ISPR_project/midi_songs/validation/Porch.mid\n",
            "Parsing file  6   /content/drive/My Drive/ISPR_project/midi_songs/validation/A Kind of Magic.mid\n",
            "Parsing file  7   /content/drive/My Drive/ISPR_project/midi_songs/validation/Don't Chain My Heart.mid\n",
            "Parsing file  8   /content/drive/My Drive/ISPR_project/midi_songs/validation/Se tornerai.1.mid\n",
            "Parsing file  9   /content/drive/My Drive/ISPR_project/midi_songs/validation/Pamela.1.mid\n"
          ],
          "name": "stdout"
        }
      ]
    },
    {
      "cell_type": "code",
      "metadata": {
        "id": "qr4zRlBMf-f5"
      },
      "source": [
        "with open(current_path + 'notes_for_instruments', 'rb') as f:\n",
        "    notes_for_instruments = pickle.load(f)"
      ],
      "execution_count": 7,
      "outputs": []
    },
    {
      "cell_type": "code",
      "metadata": {
        "id": "2pmIFIu9f-4K"
      },
      "source": [
        "with open(current_path + 'VALIDATION_notes_for_instruments', 'rb') as f:\n",
        "    notes_for_instruments_validation = pickle.load(f)"
      ],
      "execution_count": 8,
      "outputs": []
    },
    {
      "cell_type": "markdown",
      "metadata": {
        "id": "XuHePM_3dMXM"
      },
      "source": [
        "I obtain the number of different notes in our dataset, because this will be the **number of possible output classes**  of our model."
      ]
    },
    {
      "cell_type": "code",
      "metadata": {
        "id": "pEiySfEnTzyz",
        "colab": {
          "base_uri": "https://localhost:8080/"
        },
        "outputId": "65ae49d5-5a38-4589-e25d-6c6657c2e3cf"
      },
      "source": [
        "# Count different possible outputs\n",
        "n_vocab = (len(set(item for notes_for_instrument in notes_for_instruments for item in notes_for_instrument)))\n",
        "n_vocab"
      ],
      "execution_count": 9,
      "outputs": [
        {
          "output_type": "execute_result",
          "data": {
            "text/plain": [
              "833"
            ]
          },
          "metadata": {
            "tags": []
          },
          "execution_count": 9
        }
      ]
    },
    {
      "cell_type": "code",
      "metadata": {
        "id": "khLas76ZHecL",
        "colab": {
          "base_uri": "https://localhost:8080/"
        },
        "outputId": "a122f72a-7ec0-4f9d-c712-445d9df928f6"
      },
      "source": [
        "# Count different possible outputs valifation\n",
        "print(len(set(item for notes_for_instrument in notes_for_instruments_validation for item in notes_for_instrument)))"
      ],
      "execution_count": 10,
      "outputs": [
        {
          "output_type": "stream",
          "text": [
            "229\n"
          ],
          "name": "stdout"
        }
      ]
    },
    {
      "cell_type": "markdown",
      "metadata": {
        "id": "v-mABhgUnTcV"
      },
      "source": [
        "**Preprocess data** \\\\\n",
        "Now, there is some **data processing** that I have to do:\n",
        "\n",
        "- I will map each pitch or chord to an integer\n",
        "- I will create pairs of input sequences and its corresponding output note\n",
        "\n",
        "I can try different **sequence_length** to obtain different results. In this first version, I will use a sequence_length of 100.\n",
        "\n",
        "The network will made its prediction of the next note (or chord), based on the previous *sequence_length* notes (or chords). \n"
      ]
    },
    {
      "cell_type": "code",
      "metadata": {
        "id": "lYkq3qb-hLra"
      },
      "source": [
        "# get all pitch names\n",
        "pitchnames_training = set(item for notes_for_instrument in notes_for_instruments for item in notes_for_instrument)\n",
        "pitchnames_validation = set(item for notes_for_instrument in notes_for_instruments_validation for item in notes_for_instrument)\n",
        "pitchnames = sorted(pitchnames_training.union(pitchnames_validation))"
      ],
      "execution_count": 11,
      "outputs": []
    },
    {
      "cell_type": "code",
      "metadata": {
        "id": "q4PpfIFRnWIA"
      },
      "source": [
        "# create a dictionary to map pitches to integers\n",
        "note_to_int = dict((note, number) for number, note in enumerate(pitchnames))\n",
        "network_input = []\n",
        "for notes in notes_for_instruments:\n",
        "    if len(notes) - sequence_length<=0:\n",
        "        print(\"canzone troppo corta\")\n",
        "    # create input sequences and the corresponding outputs\n",
        "    for i in range(0, len(notes) - sequence_length, 1):\n",
        "      # Map pitches of sequence_in to integers\n",
        "      network_input.append([note_to_int[char] for char in notes[i:i + sequence_length]])\n",
        "n_patterns = len(network_input)\n",
        "# reshape the input into a format compatible with Transormer layers\n",
        "network_input = np.reshape(network_input, (n_patterns, sequence_length))"
      ],
      "execution_count": 12,
      "outputs": []
    },
    {
      "cell_type": "code",
      "metadata": {
        "id": "8QIDFrdeIIz1"
      },
      "source": [
        "# create a dictionary to map pitches to integers\n",
        "note_to_int_validation = dict((notes_validation, number) for number, notes_validation in enumerate(pitchnames))\n",
        "network_input_validation = []\n",
        "network_output_validation = []\n",
        "for notes_validation in notes_for_instruments_validation:\n",
        "    if len(notes_validation) - sequence_length<=0:\n",
        "        print(\"canzone troppo corta\")\n",
        "    # create input sequences and the corresponding outputs\n",
        "    for i in range(0, len(notes_validation) - sequence_length, 1):\n",
        "      # Map pitches of sequence_in to integers\n",
        "      network_input_validation.append([note_to_int_validation[char] for char in notes_validation[i:i + sequence_length]])\n",
        "n_patterns_validation = len(network_input_validation)\n",
        "# reshape the input into a format compatible with Transormer layers\n",
        "network_input_validation = np.reshape(network_input_validation, (n_patterns_validation, sequence_length))"
      ],
      "execution_count": 13,
      "outputs": []
    },
    {
      "cell_type": "markdown",
      "metadata": {
        "id": "GVRPauXUdq5Y"
      },
      "source": [
        "Let's see the new metwork_input size"
      ]
    },
    {
      "cell_type": "code",
      "metadata": {
        "id": "K8eQQMbxhUkN",
        "colab": {
          "base_uri": "https://localhost:8080/"
        },
        "outputId": "11edc252-46e1-4568-8f87-7ab7ce32fddc"
      },
      "source": [
        "network_input.shape"
      ],
      "execution_count": 14,
      "outputs": [
        {
          "output_type": "execute_result",
          "data": {
            "text/plain": [
              "(366889, 64)"
            ]
          },
          "metadata": {
            "tags": []
          },
          "execution_count": 14
        }
      ]
    },
    {
      "cell_type": "code",
      "metadata": {
        "id": "y-c9sz4Bo8eZ",
        "outputId": "b2401d62-2bd3-45bf-8c64-e64c35cbdbd2",
        "colab": {
          "base_uri": "https://localhost:8080/"
        }
      },
      "source": [
        "network_input_validation.shape"
      ],
      "execution_count": 15,
      "outputs": [
        {
          "output_type": "execute_result",
          "data": {
            "text/plain": [
              "(36341, 64)"
            ]
          },
          "metadata": {
            "tags": []
          },
          "execution_count": 15
        }
      ]
    },
    {
      "cell_type": "markdown",
      "metadata": {
        "id": "6--Wc8UXnVgY"
      },
      "source": [
        "**Design neural network architecture** "
      ]
    },
    {
      "cell_type": "code",
      "metadata": {
        "id": "t4ztPAQsnb7T"
      },
      "source": [
        "def create_network(sequence_length, n_vocab):\n",
        "    \"\"\" create the structure of the neural network \"\"\"\n",
        "    model = CompressiveTransformer(\n",
        "    num_tokens = n_vocab,\n",
        "    dim = sequence_length,\n",
        "    depth = 6,\n",
        "    seq_len = sequence_length,\n",
        "    mem_len = sequence_length,\n",
        "    cmem_len = 256,\n",
        "    cmem_ratio = 4,\n",
        "    memory_layers = [5,6],\n",
        "    gru_gated_residual = False\n",
        "    )\n",
        "\n",
        "    model = AutoregressiveWrapper(model)\n",
        "    model.cuda()\n",
        "    return model"
      ],
      "execution_count": 16,
      "outputs": []
    },
    {
      "cell_type": "code",
      "metadata": {
        "id": "1nsNVMocnhNC",
        "colab": {
          "base_uri": "https://localhost:8080/"
        },
        "outputId": "94f78d49-2a60-4152-e3b2-b708facdebfc"
      },
      "source": [
        "model = create_network(sequence_length,n_vocab)\n",
        "\n",
        "print(model)\n"
      ],
      "execution_count": 17,
      "outputs": [
        {
          "output_type": "stream",
          "text": [
            "AutoregressiveWrapper(\n",
            "  (net): CompressiveTransformer(\n",
            "    (token_emb): Embedding(833, 64)\n",
            "    (to_model_dim): Identity()\n",
            "    (to_logits): Sequential(\n",
            "      (0): Identity()\n",
            "      (1): Linear(in_features=64, out_features=833, bias=True)\n",
            "    )\n",
            "    (attn_layers): ModuleList(\n",
            "      (0): Residual(\n",
            "        (fn): PreNorm(\n",
            "          (norm): LayerNorm((64,), eps=1e-05, elementwise_affine=True)\n",
            "          (fn): SelfAttention(\n",
            "            (compress_mem_fn): ConvCompress(\n",
            "              (conv): Conv1d(64, 64, kernel_size=(4,), stride=(4,))\n",
            "            )\n",
            "            (to_q): Linear(in_features=64, out_features=64, bias=False)\n",
            "            (to_kv): Linear(in_features=64, out_features=128, bias=False)\n",
            "            (to_out): Linear(in_features=64, out_features=64, bias=True)\n",
            "            (attn_dropout): Dropout(p=0.0, inplace=False)\n",
            "            (dropout): Dropout(p=0.0, inplace=False)\n",
            "            (reconstruction_attn_dropout): Dropout(p=0.0, inplace=False)\n",
            "          )\n",
            "        )\n",
            "      )\n",
            "      (1): Residual(\n",
            "        (fn): PreNorm(\n",
            "          (norm): LayerNorm((64,), eps=1e-05, elementwise_affine=True)\n",
            "          (fn): SelfAttention(\n",
            "            (compress_mem_fn): ConvCompress(\n",
            "              (conv): Conv1d(64, 64, kernel_size=(4,), stride=(4,))\n",
            "            )\n",
            "            (to_q): Linear(in_features=64, out_features=64, bias=False)\n",
            "            (to_kv): Linear(in_features=64, out_features=128, bias=False)\n",
            "            (to_out): Linear(in_features=64, out_features=64, bias=True)\n",
            "            (attn_dropout): Dropout(p=0.0, inplace=False)\n",
            "            (dropout): Dropout(p=0.0, inplace=False)\n",
            "            (reconstruction_attn_dropout): Dropout(p=0.0, inplace=False)\n",
            "          )\n",
            "        )\n",
            "      )\n",
            "      (2): Residual(\n",
            "        (fn): PreNorm(\n",
            "          (norm): LayerNorm((64,), eps=1e-05, elementwise_affine=True)\n",
            "          (fn): SelfAttention(\n",
            "            (compress_mem_fn): ConvCompress(\n",
            "              (conv): Conv1d(64, 64, kernel_size=(4,), stride=(4,))\n",
            "            )\n",
            "            (to_q): Linear(in_features=64, out_features=64, bias=False)\n",
            "            (to_kv): Linear(in_features=64, out_features=128, bias=False)\n",
            "            (to_out): Linear(in_features=64, out_features=64, bias=True)\n",
            "            (attn_dropout): Dropout(p=0.0, inplace=False)\n",
            "            (dropout): Dropout(p=0.0, inplace=False)\n",
            "            (reconstruction_attn_dropout): Dropout(p=0.0, inplace=False)\n",
            "          )\n",
            "        )\n",
            "      )\n",
            "      (3): Residual(\n",
            "        (fn): PreNorm(\n",
            "          (norm): LayerNorm((64,), eps=1e-05, elementwise_affine=True)\n",
            "          (fn): SelfAttention(\n",
            "            (compress_mem_fn): ConvCompress(\n",
            "              (conv): Conv1d(64, 64, kernel_size=(4,), stride=(4,))\n",
            "            )\n",
            "            (to_q): Linear(in_features=64, out_features=64, bias=False)\n",
            "            (to_kv): Linear(in_features=64, out_features=128, bias=False)\n",
            "            (to_out): Linear(in_features=64, out_features=64, bias=True)\n",
            "            (attn_dropout): Dropout(p=0.0, inplace=False)\n",
            "            (dropout): Dropout(p=0.0, inplace=False)\n",
            "            (reconstruction_attn_dropout): Dropout(p=0.0, inplace=False)\n",
            "          )\n",
            "        )\n",
            "      )\n",
            "      (4): Residual(\n",
            "        (fn): PreNorm(\n",
            "          (norm): LayerNorm((64,), eps=1e-05, elementwise_affine=True)\n",
            "          (fn): SelfAttention(\n",
            "            (compress_mem_fn): ConvCompress(\n",
            "              (conv): Conv1d(64, 64, kernel_size=(4,), stride=(4,))\n",
            "            )\n",
            "            (to_q): Linear(in_features=64, out_features=64, bias=False)\n",
            "            (to_kv): Linear(in_features=64, out_features=128, bias=False)\n",
            "            (to_out): Linear(in_features=64, out_features=64, bias=True)\n",
            "            (attn_dropout): Dropout(p=0.0, inplace=False)\n",
            "            (dropout): Dropout(p=0.0, inplace=False)\n",
            "            (reconstruction_attn_dropout): Dropout(p=0.0, inplace=False)\n",
            "          )\n",
            "        )\n",
            "      )\n",
            "      (5): Residual(\n",
            "        (fn): PreNorm(\n",
            "          (norm): LayerNorm((64,), eps=1e-05, elementwise_affine=True)\n",
            "          (fn): SelfAttention(\n",
            "            (compress_mem_fn): ConvCompress(\n",
            "              (conv): Conv1d(64, 64, kernel_size=(4,), stride=(4,))\n",
            "            )\n",
            "            (to_q): Linear(in_features=64, out_features=64, bias=False)\n",
            "            (to_kv): Linear(in_features=64, out_features=128, bias=False)\n",
            "            (to_out): Linear(in_features=64, out_features=64, bias=True)\n",
            "            (attn_dropout): Dropout(p=0.0, inplace=False)\n",
            "            (dropout): Dropout(p=0.0, inplace=False)\n",
            "            (reconstruction_attn_dropout): Dropout(p=0.0, inplace=False)\n",
            "          )\n",
            "        )\n",
            "      )\n",
            "    )\n",
            "    (ff_layers): ModuleList(\n",
            "      (0): Residual(\n",
            "        (fn): PreNorm(\n",
            "          (norm): LayerNorm((64,), eps=1e-05, elementwise_affine=True)\n",
            "          (fn): FeedForward(\n",
            "            (w1): Linear(in_features=64, out_features=256, bias=True)\n",
            "            (act): GELU()\n",
            "            (dropout): Dropout(p=0.0, inplace=False)\n",
            "            (w2): Linear(in_features=256, out_features=64, bias=True)\n",
            "          )\n",
            "        )\n",
            "      )\n",
            "      (1): Residual(\n",
            "        (fn): PreNorm(\n",
            "          (norm): LayerNorm((64,), eps=1e-05, elementwise_affine=True)\n",
            "          (fn): FeedForward(\n",
            "            (w1): Linear(in_features=64, out_features=256, bias=True)\n",
            "            (act): GELU()\n",
            "            (dropout): Dropout(p=0.0, inplace=False)\n",
            "            (w2): Linear(in_features=256, out_features=64, bias=True)\n",
            "          )\n",
            "        )\n",
            "      )\n",
            "      (2): Residual(\n",
            "        (fn): PreNorm(\n",
            "          (norm): LayerNorm((64,), eps=1e-05, elementwise_affine=True)\n",
            "          (fn): FeedForward(\n",
            "            (w1): Linear(in_features=64, out_features=256, bias=True)\n",
            "            (act): GELU()\n",
            "            (dropout): Dropout(p=0.0, inplace=False)\n",
            "            (w2): Linear(in_features=256, out_features=64, bias=True)\n",
            "          )\n",
            "        )\n",
            "      )\n",
            "      (3): Residual(\n",
            "        (fn): PreNorm(\n",
            "          (norm): LayerNorm((64,), eps=1e-05, elementwise_affine=True)\n",
            "          (fn): FeedForward(\n",
            "            (w1): Linear(in_features=64, out_features=256, bias=True)\n",
            "            (act): GELU()\n",
            "            (dropout): Dropout(p=0.0, inplace=False)\n",
            "            (w2): Linear(in_features=256, out_features=64, bias=True)\n",
            "          )\n",
            "        )\n",
            "      )\n",
            "      (4): Residual(\n",
            "        (fn): PreNorm(\n",
            "          (norm): LayerNorm((64,), eps=1e-05, elementwise_affine=True)\n",
            "          (fn): FeedForward(\n",
            "            (w1): Linear(in_features=64, out_features=256, bias=True)\n",
            "            (act): GELU()\n",
            "            (dropout): Dropout(p=0.0, inplace=False)\n",
            "            (w2): Linear(in_features=256, out_features=64, bias=True)\n",
            "          )\n",
            "        )\n",
            "      )\n",
            "      (5): Residual(\n",
            "        (fn): PreNorm(\n",
            "          (norm): LayerNorm((64,), eps=1e-05, elementwise_affine=True)\n",
            "          (fn): FeedForward(\n",
            "            (w1): Linear(in_features=64, out_features=256, bias=True)\n",
            "            (act): GELU()\n",
            "            (dropout): Dropout(p=0.0, inplace=False)\n",
            "            (w2): Linear(in_features=256, out_features=64, bias=True)\n",
            "          )\n",
            "        )\n",
            "      )\n",
            "    )\n",
            "  )\n",
            ")\n"
          ],
          "name": "stdout"
        }
      ]
    },
    {
      "cell_type": "code",
      "metadata": {
        "id": "dRKI1q5WjwcL"
      },
      "source": [
        "def cycle(loader):\n",
        "    while True:\n",
        "        for data in loader:\n",
        "          yield data\n",
        "\n",
        "\n",
        "data_train = torch.from_numpy(network_input).cuda()\n",
        "train_loader = torch.utils.data.DataLoader(data_train, batch_size=32) \n",
        "cycle_train_loader  = cycle(DataLoader(data_train, batch_size = data_train.shape[0]))\n",
        "num_batches=math.ceil(data_train.shape[0]/batch_size) # Total number of batches"
      ],
      "execution_count": 18,
      "outputs": []
    },
    {
      "cell_type": "code",
      "metadata": {
        "id": "TFYgRHLRIy3C"
      },
      "source": [
        "#Validation\n",
        "data_validation = torch.from_numpy(network_input_validation).cuda()\n",
        "validation_loader = torch.utils.data.DataLoader(data_validation, batch_size=32) \n",
        "cycle_validation_loader  = cycle(DataLoader(data_validation, batch_size = data_validation.shape[0]))\n",
        "num_batches_val=math.ceil(data_validation.shape[0]/batch_size) # Total number of batches"
      ],
      "execution_count": 19,
      "outputs": []
    },
    {
      "cell_type": "code",
      "metadata": {
        "id": "E60il158kxfq"
      },
      "source": [
        "# optimizer\n",
        "\n",
        "optimizer = torch.optim.Adam(model.parameters(), lr=learning_rate)"
      ],
      "execution_count": 20,
      "outputs": []
    },
    {
      "cell_type": "markdown",
      "metadata": {
        "id": "GbO-XA3Dfrd2"
      },
      "source": [
        "In case we want to use previously trained weights, to continue the training in the point we left it, we should load them into the model.\n",
        "\n",
        "This is very useful in Google Colaboratory, that usually kills the virtual machine that is executing the Jupyter notework after a certime amount of time. If this happens to you, you should have to look for the last weights file in your configured Drive account and use it to train the network.\n"
      ]
    },
    {
      "cell_type": "code",
      "metadata": {
        "id": "QjfQL_Ck_92a"
      },
      "source": [
        "# In case we want to use previously trained weights\n",
        "weights = \"model_best.pth.tar\"\n",
        "checkpoint = torch.load(\"/content/drive/MyDrive/ISPR_project/Transformer/model_best.pth.tar\")\n",
        "model.load_state_dict(checkpoint['model_state_dict'])\n",
        "optimizer.load_state_dict(checkpoint['optimizer_state_dict'])\n",
        "epoch = checkpoint['epoch']\n",
        "loss = checkpoint['loss']\n"
      ],
      "execution_count": null,
      "outputs": []
    },
    {
      "cell_type": "code",
      "metadata": {
        "id": "UqX3PsrJkyNN"
      },
      "source": [
        "# training\n",
        "\n",
        "for i in tqdm.tqdm(range(epochs), mininterval=20., desc='training'):\n",
        "    model.train()\n",
        "    tot_loss = 0.0\n",
        "    is_best=0\n",
        "    best_loss_value=n_vocab\n",
        "    avg_loss_val=0\n",
        "    for mlm_loss, aux_loss, is_last in model(next(cycle_train_loader), max_batch_size = batch_size, return_loss = True):\n",
        "        loss = mlm_loss + aux_loss\n",
        "\n",
        "        loss.backward()\n",
        "\n",
        "        tot_loss+=loss;\n",
        "\n",
        "        if is_last:\n",
        "            torch.nn.utils.clip_grad_norm_(model.parameters(), 0.5)\n",
        "            optimizer.step()\n",
        "            optimizer.zero_grad()\n",
        "    \n",
        "    if i % VALIDATE_EVERY == 0 or i==epochs-1:\n",
        "      model.eval()\n",
        "      with torch.no_grad():\n",
        "          for loss_val, aux_loss_val, is_last_val in model(next(cycle_validation_loader), max_batch_size = batch_size, return_loss = True):\n",
        "            avg_loss_val+=loss_val/num_batches_val;\n",
        "\n",
        "            if is_last_val:\n",
        "              print(f'\\n validation loss: {avg_loss_val.item():.4f}')\n",
        "\n",
        "\n",
        "    avg_loss=tot_loss/num_batches\n",
        "\n",
        "    if i%5==0 or i==epochs-1:\n",
        "      if best_loss_value>avg_loss:\n",
        "        best_loss_value=avg_loss;\n",
        "        is_best=1\n",
        "\n",
        "      save_checkpoint({\n",
        "      'epoch': i,\n",
        "      'model_state_dict': model.state_dict(),\n",
        "      'optimizer_state_dict' : optimizer.state_dict(),\n",
        "      'loss':avg_loss.item(),\n",
        "     }, is_best, 'Tran_64_Checkpoint'+str(i)+'_'+\"{:.4f}\".format(avg_loss.item())+'.pth.tar')\n",
        "      is_best=0\n",
        "    print(f'\\n Epoch: {i} |Training loss: {avg_loss.item():.4f}')\n",
        "print('\\nTraining complete.')\n",
        "\n",
        "\n",
        "\n",
        "\n"
      ],
      "execution_count": null,
      "outputs": []
    },
    {
      "cell_type": "markdown",
      "metadata": {
        "id": "GAgrzFyRn3uq"
      },
      "source": [
        "**Music generation**"
      ]
    },
    {
      "cell_type": "code",
      "metadata": {
        "id": "qFbSthkLUwmx"
      },
      "source": [
        "# In case we want to use previously trained weights\n",
        "weights = \"model_best.pth.tar\"\n",
        "checkpoint = torch.load(output_dir+weights)\n",
        "model.load_state_dict(checkpoint['model_state_dict'])\n",
        "optimizer.load_state_dict(checkpoint['optimizer_state_dict'])\n",
        "epoch = checkpoint['epoch']\n",
        "loss = checkpoint['loss']\n"
      ],
      "execution_count": null,
      "outputs": []
    },
    {
      "cell_type": "code",
      "metadata": {
        "id": "6WtYEXpyoPPK"
      },
      "source": [
        "# Generate network input again\n",
        "network_input = []\n",
        "network_output = []\n",
        "for i in range(0, len(notes) - sequence_length, 1):\n",
        "  network_input.append([note_to_int[char] for char in notes[i:i + sequence_length]])\n",
        "n_patterns = len(network_input)\n",
        "network_input = np.reshape(network_input, (n_patterns, sequence_length))\n"
      ],
      "execution_count": null,
      "outputs": []
    },
    {
      "cell_type": "markdown",
      "metadata": {
        "id": "MuUGi5rVgbJQ"
      },
      "source": [
        "The workflow now is:\n",
        "\n",
        "\n",
        "1.   Pick a **seed sequence** randomly from your list of inputs (*pattern* variable)\n",
        "2.   Pass it as input for your model to generate a new element (note or chord)\n",
        "3.   Add the new element to your final song and to your *pattern* list\n",
        "4.   Remove the first item from *pattern*\n",
        "5.   Go to step 2\n"
      ]
    },
    {
      "cell_type": "code",
      "metadata": {
        "id": "UUTEiS0NXtkl"
      },
      "source": [
        "\"\"\" Generate notes from the neural network based on a sequence of notes \"\"\"\n",
        "# pick a random sequence from the input as a starting point for the prediction\n",
        "start = np.random.randint(0, len(network_input)-1)\n",
        "int_to_note = dict((number, note) for number, note in enumerate(pitchnames))\n",
        "pattern = torch.from_numpy(network_input[start]).cuda()\n",
        "\n",
        "prediction_output = model.generate(pattern, 500)\n"
      ],
      "execution_count": null,
      "outputs": []
    },
    {
      "cell_type": "code",
      "metadata": {
        "id": "UUlgtok68w-w",
        "colab": {
          "base_uri": "https://localhost:8080/"
        },
        "outputId": "8e5af720-53ab-4292-94da-8ef9be8aabfc"
      },
      "source": [
        "result_sample=[]\n",
        "\n",
        "for i in range(500):\n",
        "  print(i)\n",
        "  result = int_to_note[prediction_output[i].item()]\n",
        "  print('\\r', 'Predicted ', i, \" \",result, end='')\n",
        "  result_sample.append(result)\n",
        "\n",
        "prediction_output=result_sample"
      ],
      "execution_count": null,
      "outputs": [
        {
          "output_type": "stream",
          "text": [
            "0\n",
            "\r Predicted  0   61\n",
            "\r Predicted  1   4.62\n",
            "\r Predicted  2   6.113\n",
            "\r Predicted  3   64\n",
            "\r Predicted  4   6.115\n",
            "\r Predicted  5   A46\n",
            "\r Predicted  6   4.67\n",
            "\r Predicted  7   F48\n",
            "\r Predicted  8   69\n",
            "\r Predicted  9   610\n",
            "\r Predicted  10   5.7.9.011\n",
            "\r Predicted  11   2.3.7.1012\n",
            "\r Predicted  12   D513\n",
            "\r Predicted  13   C514\n",
            "\r Predicted  14   5.7.9.015\n",
            "\r Predicted  15   C516\n",
            "\r Predicted  16   4.617\n",
            "\r Predicted  17   B-118\n",
            "\r Predicted  18   10.2.519\n",
            "\r Predicted  19   C520\n",
            "\r Predicted  20   6.1121\n",
            "\r Predicted  21   622\n",
            "\r Predicted  22   F223\n",
            "\r Predicted  23   6.1124\n",
            "\r Predicted  24   4.625\n",
            "\r Predicted  25   B-226\n",
            "\r Predicted  26   B-127\n",
            "\r Predicted  27   A428\n",
            "\r Predicted  28   629\n",
            "\r Predicted  29   C530\n",
            "\r Predicted  30   E-331\n",
            "\r Predicted  31   F232\n",
            "\r Predicted  32   4.633\n",
            "\r Predicted  33   534\n",
            "\r Predicted  34   5.1035\n",
            "\r Predicted  35   4.636\n",
            "\r Predicted  36   637\n",
            "\r Predicted  37   4.638\n",
            "\r Predicted  38   4.639\n",
            "\r Predicted  39   F240\n",
            "\r Predicted  40   4.641\n",
            "\r Predicted  41   B-242\n",
            "\r Predicted  42   643\n",
            "\r Predicted  43   5.7.9.044\n",
            "\r Predicted  44   6.1145\n",
            "\r Predicted  45   646\n",
            "\r Predicted  46   B-247\n",
            "\r Predicted  47   A448\n",
            "\r Predicted  48   649\n",
            "\r Predicted  49   D550\n",
            "\r Predicted  50   C551\n",
            "\r Predicted  51   652\n",
            "\r Predicted  52   6.1153\n",
            "\r Predicted  53   B-254\n",
            "\r Predicted  54   655\n",
            "\r Predicted  55   10.2.556\n",
            "\r Predicted  56   4.657\n",
            "\r Predicted  57   5.9.058\n",
            "\r Predicted  58   5.9.059\n",
            "\r Predicted  59   4.660\n",
            "\r Predicted  60   E261\n",
            "\r Predicted  61   F262\n",
            "\r Predicted  62   4.663\n",
            "\r Predicted  63   F264\n",
            "\r Predicted  64   6.1165\n",
            "\r Predicted  65   5.9.066\n",
            "\r Predicted  66   4.667\n",
            "\r Predicted  67   10.2.568\n",
            "\r Predicted  68   A469\n",
            "\r Predicted  69   B-270\n",
            "\r Predicted  70   6.1171\n",
            "\r Predicted  71   B-272\n",
            "\r Predicted  72   6.1073\n",
            "\r Predicted  73   A474\n",
            "\r Predicted  74   F275\n",
            "\r Predicted  75   D576\n",
            "\r Predicted  76   A477\n",
            "\r Predicted  77   6.1178\n",
            "\r Predicted  78   679\n",
            "\r Predicted  79   6.1180\n",
            "\r Predicted  80   6.1081\n",
            "\r Predicted  81   682\n",
            "\r Predicted  82   5.7.9.083\n",
            "\r Predicted  83   6.1184\n",
            "\r Predicted  84   6.1085\n",
            "\r Predicted  85   B-286\n",
            "\r Predicted  86   687\n",
            "\r Predicted  87   6.1188\n",
            "\r Predicted  88   F489\n",
            "\r Predicted  89   B-290\n",
            "\r Predicted  90   D591\n",
            "\r Predicted  91   D592\n",
            "\r Predicted  92   4.693\n",
            "\r Predicted  93   B-294\n",
            "\r Predicted  94   4.695\n",
            "\r Predicted  95   10.2.596\n",
            "\r Predicted  96   B-297\n",
            "\r Predicted  97   C598\n",
            "\r Predicted  98   E-399\n",
            "\r Predicted  99   5.10100\n",
            "\r Predicted  100   4.6101\n",
            "\r Predicted  101   4.6102\n",
            "\r Predicted  102   A4103\n",
            "\r Predicted  103   5.9.0104\n",
            "\r Predicted  104   6.11105\n",
            "\r Predicted  105   F2106\n",
            "\r Predicted  106   C5107\n",
            "\r Predicted  107   6108\n",
            "\r Predicted  108   6.11109\n",
            "\r Predicted  109   5.9.0110\n",
            "\r Predicted  110   5.9.0111\n",
            "\r Predicted  111   A4112\n",
            "\r Predicted  112   6113\n",
            "\r Predicted  113   6.11114\n",
            "\r Predicted  114   A4115\n",
            "\r Predicted  115   A4116\n",
            "\r Predicted  116   6117\n",
            "\r Predicted  117   6.11118\n",
            "\r Predicted  118   5.9.0119\n",
            "\r Predicted  119   4.6120\n",
            "\r Predicted  120   E-5121\n",
            "\r Predicted  121   F2122\n",
            "\r Predicted  122   6.11123\n",
            "\r Predicted  123   4.6124\n",
            "\r Predicted  124   5125\n",
            "\r Predicted  125   4.6126\n",
            "\r Predicted  126   5127\n",
            "\r Predicted  127   4.6128\n",
            "\r Predicted  128   10.2.5129\n",
            "\r Predicted  129   A4130\n",
            "\r Predicted  130   6.10131\n",
            "\r Predicted  131   6.11132\n",
            "\r Predicted  132   6.11133\n",
            "\r Predicted  133   D5134\n",
            "\r Predicted  134   4.6135\n",
            "\r Predicted  135   E-2136\n",
            "\r Predicted  136   3.7.10137\n",
            "\r Predicted  137   7.10.2138\n",
            "\r Predicted  138   6139\n",
            "\r Predicted  139   6.11140\n",
            "\r Predicted  140   C5141\n",
            "\r Predicted  141   5.9.0142\n",
            "\r Predicted  142   6143\n",
            "\r Predicted  143   D5144\n",
            "\r Predicted  144   A4145\n",
            "\r Predicted  145   4.6146\n",
            "\r Predicted  146   E-5147\n",
            "\r Predicted  147   6148\n",
            "\r Predicted  148   6149\n",
            "\r Predicted  149   D5150\n",
            "\r Predicted  150   6.11151\n",
            "\r Predicted  151   A4152\n",
            "\r Predicted  152   E-2153\n",
            "\r Predicted  153   F4154\n",
            "\r Predicted  154   E-5155\n",
            "\r Predicted  155   6.11156\n",
            "\r Predicted  156   F2157\n",
            "\r Predicted  157   6158\n",
            "\r Predicted  158   F4159\n",
            "\r Predicted  159   F2160\n",
            "\r Predicted  160   6.11161\n",
            "\r Predicted  161   F2162\n",
            "\r Predicted  162   4.6163\n",
            "\r Predicted  163   5.9.0164\n",
            "\r Predicted  164   6.11165\n",
            "\r Predicted  165   E-2166\n",
            "\r Predicted  166   6.11167\n",
            "\r Predicted  167   2.5168\n",
            "\r Predicted  168   6.11169\n",
            "\r Predicted  169   6170\n",
            "\r Predicted  170   5.7.9.0171\n",
            "\r Predicted  171   F2172\n",
            "\r Predicted  172   6173\n",
            "\r Predicted  173   F4174\n",
            "\r Predicted  174   6.11175\n",
            "\r Predicted  175   E-2176\n",
            "\r Predicted  176   F2177\n",
            "\r Predicted  177   6178\n",
            "\r Predicted  178   7.10.2179\n",
            "\r Predicted  179   F2180\n",
            "\r Predicted  180   B-1181\n",
            "\r Predicted  181   C4182\n",
            "\r Predicted  182   6183\n",
            "\r Predicted  183   2.3.7.10184\n",
            "\r Predicted  184   0.5185\n",
            "\r Predicted  185   5.7.9.0186\n",
            "\r Predicted  186   6.11187\n",
            "\r Predicted  187   5.9.0188\n",
            "\r Predicted  188   C5189\n",
            "\r Predicted  189   E-3190\n",
            "\r Predicted  190   5.10191\n",
            "\r Predicted  191   6.11192\n",
            "\r Predicted  192   F2193\n",
            "\r Predicted  193   6194\n",
            "\r Predicted  194   10.11.3.6195\n",
            "\r Predicted  195   5196\n",
            "\r Predicted  196   5.10197\n",
            "\r Predicted  197   4.6198\n",
            "\r Predicted  198   4.6199\n",
            "\r Predicted  199   4.6200\n",
            "\r Predicted  200   5.9.0201\n",
            "\r Predicted  201   6.11202\n",
            "\r Predicted  202   D5203\n",
            "\r Predicted  203   D5204\n",
            "\r Predicted  204   6.11205\n",
            "\r Predicted  205   6206\n",
            "\r Predicted  206   D5207\n",
            "\r Predicted  207   D5208\n",
            "\r Predicted  208   6.11209\n",
            "\r Predicted  209   6210\n",
            "\r Predicted  210   F4211\n",
            "\r Predicted  211   6212\n",
            "\r Predicted  212   10.11.3.6213\n",
            "\r Predicted  213   6.11214\n",
            "\r Predicted  214   C5215\n",
            "\r Predicted  215   3.6.10216\n",
            "\r Predicted  216   6.11217\n",
            "\r Predicted  217   6218\n",
            "\r Predicted  218   4.6219\n",
            "\r Predicted  219   E2220\n",
            "\r Predicted  220   6.11221\n",
            "\r Predicted  221   6222\n",
            "\r Predicted  222   10.2.5223\n",
            "\r Predicted  223   6224\n",
            "\r Predicted  224   4.6225\n",
            "\r Predicted  225   B-1226\n",
            "\r Predicted  226   6.11227\n",
            "\r Predicted  227   5.9.0228\n",
            "\r Predicted  228   4.6229\n",
            "\r Predicted  229   4.6230\n",
            "\r Predicted  230   9.2231\n",
            "\r Predicted  231   10.2.5232\n",
            "\r Predicted  232   F2233\n",
            "\r Predicted  233   6.11234\n",
            "\r Predicted  234   6.10235\n",
            "\r Predicted  235   6.11236\n",
            "\r Predicted  236   A4237\n",
            "\r Predicted  237   B-2238\n",
            "\r Predicted  238   6239\n",
            "\r Predicted  239   6240\n",
            "\r Predicted  240   6.10.11241\n",
            "\r Predicted  241   6.11242\n",
            "\r Predicted  242   B-2243\n",
            "\r Predicted  243   C5244\n",
            "\r Predicted  244   6245\n",
            "\r Predicted  245   7.10.2246\n",
            "\r Predicted  246   D5247\n",
            "\r Predicted  247   4.6248\n",
            "\r Predicted  248   4.6249\n",
            "\r Predicted  249   6250\n",
            "\r Predicted  250   6.11251\n",
            "\r Predicted  251   F2252\n",
            "\r Predicted  252   4.6253\n",
            "\r Predicted  253   9.2254\n",
            "\r Predicted  254   D5255\n",
            "\r Predicted  255   4.6256\n",
            "\r Predicted  256   B-2257\n",
            "\r Predicted  257   6258\n",
            "\r Predicted  258   6.10.11259\n",
            "\r Predicted  259   4.6260\n",
            "\r Predicted  260   4.6261\n",
            "\r Predicted  261   4.6262\n",
            "\r Predicted  262   6263\n",
            "\r Predicted  263   6.11264\n",
            "\r Predicted  264   F2265\n",
            "\r Predicted  265   A4266\n",
            "\r Predicted  266   6267\n",
            "\r Predicted  267   D5268\n",
            "\r Predicted  268   6.11269\n",
            "\r Predicted  269   D5270\n",
            "\r Predicted  270   6271\n",
            "\r Predicted  271   6.11272\n",
            "\r Predicted  272   B-2273\n",
            "\r Predicted  273   6274\n",
            "\r Predicted  274   6.11275\n",
            "\r Predicted  275   C5276\n",
            "\r Predicted  276   B-2277\n",
            "\r Predicted  277   A4278\n",
            "\r Predicted  278   D5279\n",
            "\r Predicted  279   0.5280\n",
            "\r Predicted  280   E-2281\n",
            "\r Predicted  281   4.6282\n",
            "\r Predicted  282   4.6283\n",
            "\r Predicted  283   E-5284\n",
            "\r Predicted  284   6.11285\n",
            "\r Predicted  285   F2286\n",
            "\r Predicted  286   5.9.0287\n",
            "\r Predicted  287   4.6288\n",
            "\r Predicted  288   E-2289\n",
            "\r Predicted  289   10.2.5290\n",
            "\r Predicted  290   6291\n",
            "\r Predicted  291   F2292\n",
            "\r Predicted  292   6293\n",
            "\r Predicted  293   E-2294\n",
            "\r Predicted  294   3.7.10295\n",
            "\r Predicted  295   6296\n",
            "\r Predicted  296   6.11297\n",
            "\r Predicted  297   4.6298\n",
            "\r Predicted  298   B-1299\n",
            "\r Predicted  299   6.11300\n",
            "\r Predicted  300   5.9.0301\n",
            "\r Predicted  301   4.6302\n",
            "\r Predicted  302   5.9.0303\n",
            "\r Predicted  303   A4304\n",
            "\r Predicted  304   C5305\n",
            "\r Predicted  305   6306\n",
            "\r Predicted  306   F4307\n",
            "\r Predicted  307   E-3308\n",
            "\r Predicted  308   4.6309\n",
            "\r Predicted  309   5.9.0310\n",
            "\r Predicted  310   6.11311\n",
            "\r Predicted  311   6.10312\n",
            "\r Predicted  312   D5313\n",
            "\r Predicted  313   A4314\n",
            "\r Predicted  314   4.6315\n",
            "\r Predicted  315   E2316\n",
            "\r Predicted  316   10.2.5317\n",
            "\r Predicted  317   F2318\n",
            "\r Predicted  318   C5319\n",
            "\r Predicted  319   5.7.9.0320\n",
            "\r Predicted  320   6.11321\n",
            "\r Predicted  321   4.6322\n",
            "\r Predicted  322   A4323\n",
            "\r Predicted  323   10.2.5324\n",
            "\r Predicted  324   5.9.0325\n",
            "\r Predicted  325   6326\n",
            "\r Predicted  326   4.6327\n",
            "\r Predicted  327   5.9.0328\n",
            "\r Predicted  328   6.11329\n",
            "\r Predicted  329   5330\n",
            "\r Predicted  330   6.10331\n",
            "\r Predicted  331   F2332\n",
            "\r Predicted  332   6.11333\n",
            "\r Predicted  333   6334\n",
            "\r Predicted  334   6.11335\n",
            " Predicted  335   6336\n",
            " Predicted  336   E-2337\n",
            " Predicted  337   6.11338\n",
            " Predicted  338   B-2339\n",
            " Predicted  339   6340\n",
            " Predicted  340   5.7.9.0341\n",
            " Predicted  341   4.6342\n",
            " Predicted  342   4.6343\n",
            " Predicted  343   B-1344\n",
            " Predicted  344   6.11345\n",
            " Predicted  345   B-2346\n",
            " Predicted  346   6347\n",
            " Predicted  347   F4348\n",
            " Predicted  348   6.11349\n",
            " Predicted  349   B-2350\n",
            " Predicted  350   D5351\n",
            " Predicted  351   A4352\n",
            " Predicted  352   C5353\n",
            " Predicted  353   F2354\n",
            " Predicted  354   6.11355\n",
            " Predicted  355   6.11356\n",
            " Predicted  356   D5357\n",
            " Predicted  357   4.6358\n",
            " Predicted  358   5.9.0359\n",
            " Predicted  359   4.6360\n",
            " Predicted  360   E-5361\n",
            " Predicted  361   4.6362\n",
            " Predicted  362   6.11363\n",
            " Predicted  363   B-2364\n",
            " Predicted  364   6365\n",
            " Predicted  365   6366\n",
            " Predicted  366   E-2367\n",
            " Predicted  367   B-1368\n",
            " Predicted  368   6.11369\n",
            " Predicted  369   6370\n",
            " Predicted  370   5.7.9.0371\n",
            " Predicted  371   C5372\n",
            " Predicted  372   4.6373\n",
            " Predicted  373   F2374\n",
            " Predicted  374   6375\n",
            " Predicted  375   6.11376\n",
            " Predicted  376   5377\n",
            " Predicted  377   6.11378\n",
            " Predicted  378   6379\n",
            " Predicted  379   2.3.7.10380\n",
            " Predicted  380   6.11381\n",
            " Predicted  381   4.6382\n",
            " Predicted  382   B-2383\n",
            " Predicted  383   1.6384\n",
            " Predicted  384   B-2385\n",
            " Predicted  385   6.11386\n",
            " Predicted  386   F2387\n",
            " Predicted  387   4.6388\n",
            " Predicted  388   6389\n",
            " Predicted  389   6.11390\n",
            " Predicted  390   6391\n",
            " Predicted  391   E-2392\n",
            " Predicted  392   6393\n",
            " Predicted  393   4.6394\n",
            " Predicted  394   4.6395\n",
            " Predicted  395   A4396\n",
            " Predicted  396   5.10397\n",
            " Predicted  397   6.11398\n",
            " Predicted  398   A4399\n",
            " Predicted  399   6400\n",
            " Predicted  400   F2401\n",
            " Predicted  401   4.6402\n",
            " Predicted  402   5.9.0403\n",
            " Predicted  403   4.6404\n",
            " Predicted  404   5.9.0405\n",
            " Predicted  405   C5406\n",
            " Predicted  406   2.3.7.9407\n",
            " Predicted  407   6.11408\n",
            " Predicted  408   B-2409\n",
            " Predicted  409   D5410\n",
            " Predicted  410   A4411\n",
            " Predicted  411   4.6412\n",
            " Predicted  412   4.6413\n",
            " Predicted  413   5.9.0414\n",
            " Predicted  414   6.11415\n",
            " Predicted  415   3.9416\n",
            " Predicted  416   6.11417\n",
            " Predicted  417   F2418\n",
            " Predicted  418   F2419\n",
            " Predicted  419   4.6420\n",
            " Predicted  420   F2421\n",
            " Predicted  421   C5422\n",
            " Predicted  422   5.9.0423\n",
            " Predicted  423   6424\n",
            " Predicted  424   D5425\n",
            " Predicted  425   6.11426\n",
            " Predicted  426   4.6427\n",
            " Predicted  427   6.11428\n",
            " Predicted  428   6.10429\n",
            " Predicted  429   6.10.11430\n",
            " Predicted  430   6431\n",
            " Predicted  431   10.11.3.6432\n",
            " Predicted  432   B-2433\n",
            " Predicted  433   6434\n",
            " Predicted  434   D5435\n",
            " Predicted  435   6.11436\n",
            " Predicted  436   4.6437\n",
            " Predicted  437   4.6438\n",
            " Predicted  438   A4439\n",
            " Predicted  439   F3440\n",
            " Predicted  440   A4441\n",
            " Predicted  441   F2442\n",
            " Predicted  442   6443\n",
            " Predicted  443   5.7.9.0444\n",
            " Predicted  444   B-1445\n",
            " Predicted  445   6.11446\n",
            " Predicted  446   F2447\n",
            " Predicted  447   6.11448\n",
            " Predicted  448   B-2449\n",
            " Predicted  449   6450\n",
            " Predicted  450   6.11451\n",
            " Predicted  451   6452\n",
            " Predicted  452   6453\n",
            " Predicted  453   6.11454\n",
            " Predicted  454   6.10455\n",
            " Predicted  455   6.11456\n",
            " Predicted  456   6457\n",
            " Predicted  457   D5458\n",
            " Predicted  458   0.5459\n",
            " Predicted  459   5.7.9.0460\n",
            " Predicted  460   6.11461\n",
            " Predicted  461   A4462\n",
            " Predicted  462   5.9.0463\n",
            " Predicted  463   6.11464\n",
            " Predicted  464   B-2465\n",
            " Predicted  465   B-1466\n",
            " Predicted  466   4.6467\n",
            " Predicted  467   E-5468\n",
            " Predicted  468   F4469\n",
            " Predicted  469   6.11470\n",
            " Predicted  470   4.6471\n",
            " Predicted  471   F2472\n",
            " Predicted  472   C5473\n",
            " Predicted  473   E-3474\n",
            " Predicted  474   6475\n",
            " Predicted  475   4.6476\n",
            " Predicted  476   F2477\n",
            " Predicted  477   6.11478\n",
            " Predicted  478   5479\n",
            " Predicted  479   6.10480\n",
            " Predicted  480   6481\n",
            " Predicted  481   D5482\n",
            " Predicted  482   5.10483\n",
            " Predicted  483   6.11484\n",
            " Predicted  484   F2485\n",
            " Predicted  485   A4486\n",
            " Predicted  486   B-2487\n",
            " Predicted  487   6488\n",
            " Predicted  488   10.11.3.6489\n",
            " Predicted  489   6.11490\n",
            " Predicted  490   10.2.5491\n",
            " Predicted  491   6492\n",
            " Predicted  492   6.11493\n",
            " Predicted  493   6494\n",
            " Predicted  494   F2495\n",
            " Predicted  495   4.6496\n",
            " Predicted  496   B-1497\n",
            " Predicted  497   10.2.5498\n",
            " Predicted  498   B-2499\n",
            " Predicted  499   B-1"
          ],
          "name": "stdout"
        }
      ]
    },
    {
      "cell_type": "markdown",
      "metadata": {
        "id": "_lp5WcPlghe5"
      },
      "source": [
        "The last step is creating a MIDI file from the predictions.\n",
        "\n",
        "**music21** will help us again for this task. We should create a **Stream** and add to it the predicted notes and chords.\n",
        "\n",
        "We are adding an offset of 0.5 between elements."
      ]
    },
    {
      "cell_type": "code",
      "metadata": {
        "id": "T7xYCPULXwV-",
        "colab": {
          "base_uri": "https://localhost:8080/",
          "height": 35
        },
        "outputId": "61d7878a-ade3-4adc-cff1-d3aa47090bdd"
      },
      "source": [
        "offset = 0\n",
        "output_notes = []\n",
        "# create note and chord objects based on the values generated by the model\n",
        "for pattern in prediction_output:\n",
        "    # pattern is a chord\n",
        "    if ('.' in pattern) or pattern.isdigit():\n",
        "        notes_in_chord = pattern.split('.')\n",
        "        notes = []\n",
        "        for current_note in notes_in_chord:\n",
        "            new_note = note.Note(int(current_note))\n",
        "            new_note.storedInstrument = instrument.Piano()\n",
        "            notes.append(new_note)\n",
        "        new_chord = chord.Chord(notes)\n",
        "        new_chord.offset = offset\n",
        "        output_notes.append(new_chord)\n",
        "    # pattern is a note\n",
        "    else:\n",
        "        new_note = note.Note(pattern)\n",
        "        new_note.offset = offset\n",
        "        new_note.storedInstrument = instrument.Piano()\n",
        "        output_notes.append(new_note)\n",
        "\n",
        "    # increase offset each iteration so that notes do not stack\n",
        "    offset += 0.5\n",
        "\n",
        "midi_stream = stream.Stream(output_notes)\n",
        "midi_stream.write('midi', fp='test_output.mid')"
      ],
      "execution_count": null,
      "outputs": [
        {
          "output_type": "execute_result",
          "data": {
            "application/vnd.google.colaboratory.intrinsic+json": {
              "type": "string"
            },
            "text/plain": [
              "'test_output.mid'"
            ]
          },
          "metadata": {
            "tags": []
          },
          "execution_count": 23
        }
      ]
    }
  ]
}