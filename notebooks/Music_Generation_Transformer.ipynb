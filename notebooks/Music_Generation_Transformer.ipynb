{
  "nbformat": 4,
  "nbformat_minor": 0,
  "metadata": {
    "colab": {
      "name": "Music_Generation_Transformer.ipynb",
      "provenance": [],
      "toc_visible": true,
      "authorship_tag": "ABX9TyNG0UnQIPvVKWaLlo93Rt8z",
      "include_colab_link": true
    },
    "kernelspec": {
      "name": "python3",
      "display_name": "Python 3"
    },
    "accelerator": "GPU"
  },
  "cells": [
    {
      "cell_type": "markdown",
      "metadata": {
        "id": "view-in-github",
        "colab_type": "text"
      },
      "source": [
        "<a href=\"https://colab.research.google.com/github/GiovanniSorice/Deep_Music_Generator/blob/main/notebooks/Music_Generation_Transformer.ipynb\" target=\"_parent\"><img src=\"https://colab.research.google.com/assets/colab-badge.svg\" alt=\"Open In Colab\"/></a>"
      ]
    },
    {
      "cell_type": "markdown",
      "metadata": {
        "id": "6gJ3GwlYmvNT"
      },
      "source": [
        "# Transformer Music Generator "
      ]
    },
    {
      "cell_type": "markdown",
      "metadata": {
        "id": "sNwQUwLIm7oW"
      },
      "source": [
        "\n",
        "\n",
        "In this notebook, we use an Transformer to generate some music.\n"
      ]
    },
    {
      "cell_type": "markdown",
      "metadata": {
        "id": "aFVGA5D4azA4"
      },
      "source": [
        "**This notebook was inspired (and part of the code comes from it) by [Music_Generation_LSTM](https://colab.research.google.com/drive/19TQqekOlnOSW36VCL8CPVEQKBBukmaEQ#scrollTo=DDOBVWULXfpz)**\n"
      ]
    },
    {
      "cell_type": "markdown",
      "metadata": {
        "id": "qtmj0efInB_L"
      },
      "source": [
        "\n",
        "\n",
        "**Load dependencies**"
      ]
    },
    {
      "cell_type": "code",
      "metadata": {
        "id": "hCsb9kaJmWHN",
        "outputId": "fcec602b-65b9-44d6-e236-8a8052be88d0",
        "colab": {
          "base_uri": "https://localhost:8080/"
        }
      },
      "source": [
        "pip install compressive_transformer_pytorch"
      ],
      "execution_count": 1,
      "outputs": [
        {
          "output_type": "stream",
          "text": [
            "Collecting compressive_transformer_pytorch\n",
            "  Downloading https://files.pythonhosted.org/packages/30/39/b8caf2671abcb8615977c08766aa9f450addd6949f57c7dda87224e844b5/compressive_transformer_pytorch-0.3.20-py3-none-any.whl\n",
            "Collecting mogrifier\n",
            "  Downloading https://files.pythonhosted.org/packages/77/01/62a55d0f8048e788fce435f2ade6478f443e4e53ed9b89b55ba0fc42c198/mogrifier-0.0.3-py3-none-any.whl\n",
            "Requirement already satisfied: torch in /usr/local/lib/python3.6/dist-packages (from compressive_transformer_pytorch) (1.6.0+cu101)\n",
            "Requirement already satisfied: numpy in /usr/local/lib/python3.6/dist-packages (from torch->compressive_transformer_pytorch) (1.18.5)\n",
            "Requirement already satisfied: future in /usr/local/lib/python3.6/dist-packages (from torch->compressive_transformer_pytorch) (0.16.0)\n",
            "Installing collected packages: mogrifier, compressive-transformer-pytorch\n",
            "Successfully installed compressive-transformer-pytorch-0.3.20 mogrifier-0.0.3\n"
          ],
          "name": "stdout"
        }
      ]
    },
    {
      "cell_type": "code",
      "metadata": {
        "id": "1mi6KoBmX44A"
      },
      "source": [
        "import torch\n",
        "import tqdm\n",
        "import numpy as np\n",
        "import pandas as pd\n",
        "import tensorflow as tf\n",
        "import os\n",
        "from compressive_transformer_pytorch import CompressiveTransformer\n",
        "from compressive_transformer_pytorch import AutoregressiveWrapper\n",
        "from torchsummary import summary\n",
        "from torch.utils.data import DataLoader, Dataset\n",
        "from tensorflow.keras import utils\n",
        "from sklearn.metrics import roc_auc_score \n",
        "import matplotlib.pyplot as plt\n",
        "import glob\n",
        "import pickle\n",
        "from music21 import converter, instrument, stream, note, chord\n",
        "import math\n",
        "import shutil"
      ],
      "execution_count": 2,
      "outputs": []
    },
    {
      "cell_type": "code",
      "metadata": {
        "id": "JwF2wx4oRZXW"
      },
      "source": [
        "# Set to false if you are not running\n",
        "# this notebook in Google Colaboratory\n",
        "run_on_colab = True"
      ],
      "execution_count": 3,
      "outputs": []
    },
    {
      "cell_type": "markdown",
      "metadata": {
        "id": "w2w9a2MknGmP"
      },
      "source": [
        "**Set hyperparameters**"
      ]
    },
    {
      "cell_type": "code",
      "metadata": {
        "id": "NnnLeO8Emsx3"
      },
      "source": [
        "# output directory name:\n",
        "output_dir = '/content/drive/My Drive/ISPR_project/Transformer/'\n",
        "current_path ='/content/drive/My Drive/ISPR_project/'\n",
        "# training:\n",
        "epochs = 500\n",
        "batch_size = 32\n",
        "learning_rate=1e-3\n",
        "# vector-space embedding: \n",
        "n_dim = 64 \n",
        "sequence_length = 128\n",
        "\n",
        "\n",
        "VALIDATE_EVERY  = 100\n",
        "\n",
        "GENERATE_EVERY  = 500\n",
        "\n"
      ],
      "execution_count": 4,
      "outputs": []
    },
    {
      "cell_type": "markdown",
      "metadata": {
        "id": "iUFOx5yB39xx"
      },
      "source": [
        "**Save model function**"
      ]
    },
    {
      "cell_type": "code",
      "metadata": {
        "id": "NQHDRGj838-0"
      },
      "source": [
        "def save_checkpoint(state, is_best, filename='checkpoint.pth.tar'):\n",
        "    torch.save(state, output_dir+filename)\n",
        "    if is_best:\n",
        "        shutil.copyfile(output_dir+filename, output_dir+'model_best.pth.tar')"
      ],
      "execution_count": 5,
      "outputs": []
    },
    {
      "cell_type": "markdown",
      "metadata": {
        "id": "HvBjPl0cbI0_"
      },
      "source": [
        "**Google drive configuration (only Colab)**"
      ]
    },
    {
      "cell_type": "code",
      "metadata": {
        "id": "hKil2p6sM2gZ",
        "outputId": "ee2ce816-d23c-40d4-9d0f-62cfb8162e30",
        "colab": {
          "base_uri": "https://localhost:8080/"
        }
      },
      "source": [
        "if(run_on_colab):\n",
        "  from google.colab import drive\n",
        "  # This will prompt for authorization.\n",
        "  drive.mount('/content/drive')"
      ],
      "execution_count": 7,
      "outputs": [
        {
          "output_type": "stream",
          "text": [
            "Drive already mounted at /content/drive; to attempt to forcibly remount, call drive.mount(\"/content/drive\", force_remount=True).\n"
          ],
          "name": "stdout"
        }
      ]
    },
    {
      "cell_type": "markdown",
      "metadata": {
        "id": "jU3gQinYmutQ"
      },
      "source": [
        "**Load data** \\\\\n",
        "Original MIDI files\n",
        " I have obtained  **MIDI files** from [The Lakh MIDI Dataset v0.1](https://colinraffel.com/projects/lmd/). "
      ]
    },
    {
      "cell_type": "markdown",
      "metadata": {
        "id": "wavgJZNpcR_f"
      },
      "source": [
        "## Processing data\n",
        "\n",
        "Let's process the files, and load them into **music21**"
      ]
    },
    {
      "cell_type": "code",
      "metadata": {
        "id": "vILKBwYIcOvX",
        "outputId": "8f37d914-109d-4867-c955-48263fc84402",
        "colab": {
          "base_uri": "https://localhost:8080/"
        }
      },
      "source": [
        "file = current_path+\"midi_songs/Andra tutto bene ('58).1.mid\"\n",
        "midi = converter.parse(file)\n",
        "notes_to_parse = midi.flat.notes\n",
        "for element in notes_to_parse[:10]:\n",
        "  print(element, element.offset)"
      ],
      "execution_count": 8,
      "outputs": [
        {
          "output_type": "stream",
          "text": [
            "<music21.chord.Chord F3 F2> 4.0\n",
            "<music21.note.Note A> 4.0\n",
            "<music21.chord.Chord B1 F#3 F#2> 4.0\n",
            "<music21.note.Note F> 4.0\n",
            "<music21.chord.Chord C4 F4> 4.0\n",
            "<music21.chord.Chord F#3 C#6 F#2> 4.5\n",
            "<music21.note.Note C#> 4.75\n",
            "<music21.chord.Chord F#2 E2 F#3> 5.0\n",
            "<music21.chord.Chord A4 A3 F4 C4 A3> 5.0\n",
            "<music21.note.Note F> 5.0\n"
          ],
          "name": "stdout"
        }
      ]
    },
    {
      "cell_type": "markdown",
      "metadata": {
        "id": "vjyrXfKic2kI"
      },
      "source": [
        "I will process all MIDI files obtaining data from each note of chord.\n",
        "\n",
        "- If I process a **note**, I will store in the list a string representing the pitch (the note name) and the octave.\n",
        "\n",
        "- If I process a **chord** (Remember that chords are set of notes that are played at the same time) I will store a different type of string with numbers separated by dots. Each number represents the pitch of a chord note. \n",
        "\n",
        "As you can see, **I are not considering yet time offsets of each element**. In this first version, we won't consider them, so all the notes and chords will have the same duration. Maybe, in the future, I will consider them.\n",
        "\n",
        "I are creating a big list with all the elements of all the compositions."
      ]
    },
    {
      "cell_type": "code",
      "metadata": {
        "id": "9UfvqdU-3448",
        "outputId": "8e00c95b-a438-4fe9-8b23-fc6a52b73c5a",
        "colab": {
          "base_uri": "https://localhost:8080/"
        }
      },
      "source": [
        "notes = []\n",
        "for i,file in enumerate(glob.glob(\"/content/drive/My Drive/ISPR_project/midi_songs/Andra tutto bene ('58).1.mid\")):\n",
        "  midi = converter.parse(file)\n",
        "  print('\\r', 'Parsing file ', i, \" \",file, end='')\n",
        "  notes_to_parse = None\n",
        "  try: # file has instrument parts\n",
        "    s2 = instrument.partitionByInstrument(midi)\n",
        "    print(\"s2\")\n",
        "    print(s2)\n",
        "    notes_to_parse = s2.parts[0].recurse() \n",
        "    print(\"notes_to_parse\")\n",
        "    print(notes_to_parse)\n",
        "  except: # file has notes in a flat structure\n",
        "    notes_to_parse = midi.flat.notes\n",
        "    print(\"notes_to_parse flat\")\n",
        "    print(notes_to_parse)\n",
        "\n",
        "  for element in notes_to_parse:\n",
        "    print(\"element\")\n",
        "    print(element)\n",
        "\n",
        "    if isinstance(element, note.Note):\n",
        "      print(\"element.pitch\")\n",
        "      print(element.pitch)\n",
        "      notes.append(str(element.pitch))\n",
        "    elif isinstance(element, chord.Chord):\n",
        "      print(\"chord\")\n",
        "      print('.'.join(str(n) for n in element.normalOrder))\n",
        "      notes.append('.'.join(str(n) for n in element.normalOrder))\n",
        "with open('notes', 'wb') as filepath:\n",
        "  pickle.dump(notes, filepath)\n",
        "\n",
        "len(notes)"
      ],
      "execution_count": 17,
      "outputs": [
        {
          "output_type": "stream",
          "text": [
            "\r Parsing file  0   /content/drive/My Drive/ISPR_project/midi_songs/Andra tutto bene ('58).1.mids2\n",
            "<music21.stream.Score 0x7f6f3c685080>\n",
            "notes_to_parse\n",
            "<music21.stream.iterator.RecursiveIterator for Part:Electric Bass @:0>\n",
            "element\n",
            "Electric Bass\n"
          ],
          "name": "stdout"
        },
        {
          "output_type": "execute_result",
          "data": {
            "text/plain": [
              "0"
            ]
          },
          "metadata": {
            "tags": []
          },
          "execution_count": 17
        }
      ]
    },
    {
      "cell_type": "code",
      "metadata": {
        "id": "iawbQHYVTOFM",
        "outputId": "2eb640fb-beda-4596-93f3-9276595385f5",
        "colab": {
          "base_uri": "https://localhost:8080/"
        }
      },
      "source": [
        "notes = []\n",
        "for i,file in enumerate(glob.glob(current_path+\"midi_songs/*.mid\")):\n",
        "  midi = converter.parse(file)\n",
        "  print('\\r', 'Parsing file ', i, \" \",file, end='')\n",
        "  notes_to_parse = None\n",
        "  try: # file has instrument parts\n",
        "    s2 = instrument.partitionByInstrument(midi)\n",
        "    notes_to_parse = s2.parts[0].recurse() \n",
        "  except: # file has notes in a flat structure\n",
        "    notes_to_parse = midi.flat.notes\n",
        "  for element in notes_to_parse:\n",
        "    if isinstance(element, note.Note):\n",
        "      notes.append(str(element.pitch))\n",
        "    elif isinstance(element, chord.Chord):\n",
        "      notes.append('.'.join(str(n) for n in element.normalOrder))\n",
        "with open('notes', 'wb') as filepath:\n",
        "  pickle.dump(notes, filepath)"
      ],
      "execution_count": 9,
      "outputs": [
        {
          "output_type": "stream",
          "text": [
            " Parsing file  3   /content/drive/My Drive/ISPR_project/midi_songs/Andra tutto bene ('58).1.mid"
          ],
          "name": "stdout"
        }
      ]
    },
    {
      "cell_type": "markdown",
      "metadata": {
        "id": "XuHePM_3dMXM"
      },
      "source": [
        "I obtain the number of different notes in our dataset, because this will be the **number of possible output classes**  of our model."
      ]
    },
    {
      "cell_type": "code",
      "metadata": {
        "id": "pEiySfEnTzyz",
        "outputId": "6d4bbe77-d640-49e2-be55-6f2af7b2bef5",
        "colab": {
          "base_uri": "https://localhost:8080/"
        }
      },
      "source": [
        "# Count different possible outputs\n",
        "n_vocab = (len(set(notes)))\n",
        "n_vocab"
      ],
      "execution_count": 10,
      "outputs": [
        {
          "output_type": "execute_result",
          "data": {
            "text/plain": [
              "71"
            ]
          },
          "metadata": {
            "tags": []
          },
          "execution_count": 10
        }
      ]
    },
    {
      "cell_type": "markdown",
      "metadata": {
        "id": "v-mABhgUnTcV"
      },
      "source": [
        "**Preprocess data** \\\\\n",
        "Now, there is some **data processing** that I have to do:\n",
        "\n",
        "- I will map each pitch or chord to an integer\n",
        "- I will create pairs of input sequences and its corresponding output note\n",
        "\n",
        "I can try different **sequence_length** to obtain different results. In this first version, I will use a sequence_length of 100.\n",
        "\n",
        "The network will made its prediction of the next note (or chord), based on the previous *sequence_length* notes (or chords). \n"
      ]
    },
    {
      "cell_type": "code",
      "metadata": {
        "id": "q4PpfIFRnWIA"
      },
      "source": [
        "# get all pitch names\n",
        "pitchnames = sorted(set(item for item in notes))\n",
        "# create a dictionary to map pitches to integers\n",
        "note_to_int = dict((note, number) for number, note in enumerate(pitchnames))\n",
        "network_input = []\n",
        "network_output = []\n",
        "# create input sequences and the corresponding outputs\n",
        "for i in range(0, len(notes) - sequence_length, 1):\n",
        "  # Map pitches of sequence_in to integers\n",
        "  network_input.append([note_to_int[char] for char in notes[i:i + sequence_length]])\n",
        "n_patterns = len(network_input)\n",
        "# reshape the input into a format compatible with LSTM layers\n",
        "network_input = np.reshape(network_input, (n_patterns, sequence_length))\n",
        "# normalize input\n",
        "#network_input = network_input / float(n_vocab)\n"
      ],
      "execution_count": 11,
      "outputs": []
    },
    {
      "cell_type": "markdown",
      "metadata": {
        "id": "GVRPauXUdq5Y"
      },
      "source": [
        "Let's see the new metwork_input size"
      ]
    },
    {
      "cell_type": "code",
      "metadata": {
        "id": "K8eQQMbxhUkN",
        "outputId": "f2b3afcb-bdb6-4785-d6da-131f2a808857",
        "colab": {
          "base_uri": "https://localhost:8080/"
        }
      },
      "source": [
        "network_input.shape"
      ],
      "execution_count": 12,
      "outputs": [
        {
          "output_type": "execute_result",
          "data": {
            "text/plain": [
              "(4875, 128)"
            ]
          },
          "metadata": {
            "tags": []
          },
          "execution_count": 12
        }
      ]
    },
    {
      "cell_type": "markdown",
      "metadata": {
        "id": "6--Wc8UXnVgY"
      },
      "source": [
        "**Design neural network architecture** "
      ]
    },
    {
      "cell_type": "code",
      "metadata": {
        "id": "t4ztPAQsnb7T"
      },
      "source": [
        "def create_network(sequence_length, n_vocab):\n",
        "    \"\"\" create the structure of the neural network \"\"\"\n",
        "    model = CompressiveTransformer(\n",
        "    num_tokens = n_vocab,\n",
        "    dim = sequence_length,\n",
        "    depth = 6,\n",
        "    seq_len = sequence_length,\n",
        "    mem_len = sequence_length,\n",
        "    cmem_len = 256,\n",
        "    cmem_ratio = 4,\n",
        "    memory_layers = [5,6]\n",
        "    )\n",
        "\n",
        "    model = AutoregressiveWrapper(model)\n",
        "    model.cuda()\n",
        "    return model"
      ],
      "execution_count": 13,
      "outputs": []
    },
    {
      "cell_type": "code",
      "metadata": {
        "id": "1nsNVMocnhNC",
        "outputId": "de63c70d-bdca-4d0e-d58f-441f636de46d",
        "colab": {
          "base_uri": "https://localhost:8080/"
        }
      },
      "source": [
        "model = create_network(sequence_length,n_vocab)\n",
        "\n",
        "print(model)\n"
      ],
      "execution_count": 15,
      "outputs": [
        {
          "output_type": "stream",
          "text": [
            "AutoregressiveWrapper(\n",
            "  (net): CompressiveTransformer(\n",
            "    (token_emb): Embedding(71, 128)\n",
            "    (to_model_dim): Identity()\n",
            "    (to_logits): Sequential(\n",
            "      (0): Identity()\n",
            "      (1): Linear(in_features=128, out_features=71, bias=True)\n",
            "    )\n",
            "    (attn_layers): ModuleList(\n",
            "      (0): GRUGating(\n",
            "        (fn): PreNorm(\n",
            "          (norm): LayerNorm((128,), eps=1e-05, elementwise_affine=True)\n",
            "          (fn): SelfAttention(\n",
            "            (compress_mem_fn): ConvCompress(\n",
            "              (conv): Conv1d(128, 128, kernel_size=(4,), stride=(4,))\n",
            "            )\n",
            "            (to_q): Linear(in_features=128, out_features=128, bias=False)\n",
            "            (to_kv): Linear(in_features=128, out_features=256, bias=False)\n",
            "            (to_out): Linear(in_features=128, out_features=128, bias=True)\n",
            "            (attn_dropout): Dropout(p=0.0, inplace=False)\n",
            "            (dropout): Dropout(p=0.0, inplace=False)\n",
            "            (reconstruction_attn_dropout): Dropout(p=0.0, inplace=False)\n",
            "          )\n",
            "        )\n",
            "        (gru): GRUCell(128, 128)\n",
            "      )\n",
            "      (1): GRUGating(\n",
            "        (fn): PreNorm(\n",
            "          (norm): LayerNorm((128,), eps=1e-05, elementwise_affine=True)\n",
            "          (fn): SelfAttention(\n",
            "            (compress_mem_fn): ConvCompress(\n",
            "              (conv): Conv1d(128, 128, kernel_size=(4,), stride=(4,))\n",
            "            )\n",
            "            (to_q): Linear(in_features=128, out_features=128, bias=False)\n",
            "            (to_kv): Linear(in_features=128, out_features=256, bias=False)\n",
            "            (to_out): Linear(in_features=128, out_features=128, bias=True)\n",
            "            (attn_dropout): Dropout(p=0.0, inplace=False)\n",
            "            (dropout): Dropout(p=0.0, inplace=False)\n",
            "            (reconstruction_attn_dropout): Dropout(p=0.0, inplace=False)\n",
            "          )\n",
            "        )\n",
            "        (gru): GRUCell(128, 128)\n",
            "      )\n",
            "      (2): GRUGating(\n",
            "        (fn): PreNorm(\n",
            "          (norm): LayerNorm((128,), eps=1e-05, elementwise_affine=True)\n",
            "          (fn): SelfAttention(\n",
            "            (compress_mem_fn): ConvCompress(\n",
            "              (conv): Conv1d(128, 128, kernel_size=(4,), stride=(4,))\n",
            "            )\n",
            "            (to_q): Linear(in_features=128, out_features=128, bias=False)\n",
            "            (to_kv): Linear(in_features=128, out_features=256, bias=False)\n",
            "            (to_out): Linear(in_features=128, out_features=128, bias=True)\n",
            "            (attn_dropout): Dropout(p=0.0, inplace=False)\n",
            "            (dropout): Dropout(p=0.0, inplace=False)\n",
            "            (reconstruction_attn_dropout): Dropout(p=0.0, inplace=False)\n",
            "          )\n",
            "        )\n",
            "        (gru): GRUCell(128, 128)\n",
            "      )\n",
            "      (3): GRUGating(\n",
            "        (fn): PreNorm(\n",
            "          (norm): LayerNorm((128,), eps=1e-05, elementwise_affine=True)\n",
            "          (fn): SelfAttention(\n",
            "            (compress_mem_fn): ConvCompress(\n",
            "              (conv): Conv1d(128, 128, kernel_size=(4,), stride=(4,))\n",
            "            )\n",
            "            (to_q): Linear(in_features=128, out_features=128, bias=False)\n",
            "            (to_kv): Linear(in_features=128, out_features=256, bias=False)\n",
            "            (to_out): Linear(in_features=128, out_features=128, bias=True)\n",
            "            (attn_dropout): Dropout(p=0.0, inplace=False)\n",
            "            (dropout): Dropout(p=0.0, inplace=False)\n",
            "            (reconstruction_attn_dropout): Dropout(p=0.0, inplace=False)\n",
            "          )\n",
            "        )\n",
            "        (gru): GRUCell(128, 128)\n",
            "      )\n",
            "      (4): GRUGating(\n",
            "        (fn): PreNorm(\n",
            "          (norm): LayerNorm((128,), eps=1e-05, elementwise_affine=True)\n",
            "          (fn): SelfAttention(\n",
            "            (compress_mem_fn): ConvCompress(\n",
            "              (conv): Conv1d(128, 128, kernel_size=(4,), stride=(4,))\n",
            "            )\n",
            "            (to_q): Linear(in_features=128, out_features=128, bias=False)\n",
            "            (to_kv): Linear(in_features=128, out_features=256, bias=False)\n",
            "            (to_out): Linear(in_features=128, out_features=128, bias=True)\n",
            "            (attn_dropout): Dropout(p=0.0, inplace=False)\n",
            "            (dropout): Dropout(p=0.0, inplace=False)\n",
            "            (reconstruction_attn_dropout): Dropout(p=0.0, inplace=False)\n",
            "          )\n",
            "        )\n",
            "        (gru): GRUCell(128, 128)\n",
            "      )\n",
            "      (5): GRUGating(\n",
            "        (fn): PreNorm(\n",
            "          (norm): LayerNorm((128,), eps=1e-05, elementwise_affine=True)\n",
            "          (fn): SelfAttention(\n",
            "            (compress_mem_fn): ConvCompress(\n",
            "              (conv): Conv1d(128, 128, kernel_size=(4,), stride=(4,))\n",
            "            )\n",
            "            (to_q): Linear(in_features=128, out_features=128, bias=False)\n",
            "            (to_kv): Linear(in_features=128, out_features=256, bias=False)\n",
            "            (to_out): Linear(in_features=128, out_features=128, bias=True)\n",
            "            (attn_dropout): Dropout(p=0.0, inplace=False)\n",
            "            (dropout): Dropout(p=0.0, inplace=False)\n",
            "            (reconstruction_attn_dropout): Dropout(p=0.0, inplace=False)\n",
            "          )\n",
            "        )\n",
            "        (gru): GRUCell(128, 128)\n",
            "      )\n",
            "    )\n",
            "    (ff_layers): ModuleList(\n",
            "      (0): GRUGating(\n",
            "        (fn): PreNorm(\n",
            "          (norm): LayerNorm((128,), eps=1e-05, elementwise_affine=True)\n",
            "          (fn): FeedForward(\n",
            "            (w1): Linear(in_features=128, out_features=512, bias=True)\n",
            "            (act): GELU()\n",
            "            (dropout): Dropout(p=0.0, inplace=False)\n",
            "            (w2): Linear(in_features=512, out_features=128, bias=True)\n",
            "          )\n",
            "        )\n",
            "        (gru): GRUCell(128, 128)\n",
            "      )\n",
            "      (1): GRUGating(\n",
            "        (fn): PreNorm(\n",
            "          (norm): LayerNorm((128,), eps=1e-05, elementwise_affine=True)\n",
            "          (fn): FeedForward(\n",
            "            (w1): Linear(in_features=128, out_features=512, bias=True)\n",
            "            (act): GELU()\n",
            "            (dropout): Dropout(p=0.0, inplace=False)\n",
            "            (w2): Linear(in_features=512, out_features=128, bias=True)\n",
            "          )\n",
            "        )\n",
            "        (gru): GRUCell(128, 128)\n",
            "      )\n",
            "      (2): GRUGating(\n",
            "        (fn): PreNorm(\n",
            "          (norm): LayerNorm((128,), eps=1e-05, elementwise_affine=True)\n",
            "          (fn): FeedForward(\n",
            "            (w1): Linear(in_features=128, out_features=512, bias=True)\n",
            "            (act): GELU()\n",
            "            (dropout): Dropout(p=0.0, inplace=False)\n",
            "            (w2): Linear(in_features=512, out_features=128, bias=True)\n",
            "          )\n",
            "        )\n",
            "        (gru): GRUCell(128, 128)\n",
            "      )\n",
            "      (3): GRUGating(\n",
            "        (fn): PreNorm(\n",
            "          (norm): LayerNorm((128,), eps=1e-05, elementwise_affine=True)\n",
            "          (fn): FeedForward(\n",
            "            (w1): Linear(in_features=128, out_features=512, bias=True)\n",
            "            (act): GELU()\n",
            "            (dropout): Dropout(p=0.0, inplace=False)\n",
            "            (w2): Linear(in_features=512, out_features=128, bias=True)\n",
            "          )\n",
            "        )\n",
            "        (gru): GRUCell(128, 128)\n",
            "      )\n",
            "      (4): GRUGating(\n",
            "        (fn): PreNorm(\n",
            "          (norm): LayerNorm((128,), eps=1e-05, elementwise_affine=True)\n",
            "          (fn): FeedForward(\n",
            "            (w1): Linear(in_features=128, out_features=512, bias=True)\n",
            "            (act): GELU()\n",
            "            (dropout): Dropout(p=0.0, inplace=False)\n",
            "            (w2): Linear(in_features=512, out_features=128, bias=True)\n",
            "          )\n",
            "        )\n",
            "        (gru): GRUCell(128, 128)\n",
            "      )\n",
            "      (5): GRUGating(\n",
            "        (fn): PreNorm(\n",
            "          (norm): LayerNorm((128,), eps=1e-05, elementwise_affine=True)\n",
            "          (fn): FeedForward(\n",
            "            (w1): Linear(in_features=128, out_features=512, bias=True)\n",
            "            (act): GELU()\n",
            "            (dropout): Dropout(p=0.0, inplace=False)\n",
            "            (w2): Linear(in_features=512, out_features=128, bias=True)\n",
            "          )\n",
            "        )\n",
            "        (gru): GRUCell(128, 128)\n",
            "      )\n",
            "    )\n",
            "  )\n",
            ")\n"
          ],
          "name": "stdout"
        }
      ]
    },
    {
      "cell_type": "code",
      "metadata": {
        "id": "dRKI1q5WjwcL"
      },
      "source": [
        "def cycle(loader):\n",
        "    while True:\n",
        "        for data in loader:\n",
        "          yield data\n",
        "\n",
        "\n",
        "data_train = torch.from_numpy(network_input).cuda()\n",
        "train_loader = torch.utils.data.DataLoader(data_train, batch_size=32) \n",
        "cycle_train_loader  = cycle(DataLoader(data_train, batch_size = data_train.shape[0]))\n",
        "num_bathes=math.ceil(data_train.shape[0]/batch_size) # Total number of batches"
      ],
      "execution_count": 16,
      "outputs": []
    },
    {
      "cell_type": "code",
      "metadata": {
        "id": "E60il158kxfq"
      },
      "source": [
        "# optimizer\n",
        "\n",
        "optimizer = torch.optim.Adam(model.parameters(), lr=learning_rate)"
      ],
      "execution_count": 17,
      "outputs": []
    },
    {
      "cell_type": "markdown",
      "metadata": {
        "id": "GbO-XA3Dfrd2"
      },
      "source": [
        "In case we want to use previously trained weights, to continue the training in the point we left it, we should load them into the model.\n",
        "\n",
        "This is very useful in Google Colaboratory, that usually kills the virtual machine that is executing the Jupyter notework after a certime amount of time. If this happens to you, you should have to look for the last weights file in your configured Drive account and use it to train the network.\n"
      ]
    },
    {
      "cell_type": "code",
      "metadata": {
        "id": "QjfQL_Ck_92a"
      },
      "source": [
        "# In case we want to use previously trained weights\n",
        "weights = \"model_best.pth.tar\"\n",
        "checkpoint = torch.load(output_dir+weights)\n",
        "model.load_state_dict(checkpoint['model_state_dict'])\n",
        "optimizer.load_state_dict(checkpoint['optimizer_state_dict'])\n",
        "epoch = checkpoint['epoch']\n",
        "loss = checkpoint['loss']\n"
      ],
      "execution_count": 18,
      "outputs": []
    },
    {
      "cell_type": "code",
      "metadata": {
        "id": "UqX3PsrJkyNN",
        "outputId": "ff84de64-1f6d-4aa1-e5b9-690be698733b",
        "colab": {
          "base_uri": "https://localhost:8080/",
          "height": 1000
        }
      },
      "source": [
        "# training\n",
        "\n",
        "for i in tqdm.tqdm(range(epochs), mininterval=20., desc='training'):\n",
        "    model.train()\n",
        "    avg_loss = 0.0\n",
        "    is_best=0\n",
        "    best_loss_value=n_vocab\n",
        "    for mlm_loss, aux_loss, is_last in model(next(cycle_train_loader), max_batch_size = batch_size, return_loss = True):\n",
        "        loss = mlm_loss + aux_loss\n",
        "        loss.backward()\n",
        "\n",
        "        avg_loss+=loss/num_bathes;\n",
        "\n",
        "        if is_last:\n",
        "            torch.nn.utils.clip_grad_norm_(model.parameters(), 0.5)\n",
        "            optimizer.step()\n",
        "            optimizer.zero_grad()\n",
        "\n",
        "    if i%10==0:\n",
        "      if best_loss_value>avg_loss:\n",
        "        best_loss_value=avg_loss;\n",
        "        is_best=1\n",
        "\n",
        "      save_checkpoint({\n",
        "      'epoch': i,\n",
        "      'model_state_dict': model.state_dict(),\n",
        "      'optimizer_state_dict' : optimizer.state_dict(),\n",
        "      'loss':avg_loss.item(),\n",
        "     }, is_best, 'Tran_Checkpoint'+str(i)+'_'+\"{:.4f}\".format(avg_loss.item())+'.pth.tar')\n",
        "      is_best=0\n",
        "\n",
        "    print(f'Epoch: {i} |Training loss: {avg_loss.item():.4f}')\n",
        "print('Training complete.')\n",
        "\n",
        "\n",
        "\n",
        "\n"
      ],
      "execution_count": 24,
      "outputs": [
        {
          "output_type": "stream",
          "text": [
            "\n",
            "\n",
            "\n",
            "training:   0%|          | 0/500 [00:00<?, ?it/s]\u001b[A\u001b[A\u001b[A"
          ],
          "name": "stderr"
        },
        {
          "output_type": "stream",
          "text": [
            "Epoch: 0 |Training loss: 1.9461\n",
            "Epoch: 1 |Training loss: 1.9251\n"
          ],
          "name": "stdout"
        },
        {
          "output_type": "stream",
          "text": [
            "\n",
            "\n",
            "\n",
            "training:   1%|          | 3/500 [00:29<1:21:33,  9.85s/it]\u001b[A\u001b[A\u001b[A"
          ],
          "name": "stderr"
        },
        {
          "output_type": "stream",
          "text": [
            "Epoch: 2 |Training loss: 1.9089\n",
            "Epoch: 3 |Training loss: 1.8980\n"
          ],
          "name": "stdout"
        },
        {
          "output_type": "stream",
          "text": [
            "\n",
            "\n",
            "\n",
            "training:   1%|          | 3/500 [00:42<1:21:33,  9.85s/it]\u001b[A\u001b[A\u001b[A"
          ],
          "name": "stderr"
        },
        {
          "output_type": "stream",
          "text": [
            "Epoch: 4 |Training loss: 1.8742\n"
          ],
          "name": "stdout"
        },
        {
          "output_type": "stream",
          "text": [
            "\n",
            "\n",
            "\n",
            "training:   1%|          | 6/500 [00:59<1:21:04,  9.85s/it]\u001b[A\u001b[A\u001b[A"
          ],
          "name": "stderr"
        },
        {
          "output_type": "stream",
          "text": [
            "Epoch: 5 |Training loss: 1.8625\n",
            "Epoch: 6 |Training loss: 1.8460\n"
          ],
          "name": "stdout"
        },
        {
          "output_type": "stream",
          "text": [
            "\n",
            "\n",
            "\n",
            "training:   1%|          | 6/500 [01:12<1:21:04,  9.85s/it]\u001b[A\u001b[A\u001b[A"
          ],
          "name": "stderr"
        },
        {
          "output_type": "stream",
          "text": [
            "Epoch: 7 |Training loss: 1.8290\n"
          ],
          "name": "stdout"
        },
        {
          "output_type": "stream",
          "text": [
            "\n",
            "\n",
            "\n",
            "training:   2%|▏         | 9/500 [01:28<1:20:18,  9.81s/it]\u001b[A\u001b[A\u001b[A"
          ],
          "name": "stderr"
        },
        {
          "output_type": "stream",
          "text": [
            "Epoch: 8 |Training loss: 1.8128\n",
            "Epoch: 9 |Training loss: 1.7954\n"
          ],
          "name": "stdout"
        },
        {
          "output_type": "stream",
          "text": [
            "\n",
            "\n",
            "\n",
            "training:   2%|▏         | 9/500 [01:42<1:20:18,  9.81s/it]\u001b[A\u001b[A\u001b[A"
          ],
          "name": "stderr"
        },
        {
          "output_type": "stream",
          "text": [
            "Epoch: 10 |Training loss: 1.7792\n"
          ],
          "name": "stdout"
        },
        {
          "output_type": "stream",
          "text": [
            "\n",
            "\n",
            "\n",
            "training:   2%|▏         | 12/500 [01:57<1:19:56,  9.83s/it]\u001b[A\u001b[A\u001b[A"
          ],
          "name": "stderr"
        },
        {
          "output_type": "stream",
          "text": [
            "Epoch: 11 |Training loss: 1.7687\n",
            "Epoch: 12 |Training loss: 1.7508\n"
          ],
          "name": "stdout"
        },
        {
          "output_type": "stream",
          "text": [
            "\n",
            "\n",
            "\n",
            "training:   2%|▏         | 12/500 [02:12<1:19:56,  9.83s/it]\u001b[A\u001b[A\u001b[A"
          ],
          "name": "stderr"
        },
        {
          "output_type": "stream",
          "text": [
            "Epoch: 13 |Training loss: 1.7438\n"
          ],
          "name": "stdout"
        },
        {
          "output_type": "stream",
          "text": [
            "\n",
            "\n",
            "\n",
            "training:   3%|▎         | 15/500 [02:27<1:19:21,  9.82s/it]\u001b[A\u001b[A\u001b[A"
          ],
          "name": "stderr"
        },
        {
          "output_type": "stream",
          "text": [
            "Epoch: 14 |Training loss: 1.7223\n",
            "Epoch: 15 |Training loss: 1.7072\n"
          ],
          "name": "stdout"
        },
        {
          "output_type": "stream",
          "text": [
            "\n",
            "\n",
            "\n",
            "training:   3%|▎         | 15/500 [02:42<1:19:21,  9.82s/it]\u001b[A\u001b[A\u001b[A"
          ],
          "name": "stderr"
        },
        {
          "output_type": "stream",
          "text": [
            "Epoch: 16 |Training loss: 1.6935\n"
          ],
          "name": "stdout"
        },
        {
          "output_type": "stream",
          "text": [
            "\n",
            "\n",
            "\n",
            "training:   4%|▎         | 18/500 [02:56<1:18:45,  9.80s/it]\u001b[A\u001b[A\u001b[A"
          ],
          "name": "stderr"
        },
        {
          "output_type": "stream",
          "text": [
            "Epoch: 17 |Training loss: 1.6789\n",
            "Epoch: 18 |Training loss: 1.6828\n"
          ],
          "name": "stdout"
        },
        {
          "output_type": "stream",
          "text": [
            "\n",
            "\n",
            "\n",
            "training:   4%|▎         | 18/500 [03:12<1:18:45,  9.80s/it]\u001b[A\u001b[A\u001b[A"
          ],
          "name": "stderr"
        },
        {
          "output_type": "stream",
          "text": [
            "Epoch: 19 |Training loss: 1.6522\n"
          ],
          "name": "stdout"
        },
        {
          "output_type": "stream",
          "text": [
            "\n",
            "\n",
            "\n",
            "training:   4%|▍         | 21/500 [03:26<1:18:23,  9.82s/it]\u001b[A\u001b[A\u001b[A"
          ],
          "name": "stderr"
        },
        {
          "output_type": "stream",
          "text": [
            "Epoch: 20 |Training loss: 1.6515\n",
            "Epoch: 21 |Training loss: 1.6346\n"
          ],
          "name": "stdout"
        },
        {
          "output_type": "stream",
          "text": [
            "\n",
            "\n",
            "\n",
            "training:   4%|▍         | 21/500 [03:42<1:18:23,  9.82s/it]\u001b[A\u001b[A\u001b[A"
          ],
          "name": "stderr"
        },
        {
          "output_type": "stream",
          "text": [
            "Epoch: 22 |Training loss: 1.6203\n"
          ],
          "name": "stdout"
        },
        {
          "output_type": "stream",
          "text": [
            "\n",
            "\n",
            "\n",
            "training:   5%|▍         | 24/500 [03:55<1:17:50,  9.81s/it]\u001b[A\u001b[A\u001b[A"
          ],
          "name": "stderr"
        },
        {
          "output_type": "stream",
          "text": [
            "Epoch: 23 |Training loss: 1.6047\n",
            "Epoch: 24 |Training loss: 1.5925\n"
          ],
          "name": "stdout"
        },
        {
          "output_type": "stream",
          "text": [
            "\n",
            "\n",
            "\n",
            "training:   5%|▍         | 24/500 [04:12<1:17:50,  9.81s/it]\u001b[A\u001b[A\u001b[A"
          ],
          "name": "stderr"
        },
        {
          "output_type": "stream",
          "text": [
            "Epoch: 25 |Training loss: 1.5787\n"
          ],
          "name": "stdout"
        },
        {
          "output_type": "stream",
          "text": [
            "\n",
            "\n",
            "\n",
            "training:   5%|▌         | 27/500 [04:24<1:17:16,  9.80s/it]\u001b[A\u001b[A\u001b[A"
          ],
          "name": "stderr"
        },
        {
          "output_type": "stream",
          "text": [
            "Epoch: 26 |Training loss: 1.5700\n",
            "Epoch: 27 |Training loss: 1.5600\n"
          ],
          "name": "stdout"
        },
        {
          "output_type": "stream",
          "text": [
            "\n",
            "\n",
            "\n",
            "training:   5%|▌         | 27/500 [04:42<1:17:16,  9.80s/it]\u001b[A\u001b[A\u001b[A"
          ],
          "name": "stderr"
        },
        {
          "output_type": "stream",
          "text": [
            "Epoch: 28 |Training loss: 1.5420\n"
          ],
          "name": "stdout"
        },
        {
          "output_type": "stream",
          "text": [
            "\n",
            "\n",
            "\n",
            "training:   6%|▌         | 30/500 [04:54<1:16:44,  9.80s/it]\u001b[A\u001b[A\u001b[A"
          ],
          "name": "stderr"
        },
        {
          "output_type": "stream",
          "text": [
            "Epoch: 29 |Training loss: 1.5361\n",
            "Epoch: 30 |Training loss: 1.5217\n"
          ],
          "name": "stdout"
        },
        {
          "output_type": "stream",
          "text": [
            "\n",
            "\n",
            "\n",
            "training:   6%|▌         | 30/500 [05:12<1:16:44,  9.80s/it]\u001b[A\u001b[A\u001b[A"
          ],
          "name": "stderr"
        },
        {
          "output_type": "stream",
          "text": [
            "Epoch: 31 |Training loss: 1.5172\n"
          ],
          "name": "stdout"
        },
        {
          "output_type": "stream",
          "text": [
            "\n",
            "\n",
            "\n",
            "training:   7%|▋         | 33/500 [05:23<1:16:26,  9.82s/it]\u001b[A\u001b[A\u001b[A"
          ],
          "name": "stderr"
        },
        {
          "output_type": "stream",
          "text": [
            "Epoch: 32 |Training loss: 1.5111\n",
            "Epoch: 33 |Training loss: 1.4925\n"
          ],
          "name": "stdout"
        },
        {
          "output_type": "stream",
          "text": [
            "\n",
            "\n",
            "\n",
            "training:   7%|▋         | 33/500 [05:42<1:16:26,  9.82s/it]\u001b[A\u001b[A\u001b[A"
          ],
          "name": "stderr"
        },
        {
          "output_type": "stream",
          "text": [
            "Epoch: 34 |Training loss: 1.4948\n"
          ],
          "name": "stdout"
        },
        {
          "output_type": "stream",
          "text": [
            "\n",
            "\n",
            "\n",
            "training:   7%|▋         | 36/500 [05:53<1:15:50,  9.81s/it]\u001b[A\u001b[A\u001b[A"
          ],
          "name": "stderr"
        },
        {
          "output_type": "stream",
          "text": [
            "Epoch: 35 |Training loss: 1.4878\n",
            "Epoch: 36 |Training loss: 1.4709\n"
          ],
          "name": "stdout"
        },
        {
          "output_type": "stream",
          "text": [
            "\n",
            "\n",
            "\n",
            "training:   7%|▋         | 36/500 [06:12<1:15:50,  9.81s/it]\u001b[A\u001b[A\u001b[A"
          ],
          "name": "stderr"
        },
        {
          "output_type": "stream",
          "text": [
            "Epoch: 37 |Training loss: 1.4746\n"
          ],
          "name": "stdout"
        },
        {
          "output_type": "stream",
          "text": [
            "\n",
            "\n",
            "\n",
            "training:   8%|▊         | 39/500 [06:22<1:15:16,  9.80s/it]\u001b[A\u001b[A\u001b[A"
          ],
          "name": "stderr"
        },
        {
          "output_type": "stream",
          "text": [
            "Epoch: 38 |Training loss: 1.4604\n",
            "Epoch: 39 |Training loss: 1.4610\n"
          ],
          "name": "stdout"
        },
        {
          "output_type": "stream",
          "text": [
            "\n",
            "\n",
            "\n",
            "training:   8%|▊         | 39/500 [06:42<1:15:16,  9.80s/it]\u001b[A\u001b[A\u001b[A"
          ],
          "name": "stderr"
        },
        {
          "output_type": "stream",
          "text": [
            "Epoch: 40 |Training loss: 1.4403\n"
          ],
          "name": "stdout"
        },
        {
          "output_type": "stream",
          "text": [
            "\n",
            "\n",
            "\n",
            "training:   8%|▊         | 42/500 [06:52<1:14:57,  9.82s/it]\u001b[A\u001b[A\u001b[A"
          ],
          "name": "stderr"
        },
        {
          "output_type": "stream",
          "text": [
            "Epoch: 41 |Training loss: 1.4553\n",
            "Epoch: 42 |Training loss: 1.4304\n"
          ],
          "name": "stdout"
        },
        {
          "output_type": "stream",
          "text": [
            "\n",
            "\n",
            "\n",
            "training:   8%|▊         | 42/500 [07:02<1:14:57,  9.82s/it]\u001b[A\u001b[A\u001b[A"
          ],
          "name": "stderr"
        },
        {
          "output_type": "stream",
          "text": [
            "Epoch: 43 |Training loss: 1.4539\n"
          ],
          "name": "stdout"
        },
        {
          "output_type": "stream",
          "text": [
            "\n",
            "\n",
            "\n",
            "training:   9%|▉         | 45/500 [07:21<1:14:22,  9.81s/it]\u001b[A\u001b[A\u001b[A"
          ],
          "name": "stderr"
        },
        {
          "output_type": "stream",
          "text": [
            "Epoch: 44 |Training loss: 1.4505\n",
            "Epoch: 45 |Training loss: 1.4144\n"
          ],
          "name": "stdout"
        },
        {
          "output_type": "stream",
          "text": [
            "\n",
            "\n",
            "\n",
            "training:   9%|▉         | 45/500 [07:32<1:14:22,  9.81s/it]\u001b[A\u001b[A\u001b[A"
          ],
          "name": "stderr"
        },
        {
          "output_type": "stream",
          "text": [
            "Epoch: 46 |Training loss: 1.4161\n"
          ],
          "name": "stdout"
        },
        {
          "output_type": "stream",
          "text": [
            "\n",
            "\n",
            "\n",
            "training:  10%|▉         | 48/500 [07:50<1:13:55,  9.81s/it]\u001b[A\u001b[A\u001b[A"
          ],
          "name": "stderr"
        },
        {
          "output_type": "stream",
          "text": [
            "Epoch: 47 |Training loss: 1.3967\n",
            "Epoch: 48 |Training loss: 1.3996\n"
          ],
          "name": "stdout"
        },
        {
          "output_type": "stream",
          "text": [
            "\n",
            "\n",
            "\n",
            "training:  10%|▉         | 48/500 [08:02<1:13:55,  9.81s/it]\u001b[A\u001b[A\u001b[A"
          ],
          "name": "stderr"
        },
        {
          "output_type": "stream",
          "text": [
            "Epoch: 49 |Training loss: 1.3786\n"
          ],
          "name": "stdout"
        },
        {
          "output_type": "stream",
          "text": [
            "\n",
            "\n",
            "\n",
            "training:  10%|█         | 51/500 [08:20<1:13:37,  9.84s/it]\u001b[A\u001b[A\u001b[A"
          ],
          "name": "stderr"
        },
        {
          "output_type": "stream",
          "text": [
            "Epoch: 50 |Training loss: 1.3900\n",
            "Epoch: 51 |Training loss: 1.3707\n"
          ],
          "name": "stdout"
        },
        {
          "output_type": "stream",
          "text": [
            "\n",
            "\n",
            "\n",
            "training:  10%|█         | 51/500 [08:32<1:13:37,  9.84s/it]\u001b[A\u001b[A\u001b[A"
          ],
          "name": "stderr"
        },
        {
          "output_type": "stream",
          "text": [
            "Epoch: 52 |Training loss: 1.3733\n"
          ],
          "name": "stdout"
        },
        {
          "output_type": "stream",
          "text": [
            "\n",
            "\n",
            "\n",
            "training:  11%|█         | 54/500 [08:49<1:13:01,  9.82s/it]\u001b[A\u001b[A\u001b[A"
          ],
          "name": "stderr"
        },
        {
          "output_type": "stream",
          "text": [
            "Epoch: 53 |Training loss: 1.3633\n",
            "Epoch: 54 |Training loss: 1.3586\n"
          ],
          "name": "stdout"
        },
        {
          "output_type": "stream",
          "text": [
            "\n",
            "\n",
            "\n",
            "training:  11%|█         | 54/500 [09:02<1:13:01,  9.82s/it]\u001b[A\u001b[A\u001b[A"
          ],
          "name": "stderr"
        },
        {
          "output_type": "stream",
          "text": [
            "Epoch: 55 |Training loss: 1.3468\n"
          ],
          "name": "stdout"
        },
        {
          "output_type": "stream",
          "text": [
            "\n",
            "\n",
            "\n",
            "training:  11%|█▏        | 57/500 [09:19<1:12:26,  9.81s/it]\u001b[A\u001b[A\u001b[A"
          ],
          "name": "stderr"
        },
        {
          "output_type": "stream",
          "text": [
            "Epoch: 56 |Training loss: 1.3389\n",
            "Epoch: 57 |Training loss: 1.3339\n"
          ],
          "name": "stdout"
        },
        {
          "output_type": "stream",
          "text": [
            "\n",
            "\n",
            "\n",
            "training:  11%|█▏        | 57/500 [09:32<1:12:26,  9.81s/it]\u001b[A\u001b[A\u001b[A"
          ],
          "name": "stderr"
        },
        {
          "output_type": "stream",
          "text": [
            "Epoch: 58 |Training loss: 1.3196\n"
          ],
          "name": "stdout"
        },
        {
          "output_type": "stream",
          "text": [
            "\n",
            "\n",
            "\n",
            "training:  12%|█▏        | 60/500 [09:48<1:11:51,  9.80s/it]\u001b[A\u001b[A\u001b[A"
          ],
          "name": "stderr"
        },
        {
          "output_type": "stream",
          "text": [
            "Epoch: 59 |Training loss: 1.3158\n",
            "Epoch: 60 |Training loss: 1.3083\n"
          ],
          "name": "stdout"
        },
        {
          "output_type": "stream",
          "text": [
            "\n",
            "\n",
            "\n",
            "training:  12%|█▏        | 60/500 [10:02<1:11:51,  9.80s/it]\u001b[A\u001b[A\u001b[A"
          ],
          "name": "stderr"
        },
        {
          "output_type": "stream",
          "text": [
            "Epoch: 61 |Training loss: 1.2976\n"
          ],
          "name": "stdout"
        },
        {
          "output_type": "stream",
          "text": [
            "\n",
            "\n",
            "\n",
            "training:  13%|█▎        | 63/500 [10:18<1:11:34,  9.83s/it]\u001b[A\u001b[A\u001b[A"
          ],
          "name": "stderr"
        },
        {
          "output_type": "stream",
          "text": [
            "Epoch: 62 |Training loss: 1.3018\n",
            "Epoch: 63 |Training loss: 1.2911\n"
          ],
          "name": "stdout"
        },
        {
          "output_type": "stream",
          "text": [
            "\n",
            "\n",
            "\n",
            "training:  13%|█▎        | 63/500 [10:32<1:11:34,  9.83s/it]\u001b[A\u001b[A\u001b[A"
          ],
          "name": "stderr"
        },
        {
          "output_type": "stream",
          "text": [
            "Epoch: 64 |Training loss: 1.2869\n"
          ],
          "name": "stdout"
        },
        {
          "output_type": "stream",
          "text": [
            "\n",
            "\n",
            "\n",
            "training:  13%|█▎        | 66/500 [10:47<1:10:57,  9.81s/it]\u001b[A\u001b[A\u001b[A"
          ],
          "name": "stderr"
        },
        {
          "output_type": "stream",
          "text": [
            "Epoch: 65 |Training loss: 1.2834\n",
            "Epoch: 66 |Training loss: 1.2707\n"
          ],
          "name": "stdout"
        },
        {
          "output_type": "stream",
          "text": [
            "\n",
            "\n",
            "\n",
            "training:  13%|█▎        | 66/500 [11:02<1:10:57,  9.81s/it]\u001b[A\u001b[A\u001b[A"
          ],
          "name": "stderr"
        },
        {
          "output_type": "stream",
          "text": [
            "Epoch: 67 |Training loss: 1.2652\n"
          ],
          "name": "stdout"
        },
        {
          "output_type": "stream",
          "text": [
            "\n",
            "\n",
            "\n",
            "training:  14%|█▍        | 69/500 [11:16<1:10:23,  9.80s/it]\u001b[A\u001b[A\u001b[A"
          ],
          "name": "stderr"
        },
        {
          "output_type": "stream",
          "text": [
            "Epoch: 68 |Training loss: 1.2540\n",
            "Epoch: 69 |Training loss: 1.2524\n"
          ],
          "name": "stdout"
        },
        {
          "output_type": "stream",
          "text": [
            "\n",
            "\n",
            "\n",
            "training:  14%|█▍        | 69/500 [11:32<1:10:23,  9.80s/it]\u001b[A\u001b[A\u001b[A"
          ],
          "name": "stderr"
        },
        {
          "output_type": "stream",
          "text": [
            "Epoch: 70 |Training loss: 1.2405\n"
          ],
          "name": "stdout"
        },
        {
          "output_type": "stream",
          "text": [
            "\n",
            "\n",
            "\n",
            "training:  14%|█▍        | 72/500 [11:46<1:10:03,  9.82s/it]\u001b[A\u001b[A\u001b[A"
          ],
          "name": "stderr"
        },
        {
          "output_type": "stream",
          "text": [
            "Epoch: 71 |Training loss: 1.2287\n",
            "Epoch: 72 |Training loss: 1.2231\n"
          ],
          "name": "stdout"
        },
        {
          "output_type": "stream",
          "text": [
            "\n",
            "\n",
            "\n",
            "training:  14%|█▍        | 72/500 [12:02<1:10:03,  9.82s/it]\u001b[A\u001b[A\u001b[A"
          ],
          "name": "stderr"
        },
        {
          "output_type": "stream",
          "text": [
            "Epoch: 73 |Training loss: 1.2213\n"
          ],
          "name": "stdout"
        },
        {
          "output_type": "stream",
          "text": [
            "\n",
            "\n",
            "\n",
            "training:  15%|█▌        | 75/500 [12:15<1:09:27,  9.81s/it]\u001b[A\u001b[A\u001b[A"
          ],
          "name": "stderr"
        },
        {
          "output_type": "stream",
          "text": [
            "Epoch: 74 |Training loss: 1.2143\n",
            "Epoch: 75 |Training loss: 1.2107\n"
          ],
          "name": "stdout"
        },
        {
          "output_type": "stream",
          "text": [
            "\n",
            "\n",
            "\n",
            "training:  15%|█▌        | 75/500 [12:32<1:09:27,  9.81s/it]\u001b[A\u001b[A\u001b[A"
          ],
          "name": "stderr"
        },
        {
          "output_type": "stream",
          "text": [
            "Epoch: 76 |Training loss: 1.2048\n"
          ],
          "name": "stdout"
        },
        {
          "output_type": "stream",
          "text": [
            "\n",
            "\n",
            "\n",
            "training:  16%|█▌        | 78/500 [12:45<1:08:53,  9.80s/it]\u001b[A\u001b[A\u001b[A"
          ],
          "name": "stderr"
        },
        {
          "output_type": "stream",
          "text": [
            "Epoch: 77 |Training loss: 1.1866\n",
            "Epoch: 78 |Training loss: 1.1850\n"
          ],
          "name": "stdout"
        },
        {
          "output_type": "stream",
          "text": [
            "\n",
            "\n",
            "\n",
            "training:  16%|█▌        | 78/500 [13:02<1:08:53,  9.80s/it]\u001b[A\u001b[A\u001b[A"
          ],
          "name": "stderr"
        },
        {
          "output_type": "stream",
          "text": [
            "Epoch: 79 |Training loss: 1.1782\n"
          ],
          "name": "stdout"
        },
        {
          "output_type": "stream",
          "text": [
            "\n",
            "\n",
            "\n",
            "training:  16%|█▌        | 81/500 [13:14<1:08:32,  9.82s/it]\u001b[A\u001b[A\u001b[A"
          ],
          "name": "stderr"
        },
        {
          "output_type": "stream",
          "text": [
            "Epoch: 80 |Training loss: 1.1829\n",
            "Epoch: 81 |Training loss: 1.1665\n"
          ],
          "name": "stdout"
        },
        {
          "output_type": "stream",
          "text": [
            "\n",
            "\n",
            "\n",
            "training:  16%|█▌        | 81/500 [13:32<1:08:32,  9.82s/it]\u001b[A\u001b[A\u001b[A"
          ],
          "name": "stderr"
        },
        {
          "output_type": "stream",
          "text": [
            "Epoch: 82 |Training loss: 1.1828\n"
          ],
          "name": "stdout"
        },
        {
          "output_type": "stream",
          "text": [
            "\n",
            "\n",
            "\n",
            "training:  17%|█▋        | 84/500 [13:44<1:07:59,  9.81s/it]\u001b[A\u001b[A\u001b[A"
          ],
          "name": "stderr"
        },
        {
          "output_type": "stream",
          "text": [
            "Epoch: 83 |Training loss: 1.1599\n",
            "Epoch: 84 |Training loss: 1.1886\n"
          ],
          "name": "stdout"
        },
        {
          "output_type": "stream",
          "text": [
            "\n",
            "\n",
            "\n",
            "training:  17%|█▋        | 84/500 [14:02<1:07:59,  9.81s/it]\u001b[A\u001b[A\u001b[A"
          ],
          "name": "stderr"
        },
        {
          "output_type": "stream",
          "text": [
            "Epoch: 85 |Training loss: 1.1865\n"
          ],
          "name": "stdout"
        },
        {
          "output_type": "stream",
          "text": [
            "\n",
            "\n",
            "\n",
            "training:  17%|█▋        | 87/500 [14:13<1:07:25,  9.80s/it]\u001b[A\u001b[A\u001b[A"
          ],
          "name": "stderr"
        },
        {
          "output_type": "stream",
          "text": [
            "Epoch: 86 |Training loss: 1.1609\n",
            "Epoch: 87 |Training loss: 1.1575\n"
          ],
          "name": "stdout"
        },
        {
          "output_type": "stream",
          "text": [
            "\n",
            "\n",
            "\n",
            "training:  17%|█▋        | 87/500 [14:32<1:07:25,  9.80s/it]\u001b[A\u001b[A\u001b[A"
          ],
          "name": "stderr"
        },
        {
          "output_type": "stream",
          "text": [
            "Epoch: 88 |Training loss: 1.1471\n"
          ],
          "name": "stdout"
        },
        {
          "output_type": "stream",
          "text": [
            "\n",
            "\n",
            "\n",
            "training:  18%|█▊        | 90/500 [14:42<1:06:53,  9.79s/it]\u001b[A\u001b[A\u001b[A"
          ],
          "name": "stderr"
        },
        {
          "output_type": "stream",
          "text": [
            "Epoch: 89 |Training loss: 1.1459\n",
            "Epoch: 90 |Training loss: 1.1418\n"
          ],
          "name": "stdout"
        },
        {
          "output_type": "stream",
          "text": [
            "\n",
            "\n",
            "\n",
            "training:  18%|█▊        | 90/500 [15:02<1:06:53,  9.79s/it]\u001b[A\u001b[A\u001b[A"
          ],
          "name": "stderr"
        },
        {
          "output_type": "stream",
          "text": [
            "Epoch: 91 |Training loss: 1.1352\n"
          ],
          "name": "stdout"
        },
        {
          "output_type": "stream",
          "text": [
            "\n",
            "\n",
            "\n",
            "training:  19%|█▊        | 93/500 [15:12<1:06:38,  9.82s/it]\u001b[A\u001b[A\u001b[A"
          ],
          "name": "stderr"
        },
        {
          "output_type": "stream",
          "text": [
            "Epoch: 92 |Training loss: 1.1292\n",
            "Epoch: 93 |Training loss: 1.1305\n",
            "Epoch: 94 |Training loss: 1.1209\n"
          ],
          "name": "stdout"
        },
        {
          "output_type": "stream",
          "text": [
            "\n",
            "\n",
            "\n",
            "training:  19%|█▊        | 93/500 [15:32<1:06:38,  9.82s/it]\u001b[A\u001b[A\u001b[A\n",
            "\n",
            "\n",
            "training:  19%|█▉        | 96/500 [15:41<1:06:02,  9.81s/it]\u001b[A\u001b[A\u001b[A"
          ],
          "name": "stderr"
        },
        {
          "output_type": "stream",
          "text": [
            "Epoch: 95 |Training loss: 1.1120\n",
            "Epoch: 96 |Training loss: 1.1071\n"
          ],
          "name": "stdout"
        },
        {
          "output_type": "stream",
          "text": [
            "\n",
            "\n",
            "\n",
            "training:  19%|█▉        | 96/500 [15:52<1:06:02,  9.81s/it]\u001b[A\u001b[A\u001b[A"
          ],
          "name": "stderr"
        },
        {
          "output_type": "stream",
          "text": [
            "Epoch: 97 |Training loss: 1.1196\n"
          ],
          "name": "stdout"
        },
        {
          "output_type": "stream",
          "text": [
            "\n",
            "\n",
            "\n",
            "training:  20%|█▉        | 99/500 [16:11<1:05:28,  9.80s/it]\u001b[A\u001b[A\u001b[A"
          ],
          "name": "stderr"
        },
        {
          "output_type": "stream",
          "text": [
            "Epoch: 98 |Training loss: 1.1024\n",
            "Epoch: 99 |Training loss: 1.1041\n"
          ],
          "name": "stdout"
        },
        {
          "output_type": "stream",
          "text": [
            "\n",
            "\n",
            "\n",
            "training:  20%|█▉        | 99/500 [16:22<1:05:28,  9.80s/it]\u001b[A\u001b[A\u001b[A"
          ],
          "name": "stderr"
        },
        {
          "output_type": "stream",
          "text": [
            "Epoch: 100 |Training loss: 1.1029\n"
          ],
          "name": "stdout"
        },
        {
          "output_type": "stream",
          "text": [
            "\n",
            "\n",
            "\n",
            "training:  20%|██        | 102/500 [16:40<1:05:09,  9.82s/it]\u001b[A\u001b[A\u001b[A"
          ],
          "name": "stderr"
        },
        {
          "output_type": "stream",
          "text": [
            "Epoch: 101 |Training loss: 1.0867\n",
            "Epoch: 102 |Training loss: 1.0845\n"
          ],
          "name": "stdout"
        },
        {
          "output_type": "stream",
          "text": [
            "\n",
            "\n",
            "\n",
            "training:  20%|██        | 102/500 [16:52<1:05:09,  9.82s/it]\u001b[A\u001b[A\u001b[A"
          ],
          "name": "stderr"
        },
        {
          "output_type": "stream",
          "text": [
            "Epoch: 103 |Training loss: 1.0827\n"
          ],
          "name": "stdout"
        },
        {
          "output_type": "stream",
          "text": [
            "\n",
            "\n",
            "\n",
            "training:  21%|██        | 105/500 [17:10<1:04:34,  9.81s/it]\u001b[A\u001b[A\u001b[A"
          ],
          "name": "stderr"
        },
        {
          "output_type": "stream",
          "text": [
            "Epoch: 104 |Training loss: 1.0674\n",
            "Epoch: 105 |Training loss: 1.0637\n"
          ],
          "name": "stdout"
        },
        {
          "output_type": "stream",
          "text": [
            "\n",
            "\n",
            "\n",
            "training:  21%|██        | 105/500 [17:22<1:04:34,  9.81s/it]\u001b[A\u001b[A\u001b[A"
          ],
          "name": "stderr"
        },
        {
          "output_type": "stream",
          "text": [
            "Epoch: 106 |Training loss: 1.0534\n"
          ],
          "name": "stdout"
        },
        {
          "output_type": "stream",
          "text": [
            "\n",
            "\n",
            "\n",
            "training:  22%|██▏       | 108/500 [17:39<1:04:00,  9.80s/it]\u001b[A\u001b[A\u001b[A"
          ],
          "name": "stderr"
        },
        {
          "output_type": "stream",
          "text": [
            "Epoch: 107 |Training loss: 1.0561\n",
            "Epoch: 108 |Training loss: 1.0487\n"
          ],
          "name": "stdout"
        },
        {
          "output_type": "stream",
          "text": [
            "\n",
            "\n",
            "\n",
            "training:  22%|██▏       | 108/500 [17:52<1:04:00,  9.80s/it]\u001b[A\u001b[A\u001b[A"
          ],
          "name": "stderr"
        },
        {
          "output_type": "stream",
          "text": [
            "Epoch: 109 |Training loss: 1.0582\n"
          ],
          "name": "stdout"
        },
        {
          "output_type": "stream",
          "text": [
            "\n",
            "\n",
            "\n",
            "training:  22%|██▏       | 111/500 [18:09<1:03:39,  9.82s/it]\u001b[A\u001b[A\u001b[A"
          ],
          "name": "stderr"
        },
        {
          "output_type": "stream",
          "text": [
            "Epoch: 110 |Training loss: 1.0499\n",
            "Epoch: 111 |Training loss: 1.0324\n"
          ],
          "name": "stdout"
        },
        {
          "output_type": "stream",
          "text": [
            "\n",
            "\n",
            "\n",
            "training:  22%|██▏       | 111/500 [18:22<1:03:39,  9.82s/it]\u001b[A\u001b[A\u001b[A"
          ],
          "name": "stderr"
        },
        {
          "output_type": "stream",
          "text": [
            "Epoch: 112 |Training loss: 1.0635\n"
          ],
          "name": "stdout"
        },
        {
          "output_type": "stream",
          "text": [
            "\n",
            "\n",
            "\n",
            "training:  23%|██▎       | 114/500 [18:38<1:03:04,  9.80s/it]\u001b[A\u001b[A\u001b[A"
          ],
          "name": "stderr"
        },
        {
          "output_type": "stream",
          "text": [
            "Epoch: 113 |Training loss: 1.0409\n",
            "Epoch: 114 |Training loss: 1.0492\n"
          ],
          "name": "stdout"
        },
        {
          "output_type": "stream",
          "text": [
            "\n",
            "\n",
            "\n",
            "training:  23%|██▎       | 114/500 [18:52<1:03:04,  9.80s/it]\u001b[A\u001b[A\u001b[A"
          ],
          "name": "stderr"
        },
        {
          "output_type": "stream",
          "text": [
            "Epoch: 115 |Training loss: 1.0452\n"
          ],
          "name": "stdout"
        },
        {
          "output_type": "stream",
          "text": [
            "\n",
            "\n",
            "\n",
            "training:  23%|██▎       | 117/500 [19:07<1:02:30,  9.79s/it]\u001b[A\u001b[A\u001b[A"
          ],
          "name": "stderr"
        },
        {
          "output_type": "stream",
          "text": [
            "Epoch: 116 |Training loss: 1.0329\n",
            "Epoch: 117 |Training loss: 1.0200\n"
          ],
          "name": "stdout"
        },
        {
          "output_type": "stream",
          "text": [
            "\n",
            "\n",
            "\n",
            "training:  23%|██▎       | 117/500 [19:22<1:02:30,  9.79s/it]\u001b[A\u001b[A\u001b[A"
          ],
          "name": "stderr"
        },
        {
          "output_type": "stream",
          "text": [
            "Epoch: 118 |Training loss: 1.0273\n"
          ],
          "name": "stdout"
        },
        {
          "output_type": "stream",
          "text": [
            "\n",
            "\n",
            "\n",
            "training:  24%|██▍       | 120/500 [19:36<1:01:58,  9.79s/it]\u001b[A\u001b[A\u001b[A"
          ],
          "name": "stderr"
        },
        {
          "output_type": "stream",
          "text": [
            "Epoch: 119 |Training loss: 1.0207\n",
            "Epoch: 120 |Training loss: 1.0041\n"
          ],
          "name": "stdout"
        },
        {
          "output_type": "stream",
          "text": [
            "\n",
            "\n",
            "\n",
            "training:  24%|██▍       | 120/500 [19:52<1:01:58,  9.79s/it]\u001b[A\u001b[A\u001b[A"
          ],
          "name": "stderr"
        },
        {
          "output_type": "stream",
          "text": [
            "Epoch: 121 |Training loss: 1.0218\n"
          ],
          "name": "stdout"
        },
        {
          "output_type": "stream",
          "text": [
            "\n",
            "\n",
            "\n",
            "training:  25%|██▍       | 123/500 [20:06<1:01:39,  9.81s/it]\u001b[A\u001b[A\u001b[A"
          ],
          "name": "stderr"
        },
        {
          "output_type": "stream",
          "text": [
            "Epoch: 122 |Training loss: 1.0104\n",
            "Epoch: 123 |Training loss: 0.9911\n"
          ],
          "name": "stdout"
        },
        {
          "output_type": "stream",
          "text": [
            "\n",
            "\n",
            "\n",
            "training:  25%|██▍       | 123/500 [20:22<1:01:39,  9.81s/it]\u001b[A\u001b[A\u001b[A"
          ],
          "name": "stderr"
        },
        {
          "output_type": "stream",
          "text": [
            "Epoch: 124 |Training loss: 0.9938\n"
          ],
          "name": "stdout"
        },
        {
          "output_type": "stream",
          "text": [
            "\n",
            "\n",
            "\n",
            "training:  25%|██▌       | 126/500 [20:35<1:01:05,  9.80s/it]\u001b[A\u001b[A\u001b[A"
          ],
          "name": "stderr"
        },
        {
          "output_type": "stream",
          "text": [
            "Epoch: 125 |Training loss: 0.9928\n",
            "Epoch: 126 |Training loss: 0.9810\n"
          ],
          "name": "stdout"
        },
        {
          "output_type": "stream",
          "text": [
            "\n",
            "\n",
            "\n",
            "training:  25%|██▌       | 126/500 [20:52<1:01:05,  9.80s/it]\u001b[A\u001b[A\u001b[A"
          ],
          "name": "stderr"
        },
        {
          "output_type": "stream",
          "text": [
            "Epoch: 127 |Training loss: 0.9706\n"
          ],
          "name": "stdout"
        },
        {
          "output_type": "stream",
          "text": [
            "\n",
            "\n",
            "\n",
            "training:  26%|██▌       | 129/500 [21:05<1:00:33,  9.79s/it]\u001b[A\u001b[A\u001b[A"
          ],
          "name": "stderr"
        },
        {
          "output_type": "stream",
          "text": [
            "Epoch: 128 |Training loss: 0.9730\n",
            "Epoch: 129 |Training loss: 0.9794\n"
          ],
          "name": "stdout"
        },
        {
          "output_type": "stream",
          "text": [
            "\n",
            "\n",
            "\n",
            "training:  26%|██▌       | 129/500 [21:22<1:00:33,  9.79s/it]\u001b[A\u001b[A\u001b[A"
          ],
          "name": "stderr"
        },
        {
          "output_type": "stream",
          "text": [
            "Epoch: 130 |Training loss: 0.9692\n"
          ],
          "name": "stdout"
        },
        {
          "output_type": "stream",
          "text": [
            "\n",
            "\n",
            "\n",
            "training:  26%|██▋       | 132/500 [21:35<1:00:19,  9.84s/it]\u001b[A\u001b[A\u001b[A"
          ],
          "name": "stderr"
        },
        {
          "output_type": "stream",
          "text": [
            "Epoch: 131 |Training loss: 0.9645\n",
            "Epoch: 132 |Training loss: 0.9631\n"
          ],
          "name": "stdout"
        },
        {
          "output_type": "stream",
          "text": [
            "\n",
            "\n",
            "\n",
            "training:  26%|██▋       | 132/500 [21:52<1:00:19,  9.84s/it]\u001b[A\u001b[A\u001b[A"
          ],
          "name": "stderr"
        },
        {
          "output_type": "stream",
          "text": [
            "Epoch: 133 |Training loss: 0.9593\n"
          ],
          "name": "stdout"
        },
        {
          "output_type": "stream",
          "text": [
            "\n",
            "\n",
            "\n",
            "training:  27%|██▋       | 135/500 [22:04<59:44,  9.82s/it]  \u001b[A\u001b[A\u001b[A"
          ],
          "name": "stderr"
        },
        {
          "output_type": "stream",
          "text": [
            "Epoch: 134 |Training loss: 0.9442\n",
            "Epoch: 135 |Training loss: 0.9711\n"
          ],
          "name": "stdout"
        },
        {
          "output_type": "stream",
          "text": [
            "\n",
            "\n",
            "\n",
            "training:  27%|██▋       | 135/500 [22:22<59:44,  9.82s/it]\u001b[A\u001b[A\u001b[A"
          ],
          "name": "stderr"
        },
        {
          "output_type": "stream",
          "text": [
            "Epoch: 136 |Training loss: 0.9577\n"
          ],
          "name": "stdout"
        },
        {
          "output_type": "stream",
          "text": [
            "\n",
            "\n",
            "\n",
            "training:  28%|██▊       | 138/500 [22:33<59:11,  9.81s/it]\u001b[A\u001b[A\u001b[A"
          ],
          "name": "stderr"
        },
        {
          "output_type": "stream",
          "text": [
            "Epoch: 137 |Training loss: 0.9527\n",
            "Epoch: 138 |Training loss: 0.9442\n"
          ],
          "name": "stdout"
        },
        {
          "output_type": "stream",
          "text": [
            "\n",
            "\n",
            "\n",
            "training:  28%|██▊       | 138/500 [22:52<59:11,  9.81s/it]\u001b[A\u001b[A\u001b[A"
          ],
          "name": "stderr"
        },
        {
          "output_type": "stream",
          "text": [
            "Epoch: 139 |Training loss: 0.9345\n"
          ],
          "name": "stdout"
        },
        {
          "output_type": "stream",
          "text": [
            "\n",
            "\n",
            "\n",
            "training:  28%|██▊       | 141/500 [23:03<58:50,  9.83s/it]\u001b[A\u001b[A\u001b[A"
          ],
          "name": "stderr"
        },
        {
          "output_type": "stream",
          "text": [
            "Epoch: 140 |Training loss: 0.9479\n",
            "Epoch: 141 |Training loss: 0.9335\n"
          ],
          "name": "stdout"
        },
        {
          "output_type": "stream",
          "text": [
            "\n",
            "\n",
            "\n",
            "training:  28%|██▊       | 141/500 [23:22<58:50,  9.83s/it]\u001b[A\u001b[A\u001b[A"
          ],
          "name": "stderr"
        },
        {
          "output_type": "stream",
          "text": [
            "Epoch: 142 |Training loss: 0.9262\n"
          ],
          "name": "stdout"
        },
        {
          "output_type": "stream",
          "text": [
            "\n",
            "\n",
            "\n",
            "training:  29%|██▉       | 144/500 [23:32<58:16,  9.82s/it]\u001b[A\u001b[A\u001b[A"
          ],
          "name": "stderr"
        },
        {
          "output_type": "stream",
          "text": [
            "Epoch: 143 |Training loss: 0.9208\n",
            "Epoch: 144 |Training loss: 0.9120\n",
            "Epoch: 145 |Training loss: 0.9123\n"
          ],
          "name": "stdout"
        },
        {
          "output_type": "stream",
          "text": [
            "\n",
            "\n",
            "\n",
            "training:  29%|██▉       | 144/500 [23:52<58:16,  9.82s/it]\u001b[A\u001b[A\u001b[A\n",
            "\n",
            "\n",
            "training:  29%|██▉       | 147/500 [24:02<57:42,  9.81s/it]\u001b[A\u001b[A\u001b[A"
          ],
          "name": "stderr"
        },
        {
          "output_type": "stream",
          "text": [
            "Epoch: 146 |Training loss: 0.9094\n",
            "Epoch: 147 |Training loss: 0.8929\n"
          ],
          "name": "stdout"
        },
        {
          "output_type": "stream",
          "text": [
            "\n",
            "\n",
            "\n",
            "training:  29%|██▉       | 147/500 [24:12<57:42,  9.81s/it]\u001b[A\u001b[A\u001b[A"
          ],
          "name": "stderr"
        },
        {
          "output_type": "stream",
          "text": [
            "Epoch: 148 |Training loss: 0.9076\n"
          ],
          "name": "stdout"
        },
        {
          "output_type": "stream",
          "text": [
            "\n",
            "\n",
            "\n",
            "training:  30%|███       | 150/500 [24:31<57:09,  9.80s/it]\u001b[A\u001b[A\u001b[A"
          ],
          "name": "stderr"
        },
        {
          "output_type": "stream",
          "text": [
            "Epoch: 149 |Training loss: 0.8998\n",
            "Epoch: 150 |Training loss: 0.8957\n"
          ],
          "name": "stdout"
        },
        {
          "output_type": "stream",
          "text": [
            "\n",
            "\n",
            "\n",
            "training:  30%|███       | 150/500 [24:42<57:09,  9.80s/it]\u001b[A\u001b[A\u001b[A"
          ],
          "name": "stderr"
        },
        {
          "output_type": "stream",
          "text": [
            "Epoch: 151 |Training loss: 0.9019\n"
          ],
          "name": "stdout"
        },
        {
          "output_type": "stream",
          "text": [
            "\n",
            "\n",
            "\n",
            "training:  31%|███       | 153/500 [25:01<56:50,  9.83s/it]\u001b[A\u001b[A\u001b[A"
          ],
          "name": "stderr"
        },
        {
          "output_type": "stream",
          "text": [
            "Epoch: 152 |Training loss: 0.8810\n",
            "Epoch: 153 |Training loss: 0.8883\n"
          ],
          "name": "stdout"
        },
        {
          "output_type": "stream",
          "text": [
            "\n",
            "\n",
            "\n",
            "training:  31%|███       | 153/500 [25:12<56:50,  9.83s/it]\u001b[A\u001b[A\u001b[A"
          ],
          "name": "stderr"
        },
        {
          "output_type": "stream",
          "text": [
            "Epoch: 154 |Training loss: 0.8746\n"
          ],
          "name": "stdout"
        },
        {
          "output_type": "stream",
          "text": [
            "\n",
            "\n",
            "\n",
            "training:  31%|███       | 156/500 [25:30<56:15,  9.81s/it]\u001b[A\u001b[A\u001b[A"
          ],
          "name": "stderr"
        },
        {
          "output_type": "stream",
          "text": [
            "Epoch: 155 |Training loss: 0.8880\n",
            "Epoch: 156 |Training loss: 0.8935\n"
          ],
          "name": "stdout"
        },
        {
          "output_type": "stream",
          "text": [
            "\n",
            "\n",
            "\n",
            "training:  31%|███       | 156/500 [25:42<56:15,  9.81s/it]\u001b[A\u001b[A\u001b[A"
          ],
          "name": "stderr"
        },
        {
          "output_type": "stream",
          "text": [
            "Epoch: 157 |Training loss: 0.8709\n"
          ],
          "name": "stdout"
        },
        {
          "output_type": "stream",
          "text": [
            "\n",
            "\n",
            "\n",
            "training:  32%|███▏      | 159/500 [25:59<55:42,  9.80s/it]\u001b[A\u001b[A\u001b[A"
          ],
          "name": "stderr"
        },
        {
          "output_type": "stream",
          "text": [
            "Epoch: 158 |Training loss: 0.8726\n",
            "Epoch: 159 |Training loss: 0.8692\n"
          ],
          "name": "stdout"
        },
        {
          "output_type": "stream",
          "text": [
            "\n",
            "\n",
            "\n",
            "training:  32%|███▏      | 159/500 [26:12<55:42,  9.80s/it]\u001b[A\u001b[A\u001b[A"
          ],
          "name": "stderr"
        },
        {
          "output_type": "stream",
          "text": [
            "Epoch: 160 |Training loss: 0.8595\n"
          ],
          "name": "stdout"
        },
        {
          "output_type": "stream",
          "text": [
            "\n",
            "\n",
            "\n",
            "training:  32%|███▏      | 162/500 [26:29<55:22,  9.83s/it]\u001b[A\u001b[A\u001b[A"
          ],
          "name": "stderr"
        },
        {
          "output_type": "stream",
          "text": [
            "Epoch: 161 |Training loss: 0.8497\n",
            "Epoch: 162 |Training loss: 0.8458\n"
          ],
          "name": "stdout"
        },
        {
          "output_type": "stream",
          "text": [
            "\n",
            "\n",
            "\n",
            "training:  32%|███▏      | 162/500 [26:42<55:22,  9.83s/it]\u001b[A\u001b[A\u001b[A"
          ],
          "name": "stderr"
        },
        {
          "output_type": "stream",
          "text": [
            "Epoch: 163 |Training loss: 0.8635\n"
          ],
          "name": "stdout"
        },
        {
          "output_type": "stream",
          "text": [
            "\n",
            "\n",
            "\n",
            "training:  33%|███▎      | 165/500 [26:58<54:49,  9.82s/it]\u001b[A\u001b[A\u001b[A"
          ],
          "name": "stderr"
        },
        {
          "output_type": "stream",
          "text": [
            "Epoch: 164 |Training loss: 0.8490\n",
            "Epoch: 165 |Training loss: 0.8413\n"
          ],
          "name": "stdout"
        },
        {
          "output_type": "stream",
          "text": [
            "\n",
            "\n",
            "\n",
            "training:  33%|███▎      | 165/500 [27:12<54:49,  9.82s/it]\u001b[A\u001b[A\u001b[A"
          ],
          "name": "stderr"
        },
        {
          "output_type": "stream",
          "text": [
            "Epoch: 166 |Training loss: 0.8314\n"
          ],
          "name": "stdout"
        },
        {
          "output_type": "stream",
          "text": [
            "\n",
            "\n",
            "\n",
            "training:  34%|███▎      | 168/500 [27:28<54:15,  9.81s/it]\u001b[A\u001b[A\u001b[A"
          ],
          "name": "stderr"
        },
        {
          "output_type": "stream",
          "text": [
            "Epoch: 167 |Training loss: 0.8377\n",
            "Epoch: 168 |Training loss: 0.8296\n"
          ],
          "name": "stdout"
        },
        {
          "output_type": "stream",
          "text": [
            "\n",
            "\n",
            "\n",
            "training:  34%|███▎      | 168/500 [27:42<54:15,  9.81s/it]\u001b[A\u001b[A\u001b[A"
          ],
          "name": "stderr"
        },
        {
          "output_type": "stream",
          "text": [
            "Epoch: 169 |Training loss: 0.8265\n"
          ],
          "name": "stdout"
        },
        {
          "output_type": "stream",
          "text": [
            "\n",
            "\n",
            "\n",
            "training:  34%|███▍      | 171/500 [27:57<53:53,  9.83s/it]\u001b[A\u001b[A\u001b[A"
          ],
          "name": "stderr"
        },
        {
          "output_type": "stream",
          "text": [
            "Epoch: 170 |Training loss: 0.8099\n",
            "Epoch: 171 |Training loss: 0.8453\n"
          ],
          "name": "stdout"
        },
        {
          "output_type": "stream",
          "text": [
            "\n",
            "\n",
            "\n",
            "training:  34%|███▍      | 171/500 [28:12<53:53,  9.83s/it]\u001b[A\u001b[A\u001b[A"
          ],
          "name": "stderr"
        },
        {
          "output_type": "stream",
          "text": [
            "Epoch: 172 |Training loss: 0.8306\n"
          ],
          "name": "stdout"
        },
        {
          "output_type": "stream",
          "text": [
            "\n",
            "\n",
            "\n",
            "training:  35%|███▍      | 174/500 [28:27<53:20,  9.82s/it]\u001b[A\u001b[A\u001b[A"
          ],
          "name": "stderr"
        },
        {
          "output_type": "stream",
          "text": [
            "Epoch: 173 |Training loss: 0.8234\n",
            "Epoch: 174 |Training loss: 0.8134\n"
          ],
          "name": "stdout"
        },
        {
          "output_type": "stream",
          "text": [
            "\n",
            "\n",
            "\n",
            "training:  35%|███▍      | 174/500 [28:42<53:20,  9.82s/it]\u001b[A\u001b[A\u001b[A"
          ],
          "name": "stderr"
        },
        {
          "output_type": "stream",
          "text": [
            "Epoch: 175 |Training loss: 0.8167\n"
          ],
          "name": "stdout"
        },
        {
          "output_type": "stream",
          "text": [
            "\n",
            "\n",
            "\n",
            "training:  35%|███▌      | 177/500 [28:56<52:45,  9.80s/it]\u001b[A\u001b[A\u001b[A"
          ],
          "name": "stderr"
        },
        {
          "output_type": "stream",
          "text": [
            "Epoch: 176 |Training loss: 0.8145\n",
            "Epoch: 177 |Training loss: 0.8034\n"
          ],
          "name": "stdout"
        },
        {
          "output_type": "stream",
          "text": [
            "\n",
            "\n",
            "\n",
            "training:  35%|███▌      | 177/500 [29:12<52:45,  9.80s/it]\u001b[A\u001b[A\u001b[A"
          ],
          "name": "stderr"
        },
        {
          "output_type": "stream",
          "text": [
            "Epoch: 178 |Training loss: 0.7935\n"
          ],
          "name": "stdout"
        },
        {
          "output_type": "stream",
          "text": [
            "\n",
            "\n",
            "\n",
            "training:  36%|███▌      | 180/500 [29:25<52:14,  9.80s/it]\u001b[A\u001b[A\u001b[A"
          ],
          "name": "stderr"
        },
        {
          "output_type": "stream",
          "text": [
            "Epoch: 179 |Training loss: 0.8177\n",
            "Epoch: 180 |Training loss: 0.8091\n"
          ],
          "name": "stdout"
        },
        {
          "output_type": "stream",
          "text": [
            "\n",
            "\n",
            "\n",
            "training:  36%|███▌      | 180/500 [29:42<52:14,  9.80s/it]\u001b[A\u001b[A\u001b[A"
          ],
          "name": "stderr"
        },
        {
          "output_type": "stream",
          "text": [
            "Epoch: 181 |Training loss: 0.8078\n"
          ],
          "name": "stdout"
        },
        {
          "output_type": "stream",
          "text": [
            "\n",
            "\n",
            "\n",
            "training:  37%|███▋      | 183/500 [29:55<51:54,  9.82s/it]\u001b[A\u001b[A\u001b[A"
          ],
          "name": "stderr"
        },
        {
          "output_type": "stream",
          "text": [
            "Epoch: 182 |Training loss: 0.8197\n",
            "Epoch: 183 |Training loss: 0.7996\n"
          ],
          "name": "stdout"
        },
        {
          "output_type": "stream",
          "text": [
            "\n",
            "\n",
            "\n",
            "training:  37%|███▋      | 183/500 [30:12<51:54,  9.82s/it]\u001b[A\u001b[A\u001b[A"
          ],
          "name": "stderr"
        },
        {
          "output_type": "stream",
          "text": [
            "Epoch: 184 |Training loss: 0.7873\n"
          ],
          "name": "stdout"
        },
        {
          "output_type": "stream",
          "text": [
            "\n",
            "\n",
            "\n",
            "training:  37%|███▋      | 186/500 [30:24<51:19,  9.81s/it]\u001b[A\u001b[A\u001b[A"
          ],
          "name": "stderr"
        },
        {
          "output_type": "stream",
          "text": [
            "Epoch: 185 |Training loss: 0.8015\n",
            "Epoch: 186 |Training loss: 0.7779\n"
          ],
          "name": "stdout"
        },
        {
          "output_type": "stream",
          "text": [
            "\n",
            "\n",
            "\n",
            "training:  37%|███▋      | 186/500 [30:42<51:19,  9.81s/it]\u001b[A\u001b[A\u001b[A"
          ],
          "name": "stderr"
        },
        {
          "output_type": "stream",
          "text": [
            "Epoch: 187 |Training loss: 0.8191\n"
          ],
          "name": "stdout"
        },
        {
          "output_type": "stream",
          "text": [
            "\n",
            "\n",
            "\n",
            "training:  38%|███▊      | 189/500 [30:54<50:45,  9.79s/it]\u001b[A\u001b[A\u001b[A"
          ],
          "name": "stderr"
        },
        {
          "output_type": "stream",
          "text": [
            "Epoch: 188 |Training loss: 0.8175\n",
            "Epoch: 189 |Training loss: 0.7992\n"
          ],
          "name": "stdout"
        },
        {
          "output_type": "stream",
          "text": [
            "\n",
            "\n",
            "\n",
            "training:  38%|███▊      | 189/500 [31:12<50:45,  9.79s/it]\u001b[A\u001b[A\u001b[A"
          ],
          "name": "stderr"
        },
        {
          "output_type": "stream",
          "text": [
            "Epoch: 190 |Training loss: 0.7759\n"
          ],
          "name": "stdout"
        },
        {
          "output_type": "stream",
          "text": [
            "\n",
            "\n",
            "\n",
            "training:  38%|███▊      | 192/500 [31:23<50:22,  9.81s/it]\u001b[A\u001b[A\u001b[A"
          ],
          "name": "stderr"
        },
        {
          "output_type": "stream",
          "text": [
            "Epoch: 191 |Training loss: 0.7840\n",
            "Epoch: 192 |Training loss: 0.7707\n"
          ],
          "name": "stdout"
        },
        {
          "output_type": "stream",
          "text": [
            "\n",
            "\n",
            "\n",
            "training:  38%|███▊      | 192/500 [31:42<50:22,  9.81s/it]\u001b[A\u001b[A\u001b[A"
          ],
          "name": "stderr"
        },
        {
          "output_type": "stream",
          "text": [
            "Epoch: 193 |Training loss: 0.7807\n"
          ],
          "name": "stdout"
        },
        {
          "output_type": "stream",
          "text": [
            "\n",
            "\n",
            "\n",
            "training:  39%|███▉      | 195/500 [31:53<49:49,  9.80s/it]\u001b[A\u001b[A\u001b[A"
          ],
          "name": "stderr"
        },
        {
          "output_type": "stream",
          "text": [
            "Epoch: 194 |Training loss: 0.7616\n",
            "Epoch: 195 |Training loss: 0.7717\n"
          ],
          "name": "stdout"
        },
        {
          "output_type": "stream",
          "text": [
            "\n",
            "\n",
            "\n",
            "training:  39%|███▉      | 195/500 [32:12<49:49,  9.80s/it]\u001b[A\u001b[A\u001b[A"
          ],
          "name": "stderr"
        },
        {
          "output_type": "stream",
          "text": [
            "Epoch: 196 |Training loss: 0.7709\n"
          ],
          "name": "stdout"
        },
        {
          "output_type": "stream",
          "text": [
            "\n",
            "\n",
            "\n",
            "training:  40%|███▉      | 198/500 [32:22<49:16,  9.79s/it]\u001b[A\u001b[A\u001b[A"
          ],
          "name": "stderr"
        },
        {
          "output_type": "stream",
          "text": [
            "Epoch: 197 |Training loss: 0.7551\n",
            "Epoch: 198 |Training loss: 0.7550\n"
          ],
          "name": "stdout"
        },
        {
          "output_type": "stream",
          "text": [
            "\n",
            "\n",
            "\n",
            "training:  40%|███▉      | 198/500 [32:32<49:16,  9.79s/it]\u001b[A\u001b[A\u001b[A"
          ],
          "name": "stderr"
        },
        {
          "output_type": "stream",
          "text": [
            "Epoch: 199 |Training loss: 0.7424\n"
          ],
          "name": "stdout"
        },
        {
          "output_type": "stream",
          "text": [
            "\n",
            "\n",
            "\n",
            "training:  40%|████      | 201/500 [32:51<48:53,  9.81s/it]\u001b[A\u001b[A\u001b[A"
          ],
          "name": "stderr"
        },
        {
          "output_type": "stream",
          "text": [
            "Epoch: 200 |Training loss: 0.7395\n",
            "Epoch: 201 |Training loss: 0.7329\n"
          ],
          "name": "stdout"
        },
        {
          "output_type": "stream",
          "text": [
            "\n",
            "\n",
            "\n",
            "training:  40%|████      | 201/500 [33:02<48:53,  9.81s/it]\u001b[A\u001b[A\u001b[A"
          ],
          "name": "stderr"
        },
        {
          "output_type": "stream",
          "text": [
            "Epoch: 202 |Training loss: 0.7256\n"
          ],
          "name": "stdout"
        },
        {
          "output_type": "stream",
          "text": [
            "\n",
            "\n",
            "\n",
            "training:  41%|████      | 204/500 [33:21<48:21,  9.80s/it]\u001b[A\u001b[A\u001b[A"
          ],
          "name": "stderr"
        },
        {
          "output_type": "stream",
          "text": [
            "Epoch: 203 |Training loss: 0.7224\n",
            "Epoch: 204 |Training loss: 0.7196\n"
          ],
          "name": "stdout"
        },
        {
          "output_type": "stream",
          "text": [
            "\n",
            "\n",
            "\n",
            "training:  41%|████      | 204/500 [33:32<48:21,  9.80s/it]\u001b[A\u001b[A\u001b[A"
          ],
          "name": "stderr"
        },
        {
          "output_type": "stream",
          "text": [
            "Epoch: 205 |Training loss: 0.7089\n"
          ],
          "name": "stdout"
        },
        {
          "output_type": "stream",
          "text": [
            "\n",
            "\n",
            "\n",
            "training:  41%|████▏     | 207/500 [33:50<47:49,  9.80s/it]\u001b[A\u001b[A\u001b[A"
          ],
          "name": "stderr"
        },
        {
          "output_type": "stream",
          "text": [
            "Epoch: 206 |Training loss: 0.7118\n",
            "Epoch: 207 |Training loss: 0.7075\n"
          ],
          "name": "stdout"
        },
        {
          "output_type": "stream",
          "text": [
            "\n",
            "\n",
            "\n",
            "training:  41%|████▏     | 207/500 [34:02<47:49,  9.80s/it]\u001b[A\u001b[A\u001b[A"
          ],
          "name": "stderr"
        },
        {
          "output_type": "stream",
          "text": [
            "Epoch: 208 |Training loss: 0.7033\n"
          ],
          "name": "stdout"
        },
        {
          "output_type": "stream",
          "text": [
            "\n",
            "\n",
            "\n",
            "training:  42%|████▏     | 210/500 [34:19<47:18,  9.79s/it]\u001b[A\u001b[A\u001b[A"
          ],
          "name": "stderr"
        },
        {
          "output_type": "stream",
          "text": [
            "Epoch: 209 |Training loss: 0.6903\n",
            "Epoch: 210 |Training loss: 0.6975\n"
          ],
          "name": "stdout"
        },
        {
          "output_type": "stream",
          "text": [
            "\n",
            "\n",
            "\n",
            "training:  42%|████▏     | 210/500 [34:32<47:18,  9.79s/it]\u001b[A\u001b[A\u001b[A"
          ],
          "name": "stderr"
        },
        {
          "output_type": "stream",
          "text": [
            "Epoch: 211 |Training loss: 0.7025\n"
          ],
          "name": "stdout"
        },
        {
          "output_type": "stream",
          "text": [
            "\n",
            "\n",
            "\n",
            "training:  43%|████▎     | 213/500 [34:49<46:58,  9.82s/it]\u001b[A\u001b[A\u001b[A"
          ],
          "name": "stderr"
        },
        {
          "output_type": "stream",
          "text": [
            "Epoch: 212 |Training loss: 0.6833\n",
            "Epoch: 213 |Training loss: 0.7110\n"
          ],
          "name": "stdout"
        },
        {
          "output_type": "stream",
          "text": [
            "\n",
            "\n",
            "\n",
            "training:  43%|████▎     | 213/500 [35:02<46:58,  9.82s/it]\u001b[A\u001b[A\u001b[A"
          ],
          "name": "stderr"
        },
        {
          "output_type": "stream",
          "text": [
            "Epoch: 214 |Training loss: 0.6926\n"
          ],
          "name": "stdout"
        },
        {
          "output_type": "stream",
          "text": [
            "\n",
            "\n",
            "\n",
            "training:  43%|████▎     | 216/500 [35:18<46:25,  9.81s/it]\u001b[A\u001b[A\u001b[A"
          ],
          "name": "stderr"
        },
        {
          "output_type": "stream",
          "text": [
            "Epoch: 215 |Training loss: 0.7004\n",
            "Epoch: 216 |Training loss: 0.6993\n"
          ],
          "name": "stdout"
        },
        {
          "output_type": "stream",
          "text": [
            "\n",
            "\n",
            "\n",
            "training:  43%|████▎     | 216/500 [35:32<46:25,  9.81s/it]\u001b[A\u001b[A\u001b[A"
          ],
          "name": "stderr"
        },
        {
          "output_type": "stream",
          "text": [
            "Epoch: 217 |Training loss: 0.6820\n"
          ],
          "name": "stdout"
        },
        {
          "output_type": "stream",
          "text": [
            "\n",
            "\n",
            "\n",
            "training:  44%|████▍     | 219/500 [35:48<45:58,  9.82s/it]\u001b[A\u001b[A\u001b[A"
          ],
          "name": "stderr"
        },
        {
          "output_type": "stream",
          "text": [
            "Epoch: 218 |Training loss: 0.6787\n",
            "Epoch: 219 |Training loss: 0.6790\n"
          ],
          "name": "stdout"
        },
        {
          "output_type": "stream",
          "text": [
            "\n",
            "\n",
            "\n",
            "training:  44%|████▍     | 219/500 [36:02<45:58,  9.82s/it]\u001b[A\u001b[A\u001b[A"
          ],
          "name": "stderr"
        },
        {
          "output_type": "stream",
          "text": [
            "Epoch: 220 |Training loss: 0.6672\n"
          ],
          "name": "stdout"
        },
        {
          "output_type": "stream",
          "text": [
            "\n",
            "\n",
            "\n",
            "training:  44%|████▍     | 222/500 [36:18<45:34,  9.84s/it]\u001b[A\u001b[A\u001b[A"
          ],
          "name": "stderr"
        },
        {
          "output_type": "stream",
          "text": [
            "Epoch: 221 |Training loss: 0.6667\n",
            "Epoch: 222 |Training loss: 0.6554\n"
          ],
          "name": "stdout"
        },
        {
          "output_type": "stream",
          "text": [
            "\n",
            "\n",
            "\n",
            "training:  44%|████▍     | 222/500 [36:32<45:34,  9.84s/it]\u001b[A\u001b[A\u001b[A"
          ],
          "name": "stderr"
        },
        {
          "output_type": "stream",
          "text": [
            "Epoch: 223 |Training loss: 0.6661\n"
          ],
          "name": "stdout"
        },
        {
          "output_type": "stream",
          "text": [
            "\n",
            "\n",
            "\n",
            "training:  45%|████▌     | 225/500 [36:47<45:00,  9.82s/it]\u001b[A\u001b[A\u001b[A"
          ],
          "name": "stderr"
        },
        {
          "output_type": "stream",
          "text": [
            "Epoch: 224 |Training loss: 0.6627\n",
            "Epoch: 225 |Training loss: 0.6647\n"
          ],
          "name": "stdout"
        },
        {
          "output_type": "stream",
          "text": [
            "\n",
            "\n",
            "\n",
            "training:  45%|████▌     | 225/500 [37:02<45:00,  9.82s/it]\u001b[A\u001b[A\u001b[A"
          ],
          "name": "stderr"
        },
        {
          "output_type": "stream",
          "text": [
            "Epoch: 226 |Training loss: 0.6700\n"
          ],
          "name": "stdout"
        },
        {
          "output_type": "stream",
          "text": [
            "\n",
            "\n",
            "\n",
            "training:  46%|████▌     | 228/500 [37:16<44:27,  9.81s/it]\u001b[A\u001b[A\u001b[A"
          ],
          "name": "stderr"
        },
        {
          "output_type": "stream",
          "text": [
            "Epoch: 227 |Training loss: 0.6432\n",
            "Epoch: 228 |Training loss: 0.6624\n"
          ],
          "name": "stdout"
        },
        {
          "output_type": "stream",
          "text": [
            "\n",
            "\n",
            "\n",
            "training:  46%|████▌     | 228/500 [37:32<44:27,  9.81s/it]\u001b[A\u001b[A\u001b[A"
          ],
          "name": "stderr"
        },
        {
          "output_type": "stream",
          "text": [
            "Epoch: 229 |Training loss: 0.6488\n"
          ],
          "name": "stdout"
        },
        {
          "output_type": "stream",
          "text": [
            "\n",
            "\n",
            "\n",
            "training:  46%|████▌     | 231/500 [37:46<44:02,  9.82s/it]\u001b[A\u001b[A\u001b[A"
          ],
          "name": "stderr"
        },
        {
          "output_type": "stream",
          "text": [
            "Epoch: 230 |Training loss: 0.6507\n",
            "Epoch: 231 |Training loss: 0.6468\n"
          ],
          "name": "stdout"
        },
        {
          "output_type": "stream",
          "text": [
            "\n",
            "\n",
            "\n",
            "training:  46%|████▌     | 231/500 [38:02<44:02,  9.82s/it]\u001b[A\u001b[A\u001b[A"
          ],
          "name": "stderr"
        },
        {
          "output_type": "stream",
          "text": [
            "Epoch: 232 |Training loss: 0.6384\n"
          ],
          "name": "stdout"
        },
        {
          "output_type": "stream",
          "text": [
            "\n",
            "\n",
            "\n",
            "training:  47%|████▋     | 234/500 [38:15<43:30,  9.82s/it]\u001b[A\u001b[A\u001b[A"
          ],
          "name": "stderr"
        },
        {
          "output_type": "stream",
          "text": [
            "Epoch: 233 |Training loss: 0.6340\n",
            "Epoch: 234 |Training loss: 0.6221\n"
          ],
          "name": "stdout"
        },
        {
          "output_type": "stream",
          "text": [
            "\n",
            "\n",
            "\n",
            "training:  47%|████▋     | 234/500 [38:32<43:30,  9.82s/it]\u001b[A\u001b[A\u001b[A"
          ],
          "name": "stderr"
        },
        {
          "output_type": "stream",
          "text": [
            "Epoch: 235 |Training loss: 0.6469\n"
          ],
          "name": "stdout"
        },
        {
          "output_type": "stream",
          "text": [
            "\n",
            "\n",
            "\n",
            "training:  47%|████▋     | 237/500 [38:45<42:58,  9.80s/it]\u001b[A\u001b[A\u001b[A"
          ],
          "name": "stderr"
        },
        {
          "output_type": "stream",
          "text": [
            "Epoch: 236 |Training loss: 0.6352\n",
            "Epoch: 237 |Training loss: 0.6439\n"
          ],
          "name": "stdout"
        },
        {
          "output_type": "stream",
          "text": [
            "\n",
            "\n",
            "\n",
            "training:  47%|████▋     | 237/500 [39:02<42:58,  9.80s/it]\u001b[A\u001b[A\u001b[A"
          ],
          "name": "stderr"
        },
        {
          "output_type": "stream",
          "text": [
            "Epoch: 238 |Training loss: 0.6442\n"
          ],
          "name": "stdout"
        },
        {
          "output_type": "stream",
          "text": [
            "\n",
            "\n",
            "\n",
            "training:  48%|████▊     | 240/500 [39:14<42:27,  9.80s/it]\u001b[A\u001b[A\u001b[A"
          ],
          "name": "stderr"
        },
        {
          "output_type": "stream",
          "text": [
            "Epoch: 239 |Training loss: 0.6313\n",
            "Epoch: 240 |Training loss: 0.6414\n"
          ],
          "name": "stdout"
        },
        {
          "output_type": "stream",
          "text": [
            "\n",
            "\n",
            "\n",
            "training:  48%|████▊     | 240/500 [39:32<42:27,  9.80s/it]\u001b[A\u001b[A\u001b[A"
          ],
          "name": "stderr"
        },
        {
          "output_type": "stream",
          "text": [
            "Epoch: 241 |Training loss: 0.6298\n"
          ],
          "name": "stdout"
        },
        {
          "output_type": "stream",
          "text": [
            "\n",
            "\n",
            "\n",
            "training:  49%|████▊     | 243/500 [39:44<42:07,  9.84s/it]\u001b[A\u001b[A\u001b[A"
          ],
          "name": "stderr"
        },
        {
          "output_type": "stream",
          "text": [
            "Epoch: 242 |Training loss: 0.6305\n",
            "Epoch: 243 |Training loss: 0.6222\n"
          ],
          "name": "stdout"
        },
        {
          "output_type": "stream",
          "text": [
            "\n",
            "\n",
            "\n",
            "training:  49%|████▊     | 243/500 [40:02<42:07,  9.84s/it]\u001b[A\u001b[A\u001b[A"
          ],
          "name": "stderr"
        },
        {
          "output_type": "stream",
          "text": [
            "Epoch: 244 |Training loss: 0.6226\n"
          ],
          "name": "stdout"
        },
        {
          "output_type": "stream",
          "text": [
            "\n",
            "\n",
            "\n",
            "training:  49%|████▉     | 246/500 [40:13<41:34,  9.82s/it]\u001b[A\u001b[A\u001b[A"
          ],
          "name": "stderr"
        },
        {
          "output_type": "stream",
          "text": [
            "Epoch: 245 |Training loss: 0.6110\n",
            "Epoch: 246 |Training loss: 0.6215\n"
          ],
          "name": "stdout"
        },
        {
          "output_type": "stream",
          "text": [
            "\n",
            "\n",
            "\n",
            "training:  49%|████▉     | 246/500 [40:32<41:34,  9.82s/it]\u001b[A\u001b[A\u001b[A"
          ],
          "name": "stderr"
        },
        {
          "output_type": "stream",
          "text": [
            "Epoch: 247 |Training loss: 0.6036\n"
          ],
          "name": "stdout"
        },
        {
          "output_type": "stream",
          "text": [
            "\n",
            "\n",
            "\n",
            "training:  50%|████▉     | 249/500 [40:42<41:02,  9.81s/it]\u001b[A\u001b[A\u001b[A"
          ],
          "name": "stderr"
        },
        {
          "output_type": "stream",
          "text": [
            "Epoch: 248 |Training loss: 0.6263\n",
            "Epoch: 249 |Training loss: 0.6114\n"
          ],
          "name": "stdout"
        },
        {
          "output_type": "stream",
          "text": [
            "\n",
            "\n",
            "\n",
            "training:  50%|████▉     | 249/500 [40:52<41:02,  9.81s/it]\u001b[A\u001b[A\u001b[A"
          ],
          "name": "stderr"
        },
        {
          "output_type": "stream",
          "text": [
            "Epoch: 250 |Training loss: 0.6153\n"
          ],
          "name": "stdout"
        },
        {
          "output_type": "stream",
          "text": [
            "\n",
            "\n",
            "\n",
            "training:  50%|█████     | 252/500 [41:12<40:39,  9.84s/it]\u001b[A\u001b[A\u001b[A"
          ],
          "name": "stderr"
        },
        {
          "output_type": "stream",
          "text": [
            "Epoch: 251 |Training loss: 0.6201\n",
            "Epoch: 252 |Training loss: 0.5927\n"
          ],
          "name": "stdout"
        },
        {
          "output_type": "stream",
          "text": [
            "\n",
            "\n",
            "\n",
            "training:  50%|█████     | 252/500 [41:22<40:39,  9.84s/it]\u001b[A\u001b[A\u001b[A"
          ],
          "name": "stderr"
        },
        {
          "output_type": "stream",
          "text": [
            "Epoch: 253 |Training loss: 0.6143\n"
          ],
          "name": "stdout"
        },
        {
          "output_type": "stream",
          "text": [
            "\n",
            "\n",
            "\n",
            "training:  51%|█████     | 255/500 [41:41<40:05,  9.82s/it]\u001b[A\u001b[A\u001b[A"
          ],
          "name": "stderr"
        },
        {
          "output_type": "stream",
          "text": [
            "Epoch: 254 |Training loss: 0.6060\n",
            "Epoch: 255 |Training loss: 0.5962\n"
          ],
          "name": "stdout"
        },
        {
          "output_type": "stream",
          "text": [
            "\n",
            "\n",
            "\n",
            "training:  51%|█████     | 255/500 [41:52<40:05,  9.82s/it]\u001b[A\u001b[A\u001b[A"
          ],
          "name": "stderr"
        },
        {
          "output_type": "stream",
          "text": [
            "Epoch: 256 |Training loss: 0.5979\n"
          ],
          "name": "stdout"
        },
        {
          "output_type": "stream",
          "text": [
            "\n",
            "\n",
            "\n",
            "training:  52%|█████▏    | 258/500 [42:11<39:33,  9.81s/it]\u001b[A\u001b[A\u001b[A"
          ],
          "name": "stderr"
        },
        {
          "output_type": "stream",
          "text": [
            "Epoch: 257 |Training loss: 0.5886\n",
            "Epoch: 258 |Training loss: 0.5878\n"
          ],
          "name": "stdout"
        },
        {
          "output_type": "stream",
          "text": [
            "\n",
            "\n",
            "\n",
            "training:  52%|█████▏    | 258/500 [42:22<39:33,  9.81s/it]\u001b[A\u001b[A\u001b[A"
          ],
          "name": "stderr"
        },
        {
          "output_type": "stream",
          "text": [
            "Epoch: 259 |Training loss: 0.5815\n"
          ],
          "name": "stdout"
        },
        {
          "output_type": "stream",
          "text": [
            "\n",
            "\n",
            "\n",
            "training:  52%|█████▏    | 261/500 [42:40<39:08,  9.83s/it]\u001b[A\u001b[A\u001b[A"
          ],
          "name": "stderr"
        },
        {
          "output_type": "stream",
          "text": [
            "Epoch: 260 |Training loss: 0.5808\n",
            "Epoch: 261 |Training loss: 0.5713\n"
          ],
          "name": "stdout"
        },
        {
          "output_type": "stream",
          "text": [
            "\n",
            "\n",
            "\n",
            "training:  52%|█████▏    | 261/500 [42:52<39:08,  9.83s/it]\u001b[A\u001b[A\u001b[A"
          ],
          "name": "stderr"
        },
        {
          "output_type": "stream",
          "text": [
            "Epoch: 262 |Training loss: 0.5786\n"
          ],
          "name": "stdout"
        },
        {
          "output_type": "stream",
          "text": [
            "\n",
            "\n",
            "\n",
            "training:  53%|█████▎    | 264/500 [43:10<38:36,  9.81s/it]\u001b[A\u001b[A\u001b[A"
          ],
          "name": "stderr"
        },
        {
          "output_type": "stream",
          "text": [
            "Epoch: 263 |Training loss: 0.5713\n",
            "Epoch: 264 |Training loss: 0.5642\n"
          ],
          "name": "stdout"
        },
        {
          "output_type": "stream",
          "text": [
            "\n",
            "\n",
            "\n",
            "training:  53%|█████▎    | 264/500 [43:23<38:36,  9.81s/it]\u001b[A\u001b[A\u001b[A"
          ],
          "name": "stderr"
        },
        {
          "output_type": "stream",
          "text": [
            "Epoch: 265 |Training loss: 0.5865\n"
          ],
          "name": "stdout"
        },
        {
          "output_type": "stream",
          "text": [
            "\n",
            "\n",
            "\n",
            "training:  53%|█████▎    | 267/500 [43:39<38:03,  9.80s/it]\u001b[A\u001b[A\u001b[A"
          ],
          "name": "stderr"
        },
        {
          "output_type": "stream",
          "text": [
            "Epoch: 266 |Training loss: 0.5772\n",
            "Epoch: 267 |Training loss: 0.5633\n"
          ],
          "name": "stdout"
        },
        {
          "output_type": "stream",
          "text": [
            "\n",
            "\n",
            "\n",
            "training:  53%|█████▎    | 267/500 [43:53<38:03,  9.80s/it]\u001b[A\u001b[A\u001b[A"
          ],
          "name": "stderr"
        },
        {
          "output_type": "stream",
          "text": [
            "Epoch: 268 |Training loss: 0.5759\n"
          ],
          "name": "stdout"
        },
        {
          "output_type": "stream",
          "text": [
            "\n",
            "\n",
            "\n",
            "training:  54%|█████▍    | 270/500 [44:08<37:32,  9.79s/it]\u001b[A\u001b[A\u001b[A"
          ],
          "name": "stderr"
        },
        {
          "output_type": "stream",
          "text": [
            "Epoch: 269 |Training loss: 0.5826\n",
            "Epoch: 270 |Training loss: 0.5795\n"
          ],
          "name": "stdout"
        },
        {
          "output_type": "stream",
          "text": [
            "\n",
            "\n",
            "\n",
            "training:  54%|█████▍    | 270/500 [44:23<37:32,  9.79s/it]\u001b[A\u001b[A\u001b[A"
          ],
          "name": "stderr"
        },
        {
          "output_type": "stream",
          "text": [
            "Epoch: 271 |Training loss: 0.5590\n"
          ],
          "name": "stdout"
        },
        {
          "output_type": "stream",
          "text": [
            "\n",
            "\n",
            "\n",
            "training:  55%|█████▍    | 273/500 [44:38<37:09,  9.82s/it]\u001b[A\u001b[A\u001b[A"
          ],
          "name": "stderr"
        },
        {
          "output_type": "stream",
          "text": [
            "Epoch: 272 |Training loss: 0.5777\n",
            "Epoch: 273 |Training loss: 0.5575\n"
          ],
          "name": "stdout"
        },
        {
          "output_type": "stream",
          "text": [
            "\n",
            "\n",
            "\n",
            "training:  55%|█████▍    | 273/500 [44:53<37:09,  9.82s/it]\u001b[A\u001b[A\u001b[A"
          ],
          "name": "stderr"
        },
        {
          "output_type": "stream",
          "text": [
            "Epoch: 274 |Training loss: 0.5876\n"
          ],
          "name": "stdout"
        },
        {
          "output_type": "stream",
          "text": [
            "\n",
            "\n",
            "\n",
            "training:  55%|█████▌    | 276/500 [45:07<36:37,  9.81s/it]\u001b[A\u001b[A\u001b[A"
          ],
          "name": "stderr"
        },
        {
          "output_type": "stream",
          "text": [
            "Epoch: 275 |Training loss: 0.5789\n",
            "Epoch: 276 |Training loss: 0.5769\n"
          ],
          "name": "stdout"
        },
        {
          "output_type": "stream",
          "text": [
            "\n",
            "\n",
            "\n",
            "training:  55%|█████▌    | 276/500 [45:23<36:37,  9.81s/it]\u001b[A\u001b[A\u001b[A"
          ],
          "name": "stderr"
        },
        {
          "output_type": "stream",
          "text": [
            "Epoch: 277 |Training loss: 0.5615\n"
          ],
          "name": "stdout"
        },
        {
          "output_type": "stream",
          "text": [
            "\n",
            "\n",
            "\n",
            "training:  56%|█████▌    | 279/500 [45:37<36:05,  9.80s/it]\u001b[A\u001b[A\u001b[A"
          ],
          "name": "stderr"
        },
        {
          "output_type": "stream",
          "text": [
            "Epoch: 278 |Training loss: 0.5692\n",
            "Epoch: 279 |Training loss: 0.5452\n"
          ],
          "name": "stdout"
        },
        {
          "output_type": "stream",
          "text": [
            "\n",
            "\n",
            "\n",
            "training:  56%|█████▌    | 279/500 [45:53<36:05,  9.80s/it]\u001b[A\u001b[A\u001b[A"
          ],
          "name": "stderr"
        },
        {
          "output_type": "stream",
          "text": [
            "Epoch: 280 |Training loss: 0.5522\n"
          ],
          "name": "stdout"
        },
        {
          "output_type": "stream",
          "text": [
            "\n",
            "\n",
            "\n",
            "training:  56%|█████▋    | 282/500 [46:06<35:42,  9.83s/it]\u001b[A\u001b[A\u001b[A"
          ],
          "name": "stderr"
        },
        {
          "output_type": "stream",
          "text": [
            "Epoch: 281 |Training loss: 0.5407\n",
            "Epoch: 282 |Training loss: 0.5481\n"
          ],
          "name": "stdout"
        },
        {
          "output_type": "stream",
          "text": [
            "\n",
            "\n",
            "\n",
            "training:  56%|█████▋    | 282/500 [46:23<35:42,  9.83s/it]\u001b[A\u001b[A\u001b[A"
          ],
          "name": "stderr"
        },
        {
          "output_type": "stream",
          "text": [
            "Epoch: 283 |Training loss: 0.5383\n"
          ],
          "name": "stdout"
        },
        {
          "output_type": "stream",
          "text": [
            "\n",
            "\n",
            "\n",
            "training:  57%|█████▋    | 285/500 [46:36<35:10,  9.81s/it]\u001b[A\u001b[A\u001b[A"
          ],
          "name": "stderr"
        },
        {
          "output_type": "stream",
          "text": [
            "Epoch: 284 |Training loss: 0.5418\n",
            "Epoch: 285 |Training loss: 0.5372\n"
          ],
          "name": "stdout"
        },
        {
          "output_type": "stream",
          "text": [
            "\n",
            "\n",
            "\n",
            "training:  57%|█████▋    | 285/500 [46:53<35:10,  9.81s/it]\u001b[A\u001b[A\u001b[A"
          ],
          "name": "stderr"
        },
        {
          "output_type": "stream",
          "text": [
            "Epoch: 286 |Training loss: 0.5362\n"
          ],
          "name": "stdout"
        },
        {
          "output_type": "stream",
          "text": [
            "\n",
            "\n",
            "\n",
            "training:  58%|█████▊    | 288/500 [47:05<34:37,  9.80s/it]\u001b[A\u001b[A\u001b[A"
          ],
          "name": "stderr"
        },
        {
          "output_type": "stream",
          "text": [
            "Epoch: 287 |Training loss: 0.5299\n",
            "Epoch: 288 |Training loss: 0.5376\n"
          ],
          "name": "stdout"
        },
        {
          "output_type": "stream",
          "text": [
            "\n",
            "\n",
            "\n",
            "training:  58%|█████▊    | 288/500 [47:23<34:37,  9.80s/it]\u001b[A\u001b[A\u001b[A"
          ],
          "name": "stderr"
        },
        {
          "output_type": "stream",
          "text": [
            "Epoch: 289 |Training loss: 0.5261\n"
          ],
          "name": "stdout"
        },
        {
          "output_type": "stream",
          "text": [
            "\n",
            "\n",
            "\n",
            "training:  58%|█████▊    | 291/500 [47:35<34:12,  9.82s/it]\u001b[A\u001b[A\u001b[A"
          ],
          "name": "stderr"
        },
        {
          "output_type": "stream",
          "text": [
            "Epoch: 290 |Training loss: 0.5294\n",
            "Epoch: 291 |Training loss: 0.5335\n"
          ],
          "name": "stdout"
        },
        {
          "output_type": "stream",
          "text": [
            "\n",
            "\n",
            "\n",
            "training:  58%|█████▊    | 291/500 [47:53<34:12,  9.82s/it]\u001b[A\u001b[A\u001b[A"
          ],
          "name": "stderr"
        },
        {
          "output_type": "stream",
          "text": [
            "Epoch: 292 |Training loss: 0.5081\n"
          ],
          "name": "stdout"
        },
        {
          "output_type": "stream",
          "text": [
            "\n",
            "\n",
            "\n",
            "training:  59%|█████▉    | 294/500 [48:04<33:41,  9.81s/it]\u001b[A\u001b[A\u001b[A"
          ],
          "name": "stderr"
        },
        {
          "output_type": "stream",
          "text": [
            "Epoch: 293 |Training loss: 0.5160\n",
            "Epoch: 294 |Training loss: 0.5122\n"
          ],
          "name": "stdout"
        },
        {
          "output_type": "stream",
          "text": [
            "\n",
            "\n",
            "\n",
            "training:  59%|█████▉    | 294/500 [48:23<33:41,  9.81s/it]\u001b[A\u001b[A\u001b[A"
          ],
          "name": "stderr"
        },
        {
          "output_type": "stream",
          "text": [
            "Epoch: 295 |Training loss: 0.5097\n"
          ],
          "name": "stdout"
        },
        {
          "output_type": "stream",
          "text": [
            "\n",
            "\n",
            "\n",
            "training:  59%|█████▉    | 297/500 [48:34<33:13,  9.82s/it]\u001b[A\u001b[A\u001b[A"
          ],
          "name": "stderr"
        },
        {
          "output_type": "stream",
          "text": [
            "Epoch: 296 |Training loss: 0.4969\n",
            "Epoch: 297 |Training loss: 0.5030\n"
          ],
          "name": "stdout"
        },
        {
          "output_type": "stream",
          "text": [
            "\n",
            "\n",
            "\n",
            "training:  59%|█████▉    | 297/500 [48:53<33:13,  9.82s/it]\u001b[A\u001b[A\u001b[A"
          ],
          "name": "stderr"
        },
        {
          "output_type": "stream",
          "text": [
            "Epoch: 298 |Training loss: 0.4997\n"
          ],
          "name": "stdout"
        },
        {
          "output_type": "stream",
          "text": [
            "\n",
            "\n",
            "\n",
            "training:  60%|██████    | 300/500 [49:03<32:41,  9.81s/it]\u001b[A\u001b[A\u001b[A"
          ],
          "name": "stderr"
        },
        {
          "output_type": "stream",
          "text": [
            "Epoch: 299 |Training loss: 0.4887\n",
            "Epoch: 300 |Training loss: 0.4896\n"
          ],
          "name": "stdout"
        },
        {
          "output_type": "stream",
          "text": [
            "\n",
            "\n",
            "\n",
            "training:  60%|██████    | 300/500 [49:23<32:41,  9.81s/it]\u001b[A\u001b[A\u001b[A"
          ],
          "name": "stderr"
        },
        {
          "output_type": "stream",
          "text": [
            "Epoch: 301 |Training loss: 0.4866\n"
          ],
          "name": "stdout"
        },
        {
          "output_type": "stream",
          "text": [
            "\n",
            "\n",
            "\n",
            "training:  61%|██████    | 303/500 [49:33<32:17,  9.83s/it]\u001b[A\u001b[A\u001b[A"
          ],
          "name": "stderr"
        },
        {
          "output_type": "stream",
          "text": [
            "Epoch: 302 |Training loss: 0.4831\n",
            "Epoch: 303 |Training loss: 0.4771\n"
          ],
          "name": "stdout"
        },
        {
          "output_type": "stream",
          "text": [
            "\n",
            "\n",
            "\n",
            "training:  61%|██████    | 303/500 [49:43<32:17,  9.83s/it]\u001b[A\u001b[A\u001b[A"
          ],
          "name": "stderr"
        },
        {
          "output_type": "stream",
          "text": [
            "Epoch: 304 |Training loss: 0.4719\n"
          ],
          "name": "stdout"
        },
        {
          "output_type": "stream",
          "text": [
            "\n",
            "\n",
            "\n",
            "training:  61%|██████    | 306/500 [50:02<31:44,  9.82s/it]\u001b[A\u001b[A\u001b[A"
          ],
          "name": "stderr"
        },
        {
          "output_type": "stream",
          "text": [
            "Epoch: 305 |Training loss: 0.4745\n",
            "Epoch: 306 |Training loss: 0.4714\n"
          ],
          "name": "stdout"
        },
        {
          "output_type": "stream",
          "text": [
            "\n",
            "\n",
            "\n",
            "training:  61%|██████    | 306/500 [50:13<31:44,  9.82s/it]\u001b[A\u001b[A\u001b[A"
          ],
          "name": "stderr"
        },
        {
          "output_type": "stream",
          "text": [
            "Epoch: 307 |Training loss: 0.4706\n"
          ],
          "name": "stdout"
        },
        {
          "output_type": "stream",
          "text": [
            "\n",
            "\n",
            "\n",
            "training:  62%|██████▏   | 309/500 [50:31<31:13,  9.81s/it]\u001b[A\u001b[A\u001b[A"
          ],
          "name": "stderr"
        },
        {
          "output_type": "stream",
          "text": [
            "Epoch: 308 |Training loss: 0.4691\n",
            "Epoch: 309 |Training loss: 0.4639\n"
          ],
          "name": "stdout"
        },
        {
          "output_type": "stream",
          "text": [
            "\n",
            "\n",
            "\n",
            "training:  62%|██████▏   | 309/500 [50:43<31:13,  9.81s/it]\u001b[A\u001b[A\u001b[A"
          ],
          "name": "stderr"
        },
        {
          "output_type": "stream",
          "text": [
            "Epoch: 310 |Training loss: 0.4697\n"
          ],
          "name": "stdout"
        },
        {
          "output_type": "stream",
          "text": [
            "\n",
            "\n",
            "\n",
            "training:  62%|██████▏   | 312/500 [51:01<30:48,  9.83s/it]\u001b[A\u001b[A\u001b[A"
          ],
          "name": "stderr"
        },
        {
          "output_type": "stream",
          "text": [
            "Epoch: 311 |Training loss: 0.4741\n",
            "Epoch: 312 |Training loss: 0.4583\n"
          ],
          "name": "stdout"
        },
        {
          "output_type": "stream",
          "text": [
            "\n",
            "\n",
            "\n",
            "training:  62%|██████▏   | 312/500 [51:13<30:48,  9.83s/it]\u001b[A\u001b[A\u001b[A"
          ],
          "name": "stderr"
        },
        {
          "output_type": "stream",
          "text": [
            "Epoch: 313 |Training loss: 0.4735\n"
          ],
          "name": "stdout"
        },
        {
          "output_type": "stream",
          "text": [
            "\n",
            "\n",
            "\n",
            "training:  63%|██████▎   | 315/500 [51:30<30:16,  9.82s/it]\u001b[A\u001b[A\u001b[A"
          ],
          "name": "stderr"
        },
        {
          "output_type": "stream",
          "text": [
            "Epoch: 314 |Training loss: 0.4646\n",
            "Epoch: 315 |Training loss: 0.5256\n"
          ],
          "name": "stdout"
        },
        {
          "output_type": "stream",
          "text": [
            "\n",
            "\n",
            "\n",
            "training:  63%|██████▎   | 315/500 [51:43<30:16,  9.82s/it]\u001b[A\u001b[A\u001b[A"
          ],
          "name": "stderr"
        },
        {
          "output_type": "stream",
          "text": [
            "Epoch: 316 |Training loss: 0.5165\n"
          ],
          "name": "stdout"
        },
        {
          "output_type": "stream",
          "text": [
            "\n",
            "\n",
            "\n",
            "training:  64%|██████▎   | 318/500 [52:00<29:45,  9.81s/it]\u001b[A\u001b[A\u001b[A"
          ],
          "name": "stderr"
        },
        {
          "output_type": "stream",
          "text": [
            "Epoch: 317 |Training loss: 0.5023\n",
            "Epoch: 318 |Training loss: 0.4946\n"
          ],
          "name": "stdout"
        },
        {
          "output_type": "stream",
          "text": [
            "\n",
            "\n",
            "\n",
            "training:  64%|██████▎   | 318/500 [52:13<29:45,  9.81s/it]\u001b[A\u001b[A\u001b[A"
          ],
          "name": "stderr"
        },
        {
          "output_type": "stream",
          "text": [
            "Epoch: 319 |Training loss: 0.4894\n"
          ],
          "name": "stdout"
        },
        {
          "output_type": "stream",
          "text": [
            "\n",
            "\n",
            "\n",
            "training:  64%|██████▍   | 321/500 [52:29<29:19,  9.83s/it]\u001b[A\u001b[A\u001b[A"
          ],
          "name": "stderr"
        },
        {
          "output_type": "stream",
          "text": [
            "Epoch: 320 |Training loss: 0.4813\n",
            "Epoch: 321 |Training loss: 0.4824\n"
          ],
          "name": "stdout"
        },
        {
          "output_type": "stream",
          "text": [
            "\n",
            "\n",
            "\n",
            "training:  64%|██████▍   | 321/500 [52:43<29:19,  9.83s/it]\u001b[A\u001b[A\u001b[A"
          ],
          "name": "stderr"
        },
        {
          "output_type": "stream",
          "text": [
            "Epoch: 322 |Training loss: 0.4597\n"
          ],
          "name": "stdout"
        },
        {
          "output_type": "stream",
          "text": [
            "\n",
            "\n",
            "\n",
            "training:  65%|██████▍   | 324/500 [52:59<28:47,  9.82s/it]\u001b[A\u001b[A\u001b[A"
          ],
          "name": "stderr"
        },
        {
          "output_type": "stream",
          "text": [
            "Epoch: 323 |Training loss: 0.4738\n",
            "Epoch: 324 |Training loss: 0.4663\n"
          ],
          "name": "stdout"
        },
        {
          "output_type": "stream",
          "text": [
            "\n",
            "\n",
            "\n",
            "training:  65%|██████▍   | 324/500 [53:13<28:47,  9.82s/it]\u001b[A\u001b[A\u001b[A"
          ],
          "name": "stderr"
        },
        {
          "output_type": "stream",
          "text": [
            "Epoch: 325 |Training loss: 0.4550\n"
          ],
          "name": "stdout"
        },
        {
          "output_type": "stream",
          "text": [
            "\n",
            "\n",
            "\n",
            "training:  65%|██████▌   | 327/500 [53:28<28:15,  9.80s/it]\u001b[A\u001b[A\u001b[A"
          ],
          "name": "stderr"
        },
        {
          "output_type": "stream",
          "text": [
            "Epoch: 326 |Training loss: 0.4603\n",
            "Epoch: 327 |Training loss: 0.4424\n"
          ],
          "name": "stdout"
        },
        {
          "output_type": "stream",
          "text": [
            "\n",
            "\n",
            "\n",
            "training:  65%|██████▌   | 327/500 [53:43<28:15,  9.80s/it]\u001b[A\u001b[A\u001b[A"
          ],
          "name": "stderr"
        },
        {
          "output_type": "stream",
          "text": [
            "Epoch: 328 |Training loss: 0.4565\n"
          ],
          "name": "stdout"
        },
        {
          "output_type": "stream",
          "text": [
            "\n",
            "\n",
            "\n",
            "training:  66%|██████▌   | 330/500 [53:57<27:44,  9.79s/it]\u001b[A\u001b[A\u001b[A"
          ],
          "name": "stderr"
        },
        {
          "output_type": "stream",
          "text": [
            "Epoch: 329 |Training loss: 0.4546\n",
            "Epoch: 330 |Training loss: 0.4605\n"
          ],
          "name": "stdout"
        },
        {
          "output_type": "stream",
          "text": [
            "\n",
            "\n",
            "\n",
            "training:  66%|██████▌   | 330/500 [54:13<27:44,  9.79s/it]\u001b[A\u001b[A\u001b[A"
          ],
          "name": "stderr"
        },
        {
          "output_type": "stream",
          "text": [
            "Epoch: 331 |Training loss: 0.4510\n"
          ],
          "name": "stdout"
        },
        {
          "output_type": "stream",
          "text": [
            "\n",
            "\n",
            "\n",
            "training:  67%|██████▋   | 333/500 [54:27<27:19,  9.81s/it]\u001b[A\u001b[A\u001b[A"
          ],
          "name": "stderr"
        },
        {
          "output_type": "stream",
          "text": [
            "Epoch: 332 |Training loss: 0.4478\n",
            "Epoch: 333 |Training loss: 0.4453\n"
          ],
          "name": "stdout"
        },
        {
          "output_type": "stream",
          "text": [
            "\n",
            "\n",
            "\n",
            "training:  67%|██████▋   | 333/500 [54:43<27:19,  9.81s/it]\u001b[A\u001b[A\u001b[A"
          ],
          "name": "stderr"
        },
        {
          "output_type": "stream",
          "text": [
            "Epoch: 334 |Training loss: 0.4353\n"
          ],
          "name": "stdout"
        },
        {
          "output_type": "stream",
          "text": [
            "\n",
            "\n",
            "\n",
            "training:  67%|██████▋   | 336/500 [54:56<26:47,  9.80s/it]\u001b[A\u001b[A\u001b[A"
          ],
          "name": "stderr"
        },
        {
          "output_type": "stream",
          "text": [
            "Epoch: 335 |Training loss: 0.4436\n",
            "Epoch: 336 |Training loss: 0.4518\n"
          ],
          "name": "stdout"
        },
        {
          "output_type": "stream",
          "text": [
            "\n",
            "\n",
            "\n",
            "training:  67%|██████▋   | 336/500 [55:13<26:47,  9.80s/it]\u001b[A\u001b[A\u001b[A"
          ],
          "name": "stderr"
        },
        {
          "output_type": "stream",
          "text": [
            "Epoch: 337 |Training loss: 0.4302\n"
          ],
          "name": "stdout"
        },
        {
          "output_type": "stream",
          "text": [
            "\n",
            "\n",
            "\n",
            "training:  68%|██████▊   | 339/500 [55:25<26:16,  9.79s/it]\u001b[A\u001b[A\u001b[A"
          ],
          "name": "stderr"
        },
        {
          "output_type": "stream",
          "text": [
            "Epoch: 338 |Training loss: 0.4311\n",
            "Epoch: 339 |Training loss: 0.4314\n"
          ],
          "name": "stdout"
        },
        {
          "output_type": "stream",
          "text": [
            "\n",
            "\n",
            "\n",
            "training:  68%|██████▊   | 339/500 [55:43<26:16,  9.79s/it]\u001b[A\u001b[A\u001b[A"
          ],
          "name": "stderr"
        },
        {
          "output_type": "stream",
          "text": [
            "Epoch: 340 |Training loss: 0.4263\n"
          ],
          "name": "stdout"
        },
        {
          "output_type": "error",
          "ename": "KeyboardInterrupt",
          "evalue": "ignored",
          "traceback": [
            "\u001b[0;31m---------------------------------------------------------------------------\u001b[0m",
            "\u001b[0;31mKeyboardInterrupt\u001b[0m                         Traceback (most recent call last)",
            "\u001b[0;32m<ipython-input-24-443f43003a14>\u001b[0m in \u001b[0;36m<module>\u001b[0;34m()\u001b[0m\n\u001b[1;32m      8\u001b[0m     \u001b[0;32mfor\u001b[0m \u001b[0mmlm_loss\u001b[0m\u001b[0;34m,\u001b[0m \u001b[0maux_loss\u001b[0m\u001b[0;34m,\u001b[0m \u001b[0mis_last\u001b[0m \u001b[0;32min\u001b[0m \u001b[0mmodel\u001b[0m\u001b[0;34m(\u001b[0m\u001b[0mnext\u001b[0m\u001b[0;34m(\u001b[0m\u001b[0mcycle_train_loader\u001b[0m\u001b[0;34m)\u001b[0m\u001b[0;34m,\u001b[0m \u001b[0mmax_batch_size\u001b[0m \u001b[0;34m=\u001b[0m \u001b[0mbatch_size\u001b[0m\u001b[0;34m,\u001b[0m \u001b[0mreturn_loss\u001b[0m \u001b[0;34m=\u001b[0m \u001b[0;32mTrue\u001b[0m\u001b[0;34m)\u001b[0m\u001b[0;34m:\u001b[0m\u001b[0;34m\u001b[0m\u001b[0;34m\u001b[0m\u001b[0m\n\u001b[1;32m      9\u001b[0m         \u001b[0mloss\u001b[0m \u001b[0;34m=\u001b[0m \u001b[0mmlm_loss\u001b[0m \u001b[0;34m+\u001b[0m \u001b[0maux_loss\u001b[0m\u001b[0;34m\u001b[0m\u001b[0;34m\u001b[0m\u001b[0m\n\u001b[0;32m---> 10\u001b[0;31m         \u001b[0mloss\u001b[0m\u001b[0;34m.\u001b[0m\u001b[0mbackward\u001b[0m\u001b[0;34m(\u001b[0m\u001b[0;34m)\u001b[0m\u001b[0;34m\u001b[0m\u001b[0;34m\u001b[0m\u001b[0m\n\u001b[0m\u001b[1;32m     11\u001b[0m \u001b[0;34m\u001b[0m\u001b[0m\n\u001b[1;32m     12\u001b[0m         \u001b[0mavg_loss\u001b[0m\u001b[0;34m+=\u001b[0m\u001b[0mloss\u001b[0m\u001b[0;34m/\u001b[0m\u001b[0mnum_bathes\u001b[0m\u001b[0;34m;\u001b[0m\u001b[0;34m\u001b[0m\u001b[0;34m\u001b[0m\u001b[0m\n",
            "\u001b[0;32m/usr/local/lib/python3.6/dist-packages/torch/tensor.py\u001b[0m in \u001b[0;36mbackward\u001b[0;34m(self, gradient, retain_graph, create_graph)\u001b[0m\n\u001b[1;32m    183\u001b[0m                 \u001b[0mproducts\u001b[0m\u001b[0;34m.\u001b[0m \u001b[0mDefaults\u001b[0m \u001b[0mto\u001b[0m\u001b[0;31m \u001b[0m\u001b[0;31m`\u001b[0m\u001b[0;31m`\u001b[0m\u001b[0;32mFalse\u001b[0m\u001b[0;31m`\u001b[0m\u001b[0;31m`\u001b[0m\u001b[0;34m.\u001b[0m\u001b[0;34m\u001b[0m\u001b[0;34m\u001b[0m\u001b[0m\n\u001b[1;32m    184\u001b[0m         \"\"\"\n\u001b[0;32m--> 185\u001b[0;31m         \u001b[0mtorch\u001b[0m\u001b[0;34m.\u001b[0m\u001b[0mautograd\u001b[0m\u001b[0;34m.\u001b[0m\u001b[0mbackward\u001b[0m\u001b[0;34m(\u001b[0m\u001b[0mself\u001b[0m\u001b[0;34m,\u001b[0m \u001b[0mgradient\u001b[0m\u001b[0;34m,\u001b[0m \u001b[0mretain_graph\u001b[0m\u001b[0;34m,\u001b[0m \u001b[0mcreate_graph\u001b[0m\u001b[0;34m)\u001b[0m\u001b[0;34m\u001b[0m\u001b[0;34m\u001b[0m\u001b[0m\n\u001b[0m\u001b[1;32m    186\u001b[0m \u001b[0;34m\u001b[0m\u001b[0m\n\u001b[1;32m    187\u001b[0m     \u001b[0;32mdef\u001b[0m \u001b[0mregister_hook\u001b[0m\u001b[0;34m(\u001b[0m\u001b[0mself\u001b[0m\u001b[0;34m,\u001b[0m \u001b[0mhook\u001b[0m\u001b[0;34m)\u001b[0m\u001b[0;34m:\u001b[0m\u001b[0;34m\u001b[0m\u001b[0;34m\u001b[0m\u001b[0m\n",
            "\u001b[0;32m/usr/local/lib/python3.6/dist-packages/torch/autograd/__init__.py\u001b[0m in \u001b[0;36mbackward\u001b[0;34m(tensors, grad_tensors, retain_graph, create_graph, grad_variables)\u001b[0m\n\u001b[1;32m    125\u001b[0m     Variable._execution_engine.run_backward(\n\u001b[1;32m    126\u001b[0m         \u001b[0mtensors\u001b[0m\u001b[0;34m,\u001b[0m \u001b[0mgrad_tensors\u001b[0m\u001b[0;34m,\u001b[0m \u001b[0mretain_graph\u001b[0m\u001b[0;34m,\u001b[0m \u001b[0mcreate_graph\u001b[0m\u001b[0;34m,\u001b[0m\u001b[0;34m\u001b[0m\u001b[0;34m\u001b[0m\u001b[0m\n\u001b[0;32m--> 127\u001b[0;31m         allow_unreachable=True)  # allow_unreachable flag\n\u001b[0m\u001b[1;32m    128\u001b[0m \u001b[0;34m\u001b[0m\u001b[0m\n\u001b[1;32m    129\u001b[0m \u001b[0;34m\u001b[0m\u001b[0m\n",
            "\u001b[0;31mKeyboardInterrupt\u001b[0m: "
          ]
        }
      ]
    },
    {
      "cell_type": "markdown",
      "metadata": {
        "id": "GAgrzFyRn3uq"
      },
      "source": [
        "**Music generation**"
      ]
    },
    {
      "cell_type": "code",
      "metadata": {
        "id": "qFbSthkLUwmx"
      },
      "source": [
        "# In case we want to use previously trained weights\n",
        "weights = \"model_best.pth.tar\"\n",
        "checkpoint = torch.load(output_dir+weights)\n",
        "model.load_state_dict(checkpoint['model_state_dict'])\n",
        "optimizer.load_state_dict(checkpoint['optimizer_state_dict'])\n",
        "epoch = checkpoint['epoch']\n",
        "loss = checkpoint['loss']\n"
      ],
      "execution_count": 142,
      "outputs": []
    },
    {
      "cell_type": "code",
      "metadata": {
        "id": "6WtYEXpyoPPK"
      },
      "source": [
        "# Generate network input again\n",
        "network_input = []\n",
        "network_output = []\n",
        "for i in range(0, len(notes) - sequence_length, 1):\n",
        "  network_input.append([note_to_int[char] for char in notes[i:i + sequence_length]])\n",
        "n_patterns = len(network_input)\n",
        "network_input = np.reshape(network_input, (n_patterns, sequence_length))\n"
      ],
      "execution_count": 32,
      "outputs": []
    },
    {
      "cell_type": "markdown",
      "metadata": {
        "id": "MuUGi5rVgbJQ"
      },
      "source": [
        "The workflow now is:\n",
        "\n",
        "\n",
        "1.   Pick a **seed sequence** randomly from your list of inputs (*pattern* variable)\n",
        "2.   Pass it as input for your model to generate a new element (note or chord)\n",
        "3.   Add the new element to your final song and to your *pattern* list\n",
        "4.   Remove the first item from *pattern*\n",
        "5.   Go to step 2\n"
      ]
    },
    {
      "cell_type": "code",
      "metadata": {
        "id": "UUTEiS0NXtkl"
      },
      "source": [
        "\"\"\" Generate notes from the neural network based on a sequence of notes \"\"\"\n",
        "# pick a random sequence from the input as a starting point for the prediction\n",
        "start = np.random.randint(0, len(network_input)-1)\n",
        "int_to_note = dict((number, note) for number, note in enumerate(pitchnames))\n",
        "pattern = torch.from_numpy(network_input[start]).cuda()\n",
        "\n",
        "prediction_output = model.generate(pattern, 500)\n"
      ],
      "execution_count": 34,
      "outputs": []
    },
    {
      "cell_type": "code",
      "metadata": {
        "id": "UUlgtok68w-w",
        "outputId": "b4c2a29e-74d1-43f7-eba2-68dd178b7b6d",
        "colab": {
          "base_uri": "https://localhost:8080/"
        }
      },
      "source": [
        "result_sample=[]\n",
        "\n",
        "for i in range(500):\n",
        "  print(i)\n",
        "  result = int_to_note[prediction_output[i].item()]\n",
        "  print('\\r', 'Predicted ', i, \" \",result, end='')\n",
        "  result_sample.append(result)\n",
        "\n",
        "prediction_output=result_sample"
      ],
      "execution_count": 35,
      "outputs": [
        {
          "output_type": "stream",
          "text": [
            "0\n",
            "\r Predicted  0   E51\n",
            "\r Predicted  1   0.4.72\n",
            "\r Predicted  2   7.03\n",
            "\r Predicted  3   6.114\n",
            "\r Predicted  4   E45\n",
            "\r Predicted  5   F#36\n",
            "\r Predicted  6   B37\n",
            "\r Predicted  7   6.118\n",
            "\r Predicted  8   E49\n",
            "\r Predicted  9   F#310\n",
            "\r Predicted  10   C211\n",
            "\r Predicted  11   G512\n",
            "\r Predicted  12   D513\n",
            "\r Predicted  13   7.11.214\n",
            "\r Predicted  14   2.715\n",
            "\r Predicted  15   F#316\n",
            "\r Predicted  16   G117\n",
            "\r Predicted  17   G418\n",
            "\r Predicted  18   F#319\n",
            "\r Predicted  19   G120\n",
            "\r Predicted  20   G421\n",
            "\r Predicted  21   F#322\n",
            "\r Predicted  22   G123\n",
            "\r Predicted  23   G424\n",
            "\r Predicted  24   F#325\n",
            "\r Predicted  25   G126\n",
            "\r Predicted  26   G527\n",
            "\r Predicted  27   D528\n",
            "\r Predicted  28   2.729\n",
            "\r Predicted  29   F#330\n",
            "\r Predicted  30   G131\n",
            "\r Predicted  31   G432\n",
            "\r Predicted  32   F#333\n",
            "\r Predicted  33   2.734\n",
            "\r Predicted  34   F#335\n",
            "\r Predicted  35   G136\n",
            "\r Predicted  36   G437\n",
            "\r Predicted  37   G438\n",
            "\r Predicted  38   G439\n",
            "\r Predicted  39   G440\n",
            "\r Predicted  40   7.11.241\n",
            "\r Predicted  41   2.742\n",
            "\r Predicted  42   F#343\n",
            "\r Predicted  43   G144\n",
            "\r Predicted  44   G445\n",
            "\r Predicted  45   2.746\n",
            "\r Predicted  46   F#347\n",
            "\r Predicted  47   G148\n",
            "\r Predicted  48   G449\n",
            "\r Predicted  49   G450\n",
            "\r Predicted  50   7.11.251\n",
            "\r Predicted  51   2.752\n",
            "\r Predicted  52   4.6.9.1153\n",
            "\r Predicted  53   B454\n",
            "\r Predicted  54   F#355\n",
            "\r Predicted  55   G156\n",
            "\r Predicted  56   G457\n",
            "\r Predicted  57   7.11.258\n",
            "\r Predicted  58   2.759\n",
            "\r Predicted  59   4.6.9.1160\n",
            "\r Predicted  60   B461\n",
            "\r Predicted  61   F#362\n",
            "\r Predicted  62   G163\n",
            "\r Predicted  63   G464\n",
            "\r Predicted  64   F#365\n",
            "\r Predicted  65   G166\n",
            "\r Predicted  66   G467\n",
            "\r Predicted  67   4.6.1168\n",
            "\r Predicted  68   D469\n",
            "\r Predicted  69   F#370\n",
            "\r Predicted  70   G171\n",
            "\r Predicted  71   G472\n",
            "\r Predicted  72   6.1173\n",
            "\r Predicted  73   D474\n",
            "\r Predicted  74   F#375\n",
            "\r Predicted  75   G176\n",
            "\r Predicted  76   G477\n",
            "\r Predicted  77   F#378\n",
            "\r Predicted  78   G179\n",
            "\r Predicted  79   G480\n",
            "\r Predicted  80   F#381\n",
            "\r Predicted  81   G182\n",
            "\r Predicted  82   G483\n",
            "\r Predicted  83   G484\n",
            "\r Predicted  84   4.6.1185\n",
            "\r Predicted  85   D486\n",
            "\r Predicted  86   F#387\n",
            "\r Predicted  87   G188\n",
            "\r Predicted  88   G489\n",
            "\r Predicted  89   F#390\n",
            "\r Predicted  90   G191\n",
            "\r Predicted  91   G492\n",
            "\r Predicted  92   6.1193\n",
            "\r Predicted  93   B494\n",
            "\r Predicted  94   F#395\n",
            "\r Predicted  95   G196\n",
            "\r Predicted  96   G497\n",
            "\r Predicted  97   F#398\n",
            "\r Predicted  98   G199\n",
            "\r Predicted  99   G4100\n",
            "\r Predicted  100   F#3101\n",
            "\r Predicted  101   G1102\n",
            "\r Predicted  102   G4103\n",
            "\r Predicted  103   F#3104\n",
            "\r Predicted  104   G1105\n",
            "\r Predicted  105   G4106\n",
            "\r Predicted  106   F#3107\n",
            "\r Predicted  107   G1108\n",
            "\r Predicted  108   G4109\n",
            "\r Predicted  109   4.6.11110\n",
            "\r Predicted  110   D4111\n",
            "\r Predicted  111   F#3112\n",
            "\r Predicted  112   G1113\n",
            "\r Predicted  113   G4114\n",
            "\r Predicted  114   F#3115\n",
            "\r Predicted  115   G1116\n",
            "\r Predicted  116   G4117\n",
            "\r Predicted  117   6.11118\n",
            "\r Predicted  118   B4119\n",
            "\r Predicted  119   F#3120\n",
            "\r Predicted  120   G1121\n",
            "\r Predicted  121   G4122\n",
            "\r Predicted  122   F#3123\n",
            "\r Predicted  123   G1124\n",
            "\r Predicted  124   G4125\n",
            "\r Predicted  125   6.11126\n",
            "\r Predicted  126   B4127\n",
            "\r Predicted  127   F#3128\n",
            "\r Predicted  128   G1129\n",
            "\r Predicted  129   G4130\n",
            "\r Predicted  130   F#3131\n",
            "\r Predicted  131   G1132\n",
            "\r Predicted  132   G4133\n",
            "\r Predicted  133   F#3134\n",
            "\r Predicted  134   G1135\n",
            "\r Predicted  135   G4136\n",
            "\r Predicted  136   F#3137\n",
            "\r Predicted  137   G1138\n",
            "\r Predicted  138   G5139\n",
            "\r Predicted  139   6140\n",
            "\r Predicted  140   G4141\n",
            "\r Predicted  141   F#3142\n",
            "\r Predicted  142   G1143\n",
            "\r Predicted  143   G4144\n",
            "\r Predicted  144   F#3145\n",
            "\r Predicted  145   G1146\n",
            "\r Predicted  146   G4147\n",
            "\r Predicted  147   4.6.11148\n",
            "\r Predicted  148   G4149\n",
            "\r Predicted  149   4.6.11150\n",
            "\r Predicted  150   G4151\n",
            "\r Predicted  151   F#3152\n",
            "\r Predicted  152   G1153\n",
            "\r Predicted  153   E4154\n",
            "\r Predicted  154   F#3155\n",
            "\r Predicted  155   G1156\n",
            "\r Predicted  156   G4157\n",
            "\r Predicted  157   F#3158\n",
            "\r Predicted  158   G1159\n",
            "\r Predicted  159   G4160\n",
            "\r Predicted  160   E5161\n",
            "\r Predicted  161   0.4.7162\n",
            "\r Predicted  162   7.0163\n",
            "\r Predicted  163   4.6.11164\n",
            "\r Predicted  164   G4165\n",
            "\r Predicted  165   F#3166\n",
            "\r Predicted  166   G1167\n",
            "\r Predicted  167   G4168\n",
            "\r Predicted  168   F#3169\n",
            "\r Predicted  169   G1170\n",
            "\r Predicted  170   G4171\n",
            "\r Predicted  171   F#3172\n",
            "\r Predicted  172   G1173\n",
            "\r Predicted  173   G4174\n",
            "\r Predicted  174   2.7175\n",
            "\r Predicted  175   F#3176\n",
            "\r Predicted  176   G1177\n",
            "\r Predicted  177   G4178\n",
            "\r Predicted  178   F#3179\n",
            "\r Predicted  179   G1180\n",
            "\r Predicted  180   G4181\n",
            "\r Predicted  181   7.11.2182\n",
            "\r Predicted  182   2.7183\n",
            "\r Predicted  183   4.6.9.11184\n",
            "\r Predicted  184   B4185\n",
            "\r Predicted  185   F#3186\n",
            "\r Predicted  186   G1187\n",
            "\r Predicted  187   G4188\n",
            "\r Predicted  188   F#3189\n",
            "\r Predicted  189   G1190\n",
            "\r Predicted  190   G4191\n",
            "\r Predicted  191   F#3192\n",
            "\r Predicted  192   G1193\n",
            "\r Predicted  193   G4194\n",
            "\r Predicted  194   6.11195\n",
            "\r Predicted  195   G4196\n",
            "\r Predicted  196   F#3197\n",
            "\r Predicted  197   G1198\n",
            "\r Predicted  198   G5199\n",
            "\r Predicted  199   6200\n",
            "\r Predicted  200   B4201\n",
            "\r Predicted  201   F#3202\n",
            "\r Predicted  202   G1203\n",
            "\r Predicted  203   G4204\n",
            "\r Predicted  204   F#3205\n",
            "\r Predicted  205   G1206\n",
            "\r Predicted  206   G4207\n",
            "\r Predicted  207   F#3208\n",
            "\r Predicted  208   G1209\n",
            "\r Predicted  209   G4210\n",
            "\r Predicted  210   F#3211\n",
            "\r Predicted  211   G1212\n",
            "\r Predicted  212   G4213\n",
            "\r Predicted  213   F#3214\n",
            "\r Predicted  214   G1215\n",
            "\r Predicted  215   G4216\n",
            "\r Predicted  216   E5217\n",
            "\r Predicted  217   0.4.7218\n",
            "\r Predicted  218   D4219\n",
            "\r Predicted  219   F#3220\n",
            "\r Predicted  220   G1221\n",
            "\r Predicted  221   G4222\n",
            "\r Predicted  222   6.11223\n",
            "\r Predicted  223   B4224\n",
            "\r Predicted  224   F#3225\n",
            "\r Predicted  225   G1226\n",
            "\r Predicted  226   G4227\n",
            "\r Predicted  227   4.6.11228\n",
            "\r Predicted  228   B4229\n",
            "\r Predicted  229   F#3230\n",
            "\r Predicted  230   G1231\n",
            "\r Predicted  231   G4232\n",
            "\r Predicted  232   6.11233\n",
            "\r Predicted  233   B4234\n",
            "\r Predicted  234   F#3235\n",
            "\r Predicted  235   G1236\n",
            "\r Predicted  236   G4237\n",
            "\r Predicted  237   6.11238\n",
            "\r Predicted  238   B4239\n",
            "\r Predicted  239   F#3240\n",
            "\r Predicted  240   G1241\n",
            "\r Predicted  241   G4242\n",
            "\r Predicted  242   F#3243\n",
            "\r Predicted  243   G1244\n",
            "\r Predicted  244   G5245\n",
            "\r Predicted  245   6246\n",
            "\r Predicted  246   B4247\n",
            "\r Predicted  247   F#3248\n",
            "\r Predicted  248   G1249\n",
            "\r Predicted  249   G4250\n",
            "\r Predicted  250   6.11251\n",
            "\r Predicted  251   B4252\n",
            "\r Predicted  252   F#3253\n",
            "\r Predicted  253   G1254\n",
            "\r Predicted  254   G4255\n",
            "\r Predicted  255   6.11256\n",
            "\r Predicted  256   B4257\n",
            "\r Predicted  257   F#3258\n",
            "\r Predicted  258   G1259\n",
            "\r Predicted  259   G4260\n",
            "\r Predicted  260   G4261\n",
            "\r Predicted  261   4.6.11262\n",
            "\r Predicted  262   G4263\n",
            "\r Predicted  263   F#3264\n",
            "\r Predicted  264   G1265\n",
            "\r Predicted  265   G5266\n",
            "\r Predicted  266   6267\n",
            "\r Predicted  267   7.11.2268\n",
            "\r Predicted  268   D4269\n",
            "\r Predicted  269   F#3270\n",
            "\r Predicted  270   G1271\n",
            "\r Predicted  271   G5272\n",
            "\r Predicted  272   6273\n",
            "\r Predicted  273   G4274\n",
            "\r Predicted  274   F#3275\n",
            "\r Predicted  275   D4276\n",
            "\r Predicted  276   F#3277\n",
            "\r Predicted  277   G1278\n",
            "\r Predicted  278   G5279\n",
            "\r Predicted  279   6.10280\n",
            "\r Predicted  280   7.11.2281\n",
            "\r Predicted  281   G4282\n",
            "\r Predicted  282   F#3283\n",
            "\r Predicted  283   G1284\n",
            "\r Predicted  284   G5285\n",
            "\r Predicted  285   A4286\n",
            "\r Predicted  286   6287\n",
            "\r Predicted  287   B4288\n",
            "\r Predicted  288   F#3289\n",
            "\r Predicted  289   G1290\n",
            "\r Predicted  290   G5291\n",
            "\r Predicted  291   A4292\n",
            "\r Predicted  292   6293\n",
            "\r Predicted  293   B4294\n",
            "\r Predicted  294   F#3295\n",
            "\r Predicted  295   G1296\n",
            "\r Predicted  296   G5297\n",
            "\r Predicted  297   A4298\n",
            "\r Predicted  298   6.10299\n",
            "\r Predicted  299   E4300\n",
            "\r Predicted  300   F#3301\n",
            "\r Predicted  301   G1302\n",
            "\r Predicted  302   G5303\n",
            "\r Predicted  303   A4304\n",
            "\r Predicted  304   6305\n",
            "\r Predicted  305   B4306\n",
            "\r Predicted  306   F#3307\n",
            "\r Predicted  307   C2308\n",
            "\r Predicted  308   G5309\n",
            "\r Predicted  309   A4310\n",
            "\r Predicted  310   6311\n",
            "\r Predicted  311   D4312\n",
            "\r Predicted  312   F#3313\n",
            "\r Predicted  313   A1314\n",
            "\r Predicted  314   G5315\n",
            "\r Predicted  315   A4316\n",
            "\r Predicted  316   F#3317\n",
            "\r Predicted  317   G1318\n",
            "\r Predicted  318   G5319\n",
            "\r Predicted  319   A4320\n",
            " Predicted  320   4.6.11321\n",
            " Predicted  321   C5322\n",
            " Predicted  322   4.6.11323\n",
            " Predicted  323   7.0324\n",
            " Predicted  324   6.11325\n",
            " Predicted  325   C4326\n",
            " Predicted  326   F#3327\n",
            " Predicted  327   C2328\n",
            " Predicted  328   G5329\n",
            " Predicted  329   A4330\n",
            " Predicted  330   F#3331\n",
            " Predicted  331   C2332\n",
            " Predicted  332   G5333\n",
            " Predicted  333   A4334\n",
            " Predicted  334   4.6.11335\n",
            " Predicted  335   D4336\n",
            " Predicted  336   F#3337\n",
            " Predicted  337   G1338\n",
            " Predicted  338   G5339\n",
            " Predicted  339   A4340\n",
            " Predicted  340   F#3341\n",
            " Predicted  341   C2342\n",
            " Predicted  342   G5343\n",
            " Predicted  343   A4344\n",
            " Predicted  344   6.11345\n",
            " Predicted  345   7.0346\n",
            " Predicted  346   6.11347\n",
            " Predicted  347   7.0348\n",
            " Predicted  348   6.11349\n",
            " Predicted  349   D4350\n",
            " Predicted  350   F#3351\n",
            " Predicted  351   C2352\n",
            " Predicted  352   G5353\n",
            " Predicted  353   A4354\n",
            " Predicted  354   F#3355\n",
            " Predicted  355   C2356\n",
            " Predicted  356   G5357\n",
            " Predicted  357   A4358\n",
            " Predicted  358   F#3359\n",
            " Predicted  359   C2360\n",
            " Predicted  360   G5361\n",
            " Predicted  361   A4362\n",
            " Predicted  362   F#3363\n",
            " Predicted  363   C2364\n",
            " Predicted  364   G5365\n",
            " Predicted  365   A4366\n",
            " Predicted  366   F#3367\n",
            " Predicted  367   C2368\n",
            " Predicted  368   G5369\n",
            " Predicted  369   A4370\n",
            " Predicted  370   F#3371\n",
            " Predicted  371   G1372\n",
            " Predicted  372   G5373\n",
            " Predicted  373   A4374\n",
            " Predicted  374   F#3375\n",
            " Predicted  375   G1376\n",
            " Predicted  376   G5377\n",
            " Predicted  377   D5378\n",
            " Predicted  378   7.11.2379\n",
            " Predicted  379   7.11380\n",
            " Predicted  380   6381\n",
            " Predicted  381   D4382\n",
            " Predicted  382   F#3383\n",
            " Predicted  383   G1384\n",
            " Predicted  384   G4385\n",
            " Predicted  385   6.11386\n",
            " Predicted  386   7.11.2387\n",
            " Predicted  387   7.11388\n",
            " Predicted  388   6389\n",
            " Predicted  389   B4390\n",
            " Predicted  390   F#3391\n",
            " Predicted  391   B3392\n",
            " Predicted  392   F#2393\n",
            " Predicted  393   6.7.11394\n",
            " Predicted  394   G4395\n",
            " Predicted  395   F#3396\n",
            " Predicted  396   C2397\n",
            " Predicted  397   G4398\n",
            " Predicted  398   4.6.11399\n",
            " Predicted  399   D4400\n",
            " Predicted  400   F#3401\n",
            " Predicted  401   C2402\n",
            " Predicted  402   G4403\n",
            " Predicted  403   C5404\n",
            " Predicted  404   F#3405\n",
            " Predicted  405   C2406\n",
            " Predicted  406   G4407\n",
            " Predicted  407   C5408\n",
            " Predicted  408   F#3409\n",
            " Predicted  409   C2410\n",
            " Predicted  410   G5411\n",
            " Predicted  411   7.11.2412\n",
            " Predicted  412   7.11413\n",
            " Predicted  413   6414\n",
            " Predicted  414   B4415\n",
            " Predicted  415   F#3416\n",
            " Predicted  416   C2417\n",
            " Predicted  417   G4418\n",
            " Predicted  418   C5419\n",
            " Predicted  419   F#3420\n",
            " Predicted  420   C2421\n",
            " Predicted  421   G4422\n",
            " Predicted  422   C5423\n",
            " Predicted  423   F#3424\n",
            " Predicted  424   B1425\n",
            " Predicted  425   G5426\n",
            " Predicted  426   A4427\n",
            " Predicted  427   D4428\n",
            " Predicted  428   F#3429\n",
            " Predicted  429   B1430\n",
            " Predicted  430   G5431\n",
            " Predicted  431   6432\n",
            " Predicted  432   D4433\n",
            " Predicted  433   F#3434\n",
            " Predicted  434   C2435\n",
            " Predicted  435   G4436\n",
            " Predicted  436   C5437\n",
            " Predicted  437   F#3438\n",
            " Predicted  438   B1439\n",
            " Predicted  439   G5440\n",
            " Predicted  440   6441\n",
            " Predicted  441   B4442\n",
            " Predicted  442   F#3443\n",
            " Predicted  443   C2444\n",
            " Predicted  444   G4445\n",
            " Predicted  445   7.11.2446\n",
            " Predicted  446   G4447\n",
            " Predicted  447   C5448\n",
            " Predicted  448   F#3449\n",
            " Predicted  449   B1450\n",
            " Predicted  450   G5451\n",
            " Predicted  451   C5452\n",
            " Predicted  452   F#3453\n",
            " Predicted  453   B3454\n",
            " Predicted  454   6.11455\n",
            " Predicted  455   G4456\n",
            " Predicted  456   C5457\n",
            " Predicted  457   F#3458\n",
            " Predicted  458   B1459\n",
            " Predicted  459   G5460\n",
            " Predicted  460   2.7461\n",
            " Predicted  461   6462\n",
            " Predicted  462   B4463\n",
            " Predicted  463   F#3464\n",
            " Predicted  464   G1465\n",
            " Predicted  465   G5466\n",
            " Predicted  466   2.7467\n",
            " Predicted  467   F#3468\n",
            " Predicted  468   G1469\n",
            " Predicted  469   G4470\n",
            " Predicted  470   C5471\n",
            " Predicted  471   F#3472\n",
            " Predicted  472   G1473\n",
            " Predicted  473   G5474\n",
            " Predicted  474   6475\n",
            " Predicted  475   B4476\n",
            " Predicted  476   F#3477\n",
            " Predicted  477   G1478\n",
            " Predicted  478   G4479\n",
            " Predicted  479   C5480\n",
            " Predicted  480   6.11481\n",
            " Predicted  481   B4482\n",
            " Predicted  482   F#3483\n",
            " Predicted  483   G1484\n",
            " Predicted  484   G5485\n",
            " Predicted  485   2.7486\n",
            " Predicted  486   F#3487\n",
            " Predicted  487   G1488\n",
            " Predicted  488   G4489\n",
            " Predicted  489   C5490\n",
            " Predicted  490   6.11491\n",
            " Predicted  491   B4492\n",
            " Predicted  492   F#3493\n",
            " Predicted  493   G1494\n",
            " Predicted  494   G4495\n",
            " Predicted  495   E5496\n",
            " Predicted  496   0.4.7497\n",
            " Predicted  497   7.0498\n",
            " Predicted  498   4.6.11499\n",
            " Predicted  499   G4"
          ],
          "name": "stdout"
        }
      ]
    },
    {
      "cell_type": "markdown",
      "metadata": {
        "id": "_lp5WcPlghe5"
      },
      "source": [
        "The last step is creating a MIDI file from the predictions.\n",
        "\n",
        "**music21** will help us again for this task. We should create a **Stream** and add to it the predicted notes and chords.\n",
        "\n",
        "We are adding an offset of 0.5 between elements."
      ]
    },
    {
      "cell_type": "code",
      "metadata": {
        "id": "T7xYCPULXwV-",
        "outputId": "166cd5d1-c190-4c86-ee45-341cfbe48c9c",
        "colab": {
          "base_uri": "https://localhost:8080/",
          "height": 35
        }
      },
      "source": [
        "offset = 0\n",
        "output_notes = []\n",
        "# create note and chord objects based on the values generated by the model\n",
        "for pattern in prediction_output:\n",
        "    # pattern is a chord\n",
        "    if ('.' in pattern) or pattern.isdigit():\n",
        "        notes_in_chord = pattern.split('.')\n",
        "        notes = []\n",
        "        for current_note in notes_in_chord:\n",
        "            new_note = note.Note(int(current_note))\n",
        "            new_note.storedInstrument = instrument.Piano()\n",
        "            notes.append(new_note)\n",
        "        new_chord = chord.Chord(notes)\n",
        "        new_chord.offset = offset\n",
        "        output_notes.append(new_chord)\n",
        "    # pattern is a note\n",
        "    else:\n",
        "        new_note = note.Note(pattern)\n",
        "        new_note.offset = offset\n",
        "        new_note.storedInstrument = instrument.Piano()\n",
        "        output_notes.append(new_note)\n",
        "\n",
        "    # increase offset each iteration so that notes do not stack\n",
        "    offset += 0.5\n",
        "\n",
        "midi_stream = stream.Stream(output_notes)\n",
        "midi_stream.write('midi', fp='test_output.mid')"
      ],
      "execution_count": 36,
      "outputs": [
        {
          "output_type": "execute_result",
          "data": {
            "application/vnd.google.colaboratory.intrinsic+json": {
              "type": "string"
            },
            "text/plain": [
              "'test_output.mid'"
            ]
          },
          "metadata": {
            "tags": []
          },
          "execution_count": 36
        }
      ]
    }
  ]
}