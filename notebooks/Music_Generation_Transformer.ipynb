{
  "nbformat": 4,
  "nbformat_minor": 0,
  "metadata": {
    "colab": {
      "name": "Music_Generation_Transformer.ipynb",
      "provenance": [],
      "toc_visible": true,
      "authorship_tag": "ABX9TyO50RwObLylDFzGR8ouooPy",
      "include_colab_link": true
    },
    "kernelspec": {
      "name": "python3",
      "display_name": "Python 3"
    },
    "accelerator": "GPU"
  },
  "cells": [
    {
      "cell_type": "markdown",
      "metadata": {
        "id": "view-in-github",
        "colab_type": "text"
      },
      "source": [
        "<a href=\"https://colab.research.google.com/github/GiovanniSorice/Deep_Music_Generator/blob/main/notebooks/Music_Generation_Transformer.ipynb\" target=\"_parent\"><img src=\"https://colab.research.google.com/assets/colab-badge.svg\" alt=\"Open In Colab\"/></a>"
      ]
    },
    {
      "cell_type": "markdown",
      "metadata": {
        "id": "6gJ3GwlYmvNT"
      },
      "source": [
        "# Transformer Music Generator "
      ]
    },
    {
      "cell_type": "markdown",
      "metadata": {
        "id": "sNwQUwLIm7oW"
      },
      "source": [
        "\n",
        "\n",
        "In this notebook, we use an Transformer to generate some music.\n"
      ]
    },
    {
      "cell_type": "markdown",
      "metadata": {
        "id": "aFVGA5D4azA4"
      },
      "source": [
        "**This notebook was inspired (and part of the code comes from it) by [Music_Generation_LSTM](https://colab.research.google.com/drive/19TQqekOlnOSW36VCL8CPVEQKBBukmaEQ#scrollTo=DDOBVWULXfpz)**\n"
      ]
    },
    {
      "cell_type": "markdown",
      "metadata": {
        "id": "qtmj0efInB_L"
      },
      "source": [
        "\n",
        "\n",
        "**Load dependencies**"
      ]
    },
    {
      "cell_type": "code",
      "metadata": {
        "id": "hCsb9kaJmWHN",
        "outputId": "ce4ec78c-196a-40d4-daab-a6f1511eadd6",
        "colab": {
          "base_uri": "https://localhost:8080/"
        }
      },
      "source": [
        "pip install compressive_transformer_pytorch"
      ],
      "execution_count": 1,
      "outputs": [
        {
          "output_type": "stream",
          "text": [
            "Collecting compressive_transformer_pytorch\n",
            "  Downloading https://files.pythonhosted.org/packages/30/39/b8caf2671abcb8615977c08766aa9f450addd6949f57c7dda87224e844b5/compressive_transformer_pytorch-0.3.20-py3-none-any.whl\n",
            "Collecting mogrifier\n",
            "  Downloading https://files.pythonhosted.org/packages/77/01/62a55d0f8048e788fce435f2ade6478f443e4e53ed9b89b55ba0fc42c198/mogrifier-0.0.3-py3-none-any.whl\n",
            "Requirement already satisfied: torch in /usr/local/lib/python3.6/dist-packages (from compressive_transformer_pytorch) (1.7.0+cu101)\n",
            "Requirement already satisfied: future in /usr/local/lib/python3.6/dist-packages (from torch->compressive_transformer_pytorch) (0.16.0)\n",
            "Requirement already satisfied: typing-extensions in /usr/local/lib/python3.6/dist-packages (from torch->compressive_transformer_pytorch) (3.7.4.3)\n",
            "Requirement already satisfied: dataclasses in /usr/local/lib/python3.6/dist-packages (from torch->compressive_transformer_pytorch) (0.7)\n",
            "Requirement already satisfied: numpy in /usr/local/lib/python3.6/dist-packages (from torch->compressive_transformer_pytorch) (1.18.5)\n",
            "Installing collected packages: mogrifier, compressive-transformer-pytorch\n",
            "Successfully installed compressive-transformer-pytorch-0.3.20 mogrifier-0.0.3\n"
          ],
          "name": "stdout"
        }
      ]
    },
    {
      "cell_type": "code",
      "metadata": {
        "id": "1mi6KoBmX44A"
      },
      "source": [
        "import torch\n",
        "import tqdm\n",
        "import numpy as np\n",
        "import pandas as pd\n",
        "import tensorflow as tf\n",
        "import os\n",
        "from compressive_transformer_pytorch import CompressiveTransformer\n",
        "from compressive_transformer_pytorch import AutoregressiveWrapper\n",
        "from torchsummary import summary\n",
        "from torch.utils.data import DataLoader, Dataset\n",
        "from tensorflow.keras import utils\n",
        "from sklearn.metrics import roc_auc_score \n",
        "import matplotlib.pyplot as plt\n",
        "import glob\n",
        "import pickle\n",
        "from music21 import converter, instrument, stream, note, chord\n",
        "import math\n",
        "import shutil"
      ],
      "execution_count": 2,
      "outputs": []
    },
    {
      "cell_type": "code",
      "metadata": {
        "id": "JwF2wx4oRZXW"
      },
      "source": [
        "# Set to false if you are not running\n",
        "# this notebook in Google Colaboratory\n",
        "run_on_colab = True"
      ],
      "execution_count": 3,
      "outputs": []
    },
    {
      "cell_type": "markdown",
      "metadata": {
        "id": "w2w9a2MknGmP"
      },
      "source": [
        "**Set hyperparameters**"
      ]
    },
    {
      "cell_type": "code",
      "metadata": {
        "id": "NnnLeO8Emsx3"
      },
      "source": [
        "# output directory name:\n",
        "output_dir = '/content/drive/My Drive/ISPR_project/Transformer/'\n",
        "current_path ='/content/drive/My Drive/ISPR_project/'\n",
        "# training:\n",
        "epochs = 500\n",
        "batch_size = 64\n",
        "learning_rate=1e-3\n",
        "# vector-space embedding: \n",
        "n_dim = 64 \n",
        "sequence_length = 128\n",
        "\n",
        "\n",
        "VALIDATE_EVERY  = 100\n",
        "\n",
        "GENERATE_EVERY  = 500\n",
        "\n"
      ],
      "execution_count": 19,
      "outputs": []
    },
    {
      "cell_type": "markdown",
      "metadata": {
        "id": "iUFOx5yB39xx"
      },
      "source": [
        "**Save model function**"
      ]
    },
    {
      "cell_type": "code",
      "metadata": {
        "id": "NQHDRGj838-0"
      },
      "source": [
        "def save_checkpoint(state, is_best, filename='checkpoint.pth.tar'):\n",
        "    torch.save(state, output_dir+filename)\n",
        "    if is_best:\n",
        "        shutil.copyfile(output_dir+filename, output_dir+'model_best.pth.tar')"
      ],
      "execution_count": 5,
      "outputs": []
    },
    {
      "cell_type": "markdown",
      "metadata": {
        "id": "HvBjPl0cbI0_"
      },
      "source": [
        "**Google drive configuration (only Colab)**"
      ]
    },
    {
      "cell_type": "code",
      "metadata": {
        "id": "hKil2p6sM2gZ",
        "outputId": "8042cd2a-7272-4485-9e66-a64b85139198",
        "colab": {
          "base_uri": "https://localhost:8080/"
        }
      },
      "source": [
        "if(run_on_colab):\n",
        "  from google.colab import drive\n",
        "  # This will prompt for authorization.\n",
        "  drive.mount('/content/drive')"
      ],
      "execution_count": 6,
      "outputs": [
        {
          "output_type": "stream",
          "text": [
            "Mounted at /content/drive\n"
          ],
          "name": "stdout"
        }
      ]
    },
    {
      "cell_type": "markdown",
      "metadata": {
        "id": "jU3gQinYmutQ"
      },
      "source": [
        "**Load data** \\\\\n",
        "Original MIDI files\n",
        " I have obtained  **MIDI files** from [The Lakh MIDI Dataset v0.1](https://colinraffel.com/projects/lmd/). "
      ]
    },
    {
      "cell_type": "markdown",
      "metadata": {
        "id": "wavgJZNpcR_f"
      },
      "source": [
        "## Processing data\n",
        "\n",
        "Let's process the files, and load them into **music21**"
      ]
    },
    {
      "cell_type": "code",
      "metadata": {
        "id": "vILKBwYIcOvX",
        "outputId": "31551cb8-e765-4289-ab80-6d246c9952f7",
        "colab": {
          "base_uri": "https://localhost:8080/"
        }
      },
      "source": [
        "file = current_path+\"midi_songs/Andra tutto bene ('58).1.mid\"\n",
        "midi = converter.parse(file)\n",
        "notes_to_parse = midi.flat.notes\n",
        "for element in notes_to_parse[:10]:\n",
        "  print(element, element.offset)"
      ],
      "execution_count": 7,
      "outputs": [
        {
          "output_type": "stream",
          "text": [
            "<music21.chord.Chord F3 F2> 4.0\n",
            "<music21.note.Note A> 4.0\n",
            "<music21.chord.Chord B1 F#3 F#2> 4.0\n",
            "<music21.note.Note F> 4.0\n",
            "<music21.chord.Chord C4 F4> 4.0\n",
            "<music21.chord.Chord F#3 C#6 F#2> 4.5\n",
            "<music21.note.Note C#> 4.75\n",
            "<music21.chord.Chord F#2 E2 F#3> 5.0\n",
            "<music21.chord.Chord A4 A3 F4 C4 A3> 5.0\n",
            "<music21.note.Note F> 5.0\n"
          ],
          "name": "stdout"
        }
      ]
    },
    {
      "cell_type": "markdown",
      "metadata": {
        "id": "vjyrXfKic2kI"
      },
      "source": [
        "I will process all MIDI files obtaining data from each note of chord.\n",
        "\n",
        "- If I process a **note**, I will store in the list a string representing the pitch (the note name) and the octave.\n",
        "\n",
        "- If I process a **chord** (Remember that chords are set of notes that are played at the same time) I will store a different type of string with numbers separated by dots. Each number represents the pitch of a chord note. \n",
        "\n",
        "As you can see, **I are not considering yet time offsets of each element**. In this first version, we won't consider them, so all the notes and chords will have the same duration. Maybe, in the future, I will consider them.\n",
        "\n",
        "I are creating a big list with all the elements of all the compositions."
      ]
    },
    {
      "cell_type": "code",
      "metadata": {
        "id": "iawbQHYVTOFM",
        "outputId": "b646f99c-2792-4478-c4d3-4992b653535a",
        "colab": {
          "base_uri": "https://localhost:8080/"
        }
      },
      "source": [
        "notes = []\n",
        "for i,file in enumerate(glob.glob(current_path+\"midi_songs/*.mid\")):\n",
        "  midi = converter.parse(file)\n",
        "  print('\\r', 'Parsing file ', i, \" \",file, end='')\n",
        "  notes_to_parse = None\n",
        "  try: # file has instrument parts\n",
        "    s2 = instrument.partitionByInstrument(midi)\n",
        "    notes_to_parse = s2.recurse() \n",
        "  except: # file has notes in a flat structure\n",
        "    notes_to_parse = midi.flat.notes\n",
        "  for element in notes_to_parse:\n",
        "    if isinstance(element, note.Note):\n",
        "      notes.append(str(element.pitch))\n",
        "    elif isinstance(element, chord.Chord):\n",
        "      notes.append('.'.join(str(n) for n in element.normalOrder))\n",
        "with open('notes', 'wb') as filepath:\n",
        "  pickle.dump(notes, filepath)"
      ],
      "execution_count": 8,
      "outputs": [
        {
          "output_type": "stream",
          "text": [
            " Parsing file  3   /content/drive/My Drive/ISPR_project/midi_songs/Andra tutto bene ('58).1.mid"
          ],
          "name": "stdout"
        }
      ]
    },
    {
      "cell_type": "markdown",
      "metadata": {
        "id": "XuHePM_3dMXM"
      },
      "source": [
        "I obtain the number of different notes in our dataset, because this will be the **number of possible output classes**  of our model."
      ]
    },
    {
      "cell_type": "code",
      "metadata": {
        "id": "pEiySfEnTzyz",
        "outputId": "634f7d00-c64f-44a5-c92e-c240075a4f15",
        "colab": {
          "base_uri": "https://localhost:8080/"
        }
      },
      "source": [
        "# Count different possible outputs\n",
        "n_vocab = (len(set(notes)))\n",
        "n_vocab"
      ],
      "execution_count": 9,
      "outputs": [
        {
          "output_type": "execute_result",
          "data": {
            "text/plain": [
              "145"
            ]
          },
          "metadata": {
            "tags": []
          },
          "execution_count": 9
        }
      ]
    },
    {
      "cell_type": "markdown",
      "metadata": {
        "id": "v-mABhgUnTcV"
      },
      "source": [
        "**Preprocess data** \\\\\n",
        "Now, there is some **data processing** that I have to do:\n",
        "\n",
        "- I will map each pitch or chord to an integer\n",
        "- I will create pairs of input sequences and its corresponding output note\n",
        "\n",
        "I can try different **sequence_length** to obtain different results. In this first version, I will use a sequence_length of 100.\n",
        "\n",
        "The network will made its prediction of the next note (or chord), based on the previous *sequence_length* notes (or chords). \n"
      ]
    },
    {
      "cell_type": "code",
      "metadata": {
        "id": "q4PpfIFRnWIA"
      },
      "source": [
        "# get all pitch names\n",
        "pitchnames = sorted(set(item for item in notes))\n",
        "# create a dictionary to map pitches to integers\n",
        "note_to_int = dict((note, number) for number, note in enumerate(pitchnames))\n",
        "network_input = []\n",
        "network_output = []\n",
        "# create input sequences and the corresponding outputs\n",
        "for i in range(0, len(notes) - sequence_length, 1):\n",
        "  # Map pitches of sequence_in to integers\n",
        "  network_input.append([note_to_int[char] for char in notes[i:i + sequence_length]])\n",
        "n_patterns = len(network_input)\n",
        "# reshape the input into a format compatible with LSTM layers\n",
        "network_input = np.reshape(network_input, (n_patterns, sequence_length))\n",
        "# normalize input\n",
        "#network_input = network_input / float(n_vocab)\n"
      ],
      "execution_count": 11,
      "outputs": []
    },
    {
      "cell_type": "markdown",
      "metadata": {
        "id": "GVRPauXUdq5Y"
      },
      "source": [
        "Let's see the new metwork_input size"
      ]
    },
    {
      "cell_type": "code",
      "metadata": {
        "id": "K8eQQMbxhUkN",
        "outputId": "47348eb4-552b-4d77-edf7-311d3ea4606a",
        "colab": {
          "base_uri": "https://localhost:8080/"
        }
      },
      "source": [
        "network_input.shape"
      ],
      "execution_count": 12,
      "outputs": [
        {
          "output_type": "execute_result",
          "data": {
            "text/plain": [
              "(13343, 128)"
            ]
          },
          "metadata": {
            "tags": []
          },
          "execution_count": 12
        }
      ]
    },
    {
      "cell_type": "markdown",
      "metadata": {
        "id": "6--Wc8UXnVgY"
      },
      "source": [
        "**Design neural network architecture** "
      ]
    },
    {
      "cell_type": "code",
      "metadata": {
        "id": "t4ztPAQsnb7T"
      },
      "source": [
        "def create_network(sequence_length, n_vocab):\n",
        "    \"\"\" create the structure of the neural network \"\"\"\n",
        "    model = CompressiveTransformer(\n",
        "    num_tokens = n_vocab,\n",
        "    dim = sequence_length,\n",
        "    depth = 6,\n",
        "    seq_len = sequence_length,\n",
        "    mem_len = sequence_length,\n",
        "    cmem_len = 256,\n",
        "    cmem_ratio = 4,\n",
        "    memory_layers = [5,6]\n",
        "    )\n",
        "\n",
        "    model = AutoregressiveWrapper(model)\n",
        "    model.cuda()\n",
        "    return model"
      ],
      "execution_count": 13,
      "outputs": []
    },
    {
      "cell_type": "code",
      "metadata": {
        "id": "1nsNVMocnhNC",
        "outputId": "ddc20dba-7940-41c7-acfa-0f1ca643683e",
        "colab": {
          "base_uri": "https://localhost:8080/"
        }
      },
      "source": [
        "model = create_network(sequence_length,n_vocab)\n",
        "\n",
        "print(model)\n"
      ],
      "execution_count": 14,
      "outputs": [
        {
          "output_type": "stream",
          "text": [
            "AutoregressiveWrapper(\n",
            "  (net): CompressiveTransformer(\n",
            "    (token_emb): Embedding(145, 128)\n",
            "    (to_model_dim): Identity()\n",
            "    (to_logits): Sequential(\n",
            "      (0): Identity()\n",
            "      (1): Linear(in_features=128, out_features=145, bias=True)\n",
            "    )\n",
            "    (attn_layers): ModuleList(\n",
            "      (0): GRUGating(\n",
            "        (fn): PreNorm(\n",
            "          (norm): LayerNorm((128,), eps=1e-05, elementwise_affine=True)\n",
            "          (fn): SelfAttention(\n",
            "            (compress_mem_fn): ConvCompress(\n",
            "              (conv): Conv1d(128, 128, kernel_size=(4,), stride=(4,))\n",
            "            )\n",
            "            (to_q): Linear(in_features=128, out_features=128, bias=False)\n",
            "            (to_kv): Linear(in_features=128, out_features=256, bias=False)\n",
            "            (to_out): Linear(in_features=128, out_features=128, bias=True)\n",
            "            (attn_dropout): Dropout(p=0.0, inplace=False)\n",
            "            (dropout): Dropout(p=0.0, inplace=False)\n",
            "            (reconstruction_attn_dropout): Dropout(p=0.0, inplace=False)\n",
            "          )\n",
            "        )\n",
            "        (gru): GRUCell(128, 128)\n",
            "      )\n",
            "      (1): GRUGating(\n",
            "        (fn): PreNorm(\n",
            "          (norm): LayerNorm((128,), eps=1e-05, elementwise_affine=True)\n",
            "          (fn): SelfAttention(\n",
            "            (compress_mem_fn): ConvCompress(\n",
            "              (conv): Conv1d(128, 128, kernel_size=(4,), stride=(4,))\n",
            "            )\n",
            "            (to_q): Linear(in_features=128, out_features=128, bias=False)\n",
            "            (to_kv): Linear(in_features=128, out_features=256, bias=False)\n",
            "            (to_out): Linear(in_features=128, out_features=128, bias=True)\n",
            "            (attn_dropout): Dropout(p=0.0, inplace=False)\n",
            "            (dropout): Dropout(p=0.0, inplace=False)\n",
            "            (reconstruction_attn_dropout): Dropout(p=0.0, inplace=False)\n",
            "          )\n",
            "        )\n",
            "        (gru): GRUCell(128, 128)\n",
            "      )\n",
            "      (2): GRUGating(\n",
            "        (fn): PreNorm(\n",
            "          (norm): LayerNorm((128,), eps=1e-05, elementwise_affine=True)\n",
            "          (fn): SelfAttention(\n",
            "            (compress_mem_fn): ConvCompress(\n",
            "              (conv): Conv1d(128, 128, kernel_size=(4,), stride=(4,))\n",
            "            )\n",
            "            (to_q): Linear(in_features=128, out_features=128, bias=False)\n",
            "            (to_kv): Linear(in_features=128, out_features=256, bias=False)\n",
            "            (to_out): Linear(in_features=128, out_features=128, bias=True)\n",
            "            (attn_dropout): Dropout(p=0.0, inplace=False)\n",
            "            (dropout): Dropout(p=0.0, inplace=False)\n",
            "            (reconstruction_attn_dropout): Dropout(p=0.0, inplace=False)\n",
            "          )\n",
            "        )\n",
            "        (gru): GRUCell(128, 128)\n",
            "      )\n",
            "      (3): GRUGating(\n",
            "        (fn): PreNorm(\n",
            "          (norm): LayerNorm((128,), eps=1e-05, elementwise_affine=True)\n",
            "          (fn): SelfAttention(\n",
            "            (compress_mem_fn): ConvCompress(\n",
            "              (conv): Conv1d(128, 128, kernel_size=(4,), stride=(4,))\n",
            "            )\n",
            "            (to_q): Linear(in_features=128, out_features=128, bias=False)\n",
            "            (to_kv): Linear(in_features=128, out_features=256, bias=False)\n",
            "            (to_out): Linear(in_features=128, out_features=128, bias=True)\n",
            "            (attn_dropout): Dropout(p=0.0, inplace=False)\n",
            "            (dropout): Dropout(p=0.0, inplace=False)\n",
            "            (reconstruction_attn_dropout): Dropout(p=0.0, inplace=False)\n",
            "          )\n",
            "        )\n",
            "        (gru): GRUCell(128, 128)\n",
            "      )\n",
            "      (4): GRUGating(\n",
            "        (fn): PreNorm(\n",
            "          (norm): LayerNorm((128,), eps=1e-05, elementwise_affine=True)\n",
            "          (fn): SelfAttention(\n",
            "            (compress_mem_fn): ConvCompress(\n",
            "              (conv): Conv1d(128, 128, kernel_size=(4,), stride=(4,))\n",
            "            )\n",
            "            (to_q): Linear(in_features=128, out_features=128, bias=False)\n",
            "            (to_kv): Linear(in_features=128, out_features=256, bias=False)\n",
            "            (to_out): Linear(in_features=128, out_features=128, bias=True)\n",
            "            (attn_dropout): Dropout(p=0.0, inplace=False)\n",
            "            (dropout): Dropout(p=0.0, inplace=False)\n",
            "            (reconstruction_attn_dropout): Dropout(p=0.0, inplace=False)\n",
            "          )\n",
            "        )\n",
            "        (gru): GRUCell(128, 128)\n",
            "      )\n",
            "      (5): GRUGating(\n",
            "        (fn): PreNorm(\n",
            "          (norm): LayerNorm((128,), eps=1e-05, elementwise_affine=True)\n",
            "          (fn): SelfAttention(\n",
            "            (compress_mem_fn): ConvCompress(\n",
            "              (conv): Conv1d(128, 128, kernel_size=(4,), stride=(4,))\n",
            "            )\n",
            "            (to_q): Linear(in_features=128, out_features=128, bias=False)\n",
            "            (to_kv): Linear(in_features=128, out_features=256, bias=False)\n",
            "            (to_out): Linear(in_features=128, out_features=128, bias=True)\n",
            "            (attn_dropout): Dropout(p=0.0, inplace=False)\n",
            "            (dropout): Dropout(p=0.0, inplace=False)\n",
            "            (reconstruction_attn_dropout): Dropout(p=0.0, inplace=False)\n",
            "          )\n",
            "        )\n",
            "        (gru): GRUCell(128, 128)\n",
            "      )\n",
            "    )\n",
            "    (ff_layers): ModuleList(\n",
            "      (0): GRUGating(\n",
            "        (fn): PreNorm(\n",
            "          (norm): LayerNorm((128,), eps=1e-05, elementwise_affine=True)\n",
            "          (fn): FeedForward(\n",
            "            (w1): Linear(in_features=128, out_features=512, bias=True)\n",
            "            (act): GELU()\n",
            "            (dropout): Dropout(p=0.0, inplace=False)\n",
            "            (w2): Linear(in_features=512, out_features=128, bias=True)\n",
            "          )\n",
            "        )\n",
            "        (gru): GRUCell(128, 128)\n",
            "      )\n",
            "      (1): GRUGating(\n",
            "        (fn): PreNorm(\n",
            "          (norm): LayerNorm((128,), eps=1e-05, elementwise_affine=True)\n",
            "          (fn): FeedForward(\n",
            "            (w1): Linear(in_features=128, out_features=512, bias=True)\n",
            "            (act): GELU()\n",
            "            (dropout): Dropout(p=0.0, inplace=False)\n",
            "            (w2): Linear(in_features=512, out_features=128, bias=True)\n",
            "          )\n",
            "        )\n",
            "        (gru): GRUCell(128, 128)\n",
            "      )\n",
            "      (2): GRUGating(\n",
            "        (fn): PreNorm(\n",
            "          (norm): LayerNorm((128,), eps=1e-05, elementwise_affine=True)\n",
            "          (fn): FeedForward(\n",
            "            (w1): Linear(in_features=128, out_features=512, bias=True)\n",
            "            (act): GELU()\n",
            "            (dropout): Dropout(p=0.0, inplace=False)\n",
            "            (w2): Linear(in_features=512, out_features=128, bias=True)\n",
            "          )\n",
            "        )\n",
            "        (gru): GRUCell(128, 128)\n",
            "      )\n",
            "      (3): GRUGating(\n",
            "        (fn): PreNorm(\n",
            "          (norm): LayerNorm((128,), eps=1e-05, elementwise_affine=True)\n",
            "          (fn): FeedForward(\n",
            "            (w1): Linear(in_features=128, out_features=512, bias=True)\n",
            "            (act): GELU()\n",
            "            (dropout): Dropout(p=0.0, inplace=False)\n",
            "            (w2): Linear(in_features=512, out_features=128, bias=True)\n",
            "          )\n",
            "        )\n",
            "        (gru): GRUCell(128, 128)\n",
            "      )\n",
            "      (4): GRUGating(\n",
            "        (fn): PreNorm(\n",
            "          (norm): LayerNorm((128,), eps=1e-05, elementwise_affine=True)\n",
            "          (fn): FeedForward(\n",
            "            (w1): Linear(in_features=128, out_features=512, bias=True)\n",
            "            (act): GELU()\n",
            "            (dropout): Dropout(p=0.0, inplace=False)\n",
            "            (w2): Linear(in_features=512, out_features=128, bias=True)\n",
            "          )\n",
            "        )\n",
            "        (gru): GRUCell(128, 128)\n",
            "      )\n",
            "      (5): GRUGating(\n",
            "        (fn): PreNorm(\n",
            "          (norm): LayerNorm((128,), eps=1e-05, elementwise_affine=True)\n",
            "          (fn): FeedForward(\n",
            "            (w1): Linear(in_features=128, out_features=512, bias=True)\n",
            "            (act): GELU()\n",
            "            (dropout): Dropout(p=0.0, inplace=False)\n",
            "            (w2): Linear(in_features=512, out_features=128, bias=True)\n",
            "          )\n",
            "        )\n",
            "        (gru): GRUCell(128, 128)\n",
            "      )\n",
            "    )\n",
            "  )\n",
            ")\n"
          ],
          "name": "stdout"
        }
      ]
    },
    {
      "cell_type": "code",
      "metadata": {
        "id": "dRKI1q5WjwcL"
      },
      "source": [
        "def cycle(loader):\n",
        "    while True:\n",
        "        for data in loader:\n",
        "          yield data\n",
        "\n",
        "\n",
        "data_train = torch.from_numpy(network_input).cuda()\n",
        "train_loader = torch.utils.data.DataLoader(data_train, batch_size=32) \n",
        "cycle_train_loader  = cycle(DataLoader(data_train, batch_size = data_train.shape[0]))\n",
        "num_bathes=math.ceil(data_train.shape[0]/batch_size) # Total number of batches"
      ],
      "execution_count": 15,
      "outputs": []
    },
    {
      "cell_type": "code",
      "metadata": {
        "id": "E60il158kxfq"
      },
      "source": [
        "# optimizer\n",
        "\n",
        "optimizer = torch.optim.Adam(model.parameters(), lr=learning_rate)"
      ],
      "execution_count": 16,
      "outputs": []
    },
    {
      "cell_type": "markdown",
      "metadata": {
        "id": "GbO-XA3Dfrd2"
      },
      "source": [
        "In case we want to use previously trained weights, to continue the training in the point we left it, we should load them into the model.\n",
        "\n",
        "This is very useful in Google Colaboratory, that usually kills the virtual machine that is executing the Jupyter notework after a certime amount of time. If this happens to you, you should have to look for the last weights file in your configured Drive account and use it to train the network.\n"
      ]
    },
    {
      "cell_type": "code",
      "metadata": {
        "id": "QjfQL_Ck_92a"
      },
      "source": [
        "# In case we want to use previously trained weights\n",
        "weights = \"model_best.pth.tar\"\n",
        "checkpoint = torch.load(\"/content/drive/My Drive/ISPR_project/Transformer/model_best.pth.tar\")\n",
        "model.load_state_dict(checkpoint['model_state_dict'])\n",
        "optimizer.load_state_dict(checkpoint['optimizer_state_dict'])\n",
        "epoch = checkpoint['epoch']\n",
        "loss = checkpoint['loss']\n"
      ],
      "execution_count": 39,
      "outputs": []
    },
    {
      "cell_type": "code",
      "metadata": {
        "id": "UqX3PsrJkyNN",
        "outputId": "5038096a-b8d8-469f-ba03-0455794adc49",
        "colab": {
          "base_uri": "https://localhost:8080/",
          "height": 1000
        }
      },
      "source": [
        "# training\n",
        "\n",
        "for i in tqdm.tqdm(range(epochs), mininterval=20., desc='training'):\n",
        "    model.train()\n",
        "    avg_loss = 0.0\n",
        "    is_best=0\n",
        "    best_loss_value=n_vocab\n",
        "    for mlm_loss, aux_loss, is_last in model(next(cycle_train_loader), max_batch_size = batch_size, return_loss = True):\n",
        "        loss = mlm_loss + aux_loss\n",
        "        loss.backward()\n",
        "\n",
        "        avg_loss+=loss/num_bathes;\n",
        "\n",
        "        if is_last:\n",
        "            torch.nn.utils.clip_grad_norm_(model.parameters(), 0.5)\n",
        "            optimizer.step()\n",
        "            optimizer.zero_grad()\n",
        "\n",
        "    if i%20==0:\n",
        "      if best_loss_value>avg_loss:\n",
        "        best_loss_value=avg_loss;\n",
        "        is_best=1\n",
        "\n",
        "      save_checkpoint({\n",
        "      'epoch': i,\n",
        "      'model_state_dict': model.state_dict(),\n",
        "      'optimizer_state_dict' : optimizer.state_dict(),\n",
        "      'loss':avg_loss.item(),\n",
        "     }, is_best, 'Tran_Checkpoint'+str(i)+'_'+\"{:.4f}\".format(avg_loss.item())+'.pth.tar')\n",
        "      is_best=0\n",
        "\n",
        "    print(f'Epoch: {i} |Training loss: {avg_loss.item():.4f}')\n",
        "print('Training complete.')\n",
        "\n",
        "\n",
        "\n",
        "\n"
      ],
      "execution_count": 20,
      "outputs": [
        {
          "output_type": "stream",
          "text": [
            "\n",
            "\n",
            "training:   0%|          | 0/500 [00:00<?, ?it/s]\u001b[A\u001b[A\n",
            "\n",
            "training:   0%|          | 1/500 [00:27<3:49:45, 27.63s/it]\u001b[A\u001b[A"
          ],
          "name": "stderr"
        },
        {
          "output_type": "stream",
          "text": [
            "Epoch: 0 |Training loss: 2.4668\n"
          ],
          "name": "stdout"
        },
        {
          "output_type": "stream",
          "text": [
            "\n",
            "\n",
            "training:   0%|          | 2/500 [00:54<3:48:09, 27.49s/it]\u001b[A\u001b[A"
          ],
          "name": "stderr"
        },
        {
          "output_type": "stream",
          "text": [
            "Epoch: 1 |Training loss: 2.4180\n"
          ],
          "name": "stdout"
        },
        {
          "output_type": "stream",
          "text": [
            "\n",
            "\n",
            "training:   1%|          | 3/500 [01:21<3:45:58, 27.28s/it]\u001b[A\u001b[A"
          ],
          "name": "stderr"
        },
        {
          "output_type": "stream",
          "text": [
            "Epoch: 2 |Training loss: 2.3709\n"
          ],
          "name": "stdout"
        },
        {
          "output_type": "stream",
          "text": [
            "\n",
            "\n",
            "training:   1%|          | 4/500 [01:48<3:44:39, 27.18s/it]\u001b[A\u001b[A"
          ],
          "name": "stderr"
        },
        {
          "output_type": "stream",
          "text": [
            "Epoch: 3 |Training loss: 2.3166\n"
          ],
          "name": "stdout"
        },
        {
          "output_type": "stream",
          "text": [
            "\n",
            "\n",
            "training:   1%|          | 5/500 [02:15<3:43:47, 27.13s/it]\u001b[A\u001b[A"
          ],
          "name": "stderr"
        },
        {
          "output_type": "stream",
          "text": [
            "Epoch: 4 |Training loss: 2.2580\n"
          ],
          "name": "stdout"
        },
        {
          "output_type": "stream",
          "text": [
            "\n",
            "\n",
            "training:   1%|          | 6/500 [02:42<3:42:48, 27.06s/it]\u001b[A\u001b[A"
          ],
          "name": "stderr"
        },
        {
          "output_type": "stream",
          "text": [
            "Epoch: 5 |Training loss: 2.2006\n"
          ],
          "name": "stdout"
        },
        {
          "output_type": "stream",
          "text": [
            "\n",
            "\n",
            "training:   1%|▏         | 7/500 [03:09<3:41:57, 27.01s/it]\u001b[A\u001b[A"
          ],
          "name": "stderr"
        },
        {
          "output_type": "stream",
          "text": [
            "Epoch: 6 |Training loss: 2.1511\n"
          ],
          "name": "stdout"
        },
        {
          "output_type": "stream",
          "text": [
            "\n",
            "\n",
            "training:   2%|▏         | 8/500 [03:36<3:41:15, 26.98s/it]\u001b[A\u001b[A"
          ],
          "name": "stderr"
        },
        {
          "output_type": "stream",
          "text": [
            "Epoch: 7 |Training loss: 2.1286\n"
          ],
          "name": "stdout"
        },
        {
          "output_type": "stream",
          "text": [
            "\n",
            "\n",
            "training:   2%|▏         | 9/500 [04:03<3:40:42, 26.97s/it]\u001b[A\u001b[A"
          ],
          "name": "stderr"
        },
        {
          "output_type": "stream",
          "text": [
            "Epoch: 8 |Training loss: 2.0893\n"
          ],
          "name": "stdout"
        },
        {
          "output_type": "stream",
          "text": [
            "\n",
            "\n",
            "training:   2%|▏         | 10/500 [04:30<3:40:16, 26.97s/it]\u001b[A\u001b[A"
          ],
          "name": "stderr"
        },
        {
          "output_type": "stream",
          "text": [
            "Epoch: 9 |Training loss: 2.1122\n"
          ],
          "name": "stdout"
        },
        {
          "output_type": "stream",
          "text": [
            "\n",
            "\n",
            "training:   2%|▏         | 11/500 [04:57<3:40:28, 27.05s/it]\u001b[A\u001b[A"
          ],
          "name": "stderr"
        },
        {
          "output_type": "stream",
          "text": [
            "Epoch: 10 |Training loss: 2.0559\n"
          ],
          "name": "stdout"
        },
        {
          "output_type": "stream",
          "text": [
            "\n",
            "\n",
            "training:   2%|▏         | 12/500 [05:24<3:39:41, 27.01s/it]\u001b[A\u001b[A"
          ],
          "name": "stderr"
        },
        {
          "output_type": "stream",
          "text": [
            "Epoch: 11 |Training loss: 2.0402\n"
          ],
          "name": "stdout"
        },
        {
          "output_type": "stream",
          "text": [
            "\n",
            "\n",
            "training:   3%|▎         | 13/500 [05:51<3:38:53, 26.97s/it]\u001b[A\u001b[A"
          ],
          "name": "stderr"
        },
        {
          "output_type": "stream",
          "text": [
            "Epoch: 12 |Training loss: 2.0213\n"
          ],
          "name": "stdout"
        },
        {
          "output_type": "stream",
          "text": [
            "\n",
            "\n",
            "training:   3%|▎         | 14/500 [06:18<3:38:14, 26.94s/it]\u001b[A\u001b[A"
          ],
          "name": "stderr"
        },
        {
          "output_type": "stream",
          "text": [
            "Epoch: 13 |Training loss: 2.0088\n"
          ],
          "name": "stdout"
        },
        {
          "output_type": "stream",
          "text": [
            "\n",
            "\n",
            "training:   3%|▎         | 15/500 [06:44<3:37:39, 26.93s/it]\u001b[A\u001b[A"
          ],
          "name": "stderr"
        },
        {
          "output_type": "stream",
          "text": [
            "Epoch: 14 |Training loss: 1.9918\n"
          ],
          "name": "stdout"
        },
        {
          "output_type": "stream",
          "text": [
            "\n",
            "\n",
            "training:   3%|▎         | 16/500 [07:11<3:37:11, 26.92s/it]\u001b[A\u001b[A"
          ],
          "name": "stderr"
        },
        {
          "output_type": "stream",
          "text": [
            "Epoch: 15 |Training loss: 1.9746\n"
          ],
          "name": "stdout"
        },
        {
          "output_type": "stream",
          "text": [
            "\n",
            "\n",
            "training:   3%|▎         | 17/500 [07:38<3:36:43, 26.92s/it]\u001b[A\u001b[A"
          ],
          "name": "stderr"
        },
        {
          "output_type": "stream",
          "text": [
            "Epoch: 16 |Training loss: 1.9511\n"
          ],
          "name": "stdout"
        },
        {
          "output_type": "stream",
          "text": [
            "\n",
            "\n",
            "training:   4%|▎         | 18/500 [08:05<3:36:10, 26.91s/it]\u001b[A\u001b[A"
          ],
          "name": "stderr"
        },
        {
          "output_type": "stream",
          "text": [
            "Epoch: 17 |Training loss: 1.9273\n"
          ],
          "name": "stdout"
        },
        {
          "output_type": "stream",
          "text": [
            "\n",
            "\n",
            "training:   4%|▍         | 19/500 [08:32<3:35:41, 26.91s/it]\u001b[A\u001b[A"
          ],
          "name": "stderr"
        },
        {
          "output_type": "stream",
          "text": [
            "Epoch: 18 |Training loss: 1.9363\n"
          ],
          "name": "stdout"
        },
        {
          "output_type": "stream",
          "text": [
            "\n",
            "\n",
            "training:   4%|▍         | 20/500 [08:59<3:35:13, 26.90s/it]\u001b[A\u001b[A"
          ],
          "name": "stderr"
        },
        {
          "output_type": "stream",
          "text": [
            "Epoch: 19 |Training loss: 1.8999\n"
          ],
          "name": "stdout"
        },
        {
          "output_type": "stream",
          "text": [
            "\n",
            "\n",
            "training:   4%|▍         | 21/500 [09:26<3:35:27, 26.99s/it]\u001b[A\u001b[A"
          ],
          "name": "stderr"
        },
        {
          "output_type": "stream",
          "text": [
            "Epoch: 20 |Training loss: 1.8875\n"
          ],
          "name": "stdout"
        },
        {
          "output_type": "stream",
          "text": [
            "\n",
            "\n",
            "training:   4%|▍         | 22/500 [09:53<3:34:50, 26.97s/it]\u001b[A\u001b[A"
          ],
          "name": "stderr"
        },
        {
          "output_type": "stream",
          "text": [
            "Epoch: 21 |Training loss: 1.8725\n"
          ],
          "name": "stdout"
        },
        {
          "output_type": "stream",
          "text": [
            "\n",
            "\n",
            "training:   5%|▍         | 23/500 [10:20<3:34:37, 27.00s/it]\u001b[A\u001b[A"
          ],
          "name": "stderr"
        },
        {
          "output_type": "stream",
          "text": [
            "Epoch: 22 |Training loss: 1.8576\n"
          ],
          "name": "stdout"
        },
        {
          "output_type": "stream",
          "text": [
            "\n",
            "\n",
            "training:   5%|▍         | 24/500 [10:47<3:34:04, 26.98s/it]\u001b[A\u001b[A"
          ],
          "name": "stderr"
        },
        {
          "output_type": "stream",
          "text": [
            "Epoch: 23 |Training loss: 1.8462\n"
          ],
          "name": "stdout"
        },
        {
          "output_type": "stream",
          "text": [
            "\n",
            "\n",
            "training:   5%|▌         | 25/500 [11:14<3:33:28, 26.97s/it]\u001b[A\u001b[A"
          ],
          "name": "stderr"
        },
        {
          "output_type": "stream",
          "text": [
            "Epoch: 24 |Training loss: 1.8326\n"
          ],
          "name": "stdout"
        },
        {
          "output_type": "stream",
          "text": [
            "\n",
            "\n",
            "training:   5%|▌         | 26/500 [11:41<3:32:54, 26.95s/it]\u001b[A\u001b[A"
          ],
          "name": "stderr"
        },
        {
          "output_type": "stream",
          "text": [
            "Epoch: 25 |Training loss: 1.8210\n"
          ],
          "name": "stdout"
        },
        {
          "output_type": "stream",
          "text": [
            "\n",
            "\n",
            "training:   5%|▌         | 27/500 [12:08<3:32:22, 26.94s/it]\u001b[A\u001b[A"
          ],
          "name": "stderr"
        },
        {
          "output_type": "stream",
          "text": [
            "Epoch: 26 |Training loss: 1.8099\n"
          ],
          "name": "stdout"
        },
        {
          "output_type": "stream",
          "text": [
            "\n",
            "\n",
            "training:   6%|▌         | 28/500 [12:35<3:31:52, 26.93s/it]\u001b[A\u001b[A"
          ],
          "name": "stderr"
        },
        {
          "output_type": "stream",
          "text": [
            "Epoch: 27 |Training loss: 1.8032\n"
          ],
          "name": "stdout"
        },
        {
          "output_type": "stream",
          "text": [
            "\n",
            "\n",
            "training:   6%|▌         | 29/500 [13:02<3:31:22, 26.93s/it]\u001b[A\u001b[A"
          ],
          "name": "stderr"
        },
        {
          "output_type": "stream",
          "text": [
            "Epoch: 28 |Training loss: 1.7916\n"
          ],
          "name": "stdout"
        },
        {
          "output_type": "stream",
          "text": [
            "\n",
            "\n",
            "training:   6%|▌         | 30/500 [13:29<3:30:58, 26.93s/it]\u001b[A\u001b[A"
          ],
          "name": "stderr"
        },
        {
          "output_type": "stream",
          "text": [
            "Epoch: 29 |Training loss: 1.7803\n"
          ],
          "name": "stdout"
        },
        {
          "output_type": "stream",
          "text": [
            "\n",
            "\n",
            "training:   6%|▌         | 31/500 [13:56<3:30:31, 26.93s/it]\u001b[A\u001b[A"
          ],
          "name": "stderr"
        },
        {
          "output_type": "stream",
          "text": [
            "Epoch: 30 |Training loss: 1.7755\n"
          ],
          "name": "stdout"
        },
        {
          "output_type": "stream",
          "text": [
            "\n",
            "\n",
            "training:   6%|▋         | 32/500 [14:22<3:30:00, 26.92s/it]\u001b[A\u001b[A"
          ],
          "name": "stderr"
        },
        {
          "output_type": "stream",
          "text": [
            "Epoch: 31 |Training loss: 1.7655\n"
          ],
          "name": "stdout"
        },
        {
          "output_type": "stream",
          "text": [
            "\n",
            "\n",
            "training:   7%|▋         | 33/500 [14:49<3:29:31, 26.92s/it]\u001b[A\u001b[A"
          ],
          "name": "stderr"
        },
        {
          "output_type": "stream",
          "text": [
            "Epoch: 32 |Training loss: 1.7591\n"
          ],
          "name": "stdout"
        },
        {
          "output_type": "stream",
          "text": [
            "\n",
            "\n",
            "training:   7%|▋         | 34/500 [15:16<3:29:03, 26.92s/it]\u001b[A\u001b[A"
          ],
          "name": "stderr"
        },
        {
          "output_type": "stream",
          "text": [
            "Epoch: 33 |Training loss: 1.7511\n"
          ],
          "name": "stdout"
        },
        {
          "output_type": "stream",
          "text": [
            "\n",
            "\n",
            "training:   7%|▋         | 35/500 [15:43<3:29:03, 26.97s/it]\u001b[A\u001b[A"
          ],
          "name": "stderr"
        },
        {
          "output_type": "stream",
          "text": [
            "Epoch: 34 |Training loss: 1.7449\n"
          ],
          "name": "stdout"
        },
        {
          "output_type": "stream",
          "text": [
            "\n",
            "\n",
            "training:   7%|▋         | 36/500 [16:10<3:28:30, 26.96s/it]\u001b[A\u001b[A"
          ],
          "name": "stderr"
        },
        {
          "output_type": "stream",
          "text": [
            "Epoch: 35 |Training loss: 1.7377\n"
          ],
          "name": "stdout"
        },
        {
          "output_type": "stream",
          "text": [
            "\n",
            "\n",
            "training:   7%|▋         | 37/500 [16:37<3:28:01, 26.96s/it]\u001b[A\u001b[A"
          ],
          "name": "stderr"
        },
        {
          "output_type": "stream",
          "text": [
            "Epoch: 36 |Training loss: 1.7284\n"
          ],
          "name": "stdout"
        },
        {
          "output_type": "stream",
          "text": [
            "\n",
            "\n",
            "training:   8%|▊         | 38/500 [17:04<3:27:30, 26.95s/it]\u001b[A\u001b[A"
          ],
          "name": "stderr"
        },
        {
          "output_type": "stream",
          "text": [
            "Epoch: 37 |Training loss: 1.7176\n"
          ],
          "name": "stdout"
        },
        {
          "output_type": "stream",
          "text": [
            "\n",
            "\n",
            "training:   8%|▊         | 39/500 [17:31<3:27:07, 26.96s/it]\u001b[A\u001b[A"
          ],
          "name": "stderr"
        },
        {
          "output_type": "stream",
          "text": [
            "Epoch: 38 |Training loss: 1.7093\n"
          ],
          "name": "stdout"
        },
        {
          "output_type": "stream",
          "text": [
            "\n",
            "\n",
            "training:   8%|▊         | 40/500 [17:58<3:26:41, 26.96s/it]\u001b[A\u001b[A"
          ],
          "name": "stderr"
        },
        {
          "output_type": "stream",
          "text": [
            "Epoch: 39 |Training loss: 1.7032\n"
          ],
          "name": "stdout"
        },
        {
          "output_type": "stream",
          "text": [
            "\n",
            "\n",
            "training:   8%|▊         | 41/500 [18:25<3:26:58, 27.06s/it]\u001b[A\u001b[A"
          ],
          "name": "stderr"
        },
        {
          "output_type": "stream",
          "text": [
            "Epoch: 40 |Training loss: 1.6973\n"
          ],
          "name": "stdout"
        },
        {
          "output_type": "stream",
          "text": [
            "\n",
            "\n",
            "training:   8%|▊         | 42/500 [18:52<3:26:16, 27.02s/it]\u001b[A\u001b[A"
          ],
          "name": "stderr"
        },
        {
          "output_type": "stream",
          "text": [
            "Epoch: 41 |Training loss: 1.6897\n"
          ],
          "name": "stdout"
        },
        {
          "output_type": "stream",
          "text": [
            "\n",
            "\n",
            "training:   9%|▊         | 43/500 [19:19<3:25:33, 26.99s/it]\u001b[A\u001b[A"
          ],
          "name": "stderr"
        },
        {
          "output_type": "stream",
          "text": [
            "Epoch: 42 |Training loss: 1.6846\n"
          ],
          "name": "stdout"
        },
        {
          "output_type": "stream",
          "text": [
            "\n",
            "\n",
            "training:   9%|▉         | 44/500 [19:46<3:24:58, 26.97s/it]\u001b[A\u001b[A"
          ],
          "name": "stderr"
        },
        {
          "output_type": "stream",
          "text": [
            "Epoch: 43 |Training loss: 1.6780\n"
          ],
          "name": "stdout"
        },
        {
          "output_type": "stream",
          "text": [
            "\n",
            "\n",
            "training:   9%|▉         | 45/500 [20:13<3:24:22, 26.95s/it]\u001b[A\u001b[A"
          ],
          "name": "stderr"
        },
        {
          "output_type": "stream",
          "text": [
            "Epoch: 44 |Training loss: 1.6720\n"
          ],
          "name": "stdout"
        },
        {
          "output_type": "stream",
          "text": [
            "\n",
            "\n",
            "training:   9%|▉         | 46/500 [20:40<3:24:12, 26.99s/it]\u001b[A\u001b[A"
          ],
          "name": "stderr"
        },
        {
          "output_type": "stream",
          "text": [
            "Epoch: 45 |Training loss: 1.6665\n"
          ],
          "name": "stdout"
        },
        {
          "output_type": "stream",
          "text": [
            "\n",
            "\n",
            "training:   9%|▉         | 47/500 [21:07<3:23:35, 26.97s/it]\u001b[A\u001b[A"
          ],
          "name": "stderr"
        },
        {
          "output_type": "stream",
          "text": [
            "Epoch: 46 |Training loss: 1.6596\n"
          ],
          "name": "stdout"
        },
        {
          "output_type": "stream",
          "text": [
            "\n",
            "\n",
            "training:  10%|▉         | 48/500 [21:34<3:23:03, 26.96s/it]\u001b[A\u001b[A"
          ],
          "name": "stderr"
        },
        {
          "output_type": "stream",
          "text": [
            "Epoch: 47 |Training loss: 1.6537\n"
          ],
          "name": "stdout"
        },
        {
          "output_type": "stream",
          "text": [
            "\n",
            "\n",
            "training:  10%|▉         | 49/500 [22:01<3:22:32, 26.95s/it]\u001b[A\u001b[A"
          ],
          "name": "stderr"
        },
        {
          "output_type": "stream",
          "text": [
            "Epoch: 48 |Training loss: 1.6467\n"
          ],
          "name": "stdout"
        },
        {
          "output_type": "stream",
          "text": [
            "\n",
            "\n",
            "training:  10%|█         | 50/500 [22:28<3:22:00, 26.93s/it]\u001b[A\u001b[A"
          ],
          "name": "stderr"
        },
        {
          "output_type": "stream",
          "text": [
            "Epoch: 49 |Training loss: 1.6424\n"
          ],
          "name": "stdout"
        },
        {
          "output_type": "stream",
          "text": [
            "\n",
            "\n",
            "training:  10%|█         | 51/500 [22:55<3:21:31, 26.93s/it]\u001b[A\u001b[A"
          ],
          "name": "stderr"
        },
        {
          "output_type": "stream",
          "text": [
            "Epoch: 50 |Training loss: 1.6376\n"
          ],
          "name": "stdout"
        },
        {
          "output_type": "stream",
          "text": [
            "\n",
            "\n",
            "training:  10%|█         | 52/500 [23:22<3:21:06, 26.93s/it]\u001b[A\u001b[A"
          ],
          "name": "stderr"
        },
        {
          "output_type": "stream",
          "text": [
            "Epoch: 51 |Training loss: 1.6330\n"
          ],
          "name": "stdout"
        },
        {
          "output_type": "stream",
          "text": [
            "\n",
            "\n",
            "training:  11%|█         | 53/500 [23:49<3:20:41, 26.94s/it]\u001b[A\u001b[A"
          ],
          "name": "stderr"
        },
        {
          "output_type": "stream",
          "text": [
            "Epoch: 52 |Training loss: 1.6320\n"
          ],
          "name": "stdout"
        },
        {
          "output_type": "stream",
          "text": [
            "\n",
            "\n",
            "training:  11%|█         | 54/500 [24:16<3:20:16, 26.94s/it]\u001b[A\u001b[A"
          ],
          "name": "stderr"
        },
        {
          "output_type": "stream",
          "text": [
            "Epoch: 53 |Training loss: 1.6234\n"
          ],
          "name": "stdout"
        },
        {
          "output_type": "stream",
          "text": [
            "\n",
            "\n",
            "training:  11%|█         | 55/500 [24:43<3:19:54, 26.95s/it]\u001b[A\u001b[A"
          ],
          "name": "stderr"
        },
        {
          "output_type": "stream",
          "text": [
            "Epoch: 54 |Training loss: 1.6192\n"
          ],
          "name": "stdout"
        },
        {
          "output_type": "stream",
          "text": [
            "\n",
            "\n",
            "training:  11%|█         | 56/500 [25:10<3:19:28, 26.96s/it]\u001b[A\u001b[A"
          ],
          "name": "stderr"
        },
        {
          "output_type": "stream",
          "text": [
            "Epoch: 55 |Training loss: 1.6152\n"
          ],
          "name": "stdout"
        },
        {
          "output_type": "stream",
          "text": [
            "\n",
            "\n",
            "training:  11%|█▏        | 57/500 [25:37<3:19:00, 26.95s/it]\u001b[A\u001b[A"
          ],
          "name": "stderr"
        },
        {
          "output_type": "stream",
          "text": [
            "Epoch: 56 |Training loss: 1.6100\n"
          ],
          "name": "stdout"
        },
        {
          "output_type": "stream",
          "text": [
            "\n",
            "\n",
            "training:  12%|█▏        | 58/500 [26:03<3:18:28, 26.94s/it]\u001b[A\u001b[A"
          ],
          "name": "stderr"
        },
        {
          "output_type": "stream",
          "text": [
            "Epoch: 57 |Training loss: 1.6045\n"
          ],
          "name": "stdout"
        },
        {
          "output_type": "stream",
          "text": [
            "\n",
            "\n",
            "training:  12%|█▏        | 59/500 [26:31<3:18:18, 26.98s/it]\u001b[A\u001b[A"
          ],
          "name": "stderr"
        },
        {
          "output_type": "stream",
          "text": [
            "Epoch: 58 |Training loss: 1.6016\n"
          ],
          "name": "stdout"
        },
        {
          "output_type": "stream",
          "text": [
            "\n",
            "\n",
            "training:  12%|█▏        | 60/500 [26:57<3:17:41, 26.96s/it]\u001b[A\u001b[A"
          ],
          "name": "stderr"
        },
        {
          "output_type": "stream",
          "text": [
            "Epoch: 59 |Training loss: 1.5937\n"
          ],
          "name": "stdout"
        },
        {
          "output_type": "stream",
          "text": [
            "\n",
            "\n",
            "training:  12%|█▏        | 61/500 [27:25<3:17:45, 27.03s/it]\u001b[A\u001b[A"
          ],
          "name": "stderr"
        },
        {
          "output_type": "stream",
          "text": [
            "Epoch: 60 |Training loss: 1.5906\n"
          ],
          "name": "stdout"
        },
        {
          "output_type": "stream",
          "text": [
            "\n",
            "\n",
            "training:  12%|█▏        | 62/500 [27:52<3:17:02, 26.99s/it]\u001b[A\u001b[A"
          ],
          "name": "stderr"
        },
        {
          "output_type": "stream",
          "text": [
            "Epoch: 61 |Training loss: 1.5843\n"
          ],
          "name": "stdout"
        },
        {
          "output_type": "stream",
          "text": [
            "\n",
            "\n",
            "training:  13%|█▎        | 63/500 [28:18<3:16:25, 26.97s/it]\u001b[A\u001b[A"
          ],
          "name": "stderr"
        },
        {
          "output_type": "stream",
          "text": [
            "Epoch: 62 |Training loss: 1.5793\n"
          ],
          "name": "stdout"
        },
        {
          "output_type": "stream",
          "text": [
            "\n",
            "\n",
            "training:  13%|█▎        | 64/500 [28:45<3:15:51, 26.95s/it]\u001b[A\u001b[A"
          ],
          "name": "stderr"
        },
        {
          "output_type": "stream",
          "text": [
            "Epoch: 63 |Training loss: 1.5748\n"
          ],
          "name": "stdout"
        },
        {
          "output_type": "stream",
          "text": [
            "\n",
            "\n",
            "training:  13%|█▎        | 65/500 [29:12<3:15:19, 26.94s/it]\u001b[A\u001b[A"
          ],
          "name": "stderr"
        },
        {
          "output_type": "stream",
          "text": [
            "Epoch: 64 |Training loss: 1.5685\n"
          ],
          "name": "stdout"
        },
        {
          "output_type": "stream",
          "text": [
            "\n",
            "\n",
            "training:  13%|█▎        | 66/500 [29:39<3:14:47, 26.93s/it]\u001b[A\u001b[A"
          ],
          "name": "stderr"
        },
        {
          "output_type": "stream",
          "text": [
            "Epoch: 65 |Training loss: 1.5635\n"
          ],
          "name": "stdout"
        },
        {
          "output_type": "stream",
          "text": [
            "\n",
            "\n",
            "training:  13%|█▎        | 67/500 [30:06<3:14:20, 26.93s/it]\u001b[A\u001b[A"
          ],
          "name": "stderr"
        },
        {
          "output_type": "stream",
          "text": [
            "Epoch: 66 |Training loss: 1.5566\n"
          ],
          "name": "stdout"
        },
        {
          "output_type": "stream",
          "text": [
            "\n",
            "\n",
            "training:  14%|█▎        | 68/500 [30:33<3:13:54, 26.93s/it]\u001b[A\u001b[A"
          ],
          "name": "stderr"
        },
        {
          "output_type": "stream",
          "text": [
            "Epoch: 67 |Training loss: 1.5503\n"
          ],
          "name": "stdout"
        },
        {
          "output_type": "stream",
          "text": [
            "\n",
            "\n",
            "training:  14%|█▍        | 69/500 [31:00<3:13:30, 26.94s/it]\u001b[A\u001b[A"
          ],
          "name": "stderr"
        },
        {
          "output_type": "stream",
          "text": [
            "Epoch: 68 |Training loss: 1.5462\n"
          ],
          "name": "stdout"
        },
        {
          "output_type": "stream",
          "text": [
            "\n",
            "\n",
            "training:  14%|█▍        | 70/500 [31:27<3:12:59, 26.93s/it]\u001b[A\u001b[A"
          ],
          "name": "stderr"
        },
        {
          "output_type": "stream",
          "text": [
            "Epoch: 69 |Training loss: 1.5395\n"
          ],
          "name": "stdout"
        },
        {
          "output_type": "stream",
          "text": [
            "\n",
            "\n",
            "training:  14%|█▍        | 71/500 [31:54<3:12:30, 26.92s/it]\u001b[A\u001b[A"
          ],
          "name": "stderr"
        },
        {
          "output_type": "stream",
          "text": [
            "Epoch: 70 |Training loss: 1.5324\n"
          ],
          "name": "stdout"
        },
        {
          "output_type": "stream",
          "text": [
            "\n",
            "\n",
            "training:  14%|█▍        | 72/500 [32:21<3:12:23, 26.97s/it]\u001b[A\u001b[A"
          ],
          "name": "stderr"
        },
        {
          "output_type": "stream",
          "text": [
            "Epoch: 71 |Training loss: 1.5265\n"
          ],
          "name": "stdout"
        },
        {
          "output_type": "stream",
          "text": [
            "\n",
            "\n",
            "training:  15%|█▍        | 73/500 [32:48<3:11:51, 26.96s/it]\u001b[A\u001b[A"
          ],
          "name": "stderr"
        },
        {
          "output_type": "stream",
          "text": [
            "Epoch: 72 |Training loss: 1.5251\n"
          ],
          "name": "stdout"
        },
        {
          "output_type": "stream",
          "text": [
            "\n",
            "\n",
            "training:  15%|█▍        | 74/500 [33:15<3:11:22, 26.96s/it]\u001b[A\u001b[A"
          ],
          "name": "stderr"
        },
        {
          "output_type": "stream",
          "text": [
            "Epoch: 73 |Training loss: 1.5147\n"
          ],
          "name": "stdout"
        },
        {
          "output_type": "stream",
          "text": [
            "\n",
            "\n",
            "training:  15%|█▌        | 75/500 [33:42<3:10:51, 26.95s/it]\u001b[A\u001b[A"
          ],
          "name": "stderr"
        },
        {
          "output_type": "stream",
          "text": [
            "Epoch: 74 |Training loss: 1.5065\n"
          ],
          "name": "stdout"
        },
        {
          "output_type": "stream",
          "text": [
            "\n",
            "\n",
            "training:  15%|█▌        | 76/500 [34:09<3:10:25, 26.95s/it]\u001b[A\u001b[A"
          ],
          "name": "stderr"
        },
        {
          "output_type": "stream",
          "text": [
            "Epoch: 75 |Training loss: 1.5013\n"
          ],
          "name": "stdout"
        },
        {
          "output_type": "stream",
          "text": [
            "\n",
            "\n",
            "training:  15%|█▌        | 77/500 [34:36<3:09:57, 26.94s/it]\u001b[A\u001b[A"
          ],
          "name": "stderr"
        },
        {
          "output_type": "stream",
          "text": [
            "Epoch: 76 |Training loss: 1.5021\n"
          ],
          "name": "stdout"
        },
        {
          "output_type": "stream",
          "text": [
            "\n",
            "\n",
            "training:  16%|█▌        | 78/500 [35:03<3:09:33, 26.95s/it]\u001b[A\u001b[A"
          ],
          "name": "stderr"
        },
        {
          "output_type": "stream",
          "text": [
            "Epoch: 77 |Training loss: 1.4873\n"
          ],
          "name": "stdout"
        },
        {
          "output_type": "stream",
          "text": [
            "\n",
            "\n",
            "training:  16%|█▌        | 79/500 [35:29<3:09:07, 26.95s/it]\u001b[A\u001b[A"
          ],
          "name": "stderr"
        },
        {
          "output_type": "stream",
          "text": [
            "Epoch: 78 |Training loss: 1.5060\n"
          ],
          "name": "stdout"
        },
        {
          "output_type": "stream",
          "text": [
            "\n",
            "\n",
            "training:  16%|█▌        | 80/500 [35:56<3:08:39, 26.95s/it]\u001b[A\u001b[A"
          ],
          "name": "stderr"
        },
        {
          "output_type": "stream",
          "text": [
            "Epoch: 79 |Training loss: 1.4885\n"
          ],
          "name": "stdout"
        },
        {
          "output_type": "stream",
          "text": [
            "\n",
            "\n",
            "training:  16%|█▌        | 81/500 [36:24<3:08:42, 27.02s/it]\u001b[A\u001b[A"
          ],
          "name": "stderr"
        },
        {
          "output_type": "stream",
          "text": [
            "Epoch: 80 |Training loss: 1.4888\n"
          ],
          "name": "stdout"
        },
        {
          "output_type": "stream",
          "text": [
            "\n",
            "\n",
            "training:  16%|█▋        | 82/500 [36:51<3:08:06, 27.00s/it]\u001b[A\u001b[A"
          ],
          "name": "stderr"
        },
        {
          "output_type": "stream",
          "text": [
            "Epoch: 81 |Training loss: 1.4866\n"
          ],
          "name": "stdout"
        },
        {
          "output_type": "stream",
          "text": [
            "\n",
            "\n",
            "training:  17%|█▋        | 83/500 [37:18<3:07:35, 26.99s/it]\u001b[A\u001b[A"
          ],
          "name": "stderr"
        },
        {
          "output_type": "stream",
          "text": [
            "Epoch: 82 |Training loss: 1.4744\n"
          ],
          "name": "stdout"
        },
        {
          "output_type": "stream",
          "text": [
            "\n",
            "\n",
            "training:  17%|█▋        | 84/500 [37:45<3:07:26, 27.04s/it]\u001b[A\u001b[A"
          ],
          "name": "stderr"
        },
        {
          "output_type": "stream",
          "text": [
            "Epoch: 83 |Training loss: 1.4644\n"
          ],
          "name": "stdout"
        },
        {
          "output_type": "stream",
          "text": [
            "\n",
            "\n",
            "training:  17%|█▋        | 85/500 [38:12<3:06:54, 27.02s/it]\u001b[A\u001b[A"
          ],
          "name": "stderr"
        },
        {
          "output_type": "stream",
          "text": [
            "Epoch: 84 |Training loss: 1.4927\n"
          ],
          "name": "stdout"
        },
        {
          "output_type": "stream",
          "text": [
            "\n",
            "\n",
            "training:  17%|█▋        | 86/500 [38:39<3:06:21, 27.01s/it]\u001b[A\u001b[A"
          ],
          "name": "stderr"
        },
        {
          "output_type": "stream",
          "text": [
            "Epoch: 85 |Training loss: 1.4631\n"
          ],
          "name": "stdout"
        },
        {
          "output_type": "stream",
          "text": [
            "\n",
            "\n",
            "training:  17%|█▋        | 87/500 [39:06<3:05:51, 27.00s/it]\u001b[A\u001b[A"
          ],
          "name": "stderr"
        },
        {
          "output_type": "stream",
          "text": [
            "Epoch: 86 |Training loss: 1.4531\n"
          ],
          "name": "stdout"
        },
        {
          "output_type": "stream",
          "text": [
            "\n",
            "\n",
            "training:  18%|█▊        | 88/500 [39:33<3:05:20, 26.99s/it]\u001b[A\u001b[A"
          ],
          "name": "stderr"
        },
        {
          "output_type": "stream",
          "text": [
            "Epoch: 87 |Training loss: 1.4508\n"
          ],
          "name": "stdout"
        },
        {
          "output_type": "stream",
          "text": [
            "\n",
            "\n",
            "training:  18%|█▊        | 89/500 [40:00<3:04:48, 26.98s/it]\u001b[A\u001b[A"
          ],
          "name": "stderr"
        },
        {
          "output_type": "stream",
          "text": [
            "Epoch: 88 |Training loss: 1.4447\n"
          ],
          "name": "stdout"
        },
        {
          "output_type": "stream",
          "text": [
            "\n",
            "\n",
            "training:  18%|█▊        | 90/500 [40:26<3:04:14, 26.96s/it]\u001b[A\u001b[A"
          ],
          "name": "stderr"
        },
        {
          "output_type": "stream",
          "text": [
            "Epoch: 89 |Training loss: 1.4412\n"
          ],
          "name": "stdout"
        },
        {
          "output_type": "stream",
          "text": [
            "\n",
            "\n",
            "training:  18%|█▊        | 91/500 [40:53<3:03:47, 26.96s/it]\u001b[A\u001b[A"
          ],
          "name": "stderr"
        },
        {
          "output_type": "stream",
          "text": [
            "Epoch: 90 |Training loss: 1.4415\n"
          ],
          "name": "stdout"
        },
        {
          "output_type": "stream",
          "text": [
            "\n",
            "\n",
            "training:  18%|█▊        | 92/500 [41:20<3:03:15, 26.95s/it]\u001b[A\u001b[A"
          ],
          "name": "stderr"
        },
        {
          "output_type": "stream",
          "text": [
            "Epoch: 91 |Training loss: 1.4301\n"
          ],
          "name": "stdout"
        },
        {
          "output_type": "stream",
          "text": [
            "\n",
            "\n",
            "training:  19%|█▊        | 93/500 [41:47<3:02:47, 26.95s/it]\u001b[A\u001b[A"
          ],
          "name": "stderr"
        },
        {
          "output_type": "stream",
          "text": [
            "Epoch: 92 |Training loss: 1.4285\n"
          ],
          "name": "stdout"
        },
        {
          "output_type": "stream",
          "text": [
            "\n",
            "\n",
            "training:  19%|█▉        | 94/500 [42:14<3:02:15, 26.93s/it]\u001b[A\u001b[A"
          ],
          "name": "stderr"
        },
        {
          "output_type": "stream",
          "text": [
            "Epoch: 93 |Training loss: 1.4294\n"
          ],
          "name": "stdout"
        },
        {
          "output_type": "stream",
          "text": [
            "\n",
            "\n",
            "training:  19%|█▉        | 95/500 [42:41<3:02:02, 26.97s/it]\u001b[A\u001b[A"
          ],
          "name": "stderr"
        },
        {
          "output_type": "stream",
          "text": [
            "Epoch: 94 |Training loss: 1.4139\n"
          ],
          "name": "stdout"
        },
        {
          "output_type": "stream",
          "text": [
            "\n",
            "\n",
            "training:  19%|█▉        | 96/500 [43:08<3:01:28, 26.95s/it]\u001b[A\u001b[A"
          ],
          "name": "stderr"
        },
        {
          "output_type": "stream",
          "text": [
            "Epoch: 95 |Training loss: 1.4359\n"
          ],
          "name": "stdout"
        },
        {
          "output_type": "stream",
          "text": [
            "\n",
            "\n",
            "training:  19%|█▉        | 97/500 [43:35<3:00:57, 26.94s/it]\u001b[A\u001b[A"
          ],
          "name": "stderr"
        },
        {
          "output_type": "stream",
          "text": [
            "Epoch: 96 |Training loss: 1.4227\n"
          ],
          "name": "stdout"
        },
        {
          "output_type": "stream",
          "text": [
            "\n",
            "\n",
            "training:  20%|█▉        | 98/500 [44:02<3:00:37, 26.96s/it]\u001b[A\u001b[A"
          ],
          "name": "stderr"
        },
        {
          "output_type": "stream",
          "text": [
            "Epoch: 97 |Training loss: 1.4201\n"
          ],
          "name": "stdout"
        },
        {
          "output_type": "stream",
          "text": [
            "\n",
            "\n",
            "training:  20%|█▉        | 99/500 [44:29<3:00:09, 26.96s/it]\u001b[A\u001b[A"
          ],
          "name": "stderr"
        },
        {
          "output_type": "stream",
          "text": [
            "Epoch: 98 |Training loss: 1.4091\n"
          ],
          "name": "stdout"
        },
        {
          "output_type": "stream",
          "text": [
            "\n",
            "\n",
            "training:  20%|██        | 100/500 [44:56<2:59:44, 26.96s/it]\u001b[A\u001b[A"
          ],
          "name": "stderr"
        },
        {
          "output_type": "stream",
          "text": [
            "Epoch: 99 |Training loss: 1.4064\n"
          ],
          "name": "stdout"
        },
        {
          "output_type": "stream",
          "text": [
            "\n",
            "\n",
            "training:  20%|██        | 101/500 [45:23<2:59:53, 27.05s/it]\u001b[A\u001b[A"
          ],
          "name": "stderr"
        },
        {
          "output_type": "stream",
          "text": [
            "Epoch: 100 |Training loss: 1.4048\n"
          ],
          "name": "stdout"
        },
        {
          "output_type": "stream",
          "text": [
            "\n",
            "\n",
            "training:  20%|██        | 102/500 [45:50<2:59:21, 27.04s/it]\u001b[A\u001b[A"
          ],
          "name": "stderr"
        },
        {
          "output_type": "stream",
          "text": [
            "Epoch: 101 |Training loss: 1.3953\n"
          ],
          "name": "stdout"
        },
        {
          "output_type": "stream",
          "text": [
            "\n",
            "\n",
            "training:  21%|██        | 103/500 [46:17<2:58:47, 27.02s/it]\u001b[A\u001b[A"
          ],
          "name": "stderr"
        },
        {
          "output_type": "stream",
          "text": [
            "Epoch: 102 |Training loss: 1.3938\n"
          ],
          "name": "stdout"
        },
        {
          "output_type": "stream",
          "text": [
            "\n",
            "\n",
            "training:  21%|██        | 104/500 [46:44<2:58:16, 27.01s/it]\u001b[A\u001b[A"
          ],
          "name": "stderr"
        },
        {
          "output_type": "stream",
          "text": [
            "Epoch: 103 |Training loss: 1.3841\n"
          ],
          "name": "stdout"
        },
        {
          "output_type": "stream",
          "text": [
            "\n",
            "\n",
            "training:  21%|██        | 105/500 [47:11<2:57:43, 27.00s/it]\u001b[A\u001b[A"
          ],
          "name": "stderr"
        },
        {
          "output_type": "stream",
          "text": [
            "Epoch: 104 |Training loss: 1.3831\n"
          ],
          "name": "stdout"
        },
        {
          "output_type": "stream",
          "text": [
            "\n",
            "\n",
            "training:  21%|██        | 106/500 [47:38<2:57:09, 26.98s/it]\u001b[A\u001b[A"
          ],
          "name": "stderr"
        },
        {
          "output_type": "stream",
          "text": [
            "Epoch: 105 |Training loss: 1.3772\n"
          ],
          "name": "stdout"
        },
        {
          "output_type": "stream",
          "text": [
            "\n",
            "\n",
            "training:  21%|██▏       | 107/500 [48:05<2:56:40, 26.97s/it]\u001b[A\u001b[A"
          ],
          "name": "stderr"
        },
        {
          "output_type": "stream",
          "text": [
            "Epoch: 106 |Training loss: 1.3713\n"
          ],
          "name": "stdout"
        },
        {
          "output_type": "stream",
          "text": [
            "\n",
            "\n",
            "training:  22%|██▏       | 108/500 [48:32<2:56:13, 26.97s/it]\u001b[A\u001b[A"
          ],
          "name": "stderr"
        },
        {
          "output_type": "stream",
          "text": [
            "Epoch: 107 |Training loss: 1.3704\n"
          ],
          "name": "stdout"
        },
        {
          "output_type": "stream",
          "text": [
            "\n",
            "\n",
            "training:  22%|██▏       | 109/500 [48:59<2:56:06, 27.03s/it]\u001b[A\u001b[A"
          ],
          "name": "stderr"
        },
        {
          "output_type": "stream",
          "text": [
            "Epoch: 108 |Training loss: 1.3630\n"
          ],
          "name": "stdout"
        },
        {
          "output_type": "stream",
          "text": [
            "\n",
            "\n",
            "training:  22%|██▏       | 110/500 [49:26<2:55:36, 27.02s/it]\u001b[A\u001b[A"
          ],
          "name": "stderr"
        },
        {
          "output_type": "stream",
          "text": [
            "Epoch: 109 |Training loss: 1.3584\n"
          ],
          "name": "stdout"
        },
        {
          "output_type": "stream",
          "text": [
            "\n",
            "\n",
            "training:  22%|██▏       | 111/500 [49:53<2:55:03, 27.00s/it]\u001b[A\u001b[A"
          ],
          "name": "stderr"
        },
        {
          "output_type": "stream",
          "text": [
            "Epoch: 110 |Training loss: 1.3535\n"
          ],
          "name": "stdout"
        },
        {
          "output_type": "stream",
          "text": [
            "\n",
            "\n",
            "training:  22%|██▏       | 112/500 [50:20<2:54:31, 26.99s/it]\u001b[A\u001b[A"
          ],
          "name": "stderr"
        },
        {
          "output_type": "stream",
          "text": [
            "Epoch: 111 |Training loss: 1.3447\n"
          ],
          "name": "stdout"
        },
        {
          "output_type": "stream",
          "text": [
            "\n",
            "\n",
            "training:  23%|██▎       | 113/500 [50:47<2:54:01, 26.98s/it]\u001b[A\u001b[A"
          ],
          "name": "stderr"
        },
        {
          "output_type": "stream",
          "text": [
            "Epoch: 112 |Training loss: 1.3511\n"
          ],
          "name": "stdout"
        },
        {
          "output_type": "stream",
          "text": [
            "\n",
            "\n",
            "training:  23%|██▎       | 114/500 [51:14<2:53:29, 26.97s/it]\u001b[A\u001b[A"
          ],
          "name": "stderr"
        },
        {
          "output_type": "stream",
          "text": [
            "Epoch: 113 |Training loss: 1.3388\n"
          ],
          "name": "stdout"
        },
        {
          "output_type": "stream",
          "text": [
            "\n",
            "\n",
            "training:  23%|██▎       | 115/500 [51:41<2:52:57, 26.96s/it]\u001b[A\u001b[A"
          ],
          "name": "stderr"
        },
        {
          "output_type": "stream",
          "text": [
            "Epoch: 114 |Training loss: 1.3443\n"
          ],
          "name": "stdout"
        },
        {
          "output_type": "stream",
          "text": [
            "\n",
            "\n",
            "training:  23%|██▎       | 116/500 [52:08<2:52:31, 26.96s/it]\u001b[A\u001b[A"
          ],
          "name": "stderr"
        },
        {
          "output_type": "stream",
          "text": [
            "Epoch: 115 |Training loss: 1.3366\n"
          ],
          "name": "stdout"
        },
        {
          "output_type": "stream",
          "text": [
            "\n",
            "\n",
            "training:  23%|██▎       | 117/500 [52:35<2:51:59, 26.94s/it]\u001b[A\u001b[A"
          ],
          "name": "stderr"
        },
        {
          "output_type": "stream",
          "text": [
            "Epoch: 116 |Training loss: 1.3326\n"
          ],
          "name": "stdout"
        },
        {
          "output_type": "stream",
          "text": [
            "\n",
            "\n",
            "training:  24%|██▎       | 118/500 [53:02<2:51:31, 26.94s/it]\u001b[A\u001b[A"
          ],
          "name": "stderr"
        },
        {
          "output_type": "stream",
          "text": [
            "Epoch: 117 |Training loss: 1.3237\n"
          ],
          "name": "stdout"
        },
        {
          "output_type": "stream",
          "text": [
            "\n",
            "\n",
            "training:  24%|██▍       | 119/500 [53:29<2:51:05, 26.94s/it]\u001b[A\u001b[A"
          ],
          "name": "stderr"
        },
        {
          "output_type": "stream",
          "text": [
            "Epoch: 118 |Training loss: 1.3201\n"
          ],
          "name": "stdout"
        },
        {
          "output_type": "stream",
          "text": [
            "\n",
            "\n",
            "training:  24%|██▍       | 120/500 [53:56<2:50:36, 26.94s/it]\u001b[A\u001b[A"
          ],
          "name": "stderr"
        },
        {
          "output_type": "stream",
          "text": [
            "Epoch: 119 |Training loss: 1.3151\n"
          ],
          "name": "stdout"
        },
        {
          "output_type": "stream",
          "text": [
            "\n",
            "\n",
            "training:  24%|██▍       | 121/500 [54:23<2:50:40, 27.02s/it]\u001b[A\u001b[A"
          ],
          "name": "stderr"
        },
        {
          "output_type": "stream",
          "text": [
            "Epoch: 120 |Training loss: 1.3078\n"
          ],
          "name": "stdout"
        },
        {
          "output_type": "stream",
          "text": [
            "\n",
            "\n",
            "training:  24%|██▍       | 122/500 [54:50<2:50:24, 27.05s/it]\u001b[A\u001b[A"
          ],
          "name": "stderr"
        },
        {
          "output_type": "stream",
          "text": [
            "Epoch: 121 |Training loss: 1.3095\n"
          ],
          "name": "stdout"
        },
        {
          "output_type": "stream",
          "text": [
            "\n",
            "\n",
            "training:  25%|██▍       | 123/500 [55:17<2:49:47, 27.02s/it]\u001b[A\u001b[A"
          ],
          "name": "stderr"
        },
        {
          "output_type": "stream",
          "text": [
            "Epoch: 122 |Training loss: 1.2961\n"
          ],
          "name": "stdout"
        },
        {
          "output_type": "stream",
          "text": [
            "\n",
            "\n",
            "training:  25%|██▍       | 124/500 [55:44<2:49:14, 27.01s/it]\u001b[A\u001b[A"
          ],
          "name": "stderr"
        },
        {
          "output_type": "stream",
          "text": [
            "Epoch: 123 |Training loss: 1.2953\n"
          ],
          "name": "stdout"
        },
        {
          "output_type": "stream",
          "text": [
            "\n",
            "\n",
            "training:  25%|██▌       | 125/500 [56:11<2:48:41, 26.99s/it]\u001b[A\u001b[A"
          ],
          "name": "stderr"
        },
        {
          "output_type": "stream",
          "text": [
            "Epoch: 124 |Training loss: 1.2914\n"
          ],
          "name": "stdout"
        },
        {
          "output_type": "stream",
          "text": [
            "\n",
            "\n",
            "training:  25%|██▌       | 126/500 [56:38<2:48:10, 26.98s/it]\u001b[A\u001b[A"
          ],
          "name": "stderr"
        },
        {
          "output_type": "stream",
          "text": [
            "Epoch: 125 |Training loss: 1.2839\n"
          ],
          "name": "stdout"
        },
        {
          "output_type": "stream",
          "text": [
            "\n",
            "\n",
            "training:  25%|██▌       | 127/500 [57:05<2:47:38, 26.97s/it]\u001b[A\u001b[A"
          ],
          "name": "stderr"
        },
        {
          "output_type": "stream",
          "text": [
            "Epoch: 126 |Training loss: 1.2785\n"
          ],
          "name": "stdout"
        },
        {
          "output_type": "stream",
          "text": [
            "\n",
            "\n",
            "training:  26%|██▌       | 128/500 [57:32<2:47:06, 26.95s/it]\u001b[A\u001b[A"
          ],
          "name": "stderr"
        },
        {
          "output_type": "stream",
          "text": [
            "Epoch: 127 |Training loss: 1.2733\n"
          ],
          "name": "stdout"
        },
        {
          "output_type": "stream",
          "text": [
            "\n",
            "\n",
            "training:  26%|██▌       | 129/500 [57:59<2:46:39, 26.95s/it]\u001b[A\u001b[A"
          ],
          "name": "stderr"
        },
        {
          "output_type": "stream",
          "text": [
            "Epoch: 128 |Training loss: 1.2732\n"
          ],
          "name": "stdout"
        },
        {
          "output_type": "stream",
          "text": [
            "\n",
            "\n",
            "training:  26%|██▌       | 130/500 [58:26<2:46:10, 26.95s/it]\u001b[A\u001b[A"
          ],
          "name": "stderr"
        },
        {
          "output_type": "stream",
          "text": [
            "Epoch: 129 |Training loss: 1.2651\n"
          ],
          "name": "stdout"
        },
        {
          "output_type": "stream",
          "text": [
            "\n",
            "\n",
            "training:  26%|██▌       | 131/500 [58:53<2:45:44, 26.95s/it]\u001b[A\u001b[A"
          ],
          "name": "stderr"
        },
        {
          "output_type": "stream",
          "text": [
            "Epoch: 130 |Training loss: 1.2603\n"
          ],
          "name": "stdout"
        },
        {
          "output_type": "stream",
          "text": [
            "\n",
            "\n",
            "training:  26%|██▋       | 132/500 [59:20<2:45:20, 26.96s/it]\u001b[A\u001b[A"
          ],
          "name": "stderr"
        },
        {
          "output_type": "stream",
          "text": [
            "Epoch: 131 |Training loss: 1.2548\n"
          ],
          "name": "stdout"
        },
        {
          "output_type": "stream",
          "text": [
            "\n",
            "\n",
            "training:  27%|██▋       | 133/500 [59:47<2:44:59, 26.97s/it]\u001b[A\u001b[A"
          ],
          "name": "stderr"
        },
        {
          "output_type": "stream",
          "text": [
            "Epoch: 132 |Training loss: 1.2517\n"
          ],
          "name": "stdout"
        },
        {
          "output_type": "stream",
          "text": [
            "\n",
            "\n",
            "training:  27%|██▋       | 134/500 [1:00:14<2:44:46, 27.01s/it]\u001b[A\u001b[A"
          ],
          "name": "stderr"
        },
        {
          "output_type": "stream",
          "text": [
            "Epoch: 133 |Training loss: 1.2457\n"
          ],
          "name": "stdout"
        },
        {
          "output_type": "stream",
          "text": [
            "\n",
            "\n",
            "training:  27%|██▋       | 135/500 [1:00:41<2:44:12, 26.99s/it]\u001b[A\u001b[A"
          ],
          "name": "stderr"
        },
        {
          "output_type": "stream",
          "text": [
            "Epoch: 134 |Training loss: 1.2431\n"
          ],
          "name": "stdout"
        },
        {
          "output_type": "stream",
          "text": [
            "\n",
            "\n",
            "training:  27%|██▋       | 136/500 [1:01:08<2:43:42, 26.98s/it]\u001b[A\u001b[A"
          ],
          "name": "stderr"
        },
        {
          "output_type": "stream",
          "text": [
            "Epoch: 135 |Training loss: 1.2395\n"
          ],
          "name": "stdout"
        },
        {
          "output_type": "stream",
          "text": [
            "\n",
            "\n",
            "training:  27%|██▋       | 137/500 [1:01:34<2:43:07, 26.96s/it]\u001b[A\u001b[A"
          ],
          "name": "stderr"
        },
        {
          "output_type": "stream",
          "text": [
            "Epoch: 136 |Training loss: 1.2360\n"
          ],
          "name": "stdout"
        },
        {
          "output_type": "stream",
          "text": [
            "\n",
            "\n",
            "training:  28%|██▊       | 138/500 [1:02:01<2:42:35, 26.95s/it]\u001b[A\u001b[A"
          ],
          "name": "stderr"
        },
        {
          "output_type": "stream",
          "text": [
            "Epoch: 137 |Training loss: 1.2295\n"
          ],
          "name": "stdout"
        },
        {
          "output_type": "stream",
          "text": [
            "\n",
            "\n",
            "training:  28%|██▊       | 139/500 [1:02:28<2:42:04, 26.94s/it]\u001b[A\u001b[A"
          ],
          "name": "stderr"
        },
        {
          "output_type": "stream",
          "text": [
            "Epoch: 138 |Training loss: 1.2294\n"
          ],
          "name": "stdout"
        },
        {
          "output_type": "stream",
          "text": [
            "\n",
            "\n",
            "training:  28%|██▊       | 140/500 [1:02:55<2:41:34, 26.93s/it]\u001b[A\u001b[A"
          ],
          "name": "stderr"
        },
        {
          "output_type": "stream",
          "text": [
            "Epoch: 139 |Training loss: 1.2197\n"
          ],
          "name": "stdout"
        },
        {
          "output_type": "stream",
          "text": [
            "\n",
            "\n",
            "training:  28%|██▊       | 141/500 [1:03:22<2:41:36, 27.01s/it]\u001b[A\u001b[A"
          ],
          "name": "stderr"
        },
        {
          "output_type": "stream",
          "text": [
            "Epoch: 140 |Training loss: 1.2214\n"
          ],
          "name": "stdout"
        },
        {
          "output_type": "stream",
          "text": [
            "\n",
            "\n",
            "training:  28%|██▊       | 142/500 [1:03:49<2:41:01, 26.99s/it]\u001b[A\u001b[A"
          ],
          "name": "stderr"
        },
        {
          "output_type": "stream",
          "text": [
            "Epoch: 141 |Training loss: 1.2137\n"
          ],
          "name": "stdout"
        },
        {
          "output_type": "stream",
          "text": [
            "\n",
            "\n",
            "training:  29%|██▊       | 143/500 [1:04:16<2:40:27, 26.97s/it]\u001b[A\u001b[A"
          ],
          "name": "stderr"
        },
        {
          "output_type": "stream",
          "text": [
            "Epoch: 142 |Training loss: 1.2124\n"
          ],
          "name": "stdout"
        },
        {
          "output_type": "stream",
          "text": [
            "\n",
            "\n",
            "training:  29%|██▉       | 144/500 [1:04:43<2:39:55, 26.95s/it]\u001b[A\u001b[A"
          ],
          "name": "stderr"
        },
        {
          "output_type": "stream",
          "text": [
            "Epoch: 143 |Training loss: 1.2084\n"
          ],
          "name": "stdout"
        },
        {
          "output_type": "stream",
          "text": [
            "\n",
            "\n",
            "training:  29%|██▉       | 145/500 [1:05:10<2:39:40, 26.99s/it]\u001b[A\u001b[A"
          ],
          "name": "stderr"
        },
        {
          "output_type": "stream",
          "text": [
            "Epoch: 144 |Training loss: 1.2039\n"
          ],
          "name": "stdout"
        },
        {
          "output_type": "stream",
          "text": [
            "\n",
            "\n",
            "training:  29%|██▉       | 146/500 [1:05:37<2:39:09, 26.98s/it]\u001b[A\u001b[A"
          ],
          "name": "stderr"
        },
        {
          "output_type": "stream",
          "text": [
            "Epoch: 145 |Training loss: 1.1994\n"
          ],
          "name": "stdout"
        },
        {
          "output_type": "stream",
          "text": [
            "\n",
            "\n",
            "training:  29%|██▉       | 147/500 [1:06:04<2:38:37, 26.96s/it]\u001b[A\u001b[A"
          ],
          "name": "stderr"
        },
        {
          "output_type": "stream",
          "text": [
            "Epoch: 146 |Training loss: 1.1935\n"
          ],
          "name": "stdout"
        },
        {
          "output_type": "stream",
          "text": [
            "\n",
            "\n",
            "training:  30%|██▉       | 148/500 [1:06:31<2:38:11, 26.96s/it]\u001b[A\u001b[A"
          ],
          "name": "stderr"
        },
        {
          "output_type": "stream",
          "text": [
            "Epoch: 147 |Training loss: 1.1909\n"
          ],
          "name": "stdout"
        },
        {
          "output_type": "stream",
          "text": [
            "\n",
            "\n",
            "training:  30%|██▉       | 149/500 [1:06:58<2:37:47, 26.97s/it]\u001b[A\u001b[A"
          ],
          "name": "stderr"
        },
        {
          "output_type": "stream",
          "text": [
            "Epoch: 148 |Training loss: 1.1839\n"
          ],
          "name": "stdout"
        },
        {
          "output_type": "stream",
          "text": [
            "\n",
            "\n",
            "training:  30%|███       | 150/500 [1:07:25<2:37:18, 26.97s/it]\u001b[A\u001b[A"
          ],
          "name": "stderr"
        },
        {
          "output_type": "stream",
          "text": [
            "Epoch: 149 |Training loss: 1.1848\n"
          ],
          "name": "stdout"
        },
        {
          "output_type": "stream",
          "text": [
            "\n",
            "\n",
            "training:  30%|███       | 151/500 [1:07:52<2:36:52, 26.97s/it]\u001b[A\u001b[A"
          ],
          "name": "stderr"
        },
        {
          "output_type": "stream",
          "text": [
            "Epoch: 150 |Training loss: 1.1839\n"
          ],
          "name": "stdout"
        },
        {
          "output_type": "stream",
          "text": [
            "\n",
            "\n",
            "training:  30%|███       | 152/500 [1:08:19<2:36:24, 26.97s/it]\u001b[A\u001b[A"
          ],
          "name": "stderr"
        },
        {
          "output_type": "stream",
          "text": [
            "Epoch: 151 |Training loss: 1.1752\n"
          ],
          "name": "stdout"
        },
        {
          "output_type": "stream",
          "text": [
            "\n",
            "\n",
            "training:  31%|███       | 153/500 [1:08:46<2:36:00, 26.98s/it]\u001b[A\u001b[A"
          ],
          "name": "stderr"
        },
        {
          "output_type": "stream",
          "text": [
            "Epoch: 152 |Training loss: 1.1760\n"
          ],
          "name": "stdout"
        },
        {
          "output_type": "stream",
          "text": [
            "\n",
            "\n",
            "training:  31%|███       | 154/500 [1:09:13<2:35:34, 26.98s/it]\u001b[A\u001b[A"
          ],
          "name": "stderr"
        },
        {
          "output_type": "stream",
          "text": [
            "Epoch: 153 |Training loss: 1.1666\n"
          ],
          "name": "stdout"
        },
        {
          "output_type": "stream",
          "text": [
            "\n",
            "\n",
            "training:  31%|███       | 155/500 [1:09:40<2:35:08, 26.98s/it]\u001b[A\u001b[A"
          ],
          "name": "stderr"
        },
        {
          "output_type": "stream",
          "text": [
            "Epoch: 154 |Training loss: 1.1764\n"
          ],
          "name": "stdout"
        },
        {
          "output_type": "stream",
          "text": [
            "\n",
            "\n",
            "training:  31%|███       | 156/500 [1:10:07<2:34:39, 26.97s/it]\u001b[A\u001b[A"
          ],
          "name": "stderr"
        },
        {
          "output_type": "stream",
          "text": [
            "Epoch: 155 |Training loss: 1.1628\n"
          ],
          "name": "stdout"
        },
        {
          "output_type": "stream",
          "text": [
            "\n",
            "\n",
            "training:  31%|███▏      | 157/500 [1:10:34<2:34:09, 26.97s/it]\u001b[A\u001b[A"
          ],
          "name": "stderr"
        },
        {
          "output_type": "stream",
          "text": [
            "Epoch: 156 |Training loss: 1.1794\n"
          ],
          "name": "stdout"
        },
        {
          "output_type": "stream",
          "text": [
            "\n",
            "\n",
            "training:  32%|███▏      | 158/500 [1:11:01<2:33:52, 27.00s/it]\u001b[A\u001b[A"
          ],
          "name": "stderr"
        },
        {
          "output_type": "stream",
          "text": [
            "Epoch: 157 |Training loss: 1.1722\n"
          ],
          "name": "stdout"
        },
        {
          "output_type": "stream",
          "text": [
            "\n",
            "\n",
            "training:  32%|███▏      | 159/500 [1:11:28<2:33:18, 26.98s/it]\u001b[A\u001b[A"
          ],
          "name": "stderr"
        },
        {
          "output_type": "stream",
          "text": [
            "Epoch: 158 |Training loss: 1.1742\n"
          ],
          "name": "stdout"
        },
        {
          "output_type": "stream",
          "text": [
            "\n",
            "\n",
            "training:  32%|███▏      | 160/500 [1:11:55<2:32:44, 26.95s/it]\u001b[A\u001b[A"
          ],
          "name": "stderr"
        },
        {
          "output_type": "stream",
          "text": [
            "Epoch: 159 |Training loss: 1.1783\n"
          ],
          "name": "stdout"
        },
        {
          "output_type": "stream",
          "text": [
            "\n",
            "\n",
            "training:  32%|███▏      | 161/500 [1:12:22<2:32:40, 27.02s/it]\u001b[A\u001b[A"
          ],
          "name": "stderr"
        },
        {
          "output_type": "stream",
          "text": [
            "Epoch: 160 |Training loss: 1.1684\n"
          ],
          "name": "stdout"
        },
        {
          "output_type": "stream",
          "text": [
            "\n",
            "\n",
            "training:  32%|███▏      | 162/500 [1:12:49<2:32:03, 26.99s/it]\u001b[A\u001b[A"
          ],
          "name": "stderr"
        },
        {
          "output_type": "stream",
          "text": [
            "Epoch: 161 |Training loss: 1.1620\n"
          ],
          "name": "stdout"
        },
        {
          "output_type": "stream",
          "text": [
            "\n",
            "\n",
            "training:  33%|███▎      | 163/500 [1:13:16<2:31:31, 26.98s/it]\u001b[A\u001b[A"
          ],
          "name": "stderr"
        },
        {
          "output_type": "stream",
          "text": [
            "Epoch: 162 |Training loss: 1.1594\n"
          ],
          "name": "stdout"
        },
        {
          "output_type": "stream",
          "text": [
            "\n",
            "\n",
            "training:  33%|███▎      | 164/500 [1:13:43<2:31:01, 26.97s/it]\u001b[A\u001b[A"
          ],
          "name": "stderr"
        },
        {
          "output_type": "stream",
          "text": [
            "Epoch: 163 |Training loss: 1.1515\n"
          ],
          "name": "stdout"
        },
        {
          "output_type": "stream",
          "text": [
            "\n",
            "\n",
            "training:  33%|███▎      | 165/500 [1:14:10<2:30:36, 26.97s/it]\u001b[A\u001b[A"
          ],
          "name": "stderr"
        },
        {
          "output_type": "stream",
          "text": [
            "Epoch: 164 |Training loss: 1.1520\n"
          ],
          "name": "stdout"
        },
        {
          "output_type": "stream",
          "text": [
            "\n",
            "\n",
            "training:  33%|███▎      | 166/500 [1:14:37<2:30:09, 26.98s/it]\u001b[A\u001b[A"
          ],
          "name": "stderr"
        },
        {
          "output_type": "stream",
          "text": [
            "Epoch: 165 |Training loss: 1.1455\n"
          ],
          "name": "stdout"
        },
        {
          "output_type": "stream",
          "text": [
            "\n",
            "\n",
            "training:  33%|███▎      | 167/500 [1:15:04<2:29:45, 26.98s/it]\u001b[A\u001b[A"
          ],
          "name": "stderr"
        },
        {
          "output_type": "stream",
          "text": [
            "Epoch: 166 |Training loss: 1.1408\n"
          ],
          "name": "stdout"
        },
        {
          "output_type": "stream",
          "text": [
            "\n",
            "\n",
            "training:  34%|███▎      | 168/500 [1:15:31<2:29:17, 26.98s/it]\u001b[A\u001b[A"
          ],
          "name": "stderr"
        },
        {
          "output_type": "stream",
          "text": [
            "Epoch: 167 |Training loss: 1.1380\n"
          ],
          "name": "stdout"
        },
        {
          "output_type": "stream",
          "text": [
            "\n",
            "\n",
            "training:  34%|███▍      | 169/500 [1:15:58<2:28:50, 26.98s/it]\u001b[A\u001b[A"
          ],
          "name": "stderr"
        },
        {
          "output_type": "stream",
          "text": [
            "Epoch: 168 |Training loss: 1.1337\n"
          ],
          "name": "stdout"
        },
        {
          "output_type": "stream",
          "text": [
            "\n",
            "\n",
            "training:  34%|███▍      | 170/500 [1:16:25<2:28:22, 26.98s/it]\u001b[A\u001b[A"
          ],
          "name": "stderr"
        },
        {
          "output_type": "stream",
          "text": [
            "Epoch: 169 |Training loss: 1.1364\n"
          ],
          "name": "stdout"
        },
        {
          "output_type": "stream",
          "text": [
            "\n",
            "\n",
            "training:  34%|███▍      | 171/500 [1:16:52<2:28:08, 27.02s/it]\u001b[A\u001b[A"
          ],
          "name": "stderr"
        },
        {
          "output_type": "stream",
          "text": [
            "Epoch: 170 |Training loss: 1.1281\n"
          ],
          "name": "stdout"
        },
        {
          "output_type": "stream",
          "text": [
            "\n",
            "\n",
            "training:  34%|███▍      | 172/500 [1:17:19<2:27:35, 27.00s/it]\u001b[A\u001b[A"
          ],
          "name": "stderr"
        },
        {
          "output_type": "stream",
          "text": [
            "Epoch: 171 |Training loss: 1.1240\n"
          ],
          "name": "stdout"
        },
        {
          "output_type": "stream",
          "text": [
            "\n",
            "\n",
            "training:  35%|███▍      | 173/500 [1:17:46<2:27:05, 26.99s/it]\u001b[A\u001b[A"
          ],
          "name": "stderr"
        },
        {
          "output_type": "stream",
          "text": [
            "Epoch: 172 |Training loss: 1.1217\n"
          ],
          "name": "stdout"
        },
        {
          "output_type": "stream",
          "text": [
            "\n",
            "\n",
            "training:  35%|███▍      | 174/500 [1:18:13<2:26:35, 26.98s/it]\u001b[A\u001b[A"
          ],
          "name": "stderr"
        },
        {
          "output_type": "stream",
          "text": [
            "Epoch: 173 |Training loss: 1.1203\n"
          ],
          "name": "stdout"
        },
        {
          "output_type": "stream",
          "text": [
            "\n",
            "\n",
            "training:  35%|███▌      | 175/500 [1:18:40<2:26:09, 26.98s/it]\u001b[A\u001b[A"
          ],
          "name": "stderr"
        },
        {
          "output_type": "stream",
          "text": [
            "Epoch: 174 |Training loss: 1.1137\n"
          ],
          "name": "stdout"
        },
        {
          "output_type": "stream",
          "text": [
            "\n",
            "\n",
            "training:  35%|███▌      | 176/500 [1:19:07<2:25:44, 26.99s/it]\u001b[A\u001b[A"
          ],
          "name": "stderr"
        },
        {
          "output_type": "stream",
          "text": [
            "Epoch: 175 |Training loss: 1.1125\n"
          ],
          "name": "stdout"
        },
        {
          "output_type": "stream",
          "text": [
            "\n",
            "\n",
            "training:  35%|███▌      | 177/500 [1:19:34<2:25:15, 26.98s/it]\u001b[A\u001b[A"
          ],
          "name": "stderr"
        },
        {
          "output_type": "stream",
          "text": [
            "Epoch: 176 |Training loss: 1.1176\n"
          ],
          "name": "stdout"
        },
        {
          "output_type": "stream",
          "text": [
            "\n",
            "\n",
            "training:  36%|███▌      | 178/500 [1:20:01<2:24:45, 26.97s/it]\u001b[A\u001b[A"
          ],
          "name": "stderr"
        },
        {
          "output_type": "stream",
          "text": [
            "Epoch: 177 |Training loss: 1.1061\n"
          ],
          "name": "stdout"
        },
        {
          "output_type": "stream",
          "text": [
            "\n",
            "\n",
            "training:  36%|███▌      | 179/500 [1:20:27<2:24:18, 26.97s/it]\u001b[A\u001b[A"
          ],
          "name": "stderr"
        },
        {
          "output_type": "stream",
          "text": [
            "Epoch: 178 |Training loss: 1.1172\n"
          ],
          "name": "stdout"
        },
        {
          "output_type": "stream",
          "text": [
            "\n",
            "\n",
            "training:  36%|███▌      | 180/500 [1:20:54<2:23:47, 26.96s/it]\u001b[A\u001b[A"
          ],
          "name": "stderr"
        },
        {
          "output_type": "stream",
          "text": [
            "Epoch: 179 |Training loss: 1.1069\n"
          ],
          "name": "stdout"
        },
        {
          "output_type": "stream",
          "text": [
            "\n",
            "\n",
            "training:  36%|███▌      | 181/500 [1:21:22<2:23:42, 27.03s/it]\u001b[A\u001b[A"
          ],
          "name": "stderr"
        },
        {
          "output_type": "stream",
          "text": [
            "Epoch: 180 |Training loss: 1.1131\n"
          ],
          "name": "stdout"
        },
        {
          "output_type": "stream",
          "text": [
            "\n",
            "\n",
            "training:  36%|███▋      | 182/500 [1:21:49<2:23:23, 27.05s/it]\u001b[A\u001b[A"
          ],
          "name": "stderr"
        },
        {
          "output_type": "stream",
          "text": [
            "Epoch: 181 |Training loss: 1.1020\n"
          ],
          "name": "stdout"
        },
        {
          "output_type": "stream",
          "text": [
            "\n",
            "\n",
            "training:  37%|███▋      | 183/500 [1:22:16<2:22:46, 27.02s/it]\u001b[A\u001b[A"
          ],
          "name": "stderr"
        },
        {
          "output_type": "stream",
          "text": [
            "Epoch: 182 |Training loss: 1.1155\n"
          ],
          "name": "stdout"
        },
        {
          "output_type": "stream",
          "text": [
            "\n",
            "\n",
            "training:  37%|███▋      | 184/500 [1:22:43<2:22:16, 27.01s/it]\u001b[A\u001b[A"
          ],
          "name": "stderr"
        },
        {
          "output_type": "stream",
          "text": [
            "Epoch: 183 |Training loss: 1.1081\n"
          ],
          "name": "stdout"
        },
        {
          "output_type": "stream",
          "text": [
            "\n",
            "\n",
            "training:  37%|███▋      | 185/500 [1:23:10<2:21:44, 27.00s/it]\u001b[A\u001b[A"
          ],
          "name": "stderr"
        },
        {
          "output_type": "stream",
          "text": [
            "Epoch: 184 |Training loss: 1.1023\n"
          ],
          "name": "stdout"
        },
        {
          "output_type": "stream",
          "text": [
            "\n",
            "\n",
            "training:  37%|███▋      | 186/500 [1:23:37<2:21:15, 26.99s/it]\u001b[A\u001b[A"
          ],
          "name": "stderr"
        },
        {
          "output_type": "stream",
          "text": [
            "Epoch: 185 |Training loss: 1.1013\n"
          ],
          "name": "stdout"
        },
        {
          "output_type": "stream",
          "text": [
            "\n",
            "\n",
            "training:  37%|███▋      | 187/500 [1:24:04<2:20:48, 26.99s/it]\u001b[A\u001b[A"
          ],
          "name": "stderr"
        },
        {
          "output_type": "stream",
          "text": [
            "Epoch: 186 |Training loss: 1.0925\n"
          ],
          "name": "stdout"
        },
        {
          "output_type": "stream",
          "text": [
            "\n",
            "\n",
            "training:  38%|███▊      | 188/500 [1:24:31<2:20:22, 26.99s/it]\u001b[A\u001b[A"
          ],
          "name": "stderr"
        },
        {
          "output_type": "stream",
          "text": [
            "Epoch: 187 |Training loss: 1.0945\n"
          ],
          "name": "stdout"
        },
        {
          "output_type": "stream",
          "text": [
            "\n",
            "\n",
            "training:  38%|███▊      | 189/500 [1:24:58<2:19:56, 27.00s/it]\u001b[A\u001b[A"
          ],
          "name": "stderr"
        },
        {
          "output_type": "stream",
          "text": [
            "Epoch: 188 |Training loss: 1.0914\n"
          ],
          "name": "stdout"
        },
        {
          "output_type": "stream",
          "text": [
            "\n",
            "\n",
            "training:  38%|███▊      | 190/500 [1:25:25<2:19:27, 26.99s/it]\u001b[A\u001b[A"
          ],
          "name": "stderr"
        },
        {
          "output_type": "stream",
          "text": [
            "Epoch: 189 |Training loss: 1.0870\n"
          ],
          "name": "stdout"
        },
        {
          "output_type": "stream",
          "text": [
            "\n",
            "\n",
            "training:  38%|███▊      | 191/500 [1:25:52<2:18:59, 26.99s/it]\u001b[A\u001b[A"
          ],
          "name": "stderr"
        },
        {
          "output_type": "stream",
          "text": [
            "Epoch: 190 |Training loss: 1.0815\n"
          ],
          "name": "stdout"
        },
        {
          "output_type": "stream",
          "text": [
            "\n",
            "\n",
            "training:  38%|███▊      | 192/500 [1:26:19<2:18:30, 26.98s/it]\u001b[A\u001b[A"
          ],
          "name": "stderr"
        },
        {
          "output_type": "stream",
          "text": [
            "Epoch: 191 |Training loss: 1.0780\n"
          ],
          "name": "stdout"
        },
        {
          "output_type": "stream",
          "text": [
            "\n",
            "\n",
            "training:  39%|███▊      | 193/500 [1:26:45<2:18:00, 26.97s/it]\u001b[A\u001b[A"
          ],
          "name": "stderr"
        },
        {
          "output_type": "stream",
          "text": [
            "Epoch: 192 |Training loss: 1.0754\n"
          ],
          "name": "stdout"
        },
        {
          "output_type": "stream",
          "text": [
            "\n",
            "\n",
            "training:  39%|███▉      | 194/500 [1:27:13<2:17:44, 27.01s/it]\u001b[A\u001b[A"
          ],
          "name": "stderr"
        },
        {
          "output_type": "stream",
          "text": [
            "Epoch: 193 |Training loss: 1.0747\n"
          ],
          "name": "stdout"
        },
        {
          "output_type": "stream",
          "text": [
            "\n",
            "\n",
            "training:  39%|███▉      | 195/500 [1:27:40<2:17:13, 26.99s/it]\u001b[A\u001b[A"
          ],
          "name": "stderr"
        },
        {
          "output_type": "stream",
          "text": [
            "Epoch: 194 |Training loss: 1.0747\n"
          ],
          "name": "stdout"
        },
        {
          "output_type": "stream",
          "text": [
            "\n",
            "\n",
            "training:  39%|███▉      | 196/500 [1:28:07<2:16:44, 26.99s/it]\u001b[A\u001b[A"
          ],
          "name": "stderr"
        },
        {
          "output_type": "stream",
          "text": [
            "Epoch: 195 |Training loss: 1.0703\n"
          ],
          "name": "stdout"
        },
        {
          "output_type": "stream",
          "text": [
            "\n",
            "\n",
            "training:  39%|███▉      | 197/500 [1:28:34<2:16:17, 26.99s/it]\u001b[A\u001b[A"
          ],
          "name": "stderr"
        },
        {
          "output_type": "stream",
          "text": [
            "Epoch: 196 |Training loss: 1.0633\n"
          ],
          "name": "stdout"
        },
        {
          "output_type": "stream",
          "text": [
            "\n",
            "\n",
            "training:  40%|███▉      | 198/500 [1:29:00<2:15:50, 26.99s/it]\u001b[A\u001b[A"
          ],
          "name": "stderr"
        },
        {
          "output_type": "stream",
          "text": [
            "Epoch: 197 |Training loss: 1.0702\n"
          ],
          "name": "stdout"
        },
        {
          "output_type": "stream",
          "text": [
            "\n",
            "\n",
            "training:  40%|███▉      | 199/500 [1:29:28<2:15:26, 27.00s/it]\u001b[A\u001b[A"
          ],
          "name": "stderr"
        },
        {
          "output_type": "stream",
          "text": [
            "Epoch: 198 |Training loss: 1.0633\n"
          ],
          "name": "stdout"
        },
        {
          "output_type": "stream",
          "text": [
            "\n",
            "\n",
            "training:  40%|████      | 200/500 [1:29:55<2:14:58, 27.00s/it]\u001b[A\u001b[A"
          ],
          "name": "stderr"
        },
        {
          "output_type": "stream",
          "text": [
            "Epoch: 199 |Training loss: 1.0623\n"
          ],
          "name": "stdout"
        },
        {
          "output_type": "stream",
          "text": [
            "\n",
            "\n",
            "training:  40%|████      | 201/500 [1:30:22<2:14:52, 27.07s/it]\u001b[A\u001b[A"
          ],
          "name": "stderr"
        },
        {
          "output_type": "stream",
          "text": [
            "Epoch: 200 |Training loss: 1.0551\n"
          ],
          "name": "stdout"
        },
        {
          "output_type": "stream",
          "text": [
            "\n",
            "\n",
            "training:  40%|████      | 202/500 [1:30:49<2:14:15, 27.03s/it]\u001b[A\u001b[A"
          ],
          "name": "stderr"
        },
        {
          "output_type": "stream",
          "text": [
            "Epoch: 201 |Training loss: 1.0567\n"
          ],
          "name": "stdout"
        },
        {
          "output_type": "stream",
          "text": [
            "\n",
            "\n",
            "training:  41%|████      | 203/500 [1:31:16<2:13:38, 27.00s/it]\u001b[A\u001b[A"
          ],
          "name": "stderr"
        },
        {
          "output_type": "stream",
          "text": [
            "Epoch: 202 |Training loss: 1.0522\n"
          ],
          "name": "stdout"
        },
        {
          "output_type": "stream",
          "text": [
            "\n",
            "\n",
            "training:  41%|████      | 204/500 [1:31:42<2:13:02, 26.97s/it]\u001b[A\u001b[A"
          ],
          "name": "stderr"
        },
        {
          "output_type": "stream",
          "text": [
            "Epoch: 203 |Training loss: 1.0476\n"
          ],
          "name": "stdout"
        },
        {
          "output_type": "stream",
          "text": [
            "\n",
            "\n",
            "training:  41%|████      | 205/500 [1:32:09<2:12:29, 26.95s/it]\u001b[A\u001b[A"
          ],
          "name": "stderr"
        },
        {
          "output_type": "stream",
          "text": [
            "Epoch: 204 |Training loss: 1.0466\n"
          ],
          "name": "stdout"
        },
        {
          "output_type": "stream",
          "text": [
            "\n",
            "\n",
            "training:  41%|████      | 206/500 [1:32:36<2:12:01, 26.94s/it]\u001b[A\u001b[A"
          ],
          "name": "stderr"
        },
        {
          "output_type": "stream",
          "text": [
            "Epoch: 205 |Training loss: 1.0425\n"
          ],
          "name": "stdout"
        },
        {
          "output_type": "stream",
          "text": [
            "\n",
            "\n",
            "training:  41%|████▏     | 207/500 [1:33:03<2:11:48, 26.99s/it]\u001b[A\u001b[A"
          ],
          "name": "stderr"
        },
        {
          "output_type": "stream",
          "text": [
            "Epoch: 206 |Training loss: 1.0453\n"
          ],
          "name": "stdout"
        },
        {
          "output_type": "stream",
          "text": [
            "\n",
            "\n",
            "training:  42%|████▏     | 208/500 [1:33:30<2:11:20, 26.99s/it]\u001b[A\u001b[A"
          ],
          "name": "stderr"
        },
        {
          "output_type": "stream",
          "text": [
            "Epoch: 207 |Training loss: 1.0446\n"
          ],
          "name": "stdout"
        },
        {
          "output_type": "error",
          "ename": "KeyboardInterrupt",
          "evalue": "ignored",
          "traceback": [
            "\u001b[0;31m---------------------------------------------------------------------------\u001b[0m",
            "\u001b[0;31mKeyboardInterrupt\u001b[0m                         Traceback (most recent call last)",
            "\u001b[0;32m<ipython-input-20-306ef497e841>\u001b[0m in \u001b[0;36m<module>\u001b[0;34m()\u001b[0m\n\u001b[1;32m      8\u001b[0m     \u001b[0;32mfor\u001b[0m \u001b[0mmlm_loss\u001b[0m\u001b[0;34m,\u001b[0m \u001b[0maux_loss\u001b[0m\u001b[0;34m,\u001b[0m \u001b[0mis_last\u001b[0m \u001b[0;32min\u001b[0m \u001b[0mmodel\u001b[0m\u001b[0;34m(\u001b[0m\u001b[0mnext\u001b[0m\u001b[0;34m(\u001b[0m\u001b[0mcycle_train_loader\u001b[0m\u001b[0;34m)\u001b[0m\u001b[0;34m,\u001b[0m \u001b[0mmax_batch_size\u001b[0m \u001b[0;34m=\u001b[0m \u001b[0mbatch_size\u001b[0m\u001b[0;34m,\u001b[0m \u001b[0mreturn_loss\u001b[0m \u001b[0;34m=\u001b[0m \u001b[0;32mTrue\u001b[0m\u001b[0;34m)\u001b[0m\u001b[0;34m:\u001b[0m\u001b[0;34m\u001b[0m\u001b[0;34m\u001b[0m\u001b[0m\n\u001b[1;32m      9\u001b[0m         \u001b[0mloss\u001b[0m \u001b[0;34m=\u001b[0m \u001b[0mmlm_loss\u001b[0m \u001b[0;34m+\u001b[0m \u001b[0maux_loss\u001b[0m\u001b[0;34m\u001b[0m\u001b[0;34m\u001b[0m\u001b[0m\n\u001b[0;32m---> 10\u001b[0;31m         \u001b[0mloss\u001b[0m\u001b[0;34m.\u001b[0m\u001b[0mbackward\u001b[0m\u001b[0;34m(\u001b[0m\u001b[0;34m)\u001b[0m\u001b[0;34m\u001b[0m\u001b[0;34m\u001b[0m\u001b[0m\n\u001b[0m\u001b[1;32m     11\u001b[0m \u001b[0;34m\u001b[0m\u001b[0m\n\u001b[1;32m     12\u001b[0m         \u001b[0mavg_loss\u001b[0m\u001b[0;34m+=\u001b[0m\u001b[0mloss\u001b[0m\u001b[0;34m/\u001b[0m\u001b[0mnum_bathes\u001b[0m\u001b[0;34m;\u001b[0m\u001b[0;34m\u001b[0m\u001b[0;34m\u001b[0m\u001b[0m\n",
            "\u001b[0;32m/usr/local/lib/python3.6/dist-packages/torch/tensor.py\u001b[0m in \u001b[0;36mbackward\u001b[0;34m(self, gradient, retain_graph, create_graph)\u001b[0m\n\u001b[1;32m    219\u001b[0m                 \u001b[0mretain_graph\u001b[0m\u001b[0;34m=\u001b[0m\u001b[0mretain_graph\u001b[0m\u001b[0;34m,\u001b[0m\u001b[0;34m\u001b[0m\u001b[0;34m\u001b[0m\u001b[0m\n\u001b[1;32m    220\u001b[0m                 create_graph=create_graph)\n\u001b[0;32m--> 221\u001b[0;31m         \u001b[0mtorch\u001b[0m\u001b[0;34m.\u001b[0m\u001b[0mautograd\u001b[0m\u001b[0;34m.\u001b[0m\u001b[0mbackward\u001b[0m\u001b[0;34m(\u001b[0m\u001b[0mself\u001b[0m\u001b[0;34m,\u001b[0m \u001b[0mgradient\u001b[0m\u001b[0;34m,\u001b[0m \u001b[0mretain_graph\u001b[0m\u001b[0;34m,\u001b[0m \u001b[0mcreate_graph\u001b[0m\u001b[0;34m)\u001b[0m\u001b[0;34m\u001b[0m\u001b[0;34m\u001b[0m\u001b[0m\n\u001b[0m\u001b[1;32m    222\u001b[0m \u001b[0;34m\u001b[0m\u001b[0m\n\u001b[1;32m    223\u001b[0m     \u001b[0;32mdef\u001b[0m \u001b[0mregister_hook\u001b[0m\u001b[0;34m(\u001b[0m\u001b[0mself\u001b[0m\u001b[0;34m,\u001b[0m \u001b[0mhook\u001b[0m\u001b[0;34m)\u001b[0m\u001b[0;34m:\u001b[0m\u001b[0;34m\u001b[0m\u001b[0;34m\u001b[0m\u001b[0m\n",
            "\u001b[0;32m/usr/local/lib/python3.6/dist-packages/torch/autograd/__init__.py\u001b[0m in \u001b[0;36mbackward\u001b[0;34m(tensors, grad_tensors, retain_graph, create_graph, grad_variables)\u001b[0m\n\u001b[1;32m    130\u001b[0m     Variable._execution_engine.run_backward(\n\u001b[1;32m    131\u001b[0m         \u001b[0mtensors\u001b[0m\u001b[0;34m,\u001b[0m \u001b[0mgrad_tensors_\u001b[0m\u001b[0;34m,\u001b[0m \u001b[0mretain_graph\u001b[0m\u001b[0;34m,\u001b[0m \u001b[0mcreate_graph\u001b[0m\u001b[0;34m,\u001b[0m\u001b[0;34m\u001b[0m\u001b[0;34m\u001b[0m\u001b[0m\n\u001b[0;32m--> 132\u001b[0;31m         allow_unreachable=True)  # allow_unreachable flag\n\u001b[0m\u001b[1;32m    133\u001b[0m \u001b[0;34m\u001b[0m\u001b[0m\n\u001b[1;32m    134\u001b[0m \u001b[0;34m\u001b[0m\u001b[0m\n",
            "\u001b[0;31mKeyboardInterrupt\u001b[0m: "
          ]
        }
      ]
    },
    {
      "cell_type": "markdown",
      "metadata": {
        "id": "GAgrzFyRn3uq"
      },
      "source": [
        "**Music generation**"
      ]
    },
    {
      "cell_type": "code",
      "metadata": {
        "id": "qFbSthkLUwmx"
      },
      "source": [
        "# In case we want to use previously trained weights\n",
        "weights = \"model_best.pth.tar\"\n",
        "checkpoint = torch.load(output_dir+weights)\n",
        "model.load_state_dict(checkpoint['model_state_dict'])\n",
        "optimizer.load_state_dict(checkpoint['optimizer_state_dict'])\n",
        "epoch = checkpoint['epoch']\n",
        "loss = checkpoint['loss']\n"
      ],
      "execution_count": null,
      "outputs": []
    },
    {
      "cell_type": "code",
      "metadata": {
        "id": "6WtYEXpyoPPK"
      },
      "source": [
        "# Generate network input again\n",
        "network_input = []\n",
        "network_output = []\n",
        "for i in range(0, len(notes) - sequence_length, 1):\n",
        "  network_input.append([note_to_int[char] for char in notes[i:i + sequence_length]])\n",
        "n_patterns = len(network_input)\n",
        "network_input = np.reshape(network_input, (n_patterns, sequence_length))\n"
      ],
      "execution_count": null,
      "outputs": []
    },
    {
      "cell_type": "markdown",
      "metadata": {
        "id": "MuUGi5rVgbJQ"
      },
      "source": [
        "The workflow now is:\n",
        "\n",
        "\n",
        "1.   Pick a **seed sequence** randomly from your list of inputs (*pattern* variable)\n",
        "2.   Pass it as input for your model to generate a new element (note or chord)\n",
        "3.   Add the new element to your final song and to your *pattern* list\n",
        "4.   Remove the first item from *pattern*\n",
        "5.   Go to step 2\n"
      ]
    },
    {
      "cell_type": "code",
      "metadata": {
        "id": "UUTEiS0NXtkl"
      },
      "source": [
        "\"\"\" Generate notes from the neural network based on a sequence of notes \"\"\"\n",
        "# pick a random sequence from the input as a starting point for the prediction\n",
        "start = np.random.randint(0, len(network_input)-1)\n",
        "int_to_note = dict((number, note) for number, note in enumerate(pitchnames))\n",
        "pattern = torch.from_numpy(network_input[start]).cuda()\n",
        "\n",
        "prediction_output = model.generate(pattern, 500)\n"
      ],
      "execution_count": 21,
      "outputs": []
    },
    {
      "cell_type": "code",
      "metadata": {
        "id": "UUlgtok68w-w",
        "outputId": "8e5af720-53ab-4292-94da-8ef9be8aabfc",
        "colab": {
          "base_uri": "https://localhost:8080/"
        }
      },
      "source": [
        "result_sample=[]\n",
        "\n",
        "for i in range(500):\n",
        "  print(i)\n",
        "  result = int_to_note[prediction_output[i].item()]\n",
        "  print('\\r', 'Predicted ', i, \" \",result, end='')\n",
        "  result_sample.append(result)\n",
        "\n",
        "prediction_output=result_sample"
      ],
      "execution_count": 22,
      "outputs": [
        {
          "output_type": "stream",
          "text": [
            "0\n",
            "\r Predicted  0   61\n",
            "\r Predicted  1   4.62\n",
            "\r Predicted  2   6.113\n",
            "\r Predicted  3   64\n",
            "\r Predicted  4   6.115\n",
            "\r Predicted  5   A46\n",
            "\r Predicted  6   4.67\n",
            "\r Predicted  7   F48\n",
            "\r Predicted  8   69\n",
            "\r Predicted  9   610\n",
            "\r Predicted  10   5.7.9.011\n",
            "\r Predicted  11   2.3.7.1012\n",
            "\r Predicted  12   D513\n",
            "\r Predicted  13   C514\n",
            "\r Predicted  14   5.7.9.015\n",
            "\r Predicted  15   C516\n",
            "\r Predicted  16   4.617\n",
            "\r Predicted  17   B-118\n",
            "\r Predicted  18   10.2.519\n",
            "\r Predicted  19   C520\n",
            "\r Predicted  20   6.1121\n",
            "\r Predicted  21   622\n",
            "\r Predicted  22   F223\n",
            "\r Predicted  23   6.1124\n",
            "\r Predicted  24   4.625\n",
            "\r Predicted  25   B-226\n",
            "\r Predicted  26   B-127\n",
            "\r Predicted  27   A428\n",
            "\r Predicted  28   629\n",
            "\r Predicted  29   C530\n",
            "\r Predicted  30   E-331\n",
            "\r Predicted  31   F232\n",
            "\r Predicted  32   4.633\n",
            "\r Predicted  33   534\n",
            "\r Predicted  34   5.1035\n",
            "\r Predicted  35   4.636\n",
            "\r Predicted  36   637\n",
            "\r Predicted  37   4.638\n",
            "\r Predicted  38   4.639\n",
            "\r Predicted  39   F240\n",
            "\r Predicted  40   4.641\n",
            "\r Predicted  41   B-242\n",
            "\r Predicted  42   643\n",
            "\r Predicted  43   5.7.9.044\n",
            "\r Predicted  44   6.1145\n",
            "\r Predicted  45   646\n",
            "\r Predicted  46   B-247\n",
            "\r Predicted  47   A448\n",
            "\r Predicted  48   649\n",
            "\r Predicted  49   D550\n",
            "\r Predicted  50   C551\n",
            "\r Predicted  51   652\n",
            "\r Predicted  52   6.1153\n",
            "\r Predicted  53   B-254\n",
            "\r Predicted  54   655\n",
            "\r Predicted  55   10.2.556\n",
            "\r Predicted  56   4.657\n",
            "\r Predicted  57   5.9.058\n",
            "\r Predicted  58   5.9.059\n",
            "\r Predicted  59   4.660\n",
            "\r Predicted  60   E261\n",
            "\r Predicted  61   F262\n",
            "\r Predicted  62   4.663\n",
            "\r Predicted  63   F264\n",
            "\r Predicted  64   6.1165\n",
            "\r Predicted  65   5.9.066\n",
            "\r Predicted  66   4.667\n",
            "\r Predicted  67   10.2.568\n",
            "\r Predicted  68   A469\n",
            "\r Predicted  69   B-270\n",
            "\r Predicted  70   6.1171\n",
            "\r Predicted  71   B-272\n",
            "\r Predicted  72   6.1073\n",
            "\r Predicted  73   A474\n",
            "\r Predicted  74   F275\n",
            "\r Predicted  75   D576\n",
            "\r Predicted  76   A477\n",
            "\r Predicted  77   6.1178\n",
            "\r Predicted  78   679\n",
            "\r Predicted  79   6.1180\n",
            "\r Predicted  80   6.1081\n",
            "\r Predicted  81   682\n",
            "\r Predicted  82   5.7.9.083\n",
            "\r Predicted  83   6.1184\n",
            "\r Predicted  84   6.1085\n",
            "\r Predicted  85   B-286\n",
            "\r Predicted  86   687\n",
            "\r Predicted  87   6.1188\n",
            "\r Predicted  88   F489\n",
            "\r Predicted  89   B-290\n",
            "\r Predicted  90   D591\n",
            "\r Predicted  91   D592\n",
            "\r Predicted  92   4.693\n",
            "\r Predicted  93   B-294\n",
            "\r Predicted  94   4.695\n",
            "\r Predicted  95   10.2.596\n",
            "\r Predicted  96   B-297\n",
            "\r Predicted  97   C598\n",
            "\r Predicted  98   E-399\n",
            "\r Predicted  99   5.10100\n",
            "\r Predicted  100   4.6101\n",
            "\r Predicted  101   4.6102\n",
            "\r Predicted  102   A4103\n",
            "\r Predicted  103   5.9.0104\n",
            "\r Predicted  104   6.11105\n",
            "\r Predicted  105   F2106\n",
            "\r Predicted  106   C5107\n",
            "\r Predicted  107   6108\n",
            "\r Predicted  108   6.11109\n",
            "\r Predicted  109   5.9.0110\n",
            "\r Predicted  110   5.9.0111\n",
            "\r Predicted  111   A4112\n",
            "\r Predicted  112   6113\n",
            "\r Predicted  113   6.11114\n",
            "\r Predicted  114   A4115\n",
            "\r Predicted  115   A4116\n",
            "\r Predicted  116   6117\n",
            "\r Predicted  117   6.11118\n",
            "\r Predicted  118   5.9.0119\n",
            "\r Predicted  119   4.6120\n",
            "\r Predicted  120   E-5121\n",
            "\r Predicted  121   F2122\n",
            "\r Predicted  122   6.11123\n",
            "\r Predicted  123   4.6124\n",
            "\r Predicted  124   5125\n",
            "\r Predicted  125   4.6126\n",
            "\r Predicted  126   5127\n",
            "\r Predicted  127   4.6128\n",
            "\r Predicted  128   10.2.5129\n",
            "\r Predicted  129   A4130\n",
            "\r Predicted  130   6.10131\n",
            "\r Predicted  131   6.11132\n",
            "\r Predicted  132   6.11133\n",
            "\r Predicted  133   D5134\n",
            "\r Predicted  134   4.6135\n",
            "\r Predicted  135   E-2136\n",
            "\r Predicted  136   3.7.10137\n",
            "\r Predicted  137   7.10.2138\n",
            "\r Predicted  138   6139\n",
            "\r Predicted  139   6.11140\n",
            "\r Predicted  140   C5141\n",
            "\r Predicted  141   5.9.0142\n",
            "\r Predicted  142   6143\n",
            "\r Predicted  143   D5144\n",
            "\r Predicted  144   A4145\n",
            "\r Predicted  145   4.6146\n",
            "\r Predicted  146   E-5147\n",
            "\r Predicted  147   6148\n",
            "\r Predicted  148   6149\n",
            "\r Predicted  149   D5150\n",
            "\r Predicted  150   6.11151\n",
            "\r Predicted  151   A4152\n",
            "\r Predicted  152   E-2153\n",
            "\r Predicted  153   F4154\n",
            "\r Predicted  154   E-5155\n",
            "\r Predicted  155   6.11156\n",
            "\r Predicted  156   F2157\n",
            "\r Predicted  157   6158\n",
            "\r Predicted  158   F4159\n",
            "\r Predicted  159   F2160\n",
            "\r Predicted  160   6.11161\n",
            "\r Predicted  161   F2162\n",
            "\r Predicted  162   4.6163\n",
            "\r Predicted  163   5.9.0164\n",
            "\r Predicted  164   6.11165\n",
            "\r Predicted  165   E-2166\n",
            "\r Predicted  166   6.11167\n",
            "\r Predicted  167   2.5168\n",
            "\r Predicted  168   6.11169\n",
            "\r Predicted  169   6170\n",
            "\r Predicted  170   5.7.9.0171\n",
            "\r Predicted  171   F2172\n",
            "\r Predicted  172   6173\n",
            "\r Predicted  173   F4174\n",
            "\r Predicted  174   6.11175\n",
            "\r Predicted  175   E-2176\n",
            "\r Predicted  176   F2177\n",
            "\r Predicted  177   6178\n",
            "\r Predicted  178   7.10.2179\n",
            "\r Predicted  179   F2180\n",
            "\r Predicted  180   B-1181\n",
            "\r Predicted  181   C4182\n",
            "\r Predicted  182   6183\n",
            "\r Predicted  183   2.3.7.10184\n",
            "\r Predicted  184   0.5185\n",
            "\r Predicted  185   5.7.9.0186\n",
            "\r Predicted  186   6.11187\n",
            "\r Predicted  187   5.9.0188\n",
            "\r Predicted  188   C5189\n",
            "\r Predicted  189   E-3190\n",
            "\r Predicted  190   5.10191\n",
            "\r Predicted  191   6.11192\n",
            "\r Predicted  192   F2193\n",
            "\r Predicted  193   6194\n",
            "\r Predicted  194   10.11.3.6195\n",
            "\r Predicted  195   5196\n",
            "\r Predicted  196   5.10197\n",
            "\r Predicted  197   4.6198\n",
            "\r Predicted  198   4.6199\n",
            "\r Predicted  199   4.6200\n",
            "\r Predicted  200   5.9.0201\n",
            "\r Predicted  201   6.11202\n",
            "\r Predicted  202   D5203\n",
            "\r Predicted  203   D5204\n",
            "\r Predicted  204   6.11205\n",
            "\r Predicted  205   6206\n",
            "\r Predicted  206   D5207\n",
            "\r Predicted  207   D5208\n",
            "\r Predicted  208   6.11209\n",
            "\r Predicted  209   6210\n",
            "\r Predicted  210   F4211\n",
            "\r Predicted  211   6212\n",
            "\r Predicted  212   10.11.3.6213\n",
            "\r Predicted  213   6.11214\n",
            "\r Predicted  214   C5215\n",
            "\r Predicted  215   3.6.10216\n",
            "\r Predicted  216   6.11217\n",
            "\r Predicted  217   6218\n",
            "\r Predicted  218   4.6219\n",
            "\r Predicted  219   E2220\n",
            "\r Predicted  220   6.11221\n",
            "\r Predicted  221   6222\n",
            "\r Predicted  222   10.2.5223\n",
            "\r Predicted  223   6224\n",
            "\r Predicted  224   4.6225\n",
            "\r Predicted  225   B-1226\n",
            "\r Predicted  226   6.11227\n",
            "\r Predicted  227   5.9.0228\n",
            "\r Predicted  228   4.6229\n",
            "\r Predicted  229   4.6230\n",
            "\r Predicted  230   9.2231\n",
            "\r Predicted  231   10.2.5232\n",
            "\r Predicted  232   F2233\n",
            "\r Predicted  233   6.11234\n",
            "\r Predicted  234   6.10235\n",
            "\r Predicted  235   6.11236\n",
            "\r Predicted  236   A4237\n",
            "\r Predicted  237   B-2238\n",
            "\r Predicted  238   6239\n",
            "\r Predicted  239   6240\n",
            "\r Predicted  240   6.10.11241\n",
            "\r Predicted  241   6.11242\n",
            "\r Predicted  242   B-2243\n",
            "\r Predicted  243   C5244\n",
            "\r Predicted  244   6245\n",
            "\r Predicted  245   7.10.2246\n",
            "\r Predicted  246   D5247\n",
            "\r Predicted  247   4.6248\n",
            "\r Predicted  248   4.6249\n",
            "\r Predicted  249   6250\n",
            "\r Predicted  250   6.11251\n",
            "\r Predicted  251   F2252\n",
            "\r Predicted  252   4.6253\n",
            "\r Predicted  253   9.2254\n",
            "\r Predicted  254   D5255\n",
            "\r Predicted  255   4.6256\n",
            "\r Predicted  256   B-2257\n",
            "\r Predicted  257   6258\n",
            "\r Predicted  258   6.10.11259\n",
            "\r Predicted  259   4.6260\n",
            "\r Predicted  260   4.6261\n",
            "\r Predicted  261   4.6262\n",
            "\r Predicted  262   6263\n",
            "\r Predicted  263   6.11264\n",
            "\r Predicted  264   F2265\n",
            "\r Predicted  265   A4266\n",
            "\r Predicted  266   6267\n",
            "\r Predicted  267   D5268\n",
            "\r Predicted  268   6.11269\n",
            "\r Predicted  269   D5270\n",
            "\r Predicted  270   6271\n",
            "\r Predicted  271   6.11272\n",
            "\r Predicted  272   B-2273\n",
            "\r Predicted  273   6274\n",
            "\r Predicted  274   6.11275\n",
            "\r Predicted  275   C5276\n",
            "\r Predicted  276   B-2277\n",
            "\r Predicted  277   A4278\n",
            "\r Predicted  278   D5279\n",
            "\r Predicted  279   0.5280\n",
            "\r Predicted  280   E-2281\n",
            "\r Predicted  281   4.6282\n",
            "\r Predicted  282   4.6283\n",
            "\r Predicted  283   E-5284\n",
            "\r Predicted  284   6.11285\n",
            "\r Predicted  285   F2286\n",
            "\r Predicted  286   5.9.0287\n",
            "\r Predicted  287   4.6288\n",
            "\r Predicted  288   E-2289\n",
            "\r Predicted  289   10.2.5290\n",
            "\r Predicted  290   6291\n",
            "\r Predicted  291   F2292\n",
            "\r Predicted  292   6293\n",
            "\r Predicted  293   E-2294\n",
            "\r Predicted  294   3.7.10295\n",
            "\r Predicted  295   6296\n",
            "\r Predicted  296   6.11297\n",
            "\r Predicted  297   4.6298\n",
            "\r Predicted  298   B-1299\n",
            "\r Predicted  299   6.11300\n",
            "\r Predicted  300   5.9.0301\n",
            "\r Predicted  301   4.6302\n",
            "\r Predicted  302   5.9.0303\n",
            "\r Predicted  303   A4304\n",
            "\r Predicted  304   C5305\n",
            "\r Predicted  305   6306\n",
            "\r Predicted  306   F4307\n",
            "\r Predicted  307   E-3308\n",
            "\r Predicted  308   4.6309\n",
            "\r Predicted  309   5.9.0310\n",
            "\r Predicted  310   6.11311\n",
            "\r Predicted  311   6.10312\n",
            "\r Predicted  312   D5313\n",
            "\r Predicted  313   A4314\n",
            "\r Predicted  314   4.6315\n",
            "\r Predicted  315   E2316\n",
            "\r Predicted  316   10.2.5317\n",
            "\r Predicted  317   F2318\n",
            "\r Predicted  318   C5319\n",
            "\r Predicted  319   5.7.9.0320\n",
            "\r Predicted  320   6.11321\n",
            "\r Predicted  321   4.6322\n",
            "\r Predicted  322   A4323\n",
            "\r Predicted  323   10.2.5324\n",
            "\r Predicted  324   5.9.0325\n",
            "\r Predicted  325   6326\n",
            "\r Predicted  326   4.6327\n",
            "\r Predicted  327   5.9.0328\n",
            "\r Predicted  328   6.11329\n",
            "\r Predicted  329   5330\n",
            "\r Predicted  330   6.10331\n",
            "\r Predicted  331   F2332\n",
            "\r Predicted  332   6.11333\n",
            "\r Predicted  333   6334\n",
            "\r Predicted  334   6.11335\n",
            " Predicted  335   6336\n",
            " Predicted  336   E-2337\n",
            " Predicted  337   6.11338\n",
            " Predicted  338   B-2339\n",
            " Predicted  339   6340\n",
            " Predicted  340   5.7.9.0341\n",
            " Predicted  341   4.6342\n",
            " Predicted  342   4.6343\n",
            " Predicted  343   B-1344\n",
            " Predicted  344   6.11345\n",
            " Predicted  345   B-2346\n",
            " Predicted  346   6347\n",
            " Predicted  347   F4348\n",
            " Predicted  348   6.11349\n",
            " Predicted  349   B-2350\n",
            " Predicted  350   D5351\n",
            " Predicted  351   A4352\n",
            " Predicted  352   C5353\n",
            " Predicted  353   F2354\n",
            " Predicted  354   6.11355\n",
            " Predicted  355   6.11356\n",
            " Predicted  356   D5357\n",
            " Predicted  357   4.6358\n",
            " Predicted  358   5.9.0359\n",
            " Predicted  359   4.6360\n",
            " Predicted  360   E-5361\n",
            " Predicted  361   4.6362\n",
            " Predicted  362   6.11363\n",
            " Predicted  363   B-2364\n",
            " Predicted  364   6365\n",
            " Predicted  365   6366\n",
            " Predicted  366   E-2367\n",
            " Predicted  367   B-1368\n",
            " Predicted  368   6.11369\n",
            " Predicted  369   6370\n",
            " Predicted  370   5.7.9.0371\n",
            " Predicted  371   C5372\n",
            " Predicted  372   4.6373\n",
            " Predicted  373   F2374\n",
            " Predicted  374   6375\n",
            " Predicted  375   6.11376\n",
            " Predicted  376   5377\n",
            " Predicted  377   6.11378\n",
            " Predicted  378   6379\n",
            " Predicted  379   2.3.7.10380\n",
            " Predicted  380   6.11381\n",
            " Predicted  381   4.6382\n",
            " Predicted  382   B-2383\n",
            " Predicted  383   1.6384\n",
            " Predicted  384   B-2385\n",
            " Predicted  385   6.11386\n",
            " Predicted  386   F2387\n",
            " Predicted  387   4.6388\n",
            " Predicted  388   6389\n",
            " Predicted  389   6.11390\n",
            " Predicted  390   6391\n",
            " Predicted  391   E-2392\n",
            " Predicted  392   6393\n",
            " Predicted  393   4.6394\n",
            " Predicted  394   4.6395\n",
            " Predicted  395   A4396\n",
            " Predicted  396   5.10397\n",
            " Predicted  397   6.11398\n",
            " Predicted  398   A4399\n",
            " Predicted  399   6400\n",
            " Predicted  400   F2401\n",
            " Predicted  401   4.6402\n",
            " Predicted  402   5.9.0403\n",
            " Predicted  403   4.6404\n",
            " Predicted  404   5.9.0405\n",
            " Predicted  405   C5406\n",
            " Predicted  406   2.3.7.9407\n",
            " Predicted  407   6.11408\n",
            " Predicted  408   B-2409\n",
            " Predicted  409   D5410\n",
            " Predicted  410   A4411\n",
            " Predicted  411   4.6412\n",
            " Predicted  412   4.6413\n",
            " Predicted  413   5.9.0414\n",
            " Predicted  414   6.11415\n",
            " Predicted  415   3.9416\n",
            " Predicted  416   6.11417\n",
            " Predicted  417   F2418\n",
            " Predicted  418   F2419\n",
            " Predicted  419   4.6420\n",
            " Predicted  420   F2421\n",
            " Predicted  421   C5422\n",
            " Predicted  422   5.9.0423\n",
            " Predicted  423   6424\n",
            " Predicted  424   D5425\n",
            " Predicted  425   6.11426\n",
            " Predicted  426   4.6427\n",
            " Predicted  427   6.11428\n",
            " Predicted  428   6.10429\n",
            " Predicted  429   6.10.11430\n",
            " Predicted  430   6431\n",
            " Predicted  431   10.11.3.6432\n",
            " Predicted  432   B-2433\n",
            " Predicted  433   6434\n",
            " Predicted  434   D5435\n",
            " Predicted  435   6.11436\n",
            " Predicted  436   4.6437\n",
            " Predicted  437   4.6438\n",
            " Predicted  438   A4439\n",
            " Predicted  439   F3440\n",
            " Predicted  440   A4441\n",
            " Predicted  441   F2442\n",
            " Predicted  442   6443\n",
            " Predicted  443   5.7.9.0444\n",
            " Predicted  444   B-1445\n",
            " Predicted  445   6.11446\n",
            " Predicted  446   F2447\n",
            " Predicted  447   6.11448\n",
            " Predicted  448   B-2449\n",
            " Predicted  449   6450\n",
            " Predicted  450   6.11451\n",
            " Predicted  451   6452\n",
            " Predicted  452   6453\n",
            " Predicted  453   6.11454\n",
            " Predicted  454   6.10455\n",
            " Predicted  455   6.11456\n",
            " Predicted  456   6457\n",
            " Predicted  457   D5458\n",
            " Predicted  458   0.5459\n",
            " Predicted  459   5.7.9.0460\n",
            " Predicted  460   6.11461\n",
            " Predicted  461   A4462\n",
            " Predicted  462   5.9.0463\n",
            " Predicted  463   6.11464\n",
            " Predicted  464   B-2465\n",
            " Predicted  465   B-1466\n",
            " Predicted  466   4.6467\n",
            " Predicted  467   E-5468\n",
            " Predicted  468   F4469\n",
            " Predicted  469   6.11470\n",
            " Predicted  470   4.6471\n",
            " Predicted  471   F2472\n",
            " Predicted  472   C5473\n",
            " Predicted  473   E-3474\n",
            " Predicted  474   6475\n",
            " Predicted  475   4.6476\n",
            " Predicted  476   F2477\n",
            " Predicted  477   6.11478\n",
            " Predicted  478   5479\n",
            " Predicted  479   6.10480\n",
            " Predicted  480   6481\n",
            " Predicted  481   D5482\n",
            " Predicted  482   5.10483\n",
            " Predicted  483   6.11484\n",
            " Predicted  484   F2485\n",
            " Predicted  485   A4486\n",
            " Predicted  486   B-2487\n",
            " Predicted  487   6488\n",
            " Predicted  488   10.11.3.6489\n",
            " Predicted  489   6.11490\n",
            " Predicted  490   10.2.5491\n",
            " Predicted  491   6492\n",
            " Predicted  492   6.11493\n",
            " Predicted  493   6494\n",
            " Predicted  494   F2495\n",
            " Predicted  495   4.6496\n",
            " Predicted  496   B-1497\n",
            " Predicted  497   10.2.5498\n",
            " Predicted  498   B-2499\n",
            " Predicted  499   B-1"
          ],
          "name": "stdout"
        }
      ]
    },
    {
      "cell_type": "markdown",
      "metadata": {
        "id": "_lp5WcPlghe5"
      },
      "source": [
        "The last step is creating a MIDI file from the predictions.\n",
        "\n",
        "**music21** will help us again for this task. We should create a **Stream** and add to it the predicted notes and chords.\n",
        "\n",
        "We are adding an offset of 0.5 between elements."
      ]
    },
    {
      "cell_type": "code",
      "metadata": {
        "id": "T7xYCPULXwV-",
        "outputId": "61d7878a-ade3-4adc-cff1-d3aa47090bdd",
        "colab": {
          "base_uri": "https://localhost:8080/",
          "height": 35
        }
      },
      "source": [
        "offset = 0\n",
        "output_notes = []\n",
        "# create note and chord objects based on the values generated by the model\n",
        "for pattern in prediction_output:\n",
        "    # pattern is a chord\n",
        "    if ('.' in pattern) or pattern.isdigit():\n",
        "        notes_in_chord = pattern.split('.')\n",
        "        notes = []\n",
        "        for current_note in notes_in_chord:\n",
        "            new_note = note.Note(int(current_note))\n",
        "            new_note.storedInstrument = instrument.Piano()\n",
        "            notes.append(new_note)\n",
        "        new_chord = chord.Chord(notes)\n",
        "        new_chord.offset = offset\n",
        "        output_notes.append(new_chord)\n",
        "    # pattern is a note\n",
        "    else:\n",
        "        new_note = note.Note(pattern)\n",
        "        new_note.offset = offset\n",
        "        new_note.storedInstrument = instrument.Piano()\n",
        "        output_notes.append(new_note)\n",
        "\n",
        "    # increase offset each iteration so that notes do not stack\n",
        "    offset += 0.5\n",
        "\n",
        "midi_stream = stream.Stream(output_notes)\n",
        "midi_stream.write('midi', fp='test_output.mid')"
      ],
      "execution_count": 23,
      "outputs": [
        {
          "output_type": "execute_result",
          "data": {
            "application/vnd.google.colaboratory.intrinsic+json": {
              "type": "string"
            },
            "text/plain": [
              "'test_output.mid'"
            ]
          },
          "metadata": {
            "tags": []
          },
          "execution_count": 23
        }
      ]
    }
  ]
}